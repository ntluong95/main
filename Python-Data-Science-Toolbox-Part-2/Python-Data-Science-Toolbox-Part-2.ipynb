{
    "cells": [
        {
            "cell_type": "markdown",
            "metadata": {},
            "source": [
                "<style>\n",
                "p {\n",
                "  text-align: justify;\n",
                "}\n",
                "\n",
                "div {\n",
                "  text-align: justify;\n",
                "}\n",
                "<\/style>\n",
                "\n",
                "\n",
                "\n",
                "<h3><a href=\"https://github.com/mclix85/datacamp\" target=\"_blank\">View Source Code<\/a><\/h3>\n",
                "\n",
                "<h3>Course Description<\/h3>\n",
                "\n",
                "<p class=\"course__description\">In the second Python Data Science Toolbox course, you'll continue to build your Python data science skills. First, you'll learn about iterators, objects you have already encountered in the context of for loops. You'll then learn about list comprehensions, which are extremely handy tools for all data scientists working in Python. You'll end the course by working through a case study in which you'll apply all the techniques you learned in both parts of this course.<\/p>\n",
                "\n",
                "# Using iterators in PythonLand {.unnumbered}\n",
                "\n",
                "<p class=\"chapter__description\">\n",
                "    You'll learn all about iterators and iterables, which you have already worked with when writing for loops. You'll learn some handy functions that will allow you to effectively work with iterators. And you’ll finish the chapter with a use case that is pertinent to the world of data science and dealing with large amounts of data—in this case, data from Twitter that you will load in chunks using iterators.\n",
                "  <\/p>\n",
                "  \n",
                "## Introduction to iterators {.unnumbered}\n",
                "\n",
                "\n",
                "\n",
                "### Iterators vs. Iterables {.unnumbered}\n",
                "\n",
                "\n",
                "<div class>\n",
                "<p>Let's do a quick recall of what you've learned about <strong>iterables<\/strong> and <strong>iterators<\/strong>. Recall from the video that an <em>iterable<\/em> is an object that can return an <em>iterator<\/em>, while an <em>iterator<\/em> is an object that keeps state and produces the next value when you call <code>next()<\/code> on it. In this exercise, you will identify which object is an <em>iterable<\/em> and which is an <em>iterator<\/em>.<\/p>\n",
                "<p>The environment has been pre-loaded with the variables <code>flash1<\/code> and <code>flash2<\/code>. Try printing out their values with <code>print()<\/code> and <code>next()<\/code> to figure out which is an <em>iterable<\/em> and which is an <em>iterator<\/em>.<\/p>\n",
                "<\/div>\n",
                "\n",
                "<div>\n"
            ]
        },
        {
            "cell_type": "code",
            "execution_count": null,
            "metadata": {},
            "outputs": [],
            "source": [
                "# edited/added\n",
                "flash1 = ['jay garrick', 'barry allen', 'wally west', 'bart allen']\n",
                "flash2 = iter(flash1)\n"
            ]
        },
        {
            "cell_type": "markdown",
            "metadata": {},
            "source": [
                "<\/div>\n",
                "\n",
                "- [ ] Both <code>flash1<\/code> and <code>flash2<\/code> are iterators.\n",
                "- [ ] Both <code>flash1<\/code> and <code>flash2<\/code> are iterables.\n",
                "- [x] <code>flash1<\/code> is an iterable and <code>flash2<\/code> is an iterator.\n",
                "\n",
                "<p class=\"\">Correct!<\/p>\n",
                "\n",
                "### Iterating over iterables (1) {.unnumbered}\n",
                "\n",
                "\n",
                "<div class>\n",
                "<p>Great, you're familiar with what iterables and iterators are! In this exercise, you will reinforce your knowledge about these by iterating over and printing from iterables and iterators.<\/p>\n",
                "<p>You are provided with a list of strings <code>flash<\/code>. You will practice iterating over the list by using a <code>for<\/code> loop. You will also create an iterator for the list and access the values from the iterator.<\/p>\n",
                "<\/div>\n",
                "\n",
                "<li>Create a <code>for<\/code> loop to loop over <code>flash<\/code> and print the values in the list. Use <code>person<\/code> as the loop variable.<\/li>\n",
                "\n",
                "<li>Create an <em>iterator<\/em> for the list <code>flash<\/code> and assign the result to <code>superhero<\/code>.<\/li>\n",
                "\n",
                "<li>Print each of the items from <code>superhero<\/code> using <code>next()<\/code> 4 times.<\/li>\n",
                "<div>\n"
            ]
        },
        {
            "cell_type": "code",
            "execution_count": null,
            "metadata": {},
            "outputs": [],
            "source": [
                "# Create a list of strings: flash\n",
                "flash = ['jay garrick', 'barry allen', 'wally west', 'bart allen']\n",
                "\n",
                "# Print each list item in flash using a for loop\n",
                "for person in flash:\n",
                "    print(person)\n"
            ]
        },
        {
            "cell_type": "markdown",
            "metadata": {},
            "source": [
                "<\/div>\n",
                "<div>\n"
            ]
        },
        {
            "cell_type": "code",
            "execution_count": null,
            "metadata": {},
            "outputs": [],
            "source": [
                "# Create an iterator for flash: superhero\n",
                "superhero = iter(flash)\n",
                "\n",
                "# Print each item from the iterator\n",
                "print(next(superhero))\n",
                "print(next(superhero))\n",
                "print(next(superhero))\n",
                "print(next(superhero))\n"
            ]
        },
        {
            "cell_type": "markdown",
            "metadata": {},
            "source": [
                "<\/div>\n",
                "\n",
                "<p class=\"\">Great work!<\/p>\n",
                "\n",
                "### Iterating over iterables (2) {.unnumbered}\n",
                "\n",
                "\n",
                "<div class>\n",
                "<p>One of the things you learned about in this chapter is that not all iterables are <em>actual<\/em> lists. A couple of examples that we looked at are <em>strings<\/em> and the use of the <code>range()<\/code> function. In this exercise, we will focus on the <code>range()<\/code> function.<\/p>\n",
                "<p>You can use <code>range()<\/code> in a <code>for<\/code> loop <em>as if<\/em> it's a list to be iterated over:<\/p>\n",
                "<pre><code>for i in range(5):\n",
                "    print(i)\n",
                "<\/code><\/pre>\n",
                "<p>Recall that <code>range()<\/code> doesn't actually create the list; instead, it creates a range object with an iterator that produces the values until it reaches the limit (in the example, until the value 4). If <code>range()<\/code> created the actual list, calling it with a value of \\(10^{100}\\) may not work, especially since a number as big as that may go over a regular computer's memory. The value \\(10^{100}\\) is actually what's called a <strong>Googol<\/strong> which is a 1 followed by a hundred 0s. That's a huge number!<\/p>\n",
                "<p>Your task for this exercise is to show that calling <code>range()<\/code> with \\(10^{100}\\) won't actually pre-create the list.<\/p>\n",
                "<\/div>\n",
                "\n",
                "<li>Create an <strong>iterator<\/strong> object <code>small_value<\/code> over <code>range(3)<\/code> using the function <code>iter()<\/code>.<\/li>\n",
                "\n",
                "<li>Using a <code>for<\/code> loop, iterate over <code>range(3)<\/code>, printing the value for every iteration. Use <code>num<\/code> as the loop variable.<\/li>\n",
                "\n",
                "<li>Create an <strong>iterator<\/strong> object <code>googol<\/code> over <code>range(10 ** 100)<\/code>.<\/li>\n",
                "<div>\n"
            ]
        },
        {
            "cell_type": "code",
            "execution_count": null,
            "metadata": {},
            "outputs": [],
            "source": [
                "# Create an iterator for range(3): small_value\n",
                "small_value = iter(range(3))\n",
                "\n",
                "# Print the values in small_value\n",
                "print(next(small_value))\n",
                "print(next(small_value))\n",
                "print(next(small_value))\n"
            ]
        },
        {
            "cell_type": "markdown",
            "metadata": {},
            "source": [
                "<\/div>\n",
                "<div>\n"
            ]
        },
        {
            "cell_type": "code",
            "execution_count": null,
            "metadata": {},
            "outputs": [],
            "source": [
                "# Loop over range(3) and print the values\n",
                "for num in range(3):\n",
                "    print(num)\n"
            ]
        },
        {
            "cell_type": "markdown",
            "metadata": {},
            "source": [
                "<\/div>\n",
                "<div>\n"
            ]
        },
        {
            "cell_type": "code",
            "execution_count": null,
            "metadata": {},
            "outputs": [],
            "source": [
                "# Create an iterator for range(10 ** 100): googol\n",
                "googol = iter(range(10 ** 100))\n",
                "\n",
                "# Print the first 5 values from googol\n",
                "print(next(googol))\n",
                "print(next(googol))\n",
                "print(next(googol))\n",
                "print(next(googol))\n",
                "print(next(googol))\n"
            ]
        },
        {
            "cell_type": "markdown",
            "metadata": {},
            "source": [
                "<\/div>\n",
                "\n",
                "<p class=\"\">Great work!<\/p>\n",
                "\n",
                "### Iterators as function arguments {.unnumbered}\n",
                "\n",
                "\n",
                "<div class>\n",
                "<p>You've been using the <code>iter()<\/code> function to get an iterator object, as well as the <code>next()<\/code> function to retrieve the values one by one from the iterator object. <\/p>\n",
                "<p>There are also functions that take iterators and iterables as arguments. For example, the <code>list()<\/code> and <code>sum()<\/code> functions return a list and the sum of elements, respectively. <\/p>\n",
                "<p>In this exercise, you will use these functions by passing an iterable from <code>range()<\/code> and then printing the results of the function calls.<\/p>\n",
                "<\/div>\n",
                "\n",
                "<li>Create a <code>range<\/code> object that would produce the values from 10 to 20 using <code>range()<\/code>. Assign the result to <code>values<\/code>.<\/li>\n",
                "\n",
                "<li>Use the <code>list()<\/code> function to create a list of values from the range object <code>values<\/code>. Assign the result to <code>values_list<\/code>.<\/li>\n",
                "\n",
                "<li>Use the <code>sum()<\/code> function to get the sum of the values from 10 to 20 from the range object <code>values<\/code>. Assign the result to <code>values_sum<\/code>.<\/li>\n",
                "<div>\n"
            ]
        },
        {
            "cell_type": "code",
            "execution_count": null,
            "metadata": {},
            "outputs": [],
            "source": [
                "# Create a range object: values\n",
                "values = range(10, 21)\n",
                "\n",
                "# Print the range object\n",
                "print(values)\n"
            ]
        },
        {
            "cell_type": "markdown",
            "metadata": {},
            "source": [
                "<\/div>\n",
                "<div>\n"
            ]
        },
        {
            "cell_type": "code",
            "execution_count": null,
            "metadata": {},
            "outputs": [],
            "source": [
                "# Create a list of integers: values_list\n",
                "values_list = list(values)\n",
                "\n",
                "# Print values_list\n",
                "print(values_list)\n"
            ]
        },
        {
            "cell_type": "markdown",
            "metadata": {},
            "source": [
                "<\/div>\n",
                "<div>\n"
            ]
        },
        {
            "cell_type": "code",
            "execution_count": null,
            "metadata": {},
            "outputs": [],
            "source": [
                "# Get the sum of values: values_sum\n",
                "values_sum = sum(values)\n",
                "\n",
                "# Print values_sum\n",
                "print(values_sum)\n"
            ]
        },
        {
            "cell_type": "markdown",
            "metadata": {},
            "source": [
                "<\/div>\n",
                "\n",
                "<p class=\"\">Great work!<\/p>\n",
                "\n",
                "## Playing with iterators {.unnumbered}\n",
                "\n",
                "\n",
                "\n",
                "### Using enumerate {.unnumbered}\n",
                "\n",
                "\n",
                "<div class>\n",
                "<p>You're really getting the hang of using iterators, great job! <\/p>\n",
                "<p>You've just gained several new ideas on iterators from the last video and one of them is the <code>enumerate()<\/code> function. Recall that <code>enumerate()<\/code> returns an <code>enumerate<\/code> object that produces a sequence of tuples, and each of the tuples is an <em>index-value<\/em> pair.<\/p>\n",
                "<p>In this exercise, you are given a list of strings <code>mutants<\/code> and you will practice using <code>enumerate()<\/code> on it by printing out a list of tuples and unpacking the tuples using a <code>for<\/code> loop.<\/p>\n",
                "<\/div>\n",
                "\n",
                "<li>Create a list of tuples from <code>mutants<\/code> and assign the result to <code>mutant_list<\/code>. Make sure you generate the tuples using <code>enumerate()<\/code> and turn the result from it into a list using <code>list()<\/code>.<\/li>\n",
                "\n",
                "<li>Complete the first <code>for<\/code> loop by unpacking the tuples generated by calling <code>enumerate()<\/code> on <code>mutants<\/code>. Use <code>index1<\/code> for the index and <code>value1<\/code> for the value when unpacking the tuple.<\/li>\n",
                "\n",
                "<li>Complete the second <code>for<\/code> loop similarly as with the first, but this time change the starting index to start from <code>1<\/code> by passing it in as an argument to the <code>start<\/code> parameter of <code>enumerate()<\/code>. Use <code>index2<\/code> for the index and <code>value2<\/code> for the value when unpacking the tuple.<\/li>\n",
                "<div>\n"
            ]
        },
        {
            "cell_type": "code",
            "execution_count": null,
            "metadata": {},
            "outputs": [],
            "source": [
                "# Create a list of strings: mutants\n",
                "mutants = ['charles xavier', \n",
                "            'bobby drake', \n",
                "            'kurt wagner', \n",
                "            'max eisenhardt', \n",
                "            'kitty pryde']\n",
                "\n",
                "# Create a list of tuples: mutant_list\n",
                "mutant_list = list(enumerate(mutants))\n",
                "\n",
                "# Print the list of tuples\n",
                "print(mutant_list)\n"
            ]
        },
        {
            "cell_type": "markdown",
            "metadata": {},
            "source": [
                "<\/div>\n",
                "<div>\n"
            ]
        },
        {
            "cell_type": "code",
            "execution_count": null,
            "metadata": {},
            "outputs": [],
            "source": [
                "# Unpack and print the tuple pairs\n",
                "for index1, value1 in enumerate(mutants):\n",
                "    print(index1, value1)\n"
            ]
        },
        {
            "cell_type": "markdown",
            "metadata": {},
            "source": [
                "<\/div>\n",
                "<div>\n"
            ]
        },
        {
            "cell_type": "code",
            "execution_count": null,
            "metadata": {},
            "outputs": [],
            "source": [
                "# Change the start index\n",
                "for index2, value2 in enumerate(mutants, start=1):\n",
                "    print(index2, value2)\n"
            ]
        },
        {
            "cell_type": "markdown",
            "metadata": {},
            "source": [
                "<\/div>\n",
                "\n",
                "<p class=\"\">Great work!<\/p>\n",
                "\n",
                "### Using zip {.unnumbered}\n",
                "\n",
                "\n",
                "<div class>\n",
                "<p>Another interesting function that you've learned is <code>zip()<\/code>, which takes any number of iterables and returns a <code>zip<\/code> object that is an iterator of tuples. If you wanted to print the values of a <code>zip<\/code> object, you can convert it into a list and then print it. Printing just a <code>zip<\/code> object will not return the values unless you unpack it first. In this exercise, you will explore this for yourself.<\/p>\n",
                "<p>Three lists of strings are pre-loaded: <code>mutants<\/code>, <code>aliases<\/code>, and <code>powers<\/code>. First, you will use <code>list()<\/code> and <code>zip()<\/code> on these lists to generate a list of tuples. Then, you will create a <code>zip<\/code> object using <code>zip()<\/code>. Finally, you will unpack this <code>zip<\/code> object in a <code>for<\/code> loop to print the values in each tuple. Observe the different output generated by printing the list of tuples, then the <code>zip<\/code> object, and finally, the tuple values in the <code>for<\/code> loop.<\/p>\n",
                "<\/div>\n",
                "\n",
                "<li>Using <code>zip()<\/code> with <code>list()<\/code>, create a <em>list<\/em> of <em>tuples<\/em> from the three lists <code>mutants<\/code>, <code>aliases<\/code>, and <code>powers<\/code> (in that order) and assign the result to <code>mutant_data<\/code>. <\/li>\n",
                "\n",
                "\n",
                "\n",
                "<li>Using <code>zip()<\/code>, create a <em>zip object<\/em> called <code>mutant_zip<\/code> from the three lists <code>mutants<\/code>, <code>aliases<\/code>, and <code>powers<\/code>.<\/li>\n",
                "\n",
                "<li>Complete the <code>for<\/code> loop by unpacking the <code>zip<\/code> object you created and printing the tuple values. Use <code>value1<\/code>, <code>value2<\/code>, <code>value3<\/code> for the values from each of <code>mutants<\/code>, <code>aliases<\/code>, and <code>powers<\/code>, in that order.<\/li>\n",
                "<div>\n"
            ]
        },
        {
            "cell_type": "code",
            "execution_count": null,
            "metadata": {},
            "outputs": [],
            "source": [
                "# edited/added\n",
                "aliases = ['prof x', 'iceman', 'nightcrawler', 'magneto', 'shadowcat']\n",
                "powers = ['telepathy', 'thermokinesis', 'teleportation', 'magnetokinesis', 'intangibility']\n",
                "\n",
                "# Create a list of tuples: mutant_data\n",
                "mutant_data = list(zip(mutants, aliases, powers))\n",
                "\n",
                "# Print the list of tuples\n",
                "print(mutant_data)\n"
            ]
        },
        {
            "cell_type": "markdown",
            "metadata": {},
            "source": [
                "<\/div>\n",
                "<div>\n"
            ]
        },
        {
            "cell_type": "code",
            "execution_count": null,
            "metadata": {},
            "outputs": [],
            "source": [
                "# Create a zip object using the three lists: mutant_zip\n",
                "mutant_zip = zip(mutants, aliases, powers)\n",
                "\n",
                "# Print the zip object\n",
                "print(mutant_zip)\n"
            ]
        },
        {
            "cell_type": "markdown",
            "metadata": {},
            "source": [
                "<\/div>\n",
                "<div>\n"
            ]
        },
        {
            "cell_type": "code",
            "execution_count": null,
            "metadata": {},
            "outputs": [],
            "source": [
                "# Unpack the zip object and print the tuple values\n",
                "for value1, value2, value3 in mutant_zip:\n",
                "    print(value1, value2, value3)\n"
            ]
        },
        {
            "cell_type": "markdown",
            "metadata": {},
            "source": [
                "<\/div>\n",
                "\n",
                "<p class=\"\">Great work!<\/p>\n",
                "\n",
                "### Using * and zip to 'unzip' {.unnumbered}\n",
                "\n",
                "\n",
                "<div class>\n",
                "<p>You know how to use <code>zip()<\/code> as well as how to print out values from a <code>zip<\/code> object. Excellent!<\/p>\n",
                "<p>Let's play around with <code>zip()<\/code> a little more. There is no <em>unzip<\/em> function for doing the reverse of what <code>zip()<\/code> does. We can, however, reverse what has been <code>zip<\/code>ped together by using <code>zip()<\/code> with a little help from <code>*<\/code>! <code>*<\/code> unpacks an <em>iterable<\/em> such as a list or a tuple into <em>positional arguments<\/em> in a function call.<\/p>\n",
                "<p>In this exercise, you will use <code>*<\/code> in a call to <code>zip()<\/code> to unpack the tuples produced by <code>zip()<\/code>. <\/p>\n",
                "<p>Two tuples of strings, <code>mutants<\/code> and <code>powers<\/code> have been pre-loaded.<\/p>\n",
                "<\/div>\n",
                "\n",
                "<li>Create a <code>zip<\/code> object by using <code>zip()<\/code> on <code>mutants<\/code> and <code>powers<\/code>, in that order. Assign the result to <code>z1<\/code>.<\/li>\n",
                "\n",
                "<li>Print the tuples in <code>z1<\/code> by unpacking them into positional arguments using the <code>*<\/code> operator in a <code>print()<\/code> call.<\/li>\n",
                "\n",
                "<li>Because the previous <code>print()<\/code> call would have exhausted the elements in <code>z1<\/code>, recreate the <code>zip<\/code> object you defined earlier and assign the result again to <code>z1<\/code>.<\/li>\n",
                "\n",
                "<li>'Unzip' the tuples in <code>z1<\/code> by unpacking them into positional arguments using the <code>*<\/code> operator in a <code>zip()<\/code> call. Assign the results to <code>result1<\/code> and <code>result2<\/code>, in that order.<\/li>\n",
                "\n",
                "<li>The last <code>print()<\/code> statements prints the output of comparing <code>result1<\/code> to <code>mutants<\/code> and <code>result2<\/code> to <code>powers<\/code>. Click <code>Submit Answer<\/code> to see if the unpacked <code>result1<\/code> and <code>result2<\/code> are equivalent to <code>mutants<\/code> and <code>powers<\/code>, respectively.<\/li>\n",
                "<div>\n"
            ]
        },
        {
            "cell_type": "code",
            "execution_count": null,
            "metadata": {},
            "outputs": [],
            "source": [
                "# Create a zip object from mutants and powers: z1\n",
                "z1 = zip(mutants, powers)\n",
                "\n",
                "# Print the tuples in z1 by unpacking with *\n",
                "print(*z1)\n"
            ]
        },
        {
            "cell_type": "markdown",
            "metadata": {},
            "source": [
                "<\/div>\n",
                "<div>\n"
            ]
        },
        {
            "cell_type": "code",
            "execution_count": null,
            "metadata": {},
            "outputs": [],
            "source": [
                "# Re-create a zip object from mutants and powers: z1\n",
                "z1 = zip(mutants, powers)\n",
                "\n",
                "# 'Unzip' the tuples in z1 by unpacking with * and zip(): result1, result2\n",
                "result1, result2 = zip(*z1)\n",
                "\n",
                "# Check if unpacked tuples are equivalent to original tuples\n",
                "print(result1 == mutants)\n",
                "print(result2 == powers)\n"
            ]
        },
        {
            "cell_type": "markdown",
            "metadata": {},
            "source": [
                "<\/div>\n",
                "\n",
                "<p class=\"\">Great work!<\/p>\n",
                "\n",
                "## Using iterators to load large files into memory {.unnumbered}\n",
                "\n",
                "\n",
                "\n",
                "### Processing large amounts of Twitter data {.unnumbered}\n",
                "\n",
                "\n",
                "<div class>\n",
                "<p>Sometimes, the data we have to process reaches a size that is too much for a computer's memory to handle. This is a common problem faced by data scientists. A solution to this is to process an entire data source chunk by chunk, instead of a single go all at once.<\/p>\n",
                "<p>In this exercise, you will do just that. You will process a large csv file of Twitter data in the same way that you processed <code>'tweets.csv'<\/code> in <a href=\"https://campus.datacamp.com/courses/python-data-science-toolbox-part-1/writing-your-own-functions?ex=12\"><em>Bringing it all together<\/em><\/a> exercises of the prequel course, but this time, working on it in chunks of 10 entries at a time. <\/p>\n",
                "<p>If you are interested in learning how to access Twitter data so you can work with it on your own system, refer to <a href=\"https://www.datacamp.com/courses/importing-data-in-python-part-2\">Part 2<\/a> of the DataCamp course on Importing Data in Python. <\/p>\n",
                "<p>The pandas package has been imported as <code>pd<\/code> and the file <code>'tweets.csv'<\/code> is in your current directory for your use.<\/p>\n",
                "<p><em>Be aware that this is real data from Twitter and as such there is always a risk that it may contain profanity or other offensive content (in this exercise, and any following exercises that also use real Twitter data).<\/em><\/p>\n",
                "<\/div>\n",
                "\n",
                "<li>Initialize an empty dictionary <code>counts_dict<\/code> for storing the results of processing the Twitter data.<\/li>\n",
                "\n",
                "<li>Iterate over the <code>'tweets.csv'<\/code> file by using a <code>for<\/code> loop. Use the loop variable <code>chunk<\/code> and iterate over the call to <code>pd.read_csv()<\/code> with a <code>chunksize<\/code> of 10.<\/li>\n",
                "<li>In the inner loop, iterate over the column <code>'lang'<\/code> in <code>chunk<\/code> by using a <code>for<\/code> loop. Use the loop variable <code>entry<\/code>.<\/li>\n",
                "<div>\n"
            ]
        },
        {
            "cell_type": "code",
            "execution_count": null,
            "metadata": {},
            "outputs": [],
            "source": [
                "# edited/added\n",
                "import pandas as pd\n",
                "\n",
                "# Initialize an empty dictionary: counts_dict\n",
                "counts_dict = {}\n",
                "\n",
                "# Iterate over the file chunk by chunk\n",
                "for chunk in pd.read_csv('datasets/Python-Data-Science-Toolbox-Part-2/tweets.csv', chunksize=10): # edited/added\n",
                "\n",
                "    # Iterate over the column in DataFrame\n",
                "    for entry in chunk['lang']:\n",
                "        if entry in counts_dict.keys():\n",
                "            counts_dict[entry] += 1\n",
                "        else:\n",
                "            counts_dict[entry] = 1\n",
                "            \n",
                "# Print the populated dictionary\n",
                "print(counts_dict)\n"
            ]
        },
        {
            "cell_type": "markdown",
            "metadata": {},
            "source": [
                "<\/div>\n",
                "\n",
                "<p class=\"\">Great work!<\/p>\n",
                "\n",
                "### Extracting information for large amounts of Twitter data {.unnumbered}\n",
                "\n",
                "\n",
                "<div class>\n",
                "<p>Great job chunking out that file in the previous exercise. You now know how to deal with situations where you need to process a very large file and that's a very useful skill to have!<\/p>\n",
                "<p>It's good to know how to process a file in smaller, more manageable chunks, but it can become very tedious having to write and rewrite the same code for the same task each time. In this exercise, you will be making your code more <em>reusable<\/em> by putting your work in the last exercise in a <em>function definition<\/em>.<\/p>\n",
                "<p>The pandas package has been imported as <code>pd<\/code> and the file <code>'tweets.csv'<\/code> is in your current directory for your use.<\/p>\n",
                "<\/div>\n",
                "\n",
                "<li>Define the function <code>count_entries()<\/code>, which has 3 parameters. The first parameter is <code>csv_file<\/code> for the filename, the second is <code>c_size<\/code> for the chunk size, and the last is <code>colname<\/code> for the column name.<\/li>\n",
                "<li>Iterate over the file in <code>csv_file<\/code> file by using a <code>for<\/code> loop. Use the loop variable <code>chunk<\/code> and iterate over the call to <code>pd.read_csv()<\/code>, passing <code>c_size<\/code> to <code>chunksize<\/code>.<\/li>\n",
                "<li>In the inner loop, iterate over the column given by <code>colname<\/code> in <code>chunk<\/code> by using a <code>for<\/code> loop. Use the loop variable <code>entry<\/code>.<\/li>\n",
                "\n",
                "<li>Call the <code>count_entries()<\/code> function by passing to it the filename <code>'tweets.csv'<\/code>, the size of chunks <code>10<\/code>, and the name of the column to count, <code>'lang'<\/code>. Assign the result of the call to the variable <code>result_counts<\/code>.<\/li>\n",
                "<div>\n"
            ]
        },
        {
            "cell_type": "code",
            "execution_count": null,
            "metadata": {},
            "outputs": [],
            "source": [
                "# Define count_entries()\n",
                "def count_entries(csv_file, c_size, colname):\n",
                "    \"\"\"Return a dictionary with counts of\n",
                "    occurrences as value for each key.\"\"\"\n",
                "    \n",
                "    # Initialize an empty dictionary: counts_dict\n",
                "    counts_dict = {}\n",
                "\n",
                "    # Iterate over the file chunk by chunk\n",
                "    for chunk in pd.read_csv(csv_file, chunksize=c_size):\n",
                "\n",
                "        # Iterate over the column in DataFrame\n",
                "        for entry in chunk[colname]:\n",
                "            if entry in counts_dict.keys():\n",
                "                counts_dict[entry] += 1\n",
                "            else:\n",
                "                counts_dict[entry] = 1\n",
                "\n",
                "    # Return counts_dict\n",
                "    return counts_dict\n",
                "\n",
                "# Call count_entries(): result_counts\n",
                "result_counts = count_entries('datasets/Python-Data-Science-Toolbox-Part-2/tweets.csv', 10, 'lang') # edited/added\n",
                "\n",
                "# Print result_counts\n",
                "print(result_counts)\n"
            ]
        },
        {
            "cell_type": "markdown",
            "metadata": {},
            "source": [
                "<\/div>\n",
                "\n",
                "<p class=\"\">Great work!<\/p>\n",
                "\n",
                "# List comprehensions and generators {.unnumbered}\n",
                "\n",
                "<p class=\"chapter__description\">\n",
                "    In this chapter, you'll build on your knowledge of iterators and be introduced to list comprehensions, which allow you to create complicated lists—and lists of lists—in one line of code! List comprehensions can dramatically simplify your code and make it more efficient, and will become a vital part of your Python data science toolbox. You'll then learn about generators, which are extremely helpful when working with large sequences of data that you may not want to store in memory, but instead generate on the fly.\n",
                "  <\/p>\n",
                "  \n",
                "## List comprehensions {.unnumbered}\n",
                "\n",
                "\n",
                "\n",
                "### Write a basic list comprehension {.unnumbered}\n",
                "\n",
                "\n",
                "<div class>\n",
                "<p>In this exercise, you will practice what you've learned from the video about writing list comprehensions. You will write a list comprehension and identify the output that will be produced.<\/p>\n",
                "<p>The following list has been pre-loaded in the environment.<\/p>\n",
                "<pre><code>doctor = ['house', 'cuddy', 'chase', 'thirteen', 'wilson']\n",
                "<\/code><\/pre>\n",
                "<p>How would a list comprehension that produces a list of the <strong>first character<\/strong> of each string in <code>doctor<\/code> look like? Note that the list comprehension uses <code>doc<\/code> as the iterator variable. What will the output be?<\/p>\n",
                "<\/div>\n",
                "\n",
                "- [ ] The list comprehension is <code>[for doc in doctor: doc[0]]<\/code> and produces the list <code>['h', 'c', 'c', 't', 'w']<\/code>.\n",
                "- [x] The list comprehension is <code>[doc[0] in doctor]<\/code> and produces the list <code>['h', 'c', 'c', 't', 'w']<\/code>.\n",
                "- [ ] The list comprehension is <code>[doc[0] in doctor]<\/code> and produces the list <code>['h', 'c', 'c', 't', 'w']<\/code>.\n",
                "\n",
                "<p class=\"\">Correct!<\/p>\n",
                "\n",
                "### List comprehension over iterables {.unnumbered}\n",
                "\n",
                "\n",
                "<div class>\n",
                "<p>You know that list comprehensions can be built over iterables. Given the following objects below, which of these can we build list comprehensions over?<\/p>\n",
                "<pre><code>doctor = ['house', 'cuddy', 'chase', 'thirteen', 'wilson']\n",
                "\n",
                "range(50)\n",
                "\n",
                "underwood = 'After all, we are nothing more or less than what we choose to reveal.'\n",
                "\n",
                "jean = '24601'\n",
                "\n",
                "flash = ['jay garrick', 'barry allen', 'wally west', 'bart allen']\n",
                "\n",
                "valjean = 24601\n",
                "<\/code><\/pre>\n",
                "<\/div>\n",
                "\n",
                "- [ ] You can build list comprehensions over all the objects except the string of number characters <code>jean<\/code>.\n",
                "- [ ] You can build list comprehensions over all the objects except the string lists <code>doctor<\/code> and <code>flash<\/code>.\n",
                "- [ ] You can build list comprehensions over all the objects except <code>range(50)<\/code>.\n",
                "- [x] You can build list comprehensions over all the objects except the integer object <code>valjean<\/code>.\n",
                "\n",
                "<p class=\"\">Correct!<\/p>\n",
                "\n",
                "### Writing list comprehensions {.unnumbered}\n",
                "\n",
                "\n",
                "<div class><p>You now have all the knowledge necessary to begin writing list comprehensions! Your job in this exercise is to write a list comprehension\n",
                "that produces a list of the squares of the numbers ranging from 0 to 9.<\/p><\/div>\n",
                "\n",
                "<li>Using the range of numbers from <code>0<\/code> to <code>9<\/code> as your iterable and <code>i<\/code> as your iterator variable, write a list comprehension that produces a list of numbers consisting of the squared values of <code>i<\/code>.<\/li>\n",
                "<div>\n"
            ]
        },
        {
            "cell_type": "code",
            "execution_count": null,
            "metadata": {},
            "outputs": [],
            "source": [
                "# Create list comprehension: squares\n",
                "squares = [i**2 for i in range(0,10)]\n"
            ]
        },
        {
            "cell_type": "markdown",
            "metadata": {},
            "source": [
                "<\/div>\n",
                "\n",
                "<p class=\"\">Great work!<\/p>\n",
                "\n",
                "### Nested list comprehensions {.unnumbered}\n",
                "\n",
                "\n",
                "<div class>\n",
                "<p>Great! At this point, you have a good grasp of the basic syntax of list comprehensions. Let's push your code-writing skills a little further. In this exercise, you will be writing a list comprehension <em>within<\/em> another list comprehension, or nested list comprehensions. It sounds a little tricky, but you can do it!<\/p>\n",
                "<p>Let's step aside for a while from strings. One of the ways in which lists can be used are in representing multi-dimension objects such as <strong>matrices<\/strong>. Matrices can be represented as a list of lists in Python. For example a 5 x 5 matrix with values <code>0<\/code> to <code>4<\/code> in each row can be written as:<\/p>\n",
                "<pre><code>matrix = [[0, 1, 2, 3, 4],\n",
                "          [0, 1, 2, 3, 4],\n",
                "          [0, 1, 2, 3, 4],\n",
                "          [0, 1, 2, 3, 4],\n",
                "          [0, 1, 2, 3, 4]]\n",
                "<\/code><\/pre>\n",
                "<p>Your task is to recreate this matrix by using nested listed comprehensions. Recall that you can create one of the rows of the matrix with a single list comprehension. To create the list of lists, you simply have to supply the list comprehension as the <strong>output expression<\/strong> of the overall list comprehension:<\/p>\n",
                "<p><code>[<\/code>[<em>output expression<\/em>] <code>for<\/code> <em>iterator variable<\/em> <code>in<\/code> <em>iterable<\/em><code>]<\/code><\/p>\n",
                "<p>Note that here, the <strong>output expression<\/strong> is itself a list comprehension.<\/p>\n",
                "<\/div>\n",
                "\n",
                "<li>In the inner list comprehension - that is, the <strong>output expression<\/strong> of the nested list comprehension - create a list of values from <code>0<\/code> to <code>4<\/code> using <code>range()<\/code>. Use <code>col<\/code> as the iterator variable. <\/li>\n",
                "<li>In the <strong>iterable<\/strong> part of your nested list comprehension, use <code>range()<\/code> to count 5 rows - that is, create a list of values from <code>0<\/code> to <code>4<\/code>. Use <code>row<\/code> as the iterator variable; note that you won't be needing this variable to create values in the list of lists.<\/li>\n",
                "<div>\n"
            ]
        },
        {
            "cell_type": "code",
            "execution_count": null,
            "metadata": {},
            "outputs": [],
            "source": [
                "# Create a 5 x 5 matrix using a list of lists: matrix\n",
                "matrix = [[col for col in range(5)] for row in range(5)]\n",
                "\n",
                "# Print the matrix\n",
                "for row in matrix:\n",
                "    print(row)\n"
            ]
        },
        {
            "cell_type": "markdown",
            "metadata": {},
            "source": [
                "<\/div>\n",
                "\n",
                "<p class=\"\">Great work!<\/p>\n",
                "\n",
                "## Advanced comprehensions {.unnumbered}\n",
                "\n",
                "\n",
                "\n",
                "### Using conditionals in comprehensions (1) {.unnumbered}\n",
                "\n",
                "\n",
                "<div class>\n",
                "<p>You've been using list comprehensions to build lists of values, sometimes using operations to create these values. <\/p>\n",
                "<p>An interesting mechanism in list comprehensions is that you can also create lists with values that meet only a certain condition. One way of doing this is by using conditionals on iterator variables. In this exercise, you will do exactly that!<\/p>\n",
                "<p>Recall from the video that you can apply a conditional statement to test the iterator variable by adding an <code>if<\/code> statement in the optional <em>predicate expression<\/em> part after the <code>for<\/code> statement in the comprehension: <\/p>\n",
                "<p><code>[<\/code> <em>output expression<\/em> <code>for<\/code> <em>iterator variable<\/em> <code>in<\/code> <em>iterable<\/em> <code>if<\/code> <em>predicate expression<\/em> <code>]<\/code>. <\/p>\n",
                "<p>You will use this recipe to write a list comprehension for this exercise. You are given a list of strings <code>fellowship<\/code> and, using a list comprehension, you will create a list that only includes the members of <code>fellowship<\/code> that have 7 characters or more.<\/p>\n",
                "<\/div>\n",
                "\n",
                "<li>Use <code>member<\/code> as the iterator variable in the list comprehension. For the conditional, use <code>len()<\/code> to evaluate the iterator variable. Note that you only want strings with 7 characters or more.<\/li>\n",
                "<div>\n"
            ]
        },
        {
            "cell_type": "code",
            "execution_count": null,
            "metadata": {},
            "outputs": [],
            "source": [
                "# Create a list of strings: fellowship\n",
                "fellowship = ['frodo', 'samwise', 'merry', 'aragorn', 'legolas', 'boromir', 'gimli']\n",
                "\n",
                "# Create list comprehension: new_fellowship\n",
                "new_fellowship = [member for member in fellowship if len(member) >= 7]\n",
                "\n",
                "# Print the new list\n",
                "print(new_fellowship)\n"
            ]
        },
        {
            "cell_type": "markdown",
            "metadata": {},
            "source": [
                "<\/div>\n",
                "\n",
                "<div class=\"dc-completed__message\"><p class=\"\">Great work!<\/p><\/div>\n",
                "\n",
                "### Using conditionals in comprehensions (2) {.unnumbered}\n",
                "\n",
                "\n",
                "<div class>\n",
                "<p>In the previous exercise, you used an <code>if<\/code> conditional statement in the <em>predicate expression<\/em> part of a list comprehension to evaluate an iterator variable. In this exercise, you will use an <code>if-else<\/code> statement on the <em>output expression<\/em> of the list.<\/p>\n",
                "<p>You will work on the same list, <code>fellowship<\/code> and, using a list comprehension and an <code>if-else<\/code> conditional statement in the output expression, create a list that keeps members of <code>fellowship<\/code> with 7 or more characters and replaces others with an empty string. Use <code>member<\/code> as the iterator variable in the list comprehension.<\/p>\n",
                "<\/div>\n",
                "\n",
                "<li>In the output expression, keep the string as-is <strong>if<\/strong> the number of characters is &gt;= 7, <strong>else<\/strong> replace it with an <em>empty string<\/em> - that is, <code>''<\/code> or <code>\"\"<\/code>.<\/li>\n",
                "<div>\n"
            ]
        },
        {
            "cell_type": "code",
            "execution_count": null,
            "metadata": {},
            "outputs": [],
            "source": [
                "# Create a list of strings: fellowship\n",
                "fellowship = ['frodo', 'samwise', 'merry', 'aragorn', 'legolas', 'boromir', 'gimli']\n",
                "\n",
                "# Create list comprehension: new_fellowship\n",
                "new_fellowship = [member if len(member) >= 7 else '' for member in fellowship]\n",
                "\n",
                "# Print the new list\n",
                "print(new_fellowship)\n"
            ]
        },
        {
            "cell_type": "markdown",
            "metadata": {},
            "source": [
                "<\/div>\n",
                "\n",
                "<p class=\"\">Great work!<\/p>\n",
                "\n",
                "### Dict comprehensions {.unnumbered}\n",
                "\n",
                "\n",
                "<div class>\n",
                "<p>Comprehensions aren't relegated merely to the world of lists. There are many other objects you can build using comprehensions, such as dictionaries, pervasive objects in Data Science. You will create a dictionary using the comprehension syntax for this exercise. In this case, the comprehension is called a <strong>dict comprehension<\/strong>.<\/p>\n",
                "<p>Recall that the main difference between a <em>list comprehension<\/em> and a <em>dict comprehension<\/em> is the use of curly braces <code>{}<\/code> instead of <code>[]<\/code>. Additionally, members of the dictionary are created using a colon <code>:<\/code>, as in <code>&lt;key&gt; : &lt;value&gt;<\/code>.<\/p>\n",
                "<p>You are given a list of strings <code>fellowship<\/code> and, using a <strong>dict comprehension<\/strong>, create a dictionary with the members of the list as the keys and the length of each string as the corresponding values.<\/p>\n",
                "<\/div>\n",
                "<div class=\"exercise--instructions__content\"><p>Create a dict comprehension where the key is a string in <code>fellowship<\/code> and the value is the length of the string. Remember to use the syntax <code>&lt;key&gt; : &lt;value&gt;<\/code> in the output expression part of the comprehension to create the members of the dictionary. Use <code>member<\/code> as the iterator variable.<\/p><\/div>\n",
                "\n",
                "<div>\n"
            ]
        },
        {
            "cell_type": "code",
            "execution_count": null,
            "metadata": {},
            "outputs": [],
            "source": [
                "# Create a list of strings: fellowship\n",
                "fellowship = ['frodo', 'samwise', 'merry', 'aragorn', 'legolas', 'boromir', 'gimli']\n",
                "\n",
                "# Create dict comprehension: new_fellowship\n",
                "new_fellowship = { member:len(member) for member in fellowship }\n",
                "\n",
                "# Print the new dictionary\n",
                "print(new_fellowship)\n"
            ]
        },
        {
            "cell_type": "markdown",
            "metadata": {},
            "source": [
                "<\/div>\n",
                "\n",
                "<p class=\"\">Great work!<\/p>\n",
                "\n",
                "## Introduction to generator expressions {.unnumbered}\n",
                "\n",
                "\n",
                "\n",
                "### List comprehensions vs. generators {.unnumbered}\n",
                "\n",
                "\n",
                "<div class>\n",
                "<p>You've seen from the videos that list comprehensions and generator expressions look very similar in their syntax, except for the use of parentheses <code>()<\/code> in generator expressions and brackets <code>[]<\/code> in list comprehensions.<\/p>\n",
                "<p>In this exercise, you will recall the difference between list comprehensions and generators. To help with that task, the following code has been pre-loaded in the environment:<\/p>\n",
                "<pre><code># List of strings\n",
                "fellowship = ['frodo', 'samwise', 'merry', 'aragorn', 'legolas', 'boromir', 'gimli']<\/code>\n",
                "\n",
                "<code># List comprehension\n",
                "fellow1 = [member for member in fellowship if len(member) &gt;= 7]<\/code>\n",
                "\n",
                "<code># Generator expression\n",
                "fellow2 = (member for member in fellowship if len(member) &gt;= 7)\n",
                "<\/code><\/pre>\n",
                "<p>Try to play around with <code>fellow1<\/code> and <code>fellow2<\/code> by figuring out their types and printing out their values. Based on your observations and what you can recall from the video, select from the options below the best description for the difference between list comprehensions and generators.<\/p>\n",
                "<\/div>\n",
                "\n",
                "- [ ] List comprehensions and generators are not different at all; they are just different ways of writing the same thing.\n",
                "- [x] A list comprehension produces a list as output, a generator produces a generator object.\n",
                "- [ ] A list comprehension produces a list as output that can be iterated over, a generator produces a generator object that can't be iterated over.\n",
                "\n",
                "<p class=\"\">Correct!<\/p>\n",
                "\n",
                "### Write your own generator expressions {.unnumbered}\n",
                "\n",
                "\n",
                "<div class>\n",
                "<p>You are familiar with what generators and generator expressions are, as well as its difference from list comprehensions. In this exercise, you will practice building generator expressions on your own. <\/p>\n",
                "<p>Recall that generator expressions basically have the same syntax as list comprehensions, except that it uses parentheses <code>()<\/code> instead of brackets <code>[]<\/code>; this should make things feel familiar! Furthermore, if you have ever iterated over a dictionary with <code>.items()<\/code>, or used the <code>range()<\/code> function, for example, you have already encountered and used generators before, without knowing it! When you use these functions, Python creates generators for you behind the scenes.<\/p>\n",
                "<p>Now, you will start simple by creating a generator object that produces numeric values.<\/p>\n",
                "<\/div>\n",
                "\n",
                "<li>Create a generator object that will produce values from <code>0<\/code> to <code>30<\/code>. Assign the result to <code>result<\/code> and use <code>num<\/code> as the iterator variable in the generator expression.<\/li>\n",
                "\n",
                "<li>Print the first <code>5<\/code> values by using <code>next()<\/code> appropriately in <code>print()<\/code>.<\/li>\n",
                "\n",
                "<li>Print the rest of the values by using a <code>for<\/code> loop to iterate over the generator object.<\/li>\n",
                "<div>\n"
            ]
        },
        {
            "cell_type": "code",
            "execution_count": null,
            "metadata": {},
            "outputs": [],
            "source": [
                "# Create generator object: result\n",
                "result = (num for num in range(31))\n",
                "\n",
                "# Print the first 5 values\n",
                "print(next(result))\n",
                "print(next(result))\n",
                "print(next(result))\n",
                "print(next(result))\n",
                "print(next(result))\n",
                "\n",
                "# Print the rest of the values\n",
                "for value in result:\n",
                "    print(value)\n"
            ]
        },
        {
            "cell_type": "markdown",
            "metadata": {},
            "source": [
                "<\/div>\n",
                "\n",
                "<p class=\"\">Great work!<\/p>\n",
                "\n",
                "### Changing the output in generator expressions {.unnumbered}\n",
                "\n",
                "\n",
                "<div class>\n",
                "<p>Great! At this point, you already know how to write a basic generator expression. In this exercise, you will push this idea a little further by adding to the output expression of a generator expression. Because generator expressions and list comprehensions are so alike in syntax, this should be a familiar task for you!<\/p>\n",
                "<p>You are given a list of strings <code>lannister<\/code> and, using a generator expression, create a generator object that you will iterate over to print its values.<\/p>\n",
                "<\/div>\n",
                "\n",
                "<li>Write a generator expression that will generate the <strong>lengths<\/strong> of each string in <code>lannister<\/code>. Use <code>person<\/code> as the iterator variable. Assign the result to <code>lengths<\/code>.<\/li>\n",
                "\n",
                "<li>Supply the correct iterable in the <code>for<\/code> loop for printing the values in the generator object.<\/li>\n",
                "<div>\n"
            ]
        },
        {
            "cell_type": "code",
            "execution_count": null,
            "metadata": {},
            "outputs": [],
            "source": [
                "# Create a list of strings: lannister\n",
                "lannister = ['cersei', 'jaime', 'tywin', 'tyrion', 'joffrey']\n",
                "\n",
                "# Create a generator object: lengths\n",
                "lengths = (len(person) for person in lannister)\n",
                "\n",
                "# Iterate over and print the values in lengths\n",
                "for value in lengths:\n",
                "    print(value)\n"
            ]
        },
        {
            "cell_type": "markdown",
            "metadata": {},
            "source": [
                "<\/div>\n",
                "\n",
                "<p class=\"\">Great work!<\/p>\n",
                "\n",
                "### Build a generator {.unnumbered}\n",
                "\n",
                "\n",
                "<div class>\n",
                "<p>In previous exercises, you've dealt mainly with writing generator expressions, which uses comprehension syntax. Being able to use comprehension syntax for generator expressions made your work so much easier!<\/p>\n",
                "<p>Now, recall from the video that not only are there generator expressions, there are <em>generator functions<\/em> as well. <strong>Generator functions<\/strong> are functions that, like generator expressions, yield a series of values, instead of returning a single value. A generator function is defined as you do a regular function, but whenever it generates a value, it uses the keyword <code>yield<\/code> instead of <code>return<\/code>. <\/p>\n",
                "<p>In this exercise, you will create a generator function with a similar mechanism as the generator expression you defined in the previous exercise: <\/p>\n",
                "<pre><code>lengths = (len(person) for person in lannister)\n",
                "<\/code><\/pre>\n",
                "<\/div>\n",
                "\n",
                "<li>Complete the function header for the function <code>get_lengths()<\/code> that has a single parameter, <code>input_list<\/code>.<\/li>\n",
                "\n",
                "<li>In the <code>for<\/code> loop in the function definition, <code>yield<\/code> the <em>length<\/em> of the strings in <code>input_list<\/code>.<\/li>\n",
                "\n",
                "<li>Complete the iterable part of the <code>for<\/code> loop for printing the values generated by the <code>get_lengths()<\/code> generator function. Supply the call to <code>get_lengths()<\/code>, passing in the list <code>lannister<\/code>.<\/li>\n",
                "<div>\n"
            ]
        },
        {
            "cell_type": "code",
            "execution_count": null,
            "metadata": {},
            "outputs": [],
            "source": [
                "# Create a list of strings\n",
                "lannister = ['cersei', 'jaime', 'tywin', 'tyrion', 'joffrey']\n",
                "\n",
                "# Define generator function get_lengths\n",
                "def get_lengths(input_list):\n",
                "    \"\"\"Generator function that yields the\n",
                "    length of the strings in input_list.\"\"\"\n",
                "\n",
                "    # Yield the length of a string\n",
                "    for person in input_list:\n",
                "        yield len(person)\n",
                "        \n",
                "# Print the values generated by get_lengths()\n",
                "for value in get_lengths(lannister):\n",
                "    print(value)\n"
            ]
        },
        {
            "cell_type": "markdown",
            "metadata": {},
            "source": [
                "<\/div>\n",
                "\n",
                "<p class=\"\">Great work!<\/p>\n",
                "\n",
                "## Wrapping up comprehensions and generators. {.unnumbered}\n",
                "\n",
                "\n",
                "\n",
                "### List comprehensions for time-stamped data {.unnumbered}\n",
                "\n",
                "\n",
                "<div class>\n",
                "<p>You will now make use of what you've learned from this chapter to solve a simple data extraction problem. You will also be introduced to a data structure, the pandas <strong>Series<\/strong>, in this exercise. We won't elaborate on it much here, but what you should know is that it is a data structure that you will be working with a lot of times when analyzing data from pandas DataFrames. You can think of DataFrame columns as single-dimension arrays called Series. <\/p>\n",
                "<p>In this exercise, you will be using a list comprehension to extract the time from time-stamped Twitter data. The pandas package has been imported as <code>pd<\/code> and the file <code>'tweets.csv'<\/code> has been imported as the <code>df<\/code> DataFrame for your use.<\/p>\n",
                "<\/div>\n",
                "\n",
                "\n",
                "<li>Extract the column <code>'created_at'<\/code> from <code>df<\/code> and assign the result to <code>tweet_time<\/code>. Fun fact: the extracted column in <code>tweet_time<\/code> here is a Series data structure!<\/li>\n",
                "\n",
                "<li>Create a list comprehension that extracts the time from each row in <code>tweet_time<\/code>. Each row is a string that represents a timestamp, and you will access the <em>12th to 19th characters<\/em> in the string to extract the time. Use <code>entry<\/code> as the <em>iterator variable<\/em> and assign the result to <code>tweet_clock_time<\/code>. Remember that Python uses 0-based indexing!<\/li>\n",
                "<div>\n"
            ]
        },
        {
            "cell_type": "code",
            "execution_count": null,
            "metadata": {},
            "outputs": [],
            "source": [
                "# edited/added\n",
                "df = pd.read_csv('datasets/Python-Data-Science-Toolbox-Part-2/tweets.csv')\n",
                "\n",
                "# Extract the created_at column from df: tweet_time\n",
                "tweet_time = df['created_at']\n",
                "\n",
                "# Extract the clock time: tweet_clock_time\n",
                "tweet_clock_time = [entry[11:19] for entry in tweet_time]\n",
                "\n",
                "# Print the extracted times\n",
                "print(tweet_clock_time)\n"
            ]
        },
        {
            "cell_type": "markdown",
            "metadata": {},
            "source": [
                "<\/div>\n",
                "\n",
                "<p class=\"\">Great work!<\/p>\n",
                "\n",
                "### Conditional list comprehensions for time-stamped data {.unnumbered}\n",
                "\n",
                "\n",
                "<div class>\n",
                "<p>Great, you've successfully extracted the data of interest, the time, from a pandas DataFrame! Let's tweak your work further by adding a conditional that further specifies which entries to select.<\/p>\n",
                "<p>In this exercise, you will be using a list comprehension to extract the time from time-stamped Twitter data. You will add a conditional expression to the list comprehension so that you only select the times in which <code>entry[17:19]<\/code> is equal to <code>'19'<\/code>. The pandas package has been imported as <code>pd<\/code> and the file <code>'tweets.csv'<\/code> has been imported as the <code>df<\/code> DataFrame for your use.<\/p>\n",
                "<\/div>\n",
                "\n",
                "<li>Extract the column <code>'created_at'<\/code> from <code>df<\/code> and assign the result to <code>tweet_time<\/code>.<\/li>\n",
                "\n",
                "<li>Create a list comprehension that extracts the time from each row in <code>tweet_time<\/code>. Each row is a string that represents a timestamp, and you will access the <em>12th to 19th characters<\/em> in the string to extract the time. Use <code>entry<\/code> as the <em>iterator variable<\/em> and assign the result to <code>tweet_clock_time<\/code>. Additionally, add a conditional expression that checks whether <code>entry[17:19]<\/code> is equal to <code>'19'<\/code>.<\/li>\n",
                "<div>\n"
            ]
        },
        {
            "cell_type": "code",
            "execution_count": null,
            "metadata": {},
            "outputs": [],
            "source": [
                "# Extract the created_at column from df: tweet_time\n",
                "tweet_time = df['created_at']\n",
                "\n",
                "# Extract the clock time: tweet_clock_time\n",
                "tweet_clock_time = [entry[11:19] for entry in tweet_time if entry[17:19] == '19']\n",
                "\n",
                "# Print the extracted times\n",
                "print(tweet_clock_time)\n"
            ]
        },
        {
            "cell_type": "markdown",
            "metadata": {},
            "source": [
                "<\/div>\n",
                "\n",
                "<div class=\"dc-completed__message\"><p class=\"\">Great work!<\/p><\/div>\n",
                "\n",
                "# Bringing it all together! {.unnumbered}\n",
                "\n",
                "<p class=\"chapter__description\">\n",
                "    This chapter will allow you to apply your newly acquired skills toward wrangling and extracting meaningful information from a real-world dataset—the World Bank's World Development Indicators. You'll have the chance to write your own functions and list comprehensions as you work with iterators and generators to solidify your Python data science chops.\n",
                "  <\/p>\n",
                "  \n",
                "## Welcome to the case study! {.unnumbered}\n",
                "\n",
                "\n",
                "\n",
                "### Dictionaries for data science {.unnumbered}\n",
                "\n",
                "\n",
                "<div class>\n",
                "<p>For this exercise, you'll use what you've learned about the <code>zip()<\/code> function and combine two lists into a dictionary. <\/p>\n",
                "<p>These lists are actually extracted from a <a href=\"https://datacatalog.worldbank.org/search/dataset/0037712\">bigger dataset file of world development indicators from the World Bank.<\/a> For pedagogical purposes, we have pre-processed this dataset into the lists that you'll be working with.  <\/p>\n",
                "<p>The first list <code>feature_names<\/code> contains header names of the dataset and the second list <code>row_vals<\/code> contains actual values of a row from the dataset, corresponding to each of the header names.<\/p>\n",
                "<\/div>\n",
                "\n",
                "\n",
                "<li>Create a zip object by calling <code>zip()<\/code> and passing to it <code>feature_names<\/code> and <code>row_vals<\/code>. Assign the result to <code>zipped_lists<\/code>.<\/li>\n",
                "\n",
                "<li>Create a dictionary from the <code>zipped_lists<\/code> zip object by calling <code>dict()<\/code> with <code>zipped_lists<\/code>. Assign the resulting dictionary to <code>rs_dict<\/code>.<\/li>\n",
                "<div>\n"
            ]
        },
        {
            "cell_type": "code",
            "execution_count": null,
            "metadata": {},
            "outputs": [],
            "source": [
                "# edited/added\n",
                "feature_names = ['CountryName', 'CountryCode', 'IndicatorName', 'IndicatorCode', 'Year', 'Value']\n",
                "row_vals = ['Arab World', 'ARB', 'Adolescent fertility rate (births per 1,000 women ages 15-19)', 'SP.ADO.TFRT', '1960', '133.56090740552298']\n",
                "\n",
                "# Zip lists: zipped_lists\n",
                "zipped_lists = zip(feature_names, row_vals)\n",
                "\n",
                "# Create a dictionary: rs_dict\n",
                "rs_dict = dict(zipped_lists)\n",
                "\n",
                "# Print the dictionary\n",
                "print(rs_dict)\n"
            ]
        },
        {
            "cell_type": "markdown",
            "metadata": {},
            "source": [
                "<\/div>\n",
                "\n",
                "<p class=\"\">Great work!<\/p>\n",
                "\n",
                "### Writing a function to help you {.unnumbered}\n",
                "\n",
                "\n",
                "<div class>\n",
                "<p>Suppose you needed to repeat the same process done in the previous exercise to many, many rows of data. Rewriting your code again and again could become very tedious, repetitive, and unmaintainable.<\/p>\n",
                "<p>In this exercise, you will create a function to house the code you wrote earlier to make things easier and much more concise. Why? This way, you only need to call the function and supply the appropriate lists to create your dictionaries! Again, the lists <code>feature_names<\/code> and <code>row_vals<\/code> are preloaded and these contain the header names of the dataset and actual values of a row from the dataset, respectively.<\/p>\n",
                "<\/div>\n",
                "\n",
                "<li>Define the function <code>lists2dict()<\/code> with two parameters: first is <code>list1<\/code> and second is <code>list2<\/code>.<\/li>\n",
                "<li>Return the resulting dictionary <code>rs_dict<\/code> in <code>lists2dict()<\/code>.<\/li>\n",
                "\n",
                "<li>Call the <code>lists2dict()<\/code> function with the arguments <code>feature_names<\/code> and <code>row_vals<\/code>. Assign the result of the function call to <code>rs_fxn<\/code>.<\/li>\n",
                "<div>\n"
            ]
        },
        {
            "cell_type": "code",
            "execution_count": null,
            "metadata": {},
            "outputs": [],
            "source": [
                "# Define lists2dict()\n",
                "def lists2dict(list1, list2):\n",
                "    \"\"\"Return a dictionary where list1 provides\n",
                "    the keys and list2 provides the values.\"\"\"\n",
                "\n",
                "    # Zip lists: zipped_lists\n",
                "    zipped_lists = zip(list1, list2)\n",
                "\n",
                "    # Create a dictionary: rs_dict\n",
                "    rs_dict = dict(zipped_lists)\n",
                "\n",
                "    # Return the dictionary\n",
                "    return rs_dict\n",
                "  \n",
                "# Call lists2dict: rs_fxn\n",
                "rs_fxn = lists2dict(feature_names, row_vals)\n",
                "\n",
                "# Print rs_fxn\n",
                "print(rs_fxn)\n"
            ]
        },
        {
            "cell_type": "markdown",
            "metadata": {},
            "source": [
                "<\/div>\n",
                "\n",
                "<p class=\"\">Great work!<\/p>\n",
                "\n",
                "### Using a list comprehension {.unnumbered}\n",
                "\n",
                "\n",
                "<div class>\n",
                "<p>This time, you're going to use the <code>lists2dict()<\/code> function you defined in the last exercise to turn a bunch of lists into a list of dictionaries with the help of a list comprehension.<\/p>\n",
                "<p>The <code>lists2dict()<\/code> function has already been preloaded, together with a couple of lists, <code>feature_names<\/code> and <code>row_lists<\/code>. <code>feature_names<\/code> contains the header names of the World Bank dataset and <code>row_lists<\/code> is a list of lists, where each sublist is a list of actual values of a row from the dataset.<\/p>\n",
                "<p>Your goal is to use a list comprehension to generate a list of dicts, where the <em>keys<\/em> are the header names and the <em>values<\/em> are the row entries.<\/p>\n",
                "<\/div>\n",
                "\n",
                "\n",
                "<li>Inspect the contents of <code>row_lists<\/code> by printing the first two lists in <code>row_lists<\/code>.<\/li>\n",
                "\n",
                "<li>Create a list comprehension that generates a dictionary using <code>lists2dict()<\/code> for each sublist in <code>row_lists<\/code>. The keys are from the <code>feature_names<\/code> list and the values are the row entries in <code>row_lists<\/code>. Use <code>sublist<\/code> as your iterator variable and assign the resulting list of dictionaries to <code>list_of_dicts<\/code>.<\/li>\n",
                "\n",
                "<li>Look at the first two dictionaries in <code>list_of_dicts<\/code> by printing them out.<\/li>\n",
                "<div>\n"
            ]
        },
        {
            "cell_type": "code",
            "execution_count": null,
            "metadata": {},
            "outputs": [],
            "source": [
                "# edited/added\n",
                "row_lists = [['Arab World', 'ARB', 'Adolescent fertility rate (births per 1,000 women ages 15-19)', 'SP.ADO.TFRT', '1960', '133.56090740552298'], ['Arab World', 'ARB', 'Age dependency ratio (% of working-age population)', 'SP.POP.DPND', '1960', '87.7976011532547'], ['Arab World', 'ARB', 'Age dependency ratio, old (% of working-age population)', 'SP.POP.DPND.OL', '1960', '6.634579191565161'], ['Arab World', 'ARB', 'Age dependency ratio, young (% of working-age population)', 'SP.POP.DPND.YG', '1960', '81.02332950839141'], ['Arab World', 'ARB', 'Arms exports (SIPRI trend indicator values)', 'MS.MIL.XPRT.KD', '1960', '3000000.0'], ['Arab World', 'ARB', 'Arms imports (SIPRI trend indicator values)', 'MS.MIL.MPRT.KD', '1960', '538000000.0'], ['Arab World', 'ARB', 'Birth rate, crude (per 1,000 people)', 'SP.DYN.CBRT.IN', '1960', '47.697888095096395'], ['Arab World', 'ARB', 'CO2 emissions (kt)', 'EN.ATM.CO2E.KT', '1960', '59563.9892169935'], ['Arab World', 'ARB', 'CO2 emissions (metric tons per capita)', 'EN.ATM.CO2E.PC', '1960', '0.6439635478877049'], ['Arab World', 'ARB', 'CO2 emissions from gaseous fuel consumption (% of total)', 'EN.ATM.CO2E.GF.ZS', '1960', '5.041291753975099'], ['Arab World', 'ARB', 'CO2 emissions from liquid fuel consumption (% of total)', 'EN.ATM.CO2E.LF.ZS', '1960', '84.8514729446567'], ['Arab World', 'ARB', 'CO2 emissions from liquid fuel consumption (kt)', 'EN.ATM.CO2E.LF.KT', '1960', '49541.707291032304'], ['Arab World', 'ARB', 'CO2 emissions from solid fuel consumption (% of total)', 'EN.ATM.CO2E.SF.ZS', '1960', '4.72698138789597'], ['Arab World', 'ARB', 'Death rate, crude (per 1,000 people)', 'SP.DYN.CDRT.IN', '1960', '19.7544519237187'], ['Arab World', 'ARB', 'Fertility rate, total (births per woman)', 'SP.DYN.TFRT.IN', '1960', '6.92402738655897'], ['Arab World', 'ARB', 'Fixed telephone subscriptions', 'IT.MLT.MAIN', '1960', '406833.0'], ['Arab World', 'ARB', 'Fixed telephone subscriptions (per 100 people)', 'IT.MLT.MAIN.P2', '1960', '0.6167005703199'], ['Arab World', 'ARB', 'Hospital beds (per 1,000 people)', 'SH.MED.BEDS.ZS', '1960', '1.9296220724398703'], ['Arab World', 'ARB', 'International migrant stock (% of population)', 'SM.POP.TOTL.ZS', '1960', '2.9906371279862403'], ['Arab World', 'ARB', 'International migrant stock, total', 'SM.POP.TOTL', '1960', '3324685.0']]\n",
                "\n",
                "# Print the first two lists in row_lists\n",
                "print(row_lists[0])\n",
                "print(row_lists[1])\n"
            ]
        },
        {
            "cell_type": "markdown",
            "metadata": {},
            "source": [
                "<\/div>\n",
                "<div>\n"
            ]
        },
        {
            "cell_type": "code",
            "execution_count": null,
            "metadata": {},
            "outputs": [],
            "source": [
                "# Turn list of lists into list of dicts: list_of_dicts\n",
                "list_of_dicts = [lists2dict(feature_names, sublist) for sublist in row_lists]\n",
                "\n",
                "# Print the first two dictionaries in list_of_dicts\n",
                "print(list_of_dicts[0])\n",
                "print(list_of_dicts[1])\n"
            ]
        },
        {
            "cell_type": "markdown",
            "metadata": {},
            "source": [
                "<\/div>\n",
                "\n",
                "<p class=\"\">Great work!<\/p>\n",
                "\n",
                "### Turning this all into a DataFrame {.unnumbered}\n",
                "\n",
                "\n",
                "<div class>\n",
                "<p>You've zipped lists together, created a function to house your code, and even used the function in a list comprehension to generate a list of dictionaries. That was a lot of work and you did a great job!<\/p>\n",
                "<p>You will now use all of these to convert the list of dictionaries into a pandas DataFrame. You will see how convenient it is to generate a DataFrame from dictionaries with the <code>DataFrame()<\/code> function from the pandas package. <\/p>\n",
                "<p>The <code>lists2dict()<\/code> function, <code>feature_names<\/code> list, and <code>row_lists<\/code> list have been preloaded for this exercise.<\/p>\n",
                "<p>Go for it!<\/p>\n",
                "<\/div>\n",
                "\n",
                "<li>To use the <code>DataFrame()<\/code> function you need, first import the pandas package with the alias <code>pd<\/code>.<\/li>\n",
                "\n",
                "<li>Create a DataFrame from the list of dictionaries in <code>list_of_dicts<\/code> by calling <code>pd.DataFrame()<\/code>. Assign the resulting DataFrame to <code>df<\/code>.<\/li>\n",
                "\n",
                "<li>Inspect the contents of <code>df<\/code> printing the head of the DataFrame. Head of the DataFrame <code>df<\/code> can be accessed by calling <code>df.head()<\/code>.<\/li>\n",
                "<div>\n"
            ]
        },
        {
            "cell_type": "code",
            "execution_count": null,
            "metadata": {},
            "outputs": [],
            "source": [
                "# Import the pandas package\n",
                "import pandas as pd\n",
                "\n",
                "# Turn list of lists into list of dicts: list_of_dicts\n",
                "list_of_dicts = [lists2dict(feature_names, sublist) for sublist in row_lists]\n",
                "\n",
                "# Turn list of dicts into a DataFrame: df\n",
                "df = pd.DataFrame(list_of_dicts)\n",
                "\n",
                "# Print the head of the DataFrame\n",
                "print(df.head())\n"
            ]
        },
        {
            "cell_type": "markdown",
            "metadata": {},
            "source": [
                "<\/div>\n",
                "\n",
                "<p class=\"\">Great work!<\/p>\n",
                "\n",
                "## Using Python generators for streaming data {.unnumbered}\n",
                "\n",
                "\n",
                "\n",
                "### Processing data in chunks (1) {.unnumbered}\n",
                "\n",
                "\n",
                "<div class>\n",
                "<p>Sometimes, data sources can be so large in size that storing the entire dataset in memory becomes too resource-intensive. In this exercise, you will process the first 1000 rows of a file line by line, to create a dictionary of the counts of how many times each country appears in a column in the dataset.<\/p>\n",
                "<p>The csv file <code>'world_dev_ind.csv'<\/code> is in your current directory for your use. To begin, you need to open a connection to this file using what is known as a context manager. For example, the command <code>with open('datacamp.csv') as datacamp<\/code> binds the csv file <code>'datacamp.csv'<\/code> as <code>datacamp<\/code> in the context manager. Here, the <code>with<\/code> statement is the context manager, and its purpose is to ensure that resources are efficiently allocated when opening a connection to a file.<\/p>\n",
                "<p>If you'd like to learn more about context managers, refer to the <a href=\"https://www.datacamp.com/courses/importing-data-in-python-part-1\">DataCamp course on Importing Data in Python.<\/a><\/p>\n",
                "<\/div>\n",
                "\n",
                "<li>Use <code>open()<\/code> to bind the csv file <code>'world_dev_ind.csv'<\/code> as <code>file<\/code> in the context manager.<\/li>\n",
                "\n",
                "<li>Complete the <code>for<\/code> loop so that it iterates <strong>1000<\/strong> times to perform the loop body and process only the first 1000 rows of data of the file.<\/li>\n",
                "<div>\n"
            ]
        },
        {
            "cell_type": "code",
            "execution_count": null,
            "metadata": {},
            "outputs": [],
            "source": [
                "# Open a connection to the file\n",
                "with open('datasets/Python-Data-Science-Toolbox-Part-2/world_ind_pop_data.csv') as file:\n",
                "\n",
                "    # Skip the column names\n",
                "    file.readline()\n",
                "\n",
                "    # Initialize an empty dictionary: counts_dict\n",
                "    counts_dict = {}\n",
                "\n",
                "    # Process only the first 1000 rows\n",
                "    for j in range(0, 1000):\n",
                "\n",
                "        # Split the current line into a list: line\n",
                "        line = file.readline().split(',')\n",
                "\n",
                "        # Get the value for the first column: first_col\n",
                "        first_col = line[0]\n",
                "\n",
                "        # If the column value is in the dict, increment its value\n",
                "        if first_col in counts_dict.keys():\n",
                "            counts_dict[first_col] += 1\n",
                "\n",
                "        # Else, add to the dict and set value to 1\n",
                "        else:\n",
                "            counts_dict[first_col] = 1\n"
            ]
        },
        {
            "cell_type": "markdown",
            "metadata": {},
            "source": [
                "<\/div>\n",
                "<div>\n"
            ]
        },
        {
            "cell_type": "code",
            "execution_count": null,
            "metadata": {},
            "outputs": [],
            "source": [
                "# Print the resulting dictionary\n",
                "print(counts_dict)\n"
            ]
        },
        {
            "cell_type": "markdown",
            "metadata": {},
            "source": [
                "<\/div>\n",
                "\n",
                "<p class=\"\">Great work!<\/p>\n",
                "\n",
                "### Writing a generator to load data in chunks (2) {.unnumbered}\n",
                "\n",
                "\n",
                "<div class>\n",
                "<p>In the previous exercise, you processed a file line by line for a given number of lines. What if, however, you want to do this for the entire file? <\/p>\n",
                "<p>In this case, it would be useful to use <strong>generators<\/strong>. Generators allow users to <a href=\"https://www.blog.pythonlibrary.org/2014/01/27/python-201-an-intro-to-generators/\"><em>lazily evaluate<\/em><\/a> data. \n",
                "This concept of <em>lazy evaluation<\/em> is useful when you have to deal with very large datasets because it lets you generate values in an efficient manner by <em>yielding<\/em> only chunks of data at a time instead of the whole thing at once.<\/p>\n",
                "<p>In this exercise, you will define a generator function <code>read_large_file()<\/code> that produces a generator object which yields a single line from a file each time <code>next()<\/code> is called on it. The csv file <code>'world_dev_ind.csv'<\/code> is in your current directory for your use.<\/p>\n",
                "<p>Note that when you open a connection to a file, the resulting file object is already a generator! So out in the wild, you won't have to explicitly create generator objects in cases such as this. However, for pedagogical reasons, we are having you practice how to do this here with the <code>read_large_file()<\/code> function. Go for it!<\/p>\n",
                "<\/div>\n",
                "\n",
                "<li>In the function <code>read_large_file()<\/code>, read a line from <code>file_object<\/code> by using the method <code>readline()<\/code>. Assign the result to <code>data<\/code>.<\/li>\n",
                "<li>In the function <code>read_large_file()<\/code>, <code>yield<\/code> the line read from the file <code>data<\/code>.<\/li>\n",
                "\n",
                "<li>In the context manager, create a generator object <code>gen_file<\/code> by calling your generator function <code>read_large_file()<\/code> and passing <code>file<\/code> to it.<\/li>\n",
                "<li>Print the first three lines produced by the generator object <code>gen_file<\/code> using <code>next()<\/code>.<\/li>\n",
                "<div>\n"
            ]
        },
        {
            "cell_type": "code",
            "execution_count": null,
            "metadata": {},
            "outputs": [],
            "source": [
                "# Define read_large_file()\n",
                "def read_large_file(file_object):\n",
                "    \"\"\"A generator function to read a large file lazily.\"\"\"\n",
                "\n",
                "    # Loop indefinitely until the end of the file\n",
                "    while True:\n",
                "\n",
                "        # Read a line from the file: data\n",
                "        data = file_object.readline()\n",
                "\n",
                "        # Break if this is the end of the file\n",
                "        if not data:\n",
                "            break\n",
                "\n",
                "        # Yield the line of data\n",
                "        yield data\n",
                "        \n",
                "# Open a connection to the file\n",
                "with open('datasets/Python-Data-Science-Toolbox-Part-2/world_ind_pop_data.csv') as file:\n",
                "\n",
                "    # Create a generator object for the file: gen_file\n",
                "    gen_file = read_large_file(file)\n",
                "\n",
                "    # Print the first three lines of the file\n",
                "    print(next(gen_file))\n",
                "    print(next(gen_file))\n",
                "    print(next(gen_file))\n"
            ]
        },
        {
            "cell_type": "markdown",
            "metadata": {},
            "source": [
                "<\/div>\n",
                "\n",
                "<p class=\"\">Wonderful work! Note that since a file object is already a generator, you don't have to explicitly create a generator object with your <code>read_large_file()<\/code> function. However, it is still good to practice how to create generators - well done!<\/p>\n",
                "\n",
                "### Writing a generator to load data in chunks (3) {.unnumbered}\n",
                "\n",
                "\n",
                "<div class>\n",
                "<p>Great! You've just created a generator function that you can use to help you process large files. <\/p>\n",
                "<p>Now let's use your generator function to process the World Bank dataset like you did previously. You will process the file line by line, to create a dictionary of the counts of how many times each country appears in a column in the dataset. For this exercise, however, you won't process just 1000 rows of data, you'll process the entire dataset!<\/p>\n",
                "<p>The generator function <code>read_large_file()<\/code> and the csv file <code>'world_dev_ind.csv'<\/code> are preloaded and ready for your use. Go for it!<\/p>\n",
                "<\/div>\n",
                "\n",
                "<li>Bind the file <code>'world_dev_ind.csv'<\/code> to <code>file<\/code> in the context manager with <code>open()<\/code>.<\/li>\n",
                "<li>Complete the <code>for<\/code> loop so that it iterates over the generator from the call to <code>read_large_file()<\/code> to process all the rows of the file.<\/li>\n",
                "<div>\n"
            ]
        },
        {
            "cell_type": "code",
            "execution_count": null,
            "metadata": {},
            "outputs": [],
            "source": [
                "# Initialize an empty dictionary: counts_dict\n",
                "counts_dict = {}\n",
                "\n",
                "# Open a connection to the file\n",
                "with open('datasets/Python-Data-Science-Toolbox-Part-2/world_ind_pop_data.csv') as file:\n",
                "\n",
                "    # Iterate over the generator from read_large_file()\n",
                "    for line in read_large_file(file):\n",
                "\n",
                "        row = line.split(',')\n",
                "        first_col = row[0]\n",
                "\n",
                "        if first_col in counts_dict.keys():\n",
                "            counts_dict[first_col] += 1\n",
                "        else:\n",
                "            counts_dict[first_col] = 1\n",
                "\n",
                "# Print            \n",
                "print(counts_dict)\n"
            ]
        },
        {
            "cell_type": "markdown",
            "metadata": {},
            "source": [
                "<\/div>\n",
                "\n",
                "<p class=\"\">Great work!<\/p>\n",
                "\n",
                "## Using pandas' read_csv iterator for streaming data {.unnumbered}\n",
                "\n",
                "\n",
                "\n",
                "### Writing an iterator to load data in chunks (1) {.unnumbered}\n",
                "\n",
                "\n",
                "<div class>\n",
                "<p>Another way to read data too large to store in memory in chunks is to read the file in as DataFrames of a certain length, say, 100. For example, with the pandas package (imported as <code>pd<\/code>), you can do <code>pd.read_csv(filename, chunksize=100)<\/code>. This creates an iterable <strong>reader object<\/strong>, which means that you can use <code>next()<\/code> on it.<\/p>\n",
                "<p>In this exercise, you will read a file in small DataFrame chunks with <code>read_csv()<\/code>. You're going to use the World Bank Indicators data <code>'ind_pop.csv'<\/code>, available in your current directory, to look at the urban population indicator for numerous countries and years.<\/p>\n",
                "<\/div>\n",
                "\n",
                "<li>Use <code>pd.read_csv()<\/code> to read in <code>'ind_pop.csv'<\/code> in chunks of size 10. Assign the result to <code>df_reader<\/code>.<\/li>\n",
                "\n",
                "<li>Print the first two chunks from <code>df_reader<\/code>.<\/li>\n",
                "<div>\n"
            ]
        },
        {
            "cell_type": "code",
            "execution_count": null,
            "metadata": {},
            "outputs": [],
            "source": [
                "# Import the pandas package\n",
                "import pandas as pd\n",
                "\n",
                "# Initialize reader object: df_reader\n",
                "df_reader = pd.read_csv('datasets/Python-Data-Science-Toolbox-Part-2/world_ind_pop_data.csv', chunksize=10)\n",
                "\n",
                "# Print two chunks\n",
                "print(next(df_reader))\n",
                "print(next(df_reader))\n"
            ]
        },
        {
            "cell_type": "markdown",
            "metadata": {},
            "source": [
                "<\/div>\n",
                "\n",
                "<p class=\"\">Great work!<\/p>\n",
                "\n",
                "### Writing an iterator to load data in chunks (2) {.unnumbered}\n",
                "\n",
                "\n",
                "<div class>\n",
                "<p>In the previous exercise, you used <code>read_csv()<\/code> to read in DataFrame chunks from a large dataset. In this exercise, you will read in a file using a bigger DataFrame chunk size and then process the data from the first chunk. <\/p>\n",
                "<p>To process the data, you will create another DataFrame composed of only the rows from a specific country. You will then zip together two of the columns from the new DataFrame, <code>'Total Population'<\/code> and <code>'Urban population (% of total)'<\/code>. Finally, you will create a list of tuples from the zip object, where each tuple is composed of a value from each of the two columns mentioned.<\/p>\n",
                "<p>You're going to use the data from <code>'ind_pop_data.csv'<\/code>, available in your current directory. <code>pandas<\/code> has been imported as <code>pd<\/code>.<\/p>\n",
                "<\/div>\n",
                "\n",
                "<li>Use <code>pd.read_csv()<\/code> to read in the file in <code>'ind_pop_data.csv'<\/code> in chunks of size <code>1000<\/code>. Assign the result to <code>urb_pop_reader<\/code>.<\/li>\n",
                "\n",
                "<li>Get the <strong>first<\/strong> DataFrame chunk from the iterable <code>urb_pop_reader<\/code> and assign this to <code>df_urb_pop<\/code>.<\/li>\n",
                "<div>\n"
            ]
        },
        {
            "cell_type": "code",
            "execution_count": null,
            "metadata": {},
            "outputs": [],
            "source": [
                "# Initialize reader object: urb_pop_reader\n",
                "urb_pop_reader = pd.read_csv('datasets/Python-Data-Science-Toolbox-Part-2/world_ind_pop_data.csv', chunksize=1000)\n",
                "\n",
                "# Get the first DataFrame chunk: df_urb_pop\n",
                "df_urb_pop = next(urb_pop_reader)\n",
                "\n",
                "# Check out the head of the DataFrame\n",
                "print(df_urb_pop.head())\n"
            ]
        },
        {
            "cell_type": "markdown",
            "metadata": {},
            "source": [
                "<\/div>\n",
                "<li>Select only the rows of <code>df_urb_pop<\/code> that have a <code>'CountryCode'<\/code> of <code>'CEB'<\/code>. To do this, compare whether <code>df_urb_pop['CountryCode']<\/code> is <strong>equal<\/strong> to <code>'CEB'<\/code> within the square brackets in <code>df_urb_pop[____]<\/code>. <\/li>\n",
                "\n",
                "<li>Using <code>zip()<\/code>, zip together the <code>'Total Population'<\/code> and <code>'Urban population (% of total)'<\/code> columns of <code>df_pop_ceb<\/code>. Assign the resulting zip object to <code>pops<\/code>.<\/li>\n",
                "<div>\n"
            ]
        },
        {
            "cell_type": "code",
            "execution_count": null,
            "metadata": {},
            "outputs": [],
            "source": [
                "# Check out specific country: df_pop_ceb\n",
                "df_pop_ceb = df_urb_pop[df_urb_pop['CountryCode'] == 'CEB']\n",
                "\n",
                "# Zip DataFrame columns of interest: pops\n",
                "pops = zip(df_pop_ceb['Total Population'], \n",
                "           df_pop_ceb['Urban population (% of total)'])\n",
                "\n",
                "# Turn zip object into list: pops_list\n",
                "pops_list = list(pops)\n",
                "\n",
                "# Print pops_list\n",
                "print(pops_list)\n"
            ]
        },
        {
            "cell_type": "markdown",
            "metadata": {},
            "source": [
                "<\/div>\n",
                "\n",
                "<p class=\"\">Great work! Time to step it up a notch!<\/p>\n",
                "\n",
                "### Writing an iterator to load data in chunks (3) {.unnumbered}\n",
                "\n",
                "\n",
                "<div class>\n",
                "<p>You're getting used to reading and processing data in chunks by now. Let's push your skills a little further by adding a column to a DataFrame.<\/p>\n",
                "<p>Starting from the code of the previous exercise, you will be using a <em>list comprehension<\/em> to create the values for a new column <code>'Total Urban Population'<\/code> from the list of tuples that you generated earlier. Recall from the previous exercise that the first and second elements of each tuple consist of, respectively, values from the columns <code>'Total Population'<\/code> and <code>'Urban population (% of total)'<\/code>. The values in this new column <code>'Total Urban Population'<\/code>, therefore, are the product of the first and second element in each tuple. Furthermore, because the 2nd element is a percentage, you need to divide the entire result by <code>100<\/code>, or alternatively, multiply it by <code>0.01<\/code>.<\/p>\n",
                "<p>You will also plot the data from this new column to create a visualization of the urban population data.<\/p>\n",
                "<p>The packages <code>pandas<\/code> and <code>matplotlib.pyplot<\/code> have been imported as <code>pd<\/code> and <code>plt<\/code> respectively for your use.<\/p>\n",
                "<\/div>\n",
                "\n",
                "<li>Write a list comprehension to generate a list of values from <code>pops_list<\/code> for the new column <code>'Total Urban Population'<\/code>. The <em>output expression<\/em> should be the product of the first and second element in each tuple in <code>pops_list<\/code>. Because the 2nd element is a percentage, you also need to either multiply the result by <code>0.01<\/code> or divide it by <code>100<\/code>. In addition, note that the column <code>'Total Urban Population'<\/code> should only be able to take on integer values. To ensure this, make sure you cast the <em>output expression<\/em> to an integer with <code>int()<\/code>.<\/li>\n",
                "\n",
                "<li>Create a <em>scatter<\/em> plot where the x-axis are values from the <code>'Year'<\/code> column and the y-axis are values from the <code>'Total Urban Population'<\/code> column.<\/li>\n",
                "<div>\n"
            ]
        },
        {
            "cell_type": "code",
            "execution_count": null,
            "metadata": {},
            "outputs": [],
            "source": [
                "# Code from previous exercise\n",
                "urb_pop_reader = pd.read_csv('datasets/Python-Data-Science-Toolbox-Part-2/world_ind_pop_data.csv', chunksize=1000)\n",
                "df_urb_pop = next(urb_pop_reader)\n",
                "df_pop_ceb = df_urb_pop[df_urb_pop['CountryCode'] == 'CEB']\n",
                "pops = zip(df_pop_ceb['Total Population'], \n",
                "           df_pop_ceb['Urban population (% of total)'])\n",
                "pops_list = list(pops)\n",
                "\n",
                "# Use list comprehension to create new DataFrame column 'Total Urban Population'\n",
                "df_pop_ceb['Total Urban Population'] = [int(tup[0] * tup[1] * 0.01) for tup in pops_list]\n",
                "\n",
                "import matplotlib.pyplot as plt\n",
                "# Plot urban population data\n",
                "df_pop_ceb.plot(kind='scatter', x='Year', y='Total Urban Population')\n",
                "plt.show()\n"
            ]
        },
        {
            "cell_type": "markdown",
            "metadata": {},
            "source": [
                "<\/div>\n",
                "\n",
                "<p class=\"\">Great work!<\/p>\n",
                "\n",
                "### Writing an iterator to load data in chunks (4) {.unnumbered}\n",
                "\n",
                "\n",
                "<div class>\n",
                "<p>In the previous exercises, you've only processed the data from the first DataFrame chunk. This time, you will aggregate the results over all the DataFrame chunks in the dataset. This basically means you will be processing the <strong>entire<\/strong> dataset now. This is neat because you're going to be able to process the entire large dataset by just working on smaller pieces of it! <\/p>\n",
                "<p>You're going to use the data from <code>'ind_pop_data.csv'<\/code>, available in your current directory. The packages <code>pandas<\/code> and <code>matplotlib.pyplot<\/code> have been imported as <code>pd<\/code> and <code>plt<\/code> respectively for your use.<\/p>\n",
                "<\/div>\n",
                "\n",
                "<li>Initialize an empty DataFrame <code>data<\/code> using <code>pd.DataFrame()<\/code>.<\/li>\n",
                "\n",
                "<li>In the <code>for<\/code> loop, iterate over <code>urb_pop_reader<\/code> to be able to process all the DataFrame chunks in the dataset.<\/li>\n",
                "<li>Using the method <code>append()<\/code> of the DataFrame <code>data<\/code>, append <code>df_pop_ceb<\/code> to <code>data<\/code>.<\/li>\n",
                "<div>\n"
            ]
        },
        {
            "cell_type": "code",
            "execution_count": null,
            "metadata": {},
            "outputs": [],
            "source": [
                "# Initialize reader object: urb_pop_reader\n",
                "urb_pop_reader = pd.read_csv('datasets/Python-Data-Science-Toolbox-Part-2/world_ind_pop_data.csv', chunksize=1000)\n",
                "\n",
                "# Initialize empty DataFrame: data\n",
                "data = pd.DataFrame()\n",
                "\n",
                "# Iterate over each DataFrame chunk\n",
                "for df_urb_pop in urb_pop_reader:\n",
                "\n",
                "    # Check out specific country: df_pop_ceb\n",
                "    df_pop_ceb = df_urb_pop[df_urb_pop['CountryCode'] == 'CEB']\n",
                "\n",
                "    # Zip DataFrame columns of interest: pops\n",
                "    pops = zip(df_pop_ceb['Total Population'],\n",
                "                df_pop_ceb['Urban population (% of total)'])\n",
                "\n",
                "    # Turn zip object into list: pops_list\n",
                "    pops_list = list(pops)\n",
                "\n",
                "    # Use list comprehension to create new DataFrame column 'Total Urban Population'\n",
                "    df_pop_ceb['Total Urban Population'] = [int(tup[0] * tup[1] * 0.01) for tup in pops_list]\n",
                "    \n",
                "    # Append DataFrame chunk to data: data\n",
                "    data = data.append(df_pop_ceb)\n"
            ]
        },
        {
            "cell_type": "markdown",
            "metadata": {},
            "source": [
                "<\/div>\n",
                "<div>\n"
            ]
        },
        {
            "cell_type": "code",
            "execution_count": null,
            "metadata": {},
            "outputs": [],
            "source": [
                "# Plot urban population data\n",
                "data.plot(kind='scatter', x='Year', y='Total Urban Population')\n",
                "plt.show()\n"
            ]
        },
        {
            "cell_type": "markdown",
            "metadata": {},
            "source": [
                "<\/div>\n",
                "\n",
                "<p class=\"\">Great work!<\/p>\n",
                "\n",
                "### Writing an iterator to load data in chunks (5) {.unnumbered}\n",
                "\n",
                "\n",
                "<div class>\n",
                "<p>This is the last leg. You've learned a lot about processing a large dataset in chunks. In this last exercise, you will put all the code for processing the data into a single function so that you can reuse the code without having to rewrite the same things all over again.<\/p>\n",
                "<p>You're going to define the function <code>plot_pop()<\/code> which takes two arguments: the filename of the file to be processed, and the country code of the rows you want to process in the dataset. <\/p>\n",
                "<p>Because all of the previous code you've written in the previous exercises will be housed in <code>plot_pop()<\/code>, calling the function already does the following:<\/p>\n",
                "<ul>\n",
                "<li>Loading of the file chunk by chunk,<\/li>\n",
                "<li>Creating the new column of urban population values, and <\/li>\n",
                "<li>Plotting the urban population data. <\/li>\n",
                "<\/ul>\n",
                "<p>That's a lot of work, but the function now makes it convenient to repeat the same process for whatever file and country code you want to process and visualize!<\/p>\n",
                "<p>You're going to use the data from <code>'ind_pop_data.csv'<\/code>, available in your current directory. The packages pandas and matplotlib.pyplot has been imported as <code>pd<\/code> and <code>plt<\/code> respectively for your use.<\/p>\n",
                "<p>After you are done, take a moment to look at the plots and reflect on the new skills you have acquired. The journey doesn't end here! If you have enjoyed working with this data, you can continue exploring it using the pre-processed version available on Kaggle.<\/p>\n",
                "<\/div>\n",
                "\n",
                "<li>Define the function <code>plot_pop()<\/code> that has two arguments: first is <code>filename<\/code> for the file to process and second is <code>country_code<\/code> for the country to be processed in the dataset.<\/li>\n",
                "<div>\n"
            ]
        },
        {
            "cell_type": "code",
            "execution_count": null,
            "metadata": {},
            "outputs": [],
            "source": [
                "# Define plot_pop()\n",
                "def plot_pop(filename, country_code):\n",
                "\n",
                "    # Initialize reader object: urb_pop_reader\n",
                "    urb_pop_reader = pd.read_csv(filename, chunksize=1000)\n",
                "\n",
                "    # Initialize empty DataFrame: data\n",
                "    data = pd.DataFrame()\n",
                "    \n",
                "    # Iterate over each DataFrame chunk\n",
                "    for df_urb_pop in urb_pop_reader:\n",
                "        # Check out specific country: df_pop_ceb\n",
                "        df_pop_ceb = df_urb_pop[df_urb_pop['CountryCode'] == country_code]\n",
                "\n",
                "        # Zip DataFrame columns of interest: pops\n",
                "        pops = zip(df_pop_ceb['Total Population'],\n",
                "                    df_pop_ceb['Urban population (% of total)'])\n",
                "\n",
                "        # Turn zip object into list: pops_list\n",
                "        pops_list = list(pops)\n",
                "\n",
                "        # Use list comprehension to create new DataFrame column 'Total Urban Population'\n",
                "        df_pop_ceb['Total Urban Population'] = [int(tup[0] * tup[1] * 0.01) for tup in pops_list]\n",
                "    \n",
                "        # Append DataFrame chunk to data: data\n",
                "        data = data.append(df_pop_ceb)\n",
                "\n",
                "    # Plot urban population data\n",
                "    data.plot(kind='scatter', x='Year', y='Total Urban Population')\n",
                "    plt.show()\n"
            ]
        },
        {
            "cell_type": "markdown",
            "metadata": {},
            "source": [
                "<\/div>\n",
                "<li>Call <code>plot_pop()<\/code> to process the data for country code <code>'CEB'<\/code> in the file <code>'ind_pop_data.csv'<\/code>.<\/li>\n",
                "\n",
                "<li>Call <code>plot_pop()<\/code> to process the data for country code <code>'ARB'<\/code> in the file <code>'ind_pop_data.csv'<\/code>.<\/li>\n",
                "<div>\n"
            ]
        },
        {
            "cell_type": "code",
            "execution_count": null,
            "metadata": {},
            "outputs": [],
            "source": [
                "# Set the filename: fn\n",
                "fn = 'datasets/Python-Data-Science-Toolbox-Part-2/world_ind_pop_data.csv'\n",
                "\n",
                "# Call plot_pop for country code 'CEB'\n",
                "plot_pop(fn, 'CEB')\n"
            ]
        },
        {
            "cell_type": "markdown",
            "metadata": {},
            "source": [
                "<\/div>\n",
                "<div>\n"
            ]
        },
        {
            "cell_type": "code",
            "execution_count": null,
            "metadata": {},
            "outputs": [],
            "source": [
                "# Call plot_pop for country code 'ARB'\n",
                "plot_pop(fn, 'ARB')\n"
            ]
        },
        {
            "cell_type": "markdown",
            "metadata": {},
            "source": [
                "<\/div>\n",
                "\n",
                "<p class=\"\">Great work!<\/p>\n",
                "\n",
                "## Final thoughts {.unnumbered}\n",
                "\n",
                "### Final thoughts {.unnumbered}\n",
                "\n",
                "Wow, you sure have come a long way! Congratulations on making it through the case study, in which you had to apply skills from both of these Data Science toolbox courses.\n",
                "\n",
                "### You’ve applied your skills in: {.unnumbered}\n",
                "\n",
                "You have just used your new skills of writing user-defined functions, iterators, list comprehensions and generators to explore and extract results from the World Bank World Development Indicators dataset. These are all tools that you'll utilize time and time again in your work as a Data Scientist and you have worked hard to earn your Pythonista stripes.\n",
                "\n",
                "### Congratulations! {.unnumbered}\n",
                "\n",
                "Good work and keep on coding in PythonLand!\n"
            ]
        }
    ],
    "metadata": {
        "anaconda-cloud": "",
        "kernelspec": {
            "display_name": "R",
            "langauge": "R",
            "name": "ir"
        },
        "language_info": {
            "codemirror_mode": "r",
            "file_extension": ".r",
            "mimetype": "text/x-r-source",
            "name": "R",
            "pygments_lexer": "r",
            "version": "3.4.1"
        }
    },
    "nbformat": 4,
    "nbformat_minor": 1
}
