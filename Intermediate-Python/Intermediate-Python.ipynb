{
    "cells": [
        {
            "attachments": {},
            "cell_type": "markdown",
            "metadata": {},
            "source": [
                "<h3><a href=\"https://github.com/mclix85/main\" target=\"_blank\">View Source Code</a></h3>\n",
                "\n",
                "<h3>Course Description</h3>\n",
                "\n",
                "<p class=\"course__description\">Learning Python is crucial for any aspiring data science practitioner. Learn to visualize real data with Matplotlib’s functions and get acquainted with data structures such as the dictionary and pandas DataFrame. This four-hour intermediate course will help you to build on your existing Python skills and explore new Python applications and functions that expand your repertoire and help you work more efficiently.\n",
                "<br><br>\n",
                "You'll discover how dictionaries offer an alternative to Python lists, and why the pandas dataframe is the most popular way of working with tabular data. In the second chapter of this course, you’ll find out how you can create and manipulate datasets, and how to access them using these structures. Hands-on practice throughout the course will build your confidence in each area.\n",
                "<br><br>\n",
                "As you progress, you’ll look at logic, control flow, filtering and loops. These functions work to control decision-making in Python programs and help you to perform more operations with your data, including repeated statements. You’ll finish the course by applying all of your new skills by using hacker statistics to calculate your chances of winning a bet.\n",
                "<br><br>\n",
                "Once you’ve completed all of the chapters, you’ll be ready to apply your new skills in your job, new career, or personal project, and be prepared to move onto more advanced Python learning.</p>\n",
                "\n"
            ]
        },
        {
            "attachments": {},
            "cell_type": "markdown",
            "metadata": {},
            "source": [
                "# Matplotlib\n",
                "\n",
                "<p class=\"chapter__description\">\n",
                "    Data visualization is a key skill for aspiring data scientists. Matplotlib makes it easy to create meaningful and insightful plots. In this chapter, you’ll learn how to build various types of plots, and customize them to be more visually appealing and interpretable.\n",
                "  </p>\n",
                "\n"
            ]
        },
        {
            "attachments": {},
            "cell_type": "markdown",
            "metadata": {},
            "source": [
                "## Basic plots with Matplotlib\n",
                "\n",
                "\n",
                "\n"
            ]
        },
        {
            "attachments": {},
            "cell_type": "markdown",
            "metadata": {},
            "source": [
                "### Line plot (1)\n",
                "\n",
                "\n",
                "<div class>\n",
                "<p>With matplotlib, you can create a bunch of different plots in Python. The most basic plot is the line plot. A general recipe is given here.</p>\n",
                "<pre><code>import matplotlib.pyplot as plt\n",
                "plt.plot(x,y)\n",
                "plt.show()\n",
                "</code></pre>\n",
                "<p>In the video, you already saw how much the world population has grown over the past years. Will it continue to do so? The world bank has estimates of the world population for the years 1950 up to 2100. The years are loaded in your workspace as a list called <code>year</code>, and the corresponding populations as a list called <code>pop</code>.</p>\n",
                "<p><em>This course touches on a lot of concepts you may have forgotten, so if you ever need a quick refresher, download the <a href=\"https://datacamp-community-prod.s3.amazonaws.com/0eff0330-e87d-4c34-88d5-73e80cb955f2\">Python for data science Cheat Sheet</a> and keep it handy!</em></p>\n",
                "</div>\n",
                "\n",
                "<li>\n",
                "<a href=\"https://docs.python.org/3/library/functions.html#print\"><code>print()</code></a> the last item from both the <code>year</code> and the <code>pop</code> list to see what the predicted population for the year 2100 is. Use two <code>print()</code> functions.</li>\n",
                "\n",
                "<li>Before you can start, you should import <code>matplotlib.pyplot</code> as <code>plt</code>. <code>pyplot</code> is a sub-package of <code>matplotlib</code>, hence the dot. </li>\n",
                "\n",
                "<li>Use <a href=\"https://matplotlib.org/stable/api/_as_gen/matplotlib.pyplot.plot.html\"><code>plt.plot()</code></a> to build a line plot. <code>year</code> should be mapped on the horizontal axis, <code>pop</code> on the vertical axis. Don't forget to finish off with the <a href=\"https://matplotlib.org/stable/api/_as_gen/matplotlib.pyplot.show.html\"><code>plt.show()</code></a> function to actually display the plot.</li>\n",
                "<div>\n",
                "\n"
            ]
        },
        {
            "cell_type": "code",
            "execution_count": null,
            "metadata": {
                "vscode": {
                    "languageId": "r"
                }
            },
            "outputs": [],
            "source": [
                "# edited/added\n",
                "import numpy as np\n",
                "year=list(range(1950,2100+1))\n",
                "pop=list(np.loadtxt('datasets/Intermediate-Python/pop1.txt', dtype=float))\n",
                "\n",
                "# Print the last item from years and populations\n",
                "print(year[-1])\n",
                "print(pop[-1])\n"
            ]
        },
        {
            "cell_type": "markdown",
            "metadata": {},
            "source": [
                "</div>\n",
                "\n",
                "<div>\n"
            ]
        },
        {
            "cell_type": "code",
            "execution_count": null,
            "metadata": {
                "vscode": {
                    "languageId": "r"
                }
            },
            "outputs": [],
            "source": [
                "# Import matplotlib.pyplot as plt\n",
                "import matplotlib.pyplot as plt\n",
                "\n",
                "# Make a line plot: year on the x-axis, pop on the y-axis\n",
                "plt.plot(year,pop) \n",
                "# Display the plot with plt.show()\n",
                "plt.show()\n"
            ]
        },
        {
            "attachments": {},
            "cell_type": "markdown",
            "metadata": {},
            "source": [
                "</div>\n",
                "\n"
            ]
        },
        {
            "attachments": {},
            "cell_type": "markdown",
            "metadata": {},
            "source": [
                "<p class=\"\">Great! Let's interpret the plot you just created.</p>\n",
                "\n"
            ]
        },
        {
            "attachments": {},
            "cell_type": "markdown",
            "metadata": {},
            "source": [
                "### Line Plot (2): Interpretation\n",
                "\n",
                "\n",
                "<div class><p>Have another look at the plot you created in the previous exercise; it's shown on the right. Based on the plot, in <strong>approximately</strong> what year will there be more than ten billion human beings on this planet?</p></div>\n",
                "\n"
            ]
        },
        {
            "attachments": {},
            "cell_type": "markdown",
            "metadata": {},
            "source": [
                "- [ ] 2040\n",
                "- [x] 2060\n",
                "- [ ] 2085\n",
                "- [ ] 2095\n",
                "\n"
            ]
        },
        {
            "attachments": {},
            "cell_type": "markdown",
            "metadata": {},
            "source": [
                "<p class=\"\">Correct! Time to take your data visualization skills to the next level!</p>\n",
                "\n"
            ]
        },
        {
            "attachments": {},
            "cell_type": "markdown",
            "metadata": {},
            "source": [
                "### Line plot (3)\n",
                "\n",
                "\n",
                "<div class>\n",
                "<p>Now that you've built your first line plot, let's start working on the data that professor Hans Rosling used to build his beautiful bubble chart. It was collected in 2007. Two lists are available for you:</p>\n",
                "<ul>\n",
                "<li>\n",
                "<code>life_exp</code> which contains the life expectancy for each country and</li>\n",
                "<li>\n",
                "<code>gdp_cap</code>, which contains the GDP per capita (i.e. per person) for each country expressed in US Dollars.</li>\n",
                "</ul>\n",
                "<p>GDP stands for Gross Domestic Product. It basically represents the size of the economy of a country. Divide this by the population and you get the GDP per capita.</p>\n",
                "<p><code>matplotlib.pyplot</code> is already imported as <code>plt</code>, so you can get started straight away.</p>\n",
                "</div>\n",
                "\n",
                "<li>Print the last item from both the list <code>gdp_cap</code>, and the list <code>life_exp</code>; it is information about Zimbabwe.</li>\n",
                "\n",
                "<li>Build a line chart, with <code>gdp_cap</code> on the x-axis, and <code>life_exp</code> on the y-axis. Does it make sense to plot this data on a line plot? </li>\n",
                "<div>\n"
            ]
        },
        {
            "cell_type": "code",
            "execution_count": null,
            "metadata": {
                "vscode": {
                    "languageId": "r"
                }
            },
            "outputs": [],
            "source": [
                "# edited/added\n",
                "gdp_cap=list(np.loadtxt('datasets/Intermediate-Python/gdp_cap.txt', dtype=float))\n",
                "life_exp=list(np.loadtxt('datasets/Intermediate-Python/life_exp.txt', dtype=float))\n",
                "\n",
                "# Print the last item of gdp_cap and life_exp\n",
                "print(gdp_cap[-1])\n",
                "print(life_exp[-1])\n"
            ]
        },
        {
            "cell_type": "markdown",
            "metadata": {},
            "source": [
                "</div>\n",
                "<div>\n"
            ]
        },
        {
            "cell_type": "code",
            "execution_count": null,
            "metadata": {
                "vscode": {
                    "languageId": "r"
                }
            },
            "outputs": [],
            "source": [
                "# Make a line plot, gdp_cap on the x-axis, life_exp on the y-axis\n",
                "plt.plot(gdp_cap, life_exp)\n",
                "plt.show()\n"
            ]
        },
        {
            "cell_type": "markdown",
            "metadata": {},
            "source": [
                "</div>\n",
                "\n",
                "<p class=\"\">Well done, but this doesn't look right. Let's build a plot that makes more sense.</p>\n",
                "\n",
                "### Scatter Plot (1)\n",
                "\n",
                "\n",
                "<div class>\n",
                "<p>When you have a time scale along the horizontal axis, the line plot is your friend. But in many other cases, when you're trying to assess if there's a correlation between two variables, for example, the scatter plot is the better choice. Below is an example of how to build a scatter plot.</p>\n",
                "<pre><code>import matplotlib.pyplot as plt\n",
                "plt.scatter(x,y)\n",
                "plt.show()\n",
                "</code></pre>\n",
                "<p>Let's continue with the <code>gdp_cap</code> versus <code>life_exp</code> plot, the GDP and life expectancy data for different countries in 2007. Maybe a scatter plot will be a better alternative?</p>\n",
                "<p>Again, the <code>matplotlib.pyplot</code> package is available as <code>plt</code>.</p>\n",
                "</div>\n",
                "\n",
                "<li>Change the line plot that's coded in the script to a scatter plot.</li>\n",
                "<li>A correlation will become clear when you display the GDP per capita on a logarithmic scale. Add the line <code>plt.xscale('log')</code>.</li>\n",
                "<li>Finish off your script with <code>plt.show()</code> to display the plot.</li>\n",
                "<div>\n"
            ]
        },
        {
            "cell_type": "code",
            "execution_count": null,
            "metadata": {
                "vscode": {
                    "languageId": "r"
                }
            },
            "outputs": [],
            "source": [
                "# Change the line plot below to a scatter plot\n",
                "plt.scatter(gdp_cap, life_exp)\n",
                "\n",
                "# Put the x-axis on a logarithmic scale\n",
                "plt.xscale('log')\n",
                "\n",
                "# Show plot\n",
                "plt.show()\n"
            ]
        },
        {
            "attachments": {},
            "cell_type": "markdown",
            "metadata": {},
            "source": [
                "</div>\n",
                "\n"
            ]
        },
        {
            "attachments": {},
            "cell_type": "markdown",
            "metadata": {},
            "source": [
                "<p class=\"\">Great! That looks much better!</p>\n",
                "\n"
            ]
        },
        {
            "attachments": {},
            "cell_type": "markdown",
            "metadata": {},
            "source": [
                "### Scatter plot (2)\n",
                "\n",
                "\n",
                "<div class>\n",
                "<p>In the previous exercise, you saw that the higher GDP usually corresponds to a higher life expectancy. In other words, there is a positive correlation.</p>\n",
                "<p>Do you think there's a relationship between population and life expectancy of a country? The list <code>life_exp</code> from the previous exercise is already available. In addition, now also <code>pop</code> is available, listing the corresponding populations for the countries in 2007. The populations are in millions of people.</p>\n",
                "</div>\n",
                "\n",
                "<li>Start from scratch: import <code>matplotlib.pyplot</code> as <code>plt</code>.</li>\n",
                "\n",
                "<li>Build a scatter plot, where <code>pop</code> is mapped on the horizontal axis, and <code>life_exp</code> is mapped on the vertical axis. </li>\n",
                "<li>Finish the script with <code>plt.show()</code> to actually display the plot. Do you see a correlation?</li>\n",
                "<div>\n"
            ]
        },
        {
            "cell_type": "code",
            "execution_count": null,
            "metadata": {
                "vscode": {
                    "languageId": "r"
                }
            },
            "outputs": [],
            "source": [
                "# edited/added\n",
                "pop=list(np.loadtxt('datasets/Intermediate-Python/pop2.txt', dtype=float))\n",
                "\n",
                "# Import package\n",
                "import matplotlib.pyplot as plt\n",
                "\n",
                "# Build Scatter plot\n",
                "plt.scatter(pop, life_exp)\n",
                "# Show plot\n",
                "plt.show()\n"
            ]
        },
        {
            "attachments": {},
            "cell_type": "markdown",
            "metadata": {},
            "source": [
                "</div>\n",
                "\n"
            ]
        },
        {
            "attachments": {},
            "cell_type": "markdown",
            "metadata": {},
            "source": [
                "<p class=\"\">Nice! There's no clear relationship between population and life expectancy, which makes perfect sense.</p>\n",
                "\n"
            ]
        },
        {
            "attachments": {},
            "cell_type": "markdown",
            "metadata": {},
            "source": [
                "## Histogram\n",
                "\n",
                "\n",
                "\n"
            ]
        },
        {
            "attachments": {},
            "cell_type": "markdown",
            "metadata": {},
            "source": [
                "### Build a histogram (1)\n",
                "\n",
                "\n",
                "<div class>\n",
                "<p><code>life_exp</code>, the list containing data on the life expectancy for different countries in 2007, is available in your Python shell.</p>\n",
                "<p>To see how life expectancy in different countries is distributed, let's create a histogram of <code>life_exp</code>.</p>\n",
                "<p><code>matplotlib.pyplot</code> is already available as <code>plt</code>.</p>\n",
                "</div>\n",
                "\n",
                "<li>Use <a href=\"https://matplotlib.org/stable/api/_as_gen/matplotlib.pyplot.hist.html\"><code>plt.hist()</code></a> to create a histogram of the values in <code>life_exp</code>. Do not specify the number of bins; Python will set the number of bins to 10 by default for you.</li>\n",
                "<li>Add <code>plt.show()</code> to actually display the histogram. Can you tell which bin contains the most observations?</li>\n",
                "<div>\n"
            ]
        },
        {
            "cell_type": "code",
            "execution_count": null,
            "metadata": {
                "vscode": {
                    "languageId": "r"
                }
            },
            "outputs": [],
            "source": [
                "# Create histogram of life_exp data\n",
                "plt.hist(life_exp)\n"
            ]
        },
        {
            "cell_type": "markdown",
            "metadata": {},
            "source": [
                "</div>\n",
                "<div>\n"
            ]
        },
        {
            "cell_type": "code",
            "execution_count": null,
            "metadata": {
                "vscode": {
                    "languageId": "r"
                }
            },
            "outputs": [],
            "source": [
                "# Display histogram\n",
                "plt.show()\n"
            ]
        },
        {
            "attachments": {},
            "cell_type": "markdown",
            "metadata": {},
            "source": [
                "</div>\n",
                "\n",
                "<p class=\"\">Great job!</p>\n",
                "\n"
            ]
        },
        {
            "attachments": {},
            "cell_type": "markdown",
            "metadata": {},
            "source": [
                "### Build a histogram (2): bins\n",
                "\n",
                "\n",
                "<div class>\n",
                "<p>In the previous exercise, you didn't specify the number of bins. By default, Python sets the number of bins to 10 in that case. The number of bins is pretty important. Too few bins will oversimplify reality and won't show you the details. Too many bins will overcomplicate reality and won't show the bigger picture.</p>\n",
                "<p>To control the number of bins to divide your data in, you can set the <code>bins</code> argument.</p>\n",
                "<p>That's exactly what you'll do in this exercise. You'll be making two plots here. The code in the script already includes <code>plt.show()</code> and <code>plt.clf()</code> calls; <code>plt.show()</code> displays a plot; <code>plt.clf()</code> cleans it up again so you can start afresh.</p>\n",
                "<p>As before, <code>life_exp</code> is available and <code>matplotlib.pyplot</code> is imported as <code>plt</code>.</p>\n",
                "</div>\n",
                "\n",
                "<li>Build a histogram of <code>life_exp</code>, with <code>5</code> bins. Can you tell which bin contains the most observations?</li>\n",
                "\n",
                "<li>Build another histogram of <code>life_exp</code>, this time with <code>20</code> bins. Is this better?</li>\n",
                "<div>\n"
            ]
        },
        {
            "cell_type": "code",
            "execution_count": null,
            "metadata": {
                "vscode": {
                    "languageId": "r"
                }
            },
            "outputs": [],
            "source": [
                "# Build histogram with 5 bins\n",
                "plt.hist(life_exp, bins = 5)\n"
            ]
        },
        {
            "cell_type": "markdown",
            "metadata": {},
            "source": [
                "</div>\n",
                "<div>\n"
            ]
        },
        {
            "cell_type": "code",
            "execution_count": null,
            "metadata": {
                "vscode": {
                    "languageId": "r"
                }
            },
            "outputs": [],
            "source": [
                "# Show and clear plot\n",
                "plt.show()\n",
                "plt.clf()\n"
            ]
        },
        {
            "cell_type": "markdown",
            "metadata": {},
            "source": [
                "</div>\n",
                "<div>\n"
            ]
        },
        {
            "cell_type": "code",
            "execution_count": null,
            "metadata": {
                "vscode": {
                    "languageId": "r"
                }
            },
            "outputs": [],
            "source": [
                "# Build histogram with 20 bins\n",
                "plt.hist(life_exp, bins = 20)\n"
            ]
        },
        {
            "cell_type": "markdown",
            "metadata": {},
            "source": [
                "</div>\n",
                "<div>\n"
            ]
        },
        {
            "cell_type": "code",
            "execution_count": null,
            "metadata": {
                "vscode": {
                    "languageId": "r"
                }
            },
            "outputs": [],
            "source": [
                "# Show and clear plot again\n",
                "plt.show()\n",
                "plt.clf()\n"
            ]
        },
        {
            "attachments": {},
            "cell_type": "markdown",
            "metadata": {},
            "source": [
                "</div>\n",
                "\n"
            ]
        },
        {
            "attachments": {},
            "cell_type": "markdown",
            "metadata": {},
            "source": [
                "<p class=\"\">Nice! You can use the buttons to browse through the different plots you've created.</p>\n",
                "\n"
            ]
        },
        {
            "attachments": {},
            "cell_type": "markdown",
            "metadata": {},
            "source": [
                "### Build a histogram (3): compare\n",
                "\n",
                "\n",
                "<div class>\n",
                "<p>In the video, you saw population pyramids for the present day and for the future. Because we were using a histogram, it was very easy to make a comparison.</p>\n",
                "<p>Let's do a similar comparison. <code>life_exp</code> contains life expectancy data for different countries in 2007. You also have access to a second list now, <code>life_exp1950</code>, containing similar data for 1950. Can you make a histogram for both datasets?</p>\n",
                "<p>You'll again be making two plots. The <code>plt.show()</code> and <code>plt.clf()</code> commands to render everything nicely are already included. Also <code>matplotlib.pyplot</code> is imported for you, as <code>plt</code>.</p>\n",
                "</div>\n",
                "\n",
                "<li>Build a histogram of <code>life_exp</code> with <code>15</code> bins.</li>\n",
                "\n",
                "<li>Build a histogram of <code>life_exp1950</code>, also with <code>15</code> bins. Is there a big difference with the histogram for the 2007 data?</li>\n",
                "<div>\n"
            ]
        },
        {
            "cell_type": "code",
            "execution_count": null,
            "metadata": {
                "vscode": {
                    "languageId": "r"
                }
            },
            "outputs": [],
            "source": [
                "# edited/added\n",
                "life_exp1950=list(np.loadtxt('datasets/Intermediate-Python/life_exp1950.txt', dtype=float))\n",
                "\n",
                "# Histogram of life_exp, 15 bins\n",
                "plt.hist(life_exp, bins = 15)\n"
            ]
        },
        {
            "cell_type": "markdown",
            "metadata": {},
            "source": [
                "</div>\n",
                "<div>\n"
            ]
        },
        {
            "cell_type": "code",
            "execution_count": null,
            "metadata": {
                "vscode": {
                    "languageId": "r"
                }
            },
            "outputs": [],
            "source": [
                "# Show and clear plot\n",
                "plt.show()\n",
                "plt.clf()\n"
            ]
        },
        {
            "cell_type": "markdown",
            "metadata": {},
            "source": [
                "</div>\n",
                "<div>\n"
            ]
        },
        {
            "cell_type": "code",
            "execution_count": null,
            "metadata": {
                "vscode": {
                    "languageId": "r"
                }
            },
            "outputs": [],
            "source": [
                "# Histogram of life_exp1950, 15 bins\n",
                "plt.hist(life_exp1950, bins = 15)\n"
            ]
        },
        {
            "cell_type": "markdown",
            "metadata": {},
            "source": [
                "</div>\n",
                "<div>\n"
            ]
        },
        {
            "cell_type": "code",
            "execution_count": null,
            "metadata": {
                "vscode": {
                    "languageId": "r"
                }
            },
            "outputs": [],
            "source": [
                "# Show and clear plot again\n",
                "plt.show()\n",
                "plt.clf()\n"
            ]
        },
        {
            "attachments": {},
            "cell_type": "markdown",
            "metadata": {},
            "source": [
                "</div>\n",
                "\n"
            ]
        },
        {
            "attachments": {},
            "cell_type": "markdown",
            "metadata": {},
            "source": [
                "<p class=\"\">Great! Toggle between the created plots - do you notice anything interesting?</p>\n",
                "\n"
            ]
        },
        {
            "attachments": {},
            "cell_type": "markdown",
            "metadata": {},
            "source": [
                "### Choose the right plot (1)\n",
                "\n",
                "\n",
                "<div class><p>You're a professor teaching Data Science with Python, and you want to visually assess if the grades on your exam follow a particular distribution. Which plot do you use?</p></div>\n",
                "\n"
            ]
        },
        {
            "attachments": {},
            "cell_type": "markdown",
            "metadata": {},
            "source": [
                "- [ ] Line plot\n",
                "- [ ] Scatter plot\n",
                "- [x] Histogram\n",
                "\n"
            ]
        },
        {
            "attachments": {},
            "cell_type": "markdown",
            "metadata": {},
            "source": [
                "<p class=\"\">Excellent choice!</p>\n",
                "\n"
            ]
        },
        {
            "attachments": {},
            "cell_type": "markdown",
            "metadata": {},
            "source": [
                "### Choose the right plot (2)\n",
                "\n",
                "\n",
                "<div class><p>You're a professor in Data Analytics with Python, and you want to visually assess if longer answers on exam questions lead to higher grades. Which plot do you use?</p></div>\n",
                "\n",
                "- [x] Line plot\n",
                "- [ ] Scatter plot\n",
                "- [ ] Histogram\n",
                "\n"
            ]
        },
        {
            "attachments": {},
            "cell_type": "markdown",
            "metadata": {},
            "source": [
                "<p class=\"\">Excellent choice!</p>\n",
                "\n"
            ]
        },
        {
            "attachments": {},
            "cell_type": "markdown",
            "metadata": {},
            "source": [
                "## Customization\n",
                "\n",
                "\n",
                "\n"
            ]
        },
        {
            "attachments": {},
            "cell_type": "markdown",
            "metadata": {},
            "source": [
                "### Labels\n",
                "\n",
                "\n",
                "<div class>\n",
                "<p>It's time to customize your own plot. This is the fun part, you will see your plot come to life! </p>\n",
                "<p>You're going to work on the scatter plot with world development data: GDP per capita on the x-axis (logarithmic scale), life expectancy on the y-axis. The code for this plot is available in the script. </p>\n",
                "<p>As a first step, let's add axis labels and a title to the plot. You can do this with the <a href=\"https://matplotlib.org/stable/api/_as_gen/matplotlib.pyplot.xlabel.html\"><code>xlabel()</code></a>, <a href=\"https://matplotlib.org/stable/api/_as_gen/matplotlib.pyplot.ylabel.html\"><code>ylabel()</code></a> and <a href=\"https://matplotlib.org/stable/api/_as_gen/matplotlib.pyplot.title.html\"><code>title()</code></a> functions, available in <code>matplotlib.pyplot</code>. This sub-package is already imported as <code>plt</code>.</p>\n",
                "</div>\n",
                "\n",
                "<li>The strings <code>xlab</code> and <code>ylab</code> are already set for you. Use these variables to set the label of the x- and y-axis.</li>\n",
                "<li>The string <code>title</code> is also coded for you. Use it to add a title to the plot.</li>\n",
                "<li>After these customizations, finish the script with <code>plt.show()</code> to actually display the plot.</li>\n",
                "<div>\n"
            ]
        },
        {
            "cell_type": "code",
            "execution_count": null,
            "metadata": {
                "vscode": {
                    "languageId": "r"
                }
            },
            "outputs": [],
            "source": [
                "# Basic scatter plot, log scale\n",
                "plt.scatter(gdp_cap, life_exp)\n",
                "plt.xscale('log') \n",
                "\n",
                "# Strings\n",
                "xlab = 'GDP per Capita [in USD]'\n",
                "ylab = 'Life Expectancy [in years]'\n",
                "title = 'World Development in 2007'\n",
                "\n",
                "# Add axis labels\n",
                "plt.xlabel(xlab)\n",
                "plt.ylabel(ylab)\n",
                "\n",
                "# Add title\n",
                "plt.title(title)\n",
                "# After customizing, display the plot\n",
                "plt.show()\n"
            ]
        },
        {
            "attachments": {},
            "cell_type": "markdown",
            "metadata": {},
            "source": [
                "</div>\n",
                "\n"
            ]
        },
        {
            "attachments": {},
            "cell_type": "markdown",
            "metadata": {},
            "source": [
                "<p class=\"\">This looks much better already!</p>\n",
                "\n"
            ]
        },
        {
            "attachments": {},
            "cell_type": "markdown",
            "metadata": {},
            "source": [
                "### Ticks\n",
                "\n",
                "\n",
                "<div class>\n",
                "<p>The customizations you've coded up to now are available in the script, in a more concise form.</p>\n",
                "<p>In the video, Hugo has demonstrated how you could control the y-ticks by specifying two arguments:</p>\n",
                "<pre><code>plt.yticks([0,1,2], [\"one\",\"two\",\"three\"])\n",
                "</code></pre>\n",
                "<p>In this example, the ticks corresponding to the numbers 0, 1 and 2 will be replaced by <em>one</em>, <em>two</em> and <em>three</em>, respectively.</p>\n",
                "<p>Let's do a similar thing for the x-axis of your world development chart, with the <a href=\"https://matplotlib.org/stable/api/_as_gen/matplotlib.pyplot.xticks.html\"><code>xticks()</code></a> function. The tick values <code>1000</code>, <code>10000</code> and <code>100000</code> should be replaced by <code>1k</code>, <code>10k</code> and <code>100k</code>. To this end, two lists have already been created for you: <code>tick_val</code> and <code>tick_lab</code>.</p>\n",
                "</div>\n",
                "\n",
                "<li>Use <code>tick_val</code> and <code>tick_lab</code> as inputs to the <a href=\"https://matplotlib.org/stable/api/_as_gen/matplotlib.pyplot.xticks.html\"><code>xticks()</code></a> function to make the the plot more readable.</li>\n",
                "<li>As usual, display the plot with <code>plt.show()</code> after you've added the customizations.</li>\n",
                "<div>\n"
            ]
        },
        {
            "cell_type": "code",
            "execution_count": null,
            "metadata": {
                "vscode": {
                    "languageId": "r"
                }
            },
            "outputs": [],
            "source": [
                "# Scatter plot\n",
                "plt.scatter(gdp_cap, life_exp)\n",
                "\n",
                "# Previous customizations\n",
                "plt.xscale('log') \n",
                "plt.xlabel('GDP per Capita [in USD]')\n",
                "plt.ylabel('Life Expectancy [in years]')\n",
                "plt.title('World Development in 2007')\n",
                "\n",
                "# Definition of tick_val and tick_lab\n",
                "tick_val = [1000, 10000, 100000]\n",
                "tick_lab = ['1k', '10k', '100k']\n",
                "\n",
                "# Adapt the ticks on the x-axis\n",
                "plt.xticks(tick_val, tick_lab)\n"
            ]
        },
        {
            "cell_type": "markdown",
            "metadata": {},
            "source": [
                "</div>\n",
                "<div>\n"
            ]
        },
        {
            "cell_type": "code",
            "execution_count": null,
            "metadata": {
                "vscode": {
                    "languageId": "r"
                }
            },
            "outputs": [],
            "source": [
                "# After customizing, display the plot\n",
                "plt.show()\n"
            ]
        },
        {
            "attachments": {},
            "cell_type": "markdown",
            "metadata": {},
            "source": [
                "</div>\n",
                "\n"
            ]
        },
        {
            "attachments": {},
            "cell_type": "markdown",
            "metadata": {},
            "source": [
                "<p class=\"\">Great! Your plot is shaping up nicely!</p>\n",
                "\n"
            ]
        },
        {
            "attachments": {},
            "cell_type": "markdown",
            "metadata": {},
            "source": [
                "### Sizes\n",
                "\n",
                "\n",
                "<div class>\n",
                "<p>Right now, the scatter plot is just a cloud of blue dots, indistinguishable from each other. Let's change this. Wouldn't it be nice if the size of the dots corresponds to the population?</p>\n",
                "<p>To accomplish this, there is a list <code>pop</code> loaded in your workspace. It contains population numbers for each country expressed in millions. You can see that this list is added to the scatter method, as the argument <code>s</code>, for size.</p>\n",
                "</div>\n",
                "\n",
                "<li>Run the script to see how the plot changes.</li>\n",
                "<div>\n"
            ]
        },
        {
            "cell_type": "code",
            "execution_count": null,
            "metadata": {
                "vscode": {
                    "languageId": "r"
                }
            },
            "outputs": [],
            "source": [
                "# Import numpy as np\n",
                "\n",
                "\n",
                "# Store pop as a numpy array: np_pop\n",
                "\n",
                "\n",
                "# Double np_pop\n",
                "\n",
                "\n",
                "# Update: set s argument to np_pop\n",
                "plt.scatter(gdp_cap, life_exp, s = pop)\n",
                "\n",
                "# Previous customizations\n",
                "plt.xscale('log') \n",
                "plt.xlabel('GDP per Capita [in USD]')\n",
                "plt.ylabel('Life Expectancy [in years]')\n",
                "plt.title('World Development in 2007')\n",
                "plt.xticks([1000, 10000, 100000],['1k', '10k', '100k'])\n"
            ]
        },
        {
            "cell_type": "markdown",
            "metadata": {},
            "source": [
                "</div>\n",
                "<div>\n"
            ]
        },
        {
            "cell_type": "code",
            "execution_count": null,
            "metadata": {
                "vscode": {
                    "languageId": "r"
                }
            },
            "outputs": [],
            "source": [
                "# Display the plot\n",
                "plt.show()\n"
            ]
        },
        {
            "cell_type": "markdown",
            "metadata": {},
            "source": [
                "</div>\n",
                "<li>Looks good, but increasing the size of the bubbles will make things stand out more.\n",
                "<li>Import the <code>numpy</code> package as <code>np</code>.</li>\n",
                "\n",
                "<li>Use <code>np.array()</code> to create a numpy array from the list <code>pop</code>. Call this NumPy array <code>np_pop</code>.</li>\n",
                "\n",
                "<li>Double the values in <code>np_pop</code> setting the value of <code>np_pop</code> equal to <code>np_pop * 2</code>. Because <code>np_pop</code> is a NumPy array, each array element will be doubled.</li>\n",
                "\n",
                "<li>Change the <code>s</code> argument inside <a href=\"https://matplotlib.org/stable/api/_as_gen/matplotlib.pyplot.scatter.html\"><code>plt.scatter()</code></a> to be <code>np_pop</code> instead of <code>pop</code>.</li>\n",
                "<div>\n"
            ]
        },
        {
            "cell_type": "code",
            "execution_count": null,
            "metadata": {
                "vscode": {
                    "languageId": "r"
                }
            },
            "outputs": [],
            "source": [
                "# Import numpy as np\n",
                "import numpy as np\n",
                "\n",
                "# Store pop as a numpy array: np_pop\n",
                "np_pop = np.array(pop)\n",
                "\n",
                "# Double np_pop\n",
                "np_pop = np_pop * 2\n",
                "\n",
                "# Update: set s argument to np_pop\n",
                "plt.scatter(gdp_cap, life_exp, s = np_pop)\n",
                "\n",
                "# Previous customizations\n",
                "plt.xscale('log') \n",
                "plt.xlabel('GDP per Capita [in USD]')\n",
                "plt.ylabel('Life Expectancy [in years]')\n",
                "plt.title('World Development in 2007')\n",
                "plt.xticks([1000, 10000, 100000],['1k', '10k', '100k'])\n"
            ]
        },
        {
            "cell_type": "markdown",
            "metadata": {},
            "source": [
                "</div>\n",
                "<div>\n"
            ]
        },
        {
            "cell_type": "code",
            "execution_count": null,
            "metadata": {
                "vscode": {
                    "languageId": "r"
                }
            },
            "outputs": [],
            "source": [
                "# Display the plot\n",
                "plt.show()\n"
            ]
        },
        {
            "attachments": {},
            "cell_type": "markdown",
            "metadata": {},
            "source": [
                "</div>\n",
                "</li>\n",
                "\n"
            ]
        },
        {
            "attachments": {},
            "cell_type": "markdown",
            "metadata": {},
            "source": [
                "<p class=\"\">Bellissimo! Can you already tell which bubbles correspond to which countries?</p>\n",
                "\n"
            ]
        },
        {
            "attachments": {},
            "cell_type": "markdown",
            "metadata": {},
            "source": [
                "### Colors\n",
                "\n",
                "\n",
                "<div class>\n",
                "<p>The code you've written up to now is available in the script.</p>\n",
                "<p>The next step is making the plot more colorful! To do this, a list <code>col</code> has been created for you. It's a list with a color for each corresponding country, depending on the continent the country is part of.</p>\n",
                "<p>How did we make the list <code>col</code> you ask? The Gapminder data contains a list <code>continent</code> with the continent each country belongs to. A dictionary is constructed that maps continents onto colors:</p>\n",
                "<pre><code>dict = {\n",
                "    'Asia':'red',\n",
                "    'Europe':'green',\n",
                "    'Africa':'blue',\n",
                "    'Americas':'yellow',\n",
                "    'Oceania':'black'\n",
                "}\n",
                "</code></pre>\n",
                "<p>Nothing to worry about now; you will learn about dictionaries in the next chapter.</p>\n",
                "</div>\n",
                "\n",
                "<li>Add <code>c = col</code> to the arguments of the <a href=\"https://matplotlib.org/stable/api/_as_gen/matplotlib.pyplot.scatter.html\"><code>plt.scatter()</code></a> function.</li>\n",
                "<li>Change the opacity of the bubbles by setting the <code>alpha</code> argument to <code>0.8</code> inside <a href=\"https://matplotlib.org/stable/api/_as_gen/matplotlib.pyplot.scatter.html\"><code>plt.scatter()</code></a>. Alpha can be set from zero to one, where zero is totally transparent, and one is not at all transparent.</li>\n",
                "<div>\n"
            ]
        },
        {
            "cell_type": "code",
            "execution_count": null,
            "metadata": {
                "vscode": {
                    "languageId": "r"
                }
            },
            "outputs": [],
            "source": [
                "# edited/added\n",
                "col=list(np.loadtxt('datasets/Intermediate-Python/col.txt', dtype=str))\n",
                "\n",
                "# Specify c and alpha inside plt.scatter()\n",
                "plt.scatter(x = gdp_cap, y = life_exp, s = np.array(pop) * 2, c = col, alpha = 0.8)\n",
                "\n",
                "# Previous customizations\n",
                "plt.xscale('log') \n",
                "plt.xlabel('GDP per Capita [in USD]')\n",
                "plt.ylabel('Life Expectancy [in years]')\n",
                "plt.title('World Development in 2007')\n",
                "plt.xticks([1000,10000,100000], ['1k','10k','100k'])\n"
            ]
        },
        {
            "cell_type": "markdown",
            "metadata": {},
            "source": [
                "</div>\n",
                "<div>\n"
            ]
        },
        {
            "cell_type": "code",
            "execution_count": null,
            "metadata": {
                "vscode": {
                    "languageId": "r"
                }
            },
            "outputs": [],
            "source": [
                "# Show the plot\n",
                "plt.show()\n"
            ]
        },
        {
            "attachments": {},
            "cell_type": "markdown",
            "metadata": {},
            "source": [
                "</div>\n",
                "\n"
            ]
        },
        {
            "attachments": {},
            "cell_type": "markdown",
            "metadata": {},
            "source": [
                "<p class=\"\">Nice! This is looking more and more like Hans Rosling's plot!</p>\n",
                "\n"
            ]
        },
        {
            "attachments": {},
            "cell_type": "markdown",
            "metadata": {},
            "source": [
                "### Additional Customizations\n",
                "\n",
                "\n",
                "<div class><p>If you have another look at the script, under <code># Additional Customizations</code>, you'll see that there are two <a href=\"https://matplotlib.org/stable/api/_as_gen/matplotlib.pyplot.text.html\"><code>plt.text()</code></a> functions now. They add the words <code>\"India\"</code> and <code>\"China\"</code> in the plot.</p></div>\n",
                "\n",
                "<li>Add <a href=\"https://matplotlib.org/stable/api/_as_gen/matplotlib.pyplot.grid.html\"><code>plt.grid(True)</code></a> after the <a href=\"https://matplotlib.org/stable/api/_as_gen/matplotlib.pyplot.text.html\"><code>plt.text()</code></a> calls so that gridlines are drawn on the plot.</li>\n",
                "<div>\n"
            ]
        },
        {
            "cell_type": "code",
            "execution_count": null,
            "metadata": {
                "vscode": {
                    "languageId": "r"
                }
            },
            "outputs": [],
            "source": [
                "# Scatter plot\n",
                "plt.scatter(x = gdp_cap, y = life_exp, s = np.array(pop) * 2, c = col, alpha = 0.8)\n",
                "\n",
                "# Previous customizations\n",
                "plt.xscale('log') \n",
                "plt.xlabel('GDP per Capita [in USD]')\n",
                "plt.ylabel('Life Expectancy [in years]')\n",
                "plt.title('World Development in 2007')\n",
                "plt.xticks([1000,10000,100000], ['1k','10k','100k'])\n"
            ]
        },
        {
            "cell_type": "markdown",
            "metadata": {},
            "source": [
                "</div>\n",
                "<div>\n"
            ]
        },
        {
            "cell_type": "code",
            "execution_count": null,
            "metadata": {
                "vscode": {
                    "languageId": "r"
                }
            },
            "outputs": [],
            "source": [
                "# Additional customizations\n",
                "plt.text(1550, 71, 'India')\n",
                "plt.text(5700, 80, 'China')\n",
                "\n",
                "# Add grid() call\n",
                "plt.grid(True)\n",
                "\n",
                "# Show the plot\n",
                "plt.show()\n"
            ]
        },
        {
            "attachments": {},
            "cell_type": "markdown",
            "metadata": {},
            "source": [
                "</div>\n",
                "\n"
            ]
        },
        {
            "attachments": {},
            "cell_type": "markdown",
            "metadata": {},
            "source": [
                "<p class=\"\">Beautiful! A visualization only makes sense if you can interpret it properly. Let's do that in the next exercise.</p>\n",
                "\n"
            ]
        },
        {
            "attachments": {},
            "cell_type": "markdown",
            "metadata": {},
            "source": [
                "### Interpretation\n",
                "\n",
                "\n",
                "<div class>\n",
                "<p>If you have a look at your colorful plot, it's clear that people live longer in countries with a higher GDP per capita. No high income countries have really short life expectancy, and no low income countries have very long life expectancy. Still, there is a huge difference in life expectancy between countries on the same income level. Most people live in middle income countries where difference in lifespan is huge between countries; depending on how income is distributed and how it is used.</p>\n",
                "<p>What can you say about the plot?</p>\n",
                "</div>\n",
                "\n",
                "<center>\n",
                "![](datasets/Intermediate-Python/lifeexp2007.png)\n",
                "</center>\n",
                "\n"
            ]
        },
        {
            "attachments": {},
            "cell_type": "markdown",
            "metadata": {},
            "source": [
                "- [x] The countries in blue, corresponding to Africa, have both low life expectancy and a low GDP per capita.\n",
                "- [ ] There is a negative correlation between GDP per capita and life expectancy.\n",
                "- [ ] China has both a lower GDP per capita and lower life expectancy compared to India.\n",
                "\n"
            ]
        },
        {
            "attachments": {},
            "cell_type": "markdown",
            "metadata": {},
            "source": [
                "<p class=\"\">Correct! Up to the next chapter, on dictionaries!</p>\n",
                "\n"
            ]
        },
        {
            "attachments": {},
            "cell_type": "markdown",
            "metadata": {},
            "source": [
                "# Dictionaries & Pandas\n",
                "\n",
                "<p class=\"chapter__description\">\n",
                "    Learn about the dictionary, an alternative to the Python list, and the pandas DataFrame, the de facto standard to work with tabular data in Python. You will get hands-on practice with creating and manipulating datasets, and you’ll learn how to access the information you need from these data structures.\n",
                "  </p>\n",
                "  \n"
            ]
        },
        {
            "attachments": {},
            "cell_type": "markdown",
            "metadata": {},
            "source": [
                "## Dictionaries, Part 1\n",
                "\n",
                "\n",
                "\n"
            ]
        },
        {
            "attachments": {},
            "cell_type": "markdown",
            "metadata": {},
            "source": [
                "### Motivation for dictionaries\n",
                "\n",
                "\n",
                "<div class><p>To see why dictionaries are useful, have a look at the two lists defined in the script. <code>countries</code> contains the names of some European countries. <code>capitals</code> lists the corresponding names of their capital.</p></div>\n",
                "\n",
                "<li>Use the <a href=\"https://docs.python.org/3/library/stdtypes.html#common-sequence-operations\"><code>index()</code></a> method on <code>countries</code> to find the index of <code>'germany'</code>. Store this index as <code>ind_ger</code>.</li>\n",
                "\n",
                "<li>Use <code>ind_ger</code> to access the capital of Germany from the <code>capitals</code> list. Print it out.</li>\n",
                "<div>\n"
            ]
        },
        {
            "cell_type": "code",
            "execution_count": null,
            "metadata": {
                "vscode": {
                    "languageId": "r"
                }
            },
            "outputs": [],
            "source": [
                "# Definition of countries and capital\n",
                "countries = ['spain', 'france', 'germany', 'norway']\n",
                "capitals = ['madrid', 'paris', 'berlin', 'oslo']\n",
                "\n",
                "# Get index of 'germany': ind_ger\n",
                "ind_ger = countries.index('germany')\n",
                "\n",
                "# Use ind_ger to print out capital of Germany\n",
                "print(capitals[ind_ger])\n"
            ]
        },
        {
            "attachments": {},
            "cell_type": "markdown",
            "metadata": {},
            "source": [
                "</div>\n",
                "\n"
            ]
        },
        {
            "attachments": {},
            "cell_type": "markdown",
            "metadata": {},
            "source": [
                "<p class=\"\">As Hugo already told you: this works, but it's not very convenient. Head over to the next exercise to create a dictionary of this data.</p>\n",
                "\n"
            ]
        },
        {
            "attachments": {},
            "cell_type": "markdown",
            "metadata": {},
            "source": [
                "### Create dictionary\n",
                "\n",
                "\n",
                "<div class>\n",
                "<p>The <code>countries</code> and <code>capitals</code> lists are again available in the script. It's your job to convert this data to a dictionary where the country names are the keys and the capitals are the corresponding values. As a refresher, here is a recipe for creating a dictionary:</p>\n",
                "<pre><code>my_dict = {\n",
                "   \"key1\":\"value1\",\n",
                "   \"key2\":\"value2\",\n",
                "}\n",
                "</code></pre>\n",
                "<p>In this recipe, both the keys and the values are strings. This will also be the case for this exercise.</p>\n",
                "</div>\n",
                "\n",
                "<li>With the strings in <code>countries</code> and <code>capitals</code>, create a dictionary called <code>europe</code> with 4 key:value pairs. Beware of capitalization! Make sure you use lowercase characters everywhere.</li>\n",
                "\n",
                "<li>Print out <code>europe</code> to see if the result is what you expected.</li>\n",
                "<div>\n"
            ]
        },
        {
            "cell_type": "code",
            "execution_count": null,
            "metadata": {
                "vscode": {
                    "languageId": "r"
                }
            },
            "outputs": [],
            "source": [
                "# Definition of countries and capital\n",
                "countries = ['spain', 'france', 'germany', 'norway']\n",
                "capitals = ['madrid', 'paris', 'berlin', 'oslo']\n",
                "\n",
                "# From string in countries and capitals, create dictionary europe\n",
                "europe = {'spain':'madrid', 'france':'paris', 'germany':'berlin', 'norway':'oslo'}\n",
                "\n",
                "# Print europe\n",
                "print(europe)\n"
            ]
        },
        {
            "attachments": {},
            "cell_type": "markdown",
            "metadata": {},
            "source": [
                "</div>\n",
                "\n"
            ]
        },
        {
            "attachments": {},
            "cell_type": "markdown",
            "metadata": {},
            "source": [
                "<p class=\"\">Great! Now that you've built your first dictionaries, let's get serious!</p>\n",
                "\n"
            ]
        },
        {
            "attachments": {},
            "cell_type": "markdown",
            "metadata": {},
            "source": [
                "### Access dictionary\n",
                "\n",
                "\n",
                "<div class>\n",
                "<p>If the keys of a dictionary are chosen wisely, accessing the values in a dictionary is easy and intuitive. For example, to get the capital for France from <code>europe</code> you can use:</p>\n",
                "<pre><code>europe['france']\n",
                "</code></pre>\n",
                "<p>Here, <code>'france'</code> is the key and <code>'paris'</code> the value is returned.</p>\n",
                "</div>\n",
                "\n",
                "<li>Check out which keys are in <code>europe</code> by calling the <a href=\"https://docs.python.org/3/library/stdtypes.html#dict.keys\"><code>keys()</code></a> method on <code>europe</code>. Print out the result.</li>\n",
                "\n",
                "<li>Print out the value that belongs to the key <code>'norway'</code>.</li>\n",
                "<div>\n"
            ]
        },
        {
            "cell_type": "code",
            "execution_count": null,
            "metadata": {
                "vscode": {
                    "languageId": "r"
                }
            },
            "outputs": [],
            "source": [
                "# Definition of dictionary\n",
                "europe = {'spain':'madrid', 'france':'paris', 'germany':'berlin', 'norway':'oslo' }\n",
                "\n",
                "# Print out the keys in europe\n",
                "print(europe.keys())\n"
            ]
        },
        {
            "cell_type": "markdown",
            "metadata": {},
            "source": [
                "</div>\n",
                "<div>\n"
            ]
        },
        {
            "cell_type": "code",
            "execution_count": null,
            "metadata": {
                "vscode": {
                    "languageId": "r"
                }
            },
            "outputs": [],
            "source": [
                "# Print out value that belongs to key 'norway'\n",
                "print(europe['norway'])\n"
            ]
        },
        {
            "attachments": {},
            "cell_type": "markdown",
            "metadata": {},
            "source": [
                "</div>\n",
                "\n"
            ]
        },
        {
            "attachments": {},
            "cell_type": "markdown",
            "metadata": {},
            "source": [
                "<p class=\"\">Good job, now you're warmed up for some more.</p>\n",
                "\n"
            ]
        },
        {
            "attachments": {},
            "cell_type": "markdown",
            "metadata": {},
            "source": [
                "## Dictionaries, Part 2\n",
                "\n",
                "\n",
                "\n"
            ]
        },
        {
            "attachments": {},
            "cell_type": "markdown",
            "metadata": {},
            "source": [
                "### Dictionary Manipulation (1)\n",
                "\n",
                "\n",
                "<div class>\n",
                "<p>If you know how to access a dictionary, you can also assign a new value to it. To add a new key-value pair to <code>europe</code> you can use something like this:</p>\n",
                "<pre><code>europe['iceland'] = 'reykjavik'\n",
                "</code></pre>\n",
                "</div>\n",
                "\n",
                "<li>Add the key <code>'italy'</code> with the value <code>'rome'</code> to <code>europe</code>.</li>\n",
                "\n",
                "<li>To assert that <code>'italy'</code> is now a key in <code>europe</code>, print out <code>'italy' in europe</code>.</li>\n",
                "\n",
                "<li>Add another key:value pair to <code>europe</code>: <code>'poland'</code> is the key, <code>'warsaw'</code> is the corresponding value.</li>\n",
                "\n",
                "<li>Print out <code>europe</code>.</li>\n",
                "<div>\n"
            ]
        },
        {
            "cell_type": "code",
            "execution_count": null,
            "metadata": {
                "vscode": {
                    "languageId": "r"
                }
            },
            "outputs": [],
            "source": [
                "# Definition of dictionary\n",
                "europe = {'spain':'madrid', 'france':'paris', 'germany':'berlin', 'norway':'oslo' }\n",
                "\n",
                "# Add italy to europe\n",
                "europe['italy'] = 'rome'\n",
                "\n",
                "# Print out italy in europe\n",
                "print('italy' in europe)\n"
            ]
        },
        {
            "cell_type": "markdown",
            "metadata": {},
            "source": [
                "</div>\n",
                "<div>\n"
            ]
        },
        {
            "cell_type": "code",
            "execution_count": null,
            "metadata": {
                "vscode": {
                    "languageId": "r"
                }
            },
            "outputs": [],
            "source": [
                "# Add poland to europe\n",
                "europe['poland'] = 'warsaw'\n",
                "\n",
                "# Print europe\n",
                "print(europe)\n"
            ]
        },
        {
            "attachments": {},
            "cell_type": "markdown",
            "metadata": {},
            "source": [
                "</div>\n",
                "\n"
            ]
        },
        {
            "attachments": {},
            "cell_type": "markdown",
            "metadata": {},
            "source": [
                "<p class=\"\">Well done! Europe is growing by the minute! Did you notice that the order of the printout is not the same as the order in the dictionary's definition? That's because dictionaries are inherently unordered.</p>\n",
                "\n"
            ]
        },
        {
            "attachments": {},
            "cell_type": "markdown",
            "metadata": {},
            "source": [
                "### Dictionary Manipulation (2)\n",
                "\n",
                "\n",
                "<div class>\n",
                "<p>Somebody thought it would be funny to mess with your accurately generated dictionary. An adapted version of the <code>europe</code> dictionary is available in the script.</p>\n",
                "<p>Can you clean up? Do not do this by adapting the definition of <code>europe</code>, but by adding Python commands to the script to update and remove key:value pairs.</p>\n",
                "</div>\n",
                "\n",
                "<li>The capital of Germany is not <code>'bonn'</code>; it's <code>'berlin'</code>. Update its value.</li>\n",
                "\n",
                "<li>Australia is not in Europe, Austria is! Remove the key <code>'australia'</code> from <code>europe</code>.</li>\n",
                "\n",
                "<li>Print out <code>europe</code> to see if your cleaning work paid off.</li>\n",
                "<div>\n"
            ]
        },
        {
            "cell_type": "code",
            "execution_count": null,
            "metadata": {
                "vscode": {
                    "languageId": "r"
                }
            },
            "outputs": [],
            "source": [
                "# Definition of dictionary\n",
                "europe = {'spain':'madrid', 'france':'paris', 'germany':'bonn',\n",
                "          'norway':'oslo', 'italy':'rome', 'poland':'warsaw',\n",
                "          'australia':'vienna' }\n",
                "\n",
                "# Update capital of germany\n",
                "europe['germany'] = 'berlin'\n",
                "\n",
                "# Remove australia\n",
                "del(europe['australia'])\n",
                "\n",
                "# Print europe\n",
                "print(europe)\n"
            ]
        },
        {
            "attachments": {},
            "cell_type": "markdown",
            "metadata": {},
            "source": [
                "</div>\n",
                "\n"
            ]
        },
        {
            "attachments": {},
            "cell_type": "markdown",
            "metadata": {},
            "source": [
                "<p class=\"\">Great job! That's much better!</p>\n",
                "\n"
            ]
        },
        {
            "attachments": {},
            "cell_type": "markdown",
            "metadata": {},
            "source": [
                "### Dictionariception\n",
                "\n",
                "\n",
                "<div class>\n",
                "<p>Remember lists? They could contain anything, even other lists. Well, for dictionaries the same holds. Dictionaries can contain key:value pairs where the values are again dictionaries.</p>\n",
                "<p>As an example, have a look at the script where another version of <code>europe</code> - the dictionary you've been working with all along - is coded. The keys are still the country names, but the values are dictionaries that contain more information than just the capital.</p>\n",
                "<p>It's perfectly possible to chain square brackets to select elements. To fetch the population for Spain from <code>europe</code>, for example, you need:</p>\n",
                "<pre><code>europe['spain']['population']\n",
                "</code></pre>\n",
                "</div>\n",
                "\n",
                "<li>Use chained square brackets to select and print out the capital of France.</li>\n",
                "\n",
                "<li>Create a dictionary, named <code>data</code>, with the keys <code>'capital'</code> and <code>'population'</code>. Set them to <code>'rome'</code> and <code>59.83</code>, respectively.</li>\n",
                "\n",
                "<li>Add a new key-value pair to <code>europe</code>; the key is <code>'italy'</code> and the value is <code>data</code>, the dictionary you just built.</li>\n",
                "<div>\n"
            ]
        },
        {
            "cell_type": "code",
            "execution_count": null,
            "metadata": {
                "vscode": {
                    "languageId": "r"
                }
            },
            "outputs": [],
            "source": [
                "# Dictionary of dictionaries\n",
                "europe = { 'spain': { 'capital':'madrid', 'population':46.77 },\n",
                "           'france': { 'capital':'paris', 'population':66.03 },\n",
                "           'germany': { 'capital':'berlin', 'population':80.62 },\n",
                "           'norway': { 'capital':'oslo', 'population':5.084 } }\n",
                "\n",
                "\n",
                "# Print out the capital of France\n",
                "print(europe['france']['capital'])\n"
            ]
        },
        {
            "cell_type": "markdown",
            "metadata": {},
            "source": [
                "</div>\n",
                "<div>\n"
            ]
        },
        {
            "cell_type": "code",
            "execution_count": null,
            "metadata": {
                "vscode": {
                    "languageId": "r"
                }
            },
            "outputs": [],
            "source": [
                "# Create sub-dictionary data\n",
                "data = { 'capital':'rome', 'population':59.83 }\n",
                "\n",
                "# Add data to europe under key 'italy'\n",
                "europe['italy'] = data\n",
                "\n",
                "# Print europe\n",
                "print(europe)\n"
            ]
        },
        {
            "attachments": {},
            "cell_type": "markdown",
            "metadata": {},
            "source": [
                "</div>\n",
                "\n"
            ]
        },
        {
            "attachments": {},
            "cell_type": "markdown",
            "metadata": {},
            "source": [
                "<p class=\"\">Great! It's time to learn about a new data structure!</p>\n",
                "\n"
            ]
        },
        {
            "attachments": {},
            "cell_type": "markdown",
            "metadata": {},
            "source": [
                "## Pandas, Part 1\n",
                "\n",
                "\n",
                "\n"
            ]
        },
        {
            "attachments": {},
            "cell_type": "markdown",
            "metadata": {},
            "source": [
                "### Dictionary to DataFrame (1)\n",
                "\n",
                "\n",
                "<div class>\n",
                "<p>Pandas is an open source library, providing high-performance, easy-to-use data structures and data analysis tools for Python. Sounds promising!</p>\n",
                "<p>The DataFrame is one of Pandas' most important data structures. It's basically a way to store tabular data where you can label the rows and the columns. One way to build a DataFrame is from a dictionary.</p>\n",
                "<p>In the exercises that follow you will be working with vehicle data from different countries. Each observation corresponds to a country and the columns give information about the number of vehicles per capita, whether people drive left or right, and so on.</p>\n",
                "<p>Three lists are defined in the script:</p>\n",
                "<ul>\n",
                "<li>\n",
                "<code>names</code>, containing the country names for which data is available.</li>\n",
                "\n",
                "<li>\n",
                "<code>dr</code>, a list with booleans that tells whether people drive left or right in the corresponding country.</li>\n",
                "<li>\n",
                "<code>cpc</code>, the number of motor vehicles per 1000 people in the corresponding country.</li>\n",
                "</ul>\n",
                "<p>Each dictionary key is a column label and each value is a list which contains the column elements.</p>\n",
                "</div>\n",
                "\n",
                "<li>Import <code>pandas</code> as <code>pd</code>.</li>\n",
                "\n",
                "<li>Use the pre-defined lists to create a dictionary called <code>my_dict</code>. There should be three key value pairs:<ul>\n",
                "<li>key <code>'country'</code> and value <code>names</code>.</li>\n",
                "<li>key <code>'drives_right'</code> and value <code>dr</code>.</li>\n",
                "<li>key <code>'cars_per_cap'</code> and value <code>cpc</code>.</li>\n",
                "\n",
                "</ul>\n",
                "</li>\n",
                "\n",
                "<li>Use <a href=\"https://pandas.pydata.org/pandas-docs/stable/generated/pandas.DataFrame.html\"><code>pd.DataFrame()</code></a> to turn your dict into a DataFrame called <code>cars</code>.</li>\n",
                "\n",
                "<li>Print out <code>cars</code> and see how beautiful it is.</li>\n",
                "<div>\n"
            ]
        },
        {
            "cell_type": "code",
            "execution_count": null,
            "metadata": {
                "vscode": {
                    "languageId": "r"
                }
            },
            "outputs": [],
            "source": [
                "# Pre-defined lists\n",
                "names = ['United States', 'Australia', 'Japan', 'India', 'Russia', 'Morocco', 'Egypt']\n",
                "dr =  [True, False, False, False, True, True, True]\n",
                "cpc = [809, 731, 588, 18, 200, 70, 45]\n",
                "\n",
                "# Import pandas as pd\n",
                "import pandas as pd\n",
                "\n",
                "# Create dictionary my_dict with three key:value pairs: my_dict\n",
                "my_dict = { 'country':names, 'drives_right':dr, 'cars_per_cap':cpc }\n",
                "\n",
                "# Build a DataFrame cars from my_dict: cars\n",
                "cars = pd.DataFrame(my_dict)\n",
                "\n",
                "# Print cars\n",
                "print(cars)\n"
            ]
        },
        {
            "attachments": {},
            "cell_type": "markdown",
            "metadata": {},
            "source": [
                "</div>\n",
                "\n"
            ]
        },
        {
            "attachments": {},
            "cell_type": "markdown",
            "metadata": {},
            "source": [
                "<p class=\"\">Good job! Notice that the columns of <code>cars</code> can be of different types. This was not possible with 2D NumPy arrays!</p>\n",
                "\n"
            ]
        },
        {
            "attachments": {},
            "cell_type": "markdown",
            "metadata": {},
            "source": [
                "### Dictionary to DataFrame (2)\n",
                "\n",
                "\n",
                "<div class>\n",
                "<p>The Python code that solves the previous exercise is included in the script. Have you noticed that the row labels (i.e. the labels for the different observations) were automatically set to integers from 0 up to 6?</p>\n",
                "<p>To solve this a list <code>row_labels</code> has been created. You can use it to specify the row labels of the <code>cars</code> DataFrame. You do this by setting the <code>index</code> attribute of <code>cars</code>, that you can access as <code>cars.index</code>.</p>\n",
                "</div>\n",
                "\n",
                "<li>Hit <em>Run Code</em> to see that, indeed, the row labels are not correctly set.</li>\n",
                "<div>\n",
                "\n",
                "</div>\n",
                "\n",
                "<div>\n",
                "\n",
                "</div>\n",
                "\n",
                "<li>Specify the row labels by setting <code>cars.index</code> equal to <code>row_labels</code>.</li>\n",
                "\n",
                "<li>Print out <code>cars</code> again and check if the row labels are correct this time.</li>\n",
                "<div>\n"
            ]
        },
        {
            "cell_type": "code",
            "execution_count": null,
            "metadata": {
                "vscode": {
                    "languageId": "r"
                }
            },
            "outputs": [],
            "source": [
                "import pandas as pd\n",
                "\n",
                "# Build cars DataFrame\n",
                "names = ['United States', 'Australia', 'Japan', 'India', 'Russia', 'Morocco', 'Egypt']\n",
                "dr =  [True, False, False, False, True, True, True]\n",
                "cpc = [809, 731, 588, 18, 200, 70, 45]\n",
                "cars_dict = { 'country':names, 'drives_right':dr, 'cars_per_cap':cpc }\n",
                "cars = pd.DataFrame(cars_dict)\n",
                "print(cars)\n"
            ]
        },
        {
            "cell_type": "markdown",
            "metadata": {},
            "source": [
                "</div>\n",
                "<div>\n"
            ]
        },
        {
            "cell_type": "code",
            "execution_count": null,
            "metadata": {
                "vscode": {
                    "languageId": "r"
                }
            },
            "outputs": [],
            "source": [
                "# Definition of row_labels\n",
                "row_labels = ['US', 'AUS', 'JPN', 'IN', 'RU', 'MOR', 'EG']\n",
                "\n",
                "# Specify row labels of cars\n",
                "cars.index = row_labels\n",
                "\n",
                "# Print cars again\n",
                "print(cars)\n"
            ]
        },
        {
            "attachments": {},
            "cell_type": "markdown",
            "metadata": {},
            "source": [
                "</div>\n",
                "\n"
            ]
        },
        {
            "attachments": {},
            "cell_type": "markdown",
            "metadata": {},
            "source": [
                "<p class=\"\">Nice! That looks much better already!</p>\n",
                "\n"
            ]
        },
        {
            "attachments": {},
            "cell_type": "markdown",
            "metadata": {},
            "source": [
                "### CSV to DataFrame (1)\n",
                "\n",
                "\n",
                "<div class>\n",
                "<p>Putting data in a dictionary and then building a DataFrame works, but it's not very efficient. What if you're dealing with millions of observations? In those cases, the data is typically available as files with a regular structure. One of those file types is the CSV file, which is short for \"comma-separated values\".</p>\n",
                "<p>To import CSV data into Python as a Pandas DataFrame you can use <a href=\"https://pandas.pydata.org/pandas-docs/stable/generated/pandas.read_csv.html\"><code>read_csv()</code></a>.</p>\n",
                "<p>Let's explore this function with the same cars data from the previous exercises. This time, however, the data is available in a CSV file, named <code>cars.csv</code>. It is available in your current working directory, so the path to the file is simply <code>'cars.csv'</code>.</p>\n",
                "</div>\n",
                "\n",
                "<li>To import CSV files you still need the <code>pandas</code> package: import it as <code>pd</code>.</li>\n",
                "\n",
                "<li>Use <a href=\"http://pandas.pydata.org/pandas-docs/stable/generated/pandas.read_csv.html\"><code>pd.read_csv()</code></a> to import <code>cars.csv</code> data as a DataFrame. Store this DataFrame as <code>cars</code>.</li>\n",
                "\n",
                "<li>Print out <code>cars</code>. Does everything look OK?</li>\n",
                "<div>\n"
            ]
        },
        {
            "cell_type": "code",
            "execution_count": null,
            "metadata": {
                "vscode": {
                    "languageId": "r"
                }
            },
            "outputs": [],
            "source": [
                "# Import pandas as pd\n",
                "import pandas as pd\n",
                "\n",
                "# Import the cars.csv data: cars\n",
                "cars = pd.read_csv('datasets/Intermediate-Python/cars.csv') # edited/added\n",
                "\n",
                "# Print out cars\n",
                "print(cars)\n"
            ]
        },
        {
            "attachments": {},
            "cell_type": "markdown",
            "metadata": {},
            "source": [
                "</div>\n",
                "\n"
            ]
        },
        {
            "attachments": {},
            "cell_type": "markdown",
            "metadata": {},
            "source": [
                "<p class=\"\">Nice job! Looks nice, but not exactly what we expected. Let's fix this in the next exercise.</p>\n",
                "\n"
            ]
        },
        {
            "attachments": {},
            "cell_type": "markdown",
            "metadata": {},
            "source": [
                "### CSV to DataFrame (2)\n",
                "\n",
                "\n",
                "<div class>\n",
                "<p>Your <a href=\"https://pandas.pydata.org/pandas-docs/stable/generated/pandas.read_csv.html\"><code>read_csv()</code></a> call to import the CSV data didn't generate an error, but the output is not entirely what we wanted. The row labels were imported as another column without a name.</p>\n",
                "<p>Remember <code>index_col</code>, an argument of <a href=\"https://pandas.pydata.org/pandas-docs/stable/generated/pandas.read_csv.html\"><code>read_csv()</code></a>, that you can use to specify which column in the CSV file should be used as a row label? Well, that's exactly what you need here!</p>\n",
                "<p>Python code that solves the previous exercise is already included; can you make the appropriate changes to fix the data import?</p>\n",
                "</div>\n",
                "\n",
                "<li>Run the code with <em>Run Code</em> and assert that the first column should actually be used as row labels.</li>\n",
                "\n",
                "<li>Specify the <code>index_col</code> argument inside <a href=\"https://pandas.pydata.org/pandas-docs/stable/generated/pandas.read_csv.html\"><code>pd.read_csv()</code></a>: set it to <code>0</code>, so that the first column is used as row labels.</li>\n",
                "\n",
                "<li>Has the printout of <code>cars</code> improved now?</li>\n",
                "<div>\n"
            ]
        },
        {
            "cell_type": "code",
            "execution_count": null,
            "metadata": {
                "vscode": {
                    "languageId": "r"
                }
            },
            "outputs": [],
            "source": [
                "# Import pandas as pd\n",
                "import pandas as pd\n",
                "\n",
                "# Fix import by including index_col\n",
                "cars = pd.read_csv('datasets/Intermediate-Python/cars.csv')\n",
                "\n",
                "# Print out cars\n",
                "print(cars)\n"
            ]
        },
        {
            "cell_type": "markdown",
            "metadata": {},
            "source": [
                "</div>\n",
                "<div>\n"
            ]
        },
        {
            "cell_type": "code",
            "execution_count": null,
            "metadata": {
                "vscode": {
                    "languageId": "r"
                }
            },
            "outputs": [],
            "source": [
                "# Import pandas as pd\n",
                "import pandas as pd\n",
                "\n",
                "# Fix import by including index_col\n",
                "cars = pd.read_csv('datasets/Intermediate-Python/cars.csv', index_col = 0)\n",
                "\n",
                "# Print out cars\n",
                "print(cars)\n"
            ]
        },
        {
            "attachments": {},
            "cell_type": "markdown",
            "metadata": {},
            "source": [
                "</div>\n",
                "\n"
            ]
        },
        {
            "attachments": {},
            "cell_type": "markdown",
            "metadata": {},
            "source": [
                "<p class=\"\">That's much better!</p>\n",
                "\n"
            ]
        },
        {
            "attachments": {},
            "cell_type": "markdown",
            "metadata": {},
            "source": [
                "## Pandas, Part 2\n",
                "\n",
                "\n",
                "\n"
            ]
        },
        {
            "attachments": {},
            "cell_type": "markdown",
            "metadata": {},
            "source": [
                "### Square Brackets (1)\n",
                "\n",
                "\n",
                "<div class>\n",
                "<p>In the video, you saw that you can index and select Pandas DataFrames in many different ways. The simplest, but not the most powerful way, is to use square brackets.</p>\n",
                "<p>In the sample code, the same cars data is imported from a CSV files as a Pandas DataFrame. To select only the <code>cars_per_cap</code> column from <code>cars</code>, you can use:</p>\n",
                "<pre><code>cars['cars_per_cap']\n",
                "cars[['cars_per_cap']]\n",
                "</code></pre>\n",
                "<p>The single bracket version gives a Pandas Series, the double bracket version gives a Pandas DataFrame.</p>\n",
                "</div>\n",
                "\n",
                "<li>Use single square brackets to print out the <code>country</code> column of <code>cars</code> as a Pandas Series.</li>\n",
                "\n",
                "<li>Use double square brackets to print out the <code>country</code> column of <code>cars</code> as a Pandas DataFrame.</li>\n",
                "\n",
                "<li>Use double square brackets to print out a DataFrame with both the <code>country</code> and <code>drives_right</code> columns of <code>cars</code>, in this order.</li>\n",
                "<div>\n"
            ]
        },
        {
            "cell_type": "code",
            "execution_count": null,
            "metadata": {
                "vscode": {
                    "languageId": "r"
                }
            },
            "outputs": [],
            "source": [
                "# Import cars data\n",
                "import pandas as pd\n",
                "cars = pd.read_csv('datasets/Intermediate-Python/cars.csv', index_col = 0)\n",
                "\n",
                "# Print out country column as Pandas Series\n",
                "print(cars['country'])\n"
            ]
        },
        {
            "cell_type": "markdown",
            "metadata": {},
            "source": [
                "</div>\n",
                "<div>\n"
            ]
        },
        {
            "cell_type": "code",
            "execution_count": null,
            "metadata": {
                "vscode": {
                    "languageId": "r"
                }
            },
            "outputs": [],
            "source": [
                "# Print out country column as Pandas DataFrame\n",
                "print(cars[['country']])\n"
            ]
        },
        {
            "cell_type": "markdown",
            "metadata": {},
            "source": [
                "</div>\n",
                "<div>\n"
            ]
        },
        {
            "cell_type": "code",
            "execution_count": null,
            "metadata": {
                "vscode": {
                    "languageId": "r"
                }
            },
            "outputs": [],
            "source": [
                "# Print out DataFrame with country and drives_right columns\n",
                "print(cars[['country', 'drives_right']])\n"
            ]
        },
        {
            "attachments": {},
            "cell_type": "markdown",
            "metadata": {},
            "source": [
                "</div>\n",
                "\n"
            ]
        },
        {
            "attachments": {},
            "cell_type": "markdown",
            "metadata": {},
            "source": [
                "<p class=\"\">Nice!</p>\n",
                "\n"
            ]
        },
        {
            "attachments": {},
            "cell_type": "markdown",
            "metadata": {},
            "source": [
                "### Square Brackets (2)\n",
                "\n",
                "\n",
                "<div class>\n",
                "<p>Square brackets can do more than just selecting columns. You can also use them to get rows, or observations, from a DataFrame. The following call selects the first five rows from the <code>cars</code> DataFrame:</p>\n",
                "<pre><code>cars[0:5]\n",
                "</code></pre>\n",
                "<p>The result is another DataFrame containing only the rows you specified.</p>\n",
                "<p>Pay attention: You can only select rows using square brackets if you specify a slice, like <code>0:4</code>. Also, you're using the integer indexes of the rows here, not the row labels!</p>\n",
                "</div>\n",
                "\n",
                "<li>Select the first 3 observations from <code>cars</code> and print them out.</li>\n",
                "\n",
                "<li>Select the fourth, fifth and sixth observation, corresponding to row indexes 3, 4 and 5, and print them out.</li>\n",
                "<div>\n"
            ]
        },
        {
            "cell_type": "code",
            "execution_count": null,
            "metadata": {
                "vscode": {
                    "languageId": "r"
                }
            },
            "outputs": [],
            "source": [
                "# Import cars data\n",
                "import pandas as pd\n",
                "cars = pd.read_csv('datasets/Intermediate-Python/cars.csv', index_col = 0)\n",
                "\n",
                "# Print out first 3 observations\n",
                "print(cars[0:3])\n"
            ]
        },
        {
            "cell_type": "markdown",
            "metadata": {},
            "source": [
                "</div>\n",
                "<div>\n"
            ]
        },
        {
            "cell_type": "code",
            "execution_count": null,
            "metadata": {
                "vscode": {
                    "languageId": "r"
                }
            },
            "outputs": [],
            "source": [
                "# Print out fourth, fifth and sixth observation\n",
                "print(cars[3:6])\n"
            ]
        },
        {
            "attachments": {},
            "cell_type": "markdown",
            "metadata": {},
            "source": [
                "</div>\n",
                "\n"
            ]
        },
        {
            "attachments": {},
            "cell_type": "markdown",
            "metadata": {},
            "source": [
                "<p class=\"\">Good job. You can get interesting information, but using square brackets to do indexing is rather limited. Experiment with more advanced techniques in the following exercises.</p>\n",
                "\n"
            ]
        },
        {
            "attachments": {},
            "cell_type": "markdown",
            "metadata": {},
            "source": [
                "### loc and iloc (1)\n",
                "\n",
                "\n",
                "<div class>\n",
                "<p>With <a href=\"https://pandas.pydata.org/pandas-docs/stable/indexing.html#different-choices-for-indexing\"><code>loc</code></a> and <a href=\"https://pandas.pydata.org/pandas-docs/stable/indexing.html#different-choices-for-indexing\"><code>iloc</code></a> you can do practically any data selection operation on DataFrames you can think of. <a href=\"https://pandas.pydata.org/pandas-docs/stable/indexing.html#different-choices-for-indexing\"><code>loc</code></a> is label-based, which means that you have to specify rows and columns based on their row and column labels. <a href=\"https://pandas.pydata.org/pandas-docs/stable/indexing.html#different-choices-for-indexing\"><code>iloc</code></a> is integer index based, so you have to specify rows and columns by their integer index like you did in the previous exercise.</p>\n",
                "<p>Try out the following commands in the IPython Shell to experiment with <a href=\"https://pandas.pydata.org/pandas-docs/stable/indexing.html#different-choices-for-indexing\"><code>loc</code></a> and <a href=\"https://pandas.pydata.org/pandas-docs/stable/indexing.html#different-choices-for-indexing\"><code>iloc</code></a> to select observations. Each pair of commands here gives the same result.</p>\n",
                "<pre><code>cars.loc['RU']\n",
                "cars.iloc[4]\n",
                "\n",
                "cars.loc[['RU']]\n",
                "cars.iloc[[4]]\n",
                "\n",
                "cars.loc[['RU', 'AUS']]\n",
                "cars.iloc[[4, 1]]\n",
                "</code></pre>\n",
                "<p>As before, code is included that imports the cars data as a Pandas DataFrame.</p>\n",
                "</div>\n",
                "\n",
                "<li>Use <a href=\"https://pandas.pydata.org/pandas-docs/stable/indexing.html#different-choices-for-indexing\"><code>loc</code></a> or <a href=\"https://pandas.pydata.org/pandas-docs/stable/indexing.html#different-choices-for-indexing\"><code>iloc</code></a> to select the observation corresponding to Japan as a Series. The label of this row is <code>JPN</code>, the index is <code>2</code>. Make sure to print the resulting Series.</li>\n",
                "\n",
                "<li>Use <a href=\"https://pandas.pydata.org/pandas-docs/stable/indexing.html#different-choices-for-indexing\"><code>loc</code></a> or <a href=\"https://pandas.pydata.org/pandas-docs/stable/indexing.html#different-choices-for-indexing\"><code>iloc</code></a> to select the observations for Australia and Egypt as a DataFrame. You can find out about the labels/indexes of these rows by inspecting <code>cars</code> in the IPython Shell. Make sure to print the resulting DataFrame.</li>\n",
                "<div>\n"
            ]
        },
        {
            "cell_type": "code",
            "execution_count": null,
            "metadata": {
                "vscode": {
                    "languageId": "r"
                }
            },
            "outputs": [],
            "source": [
                "# Import cars data\n",
                "import pandas as pd\n",
                "cars = pd.read_csv('datasets/Intermediate-Python/cars.csv', index_col = 0)\n",
                "\n",
                "# Print out observation for Japan\n",
                "print(cars.iloc[2])\n"
            ]
        },
        {
            "cell_type": "markdown",
            "metadata": {},
            "source": [
                "</div>\n",
                "<div>\n"
            ]
        },
        {
            "cell_type": "code",
            "execution_count": null,
            "metadata": {
                "vscode": {
                    "languageId": "r"
                }
            },
            "outputs": [],
            "source": [
                "# Print out observations for Australia and Egypt\n",
                "print(cars.loc[['AUS', 'EG']])\n"
            ]
        },
        {
            "attachments": {},
            "cell_type": "markdown",
            "metadata": {},
            "source": [
                "</div>\n",
                "\n"
            ]
        },
        {
            "attachments": {},
            "cell_type": "markdown",
            "metadata": {},
            "source": [
                "<p class=\"\">You aced selecting observations from DataFrames; over to selecting both rows and columns!</p>\n",
                "\n"
            ]
        },
        {
            "attachments": {},
            "cell_type": "markdown",
            "metadata": {},
            "source": [
                "### loc and iloc (2)\n",
                "\n",
                "\n",
                "<div class>\n",
                "<p><code>loc</code> and <a href=\"https://pandas.pydata.org/pandas-docs/stable/indexing.html#different-choices-for-indexing\"><code>iloc</code></a> also allow you to select both rows and columns from a DataFrame. To experiment, try out the following commands in the IPython Shell. Again, paired commands produce the same result.</p>\n",
                "<pre><code>cars.loc['IN', 'cars_per_cap']\n",
                "cars.iloc[3, 0]\n",
                "\n",
                "cars.loc[['IN', 'RU'], 'cars_per_cap']\n",
                "cars.iloc[[3, 4], 0]\n",
                "\n",
                "cars.loc[['IN', 'RU'], ['cars_per_cap', 'country']]\n",
                "cars.iloc[[3, 4], [0, 1]]\n",
                "</code></pre>\n",
                "</div>\n",
                "\n",
                "<li>Print out the <code>drives_right</code> value of the row corresponding to Morocco (its row label is <code>MOR</code>)</li>\n",
                "\n",
                "<li>Print out a sub-DataFrame, containing the observations for Russia and Morocco and the columns <code>country</code> and <code>drives_right</code>.</li>\n",
                "<div>\n"
            ]
        },
        {
            "cell_type": "code",
            "execution_count": null,
            "metadata": {
                "vscode": {
                    "languageId": "r"
                }
            },
            "outputs": [],
            "source": [
                "# Import cars data\n",
                "import pandas as pd\n",
                "cars = pd.read_csv('datasets/Intermediate-Python/cars.csv', index_col = 0)\n",
                "\n",
                "# Print out drives_right value of Morocco\n",
                "print(cars.iloc[5, 2])\n"
            ]
        },
        {
            "cell_type": "markdown",
            "metadata": {},
            "source": [
                "</div>\n",
                "<div>\n"
            ]
        },
        {
            "cell_type": "code",
            "execution_count": null,
            "metadata": {
                "vscode": {
                    "languageId": "r"
                }
            },
            "outputs": [],
            "source": [
                "# Print sub-DataFrame\n",
                "print(cars.loc[['RU', 'MOR'], ['country', 'drives_right']])\n"
            ]
        },
        {
            "attachments": {},
            "cell_type": "markdown",
            "metadata": {},
            "source": [
                "</div>\n",
                "\n"
            ]
        },
        {
            "attachments": {},
            "cell_type": "markdown",
            "metadata": {},
            "source": [
                "<p class=\"\">Great work! <code>.loc[]</code> and <code>.iloc[]</code> are excellent tools for selecting DataFrame values by label and index. In the next exercise, you'll select entire columns using them!</p>\n",
                "\n"
            ]
        },
        {
            "attachments": {},
            "cell_type": "markdown",
            "metadata": {},
            "source": [
                "### loc and iloc (3)\n",
                "\n",
                "\n",
                "<div class>\n",
                "<p>It's also possible to select only columns with <a href=\"https://pandas.pydata.org/pandas-docs/stable/indexing.html#different-choices-for-indexing\"><code>loc</code></a> and <a href=\"https://pandas.pydata.org/pandas-docs/stable/indexing.html#different-choices-for-indexing\"><code>iloc</code></a>. In both cases, you simply put a slice going from beginning to end in front of the comma:</p>\n",
                "<pre><code>cars.loc[:, 'country']\n",
                "cars.iloc[:, 1]\n",
                "\n",
                "cars.loc[:, ['country','drives_right']]\n",
                "cars.iloc[:, [1, 2]]\n",
                "</code></pre>\n",
                "</div>\n",
                "\n",
                "<li>Print out the <code>drives_right</code> column as a Series using <a href=\"https://pandas.pydata.org/pandas-docs/stable/indexing.html#different-choices-for-indexing\"><code>loc</code></a> or <a href=\"https://pandas.pydata.org/pandas-docs/stable/indexing.html#different-choices-for-indexing\"><code>iloc</code></a>.</li>\n",
                "\n",
                "<li>Print out the <code>drives_right</code> column as a DataFrame using <a href=\"https://pandas.pydata.org/pandas-docs/stable/indexing.html#different-choices-for-indexing\"><code>loc</code></a> or <a href=\"https://pandas.pydata.org/pandas-docs/stable/indexing.html#different-choices-for-indexing\"><code>iloc</code></a>.</li>\n",
                "\n",
                "<li>Print out both the <code>cars_per_cap</code> and <code>drives_right</code> column as a DataFrame using <a href=\"https://pandas.pydata.org/pandas-docs/stable/indexing.html#different-choices-for-indexing\"><code>loc</code></a> or <a href=\"https://pandas.pydata.org/pandas-docs/stable/indexing.html#different-choices-for-indexing\"><code>iloc</code></a>.</li>\n",
                "<div>\n"
            ]
        },
        {
            "cell_type": "code",
            "execution_count": null,
            "metadata": {
                "vscode": {
                    "languageId": "r"
                }
            },
            "outputs": [],
            "source": [
                "# Import cars data\n",
                "import pandas as pd\n",
                "cars = pd.read_csv('datasets/Intermediate-Python/cars.csv', index_col = 0)\n",
                "\n",
                "# Print out drives_right column as Series\n",
                "print(cars.iloc[:, 2])\n"
            ]
        },
        {
            "cell_type": "markdown",
            "metadata": {},
            "source": [
                "</div>\n",
                "<div>\n"
            ]
        },
        {
            "cell_type": "code",
            "execution_count": null,
            "metadata": {
                "vscode": {
                    "languageId": "r"
                }
            },
            "outputs": [],
            "source": [
                "# Print out drives_right column as DataFrame\n",
                "print(cars.iloc[:, [2]])\n"
            ]
        },
        {
            "cell_type": "markdown",
            "metadata": {},
            "source": [
                "</div>\n",
                "<div>\n"
            ]
        },
        {
            "cell_type": "code",
            "execution_count": null,
            "metadata": {
                "vscode": {
                    "languageId": "r"
                }
            },
            "outputs": [],
            "source": [
                "# Print out cars_per_cap and drives_right as DataFrame\n",
                "print(cars.loc[:, ['cars_per_cap', 'drives_right']])\n"
            ]
        },
        {
            "attachments": {},
            "cell_type": "markdown",
            "metadata": {},
            "source": [
                "</div>\n",
                "\n"
            ]
        },
        {
            "attachments": {},
            "cell_type": "markdown",
            "metadata": {},
            "source": [
                "<p class=\"\">What a drill on indexing and selecting data from Pandas DataFrames! You've done great! It's time to head over to Chapter 3 to learn all about logic, control flow, and filtering!</p>\n",
                "\n"
            ]
        },
        {
            "attachments": {},
            "cell_type": "markdown",
            "metadata": {},
            "source": [
                "# Logic, Control Flow and Filtering\n",
                "\n",
                "<p class=\"chapter__description\">\n",
                "    Boolean logic is the foundation of decision-making in Python programs. Learn about different comparison operators, how to combine them with Boolean operators, and how to use the Boolean outcomes in control structures. You'll also learn to filter data in pandas DataFrames using logic.\n",
                "  </p>\n",
                "  \n"
            ]
        },
        {
            "attachments": {},
            "cell_type": "markdown",
            "metadata": {},
            "source": [
                "## Comparison Operators\n",
                "\n",
                "\n",
                "\n"
            ]
        },
        {
            "attachments": {},
            "cell_type": "markdown",
            "metadata": {},
            "source": [
                "### Equality\n",
                "\n",
                "\n",
                "<div class>\n",
                "<p>To check if two Python values, or variables, are equal you can use <code>==</code>. To check for inequality, you need <code>!=</code>. As a refresher, have a look at the following examples that all result in <code>True</code>. Feel free to try them out in the IPython Shell.</p>\n",
                "<pre><code>2 == (1 + 1)\n",
                "\"intermediate\" != \"python\"\n",
                "True != False\n",
                "\"Python\" != \"python\"\n",
                "</code></pre>\n",
                "<p>When you write these comparisons in a script, you will need to wrap a <a href=\"https://docs.python.org/3/library/functions.html#print\"><code>print()</code></a> function around them to see the output.</p>\n",
                "</div>\n",
                "\n",
                "<li>In the editor on the right, write code to see if <code>True</code> equals <code>False</code>.</li>\n",
                "\n",
                "<li>Write Python code to check if <code>-5 * 15</code> is <em>not</em> equal to <code>75</code>.</li>\n",
                "\n",
                "<li>Ask Python whether the strings <code>\"pyscript\"</code> and <code>\"PyScript\"</code> are equal.</li>\n",
                "\n",
                "<li>What happens if you compare booleans and integers? Write code to see if <code>True</code> and <code>1</code> are equal.</li>\n",
                "<div>\n"
            ]
        },
        {
            "cell_type": "code",
            "execution_count": null,
            "metadata": {
                "vscode": {
                    "languageId": "r"
                }
            },
            "outputs": [],
            "source": [
                "# Comparison of booleans\n",
                "print(True == False)\n"
            ]
        },
        {
            "cell_type": "markdown",
            "metadata": {},
            "source": [
                "</div>\n",
                "<div>\n"
            ]
        },
        {
            "cell_type": "code",
            "execution_count": null,
            "metadata": {
                "vscode": {
                    "languageId": "r"
                }
            },
            "outputs": [],
            "source": [
                "# Comparison of integers\n",
                "print(-5 * 15 != 75)\n"
            ]
        },
        {
            "cell_type": "markdown",
            "metadata": {},
            "source": [
                "</div>\n",
                "<div>\n"
            ]
        },
        {
            "cell_type": "code",
            "execution_count": null,
            "metadata": {
                "vscode": {
                    "languageId": "r"
                }
            },
            "outputs": [],
            "source": [
                "# Comparison of strings\n",
                "print(\"pyscript\" == \"PyScript\")\n"
            ]
        },
        {
            "cell_type": "markdown",
            "metadata": {},
            "source": [
                "</div>\n",
                "<div>\n"
            ]
        },
        {
            "cell_type": "code",
            "execution_count": null,
            "metadata": {
                "vscode": {
                    "languageId": "r"
                }
            },
            "outputs": [],
            "source": [
                "# Compare a boolean with a numeric\n",
                "print(True == 1)\n"
            ]
        },
        {
            "attachments": {},
            "cell_type": "markdown",
            "metadata": {},
            "source": [
                "</div>\n",
                "\n"
            ]
        },
        {
            "attachments": {},
            "cell_type": "markdown",
            "metadata": {},
            "source": [
                "<p class=\"\">The last comparison worked fine because actually, a boolean is a special kind of integer: <code>True</code> corresponds to 1, <code>False</code> corresponds to 0.</p>\n",
                "\n"
            ]
        },
        {
            "attachments": {},
            "cell_type": "markdown",
            "metadata": {},
            "source": [
                "### Greater and less than\n",
                "\n",
                "\n",
                "<div class>\n",
                "<p>In the video, Hugo also talked about the less than and greater than signs, <code>&lt;</code> and <code>&gt;</code> in Python. You can combine them with an equals sign: <code>&lt;=</code> and <code>&gt;=</code>. Pay attention: <code>&lt;=</code> is valid syntax, but <code>=&lt;</code> is not.</p>\n",
                "<p>All Python expressions in the following code chunk evaluate to <code>True</code>:</p>\n",
                "<pre><code>3 &lt; 4\n",
                "3 &lt;= 4\n",
                "\"alpha\" &lt;= \"beta\"\n",
                "</code></pre>\n",
                "<p>Remember that for string comparison, Python determines the relationship based on alphabetical order.</p>\n",
                "</div>\n",
                "\n",
                "<li>Write Python expressions, wrapped in a <a href=\"https://docs.python.org/3/library/functions.html#print\"><code>print()</code></a> function, to check whether:\n",
                "<li>\n",
                "<code>x</code> is greater than or equal to <code>-10</code>. <code>x</code> has already been defined for you.</li>\n",
                "\n",
                "<li>\n",
                "<code>\"test\"</code> is less than or equal to <code>y</code>. <code>y</code> has already been defined for you.</li>\n",
                "\n",
                "<li>\n",
                "<code>True</code> is greater than <code>False</code>.</li>\n",
                "<div>\n"
            ]
        },
        {
            "cell_type": "code",
            "execution_count": null,
            "metadata": {
                "vscode": {
                    "languageId": "r"
                }
            },
            "outputs": [],
            "source": [
                "# Comparison of integers\n",
                "x = -3 * 6\n",
                "print(x >= -10)\n"
            ]
        },
        {
            "cell_type": "markdown",
            "metadata": {},
            "source": [
                "</div>\n",
                "<div>\n"
            ]
        },
        {
            "cell_type": "code",
            "execution_count": null,
            "metadata": {
                "vscode": {
                    "languageId": "r"
                }
            },
            "outputs": [],
            "source": [
                "# Comparison of strings\n",
                "y = \"test\"\n",
                "print(\"test\" <= y)\n"
            ]
        },
        {
            "cell_type": "markdown",
            "metadata": {},
            "source": [
                "</div>\n",
                "<div>\n"
            ]
        },
        {
            "cell_type": "code",
            "execution_count": null,
            "metadata": {
                "vscode": {
                    "languageId": "r"
                }
            },
            "outputs": [],
            "source": [
                "# Comparison of booleans\n",
                "print(True > False)\n"
            ]
        },
        {
            "attachments": {},
            "cell_type": "markdown",
            "metadata": {},
            "source": [
                "</div>\n",
                "</li>\n",
                "\n",
                "\n"
            ]
        },
        {
            "attachments": {},
            "cell_type": "markdown",
            "metadata": {},
            "source": [
                "<p class=\"\">Great job!</p>\n",
                "\n"
            ]
        },
        {
            "attachments": {},
            "cell_type": "markdown",
            "metadata": {},
            "source": [
                "### Compare arrays\n",
                "\n",
                "\n",
                "<div class>\n",
                "<p>Out of the box, you can also use comparison operators with NumPy arrays.</p>\n",
                "<p>Remember <code>areas</code>, the list of area measurements for different rooms in your house from <em>Introduction to Python</em>? This time there's two NumPy arrays: <code>my_house</code> and <code>your_house</code>. They both contain the areas for the kitchen, living room, bedroom and bathroom in the same order, so you can compare them.</p>\n",
                "</div>\n",
                "<div class=\"exercise--instructions__content\">\n",
                "<p>Using comparison operators, generate boolean arrays that answer the following questions:</p>\n",
                "\n",
                "<li>Which areas in <code>my_house</code> are greater than or equal to <code>18</code>?</li>\n",
                "\n",
                "<li>You can also compare two NumPy arrays element-wise. Which areas in <code>my_house</code> are smaller than the ones in <code>your_house</code>?</li>\n",
                "\n",
                "<li>Make sure to wrap both commands in a <a href=\"https://docs.python.org/3/library/functions.html#print\"><code>print()</code></a> statement so that you can inspect the output!</li>\n",
                "<div>\n"
            ]
        },
        {
            "cell_type": "code",
            "execution_count": null,
            "metadata": {
                "vscode": {
                    "languageId": "r"
                }
            },
            "outputs": [],
            "source": [
                "# Create arrays\n",
                "import numpy as np\n",
                "my_house = np.array([18.0, 20.0, 10.75, 9.50])\n",
                "your_house = np.array([14.0, 24.0, 14.25, 9.0])\n",
                "\n",
                "# my_house greater than or equal to 18\n",
                "print(my_house >= 18)\n"
            ]
        },
        {
            "cell_type": "markdown",
            "metadata": {},
            "source": [
                "</div>\n",
                "<div>\n"
            ]
        },
        {
            "cell_type": "code",
            "execution_count": null,
            "metadata": {
                "vscode": {
                    "languageId": "r"
                }
            },
            "outputs": [],
            "source": [
                "# my_house less than your_house\n",
                "print(my_house < your_house)\n"
            ]
        },
        {
            "attachments": {},
            "cell_type": "markdown",
            "metadata": {},
            "source": [
                "</div>\n",
                "\n",
                "</div>\n",
                "\n"
            ]
        },
        {
            "attachments": {},
            "cell_type": "markdown",
            "metadata": {},
            "source": [
                "<p class=\"\">Good job. It appears that the living room and bedroom in <code>my_house</code> are smaller than the corresponding areas in <code>your_house</code>.</p>\n",
                "\n"
            ]
        },
        {
            "attachments": {},
            "cell_type": "markdown",
            "metadata": {},
            "source": [
                "## Boolean Operators\n",
                "\n",
                "\n",
                "\n"
            ]
        },
        {
            "attachments": {},
            "cell_type": "markdown",
            "metadata": {},
            "source": [
                "### and, or, not (1)\n",
                "\n",
                "\n",
                "<div class>\n",
                "<p>A boolean is either <code>1</code> or <code>0</code>, <code>True</code> or <code>False</code>. With boolean operators such as <code>and</code>, <code>or</code> and <code>not</code>, you can combine these booleans to perform more advanced queries on your data.</p>\n",
                "<p>In the sample code, two variables are defined: <code>my_kitchen</code> and <code>your_kitchen</code>, representing areas.</p>\n",
                "</div>\n",
                "\n",
                "<li>Write Python expressions, wrapped in a <a href=\"https://docs.python.org/3/library/functions.html#print\"><code>print()</code></a> function, to check whether:\n",
                "<li>\n",
                "<code>my_kitchen</code> is bigger than 10 and smaller than 18.</li>\n",
                "\n",
                "<li>\n",
                "<code>my_kitchen</code> is smaller than 14 or bigger than 17.</li>\n",
                "\n",
                "<li>double the area of <code>my_kitchen</code> is smaller than triple the area of <code>your_kitchen</code>.</li>\n",
                "<div>\n"
            ]
        },
        {
            "cell_type": "code",
            "execution_count": null,
            "metadata": {
                "vscode": {
                    "languageId": "r"
                }
            },
            "outputs": [],
            "source": [
                "# Define variables\n",
                "my_kitchen = 18.0\n",
                "your_kitchen = 14.0\n",
                "\n",
                "# my_kitchen bigger than 10 and smaller than 18?\n",
                "print(my_kitchen > 10 and my_kitchen < 18)\n"
            ]
        },
        {
            "cell_type": "markdown",
            "metadata": {},
            "source": [
                "</div>\n",
                "<div>\n"
            ]
        },
        {
            "cell_type": "code",
            "execution_count": null,
            "metadata": {
                "vscode": {
                    "languageId": "r"
                }
            },
            "outputs": [],
            "source": [
                "# my_kitchen smaller than 14 or bigger than 17?\n",
                "print(my_kitchen < 14 or my_kitchen > 17)\n"
            ]
        },
        {
            "cell_type": "markdown",
            "metadata": {},
            "source": [
                "</div>\n",
                "<div>\n"
            ]
        },
        {
            "cell_type": "code",
            "execution_count": null,
            "metadata": {
                "vscode": {
                    "languageId": "r"
                }
            },
            "outputs": [],
            "source": [
                "# Double my_kitchen smaller than triple your_kitchen?\n",
                "print(my_kitchen * 2 < your_kitchen * 3)\n"
            ]
        },
        {
            "attachments": {},
            "cell_type": "markdown",
            "metadata": {},
            "source": [
                "</div>\n",
                "\n"
            ]
        },
        {
            "attachments": {},
            "cell_type": "markdown",
            "metadata": {},
            "source": [
                "<p class=\"\">Good job!</p>\n",
                "\n"
            ]
        },
        {
            "attachments": {},
            "cell_type": "markdown",
            "metadata": {},
            "source": [
                "### and, or, not (2)\n",
                "\n",
                "\n",
                "<div class>\n",
                "<p>To see if you completely understood the boolean operators, have a look at the following piece of Python code:</p>\n",
                "<pre><code>x = 8\n",
                "y = 9\n",
                "not(not(x &lt; 3) and not(y &gt; 14 or y &gt; 10))\n",
                "</code></pre>\n",
                "<p>What will the result be if you execute these three commands in the IPython Shell?</p>\n",
                "<p><em>NB: Notice that <code>not</code> has a higher priority than <code>and</code> and <code>or</code>, it is executed first.</em></p>\n",
                "</div>\n",
                "\n"
            ]
        },
        {
            "attachments": {},
            "cell_type": "markdown",
            "metadata": {},
            "source": [
                "- [ ] True\n",
                "- [x] False\n",
                "- [ ] Running these commands will result in an error.\n",
                "\n"
            ]
        },
        {
            "attachments": {},
            "cell_type": "markdown",
            "metadata": {},
            "source": [
                "<p class=\"\">Correct! <code>x &lt; 3</code> is <code>False</code>. <code>y &gt; 14 or y &gt; 10</code> is <code>False</code> as well. If you continue working like this, simplifying from inside outwards, you'll end up with <code>False</code>.</p>\n",
                "\n"
            ]
        },
        {
            "attachments": {},
            "cell_type": "markdown",
            "metadata": {},
            "source": [
                "### Boolean operators with NumPy\n",
                "\n",
                "\n",
                "<div class>\n",
                "<p>Before, the operational operators like <code>&lt;</code> and <code>&gt;=</code> worked with NumPy arrays out of the box. Unfortunately, this is not true for the boolean operators <code>and</code>, <code>or</code>, and <code>not</code>.</p>\n",
                "<p>To use these operators with NumPy, you will need <a href=\"http://docs.scipy.org/doc/numpy-1.10.0/reference/generated/numpy.logical_and.html\"><code>np.logical_and()</code></a>, <a href=\"http://docs.scipy.org/doc/numpy-1.10.0/reference/generated/numpy.logical_or.html\"><code>np.logical_or()</code></a> and <a href=\"http://docs.scipy.org/doc/numpy-1.10.0/reference/generated/numpy.logical_not.html\"><code>np.logical_not()</code></a>. Here's an example on the <code>my_house</code> and <code>your_house</code> arrays from before to give you an idea:</p>\n",
                "<pre><code>np.logical_and(my_house &gt; 13, \n",
                "               your_house &lt; 15)\n",
                "</code></pre>\n",
                "</div>\n",
                "\n",
                "<li>Generate boolean arrays that answer the following questions:</li>\n",
                "\n",
                "<li>Which areas in <code>my_house</code> are greater than <code>18.5</code> or smaller than <code>10</code>?</li>\n",
                "\n",
                "<li>Which areas are smaller than <code>11</code> in both <code>my_house</code> and <code>your_house</code>? Make sure to wrap both commands in <a href=\"https://docs.python.org/3/library/functions.html#print\"><code>print()</code></a> statement, so that you can inspect the output.</li>\n",
                "<div>\n"
            ]
        },
        {
            "cell_type": "code",
            "execution_count": null,
            "metadata": {
                "vscode": {
                    "languageId": "r"
                }
            },
            "outputs": [],
            "source": [
                "# Create arrays\n",
                "import numpy as np\n",
                "my_house = np.array([18.0, 20.0, 10.75, 9.50])\n",
                "your_house = np.array([14.0, 24.0, 14.25, 9.0])\n",
                "\n",
                "# my_house greater than 18.5 or smaller than 10\n",
                "print(np.logical_or(my_house > 18.5, my_house < 10))\n"
            ]
        },
        {
            "cell_type": "markdown",
            "metadata": {},
            "source": [
                "</div>\n",
                "<div>\n"
            ]
        },
        {
            "cell_type": "code",
            "execution_count": null,
            "metadata": {
                "vscode": {
                    "languageId": "r"
                }
            },
            "outputs": [],
            "source": [
                "# Both my_house and your_house smaller than 11\n",
                "print(np.logical_and(my_house < 11, your_house < 11))\n"
            ]
        },
        {
            "attachments": {},
            "cell_type": "markdown",
            "metadata": {},
            "source": [
                "</div>\n",
                "\n"
            ]
        },
        {
            "attachments": {},
            "cell_type": "markdown",
            "metadata": {},
            "source": [
                "<p class=\"\">Correcto perfecto!</p>\n",
                "\n"
            ]
        },
        {
            "attachments": {},
            "cell_type": "markdown",
            "metadata": {},
            "source": [
                "## if, elif, else\n",
                "\n",
                "\n",
                "\n"
            ]
        },
        {
            "attachments": {},
            "cell_type": "markdown",
            "metadata": {},
            "source": [
                "### Warmup\n",
                "\n",
                "\n",
                "<div class>\n",
                "<p>To experiment with <code>if</code> and <code>else</code> a bit, have a look at this code sample:</p>\n",
                "<pre><code>area = 10.0\n",
                "if(area &lt; 9) :\n",
                "    print(\"small\")\n",
                "elif(area &lt; 12) :\n",
                "    print(\"medium\")\n",
                "else :\n",
                "    print(\"large\")\n",
                "</code></pre>\n",
                "<p>What will the output be if you run this piece of code in the IPython Shell?</p>\n",
                "</div>\n",
                "\n"
            ]
        },
        {
            "attachments": {},
            "cell_type": "markdown",
            "metadata": {},
            "source": [
                "- [ ] <code>small</code>\n",
                "- [x] <code>medium</code>\n",
                "- [ ] <code>large</code>\n",
                "- [ ] The syntax is incorrect; this code will produce an error.\n",
                "\n"
            ]
        },
        {
            "attachments": {},
            "cell_type": "markdown",
            "metadata": {},
            "source": [
                "<p class=\"\">Exactly!</p>\n",
                "\n"
            ]
        },
        {
            "attachments": {},
            "cell_type": "markdown",
            "metadata": {},
            "source": [
                "### if\n",
                "\n",
                "\n",
                "<div class>\n",
                "<p>It's time to take a closer look around in your house.</p>\n",
                "<p>Two variables are defined in the sample code: <code>room</code>, a string that tells you which room of the house we're looking at, and <code>area</code>, the area of that room.</p>\n",
                "</div>\n",
                "\n",
                "<li>Examine the <code>if</code> statement that prints out <code>\"looking around in the kitchen.\"</code> if <code>room</code> equals <code>\"kit\"</code>.</li>\n",
                "\n",
                "<li>Write another <code>if</code> statement that prints out \"big place!\" if <code>area</code> is greater than 15.</li>\n",
                "<div>\n"
            ]
        },
        {
            "cell_type": "code",
            "execution_count": null,
            "metadata": {
                "vscode": {
                    "languageId": "r"
                }
            },
            "outputs": [],
            "source": [
                "# Define variables\n",
                "room = \"kit\"\n",
                "area = 14.0\n"
            ]
        },
        {
            "cell_type": "markdown",
            "metadata": {},
            "source": [
                "</div>\n",
                "<div>\n"
            ]
        },
        {
            "cell_type": "code",
            "execution_count": null,
            "metadata": {
                "vscode": {
                    "languageId": "r"
                }
            },
            "outputs": [],
            "source": [
                "# if statement for room\n",
                "if room == \"kit\" :\n",
                "    print(\"looking around in the kitchen.\")\n",
                "    \n",
                "# if statement for area\n",
                "if area > 15 :\n",
                "    print(\"big place!\")\n"
            ]
        },
        {
            "attachments": {},
            "cell_type": "markdown",
            "metadata": {},
            "source": [
                "</div>\n",
                "\n"
            ]
        },
        {
            "attachments": {},
            "cell_type": "markdown",
            "metadata": {},
            "source": [
                "<p class=\"\">Great! <code>big place!</code> wasn't printed, because <code>area &gt; 15</code> is not <code>True</code>. Experiment with other values of <code>room</code> and <code>area</code> to see how the printouts change.</p>\n",
                "\n"
            ]
        },
        {
            "attachments": {},
            "cell_type": "markdown",
            "metadata": {},
            "source": [
                "### Add else\n",
                "\n",
                "\n",
                "<div class>\n",
                "<p>In the script, the <code>if</code> construct for <code>room</code> has been extended with an <code>else</code> statement so that \"looking around elsewhere.\" is printed if the condition <code>room == \"kit\"</code> evaluates to <code>False</code>.</p>\n",
                "<p>Can you do a similar thing to add more functionality to the <code>if</code> construct for <code>area</code>?</p>\n",
                "</div>\n",
                "<div class=\"exercise--instructions__content\"><p>Add an <code>else</code> statement to the second control structure so that \"pretty small.\" is printed out if <code>area &gt; 15</code> evaluates to <code>False</code>.</p></div>\n",
                "\n",
                "\n",
                "<div>\n"
            ]
        },
        {
            "cell_type": "code",
            "execution_count": null,
            "metadata": {
                "vscode": {
                    "languageId": "r"
                }
            },
            "outputs": [],
            "source": [
                "# Define variables\n",
                "room = \"kit\"\n",
                "area = 14.0\n"
            ]
        },
        {
            "cell_type": "markdown",
            "metadata": {},
            "source": [
                "</div>\n",
                "<div>\n"
            ]
        },
        {
            "cell_type": "code",
            "execution_count": null,
            "metadata": {
                "vscode": {
                    "languageId": "r"
                }
            },
            "outputs": [],
            "source": [
                "# if-else construct for room\n",
                "if room == \"kit\" :\n",
                "    print(\"looking around in the kitchen.\")\n",
                "else :\n",
                "    print(\"looking around elsewhere.\")\n"
            ]
        },
        {
            "cell_type": "markdown",
            "metadata": {},
            "source": [
                "</div>\n",
                "<div>\n"
            ]
        },
        {
            "cell_type": "code",
            "execution_count": null,
            "metadata": {
                "vscode": {
                    "languageId": "r"
                }
            },
            "outputs": [],
            "source": [
                "# if-else construct for area :\n",
                "if area > 15 :\n",
                "    print(\"big place!\")\n",
                "else :\n",
                "    print(\"pretty small.\")\n"
            ]
        },
        {
            "attachments": {},
            "cell_type": "markdown",
            "metadata": {},
            "source": [
                "</div>\n",
                "\n"
            ]
        },
        {
            "attachments": {},
            "cell_type": "markdown",
            "metadata": {},
            "source": [
                "<p class=\"\">Nice! Again, feel free to play around with different values of <code>room</code> and <code>area</code> some more. After, head over to the next exercise where you'll take this customization one step further!</p>\n",
                "\n"
            ]
        },
        {
            "attachments": {},
            "cell_type": "markdown",
            "metadata": {},
            "source": [
                "### Customize further: elif\n",
                "\n",
                "\n",
                "<div class>\n",
                "<p>It's also possible to have a look around in the bedroom. The sample code contains an <code>elif</code> part that checks if <code>room</code> equals \"bed\". In that case, \"looking around in the bedroom.\" is printed out.</p>\n",
                "<p>It's up to you now! Make a similar addition to the second control structure to further customize the messages for different values of <code>area</code>.</p>\n",
                "</div>\n",
                "<div class=\"exercise--instructions__content\"><p>Add an <code>elif</code> to the second control structure such that \"medium size, nice!\" is printed out if <code>area</code> is greater than <code>10</code>.</p></div>\n",
                "\n",
                "\n",
                "<div>\n"
            ]
        },
        {
            "cell_type": "code",
            "execution_count": null,
            "metadata": {
                "vscode": {
                    "languageId": "r"
                }
            },
            "outputs": [],
            "source": [
                "# Define variables\n",
                "room = \"bed\"\n",
                "area = 14.0\n",
                "\n",
                "# if-elif-else construct for room\n",
                "if room == \"kit\" :\n",
                "    print(\"looking around in the kitchen.\")\n",
                "elif room == \"bed\":\n",
                "    print(\"looking around in the bedroom.\")\n",
                "else :\n",
                "    print(\"looking around elsewhere.\")\n"
            ]
        },
        {
            "cell_type": "markdown",
            "metadata": {},
            "source": [
                "</div>\n",
                "<div>\n"
            ]
        },
        {
            "cell_type": "code",
            "execution_count": null,
            "metadata": {
                "vscode": {
                    "languageId": "r"
                }
            },
            "outputs": [],
            "source": [
                "# if-elif-else construct for area\n",
                "if area > 15 :\n",
                "    print(\"big place!\")\n",
                "elif area > 10 :\n",
                "    print(\"medium size, nice!\")\n",
                "else :\n",
                "    print(\"pretty small.\")\n"
            ]
        },
        {
            "attachments": {},
            "cell_type": "markdown",
            "metadata": {},
            "source": [
                "</div>\n",
                "\n"
            ]
        },
        {
            "attachments": {},
            "cell_type": "markdown",
            "metadata": {},
            "source": [
                "<p class=\"\">Well done!</p>\n",
                "\n"
            ]
        },
        {
            "attachments": {},
            "cell_type": "markdown",
            "metadata": {},
            "source": [
                "## Filtering pandas DataFrames\n",
                "\n",
                "\n",
                "\n"
            ]
        },
        {
            "attachments": {},
            "cell_type": "markdown",
            "metadata": {},
            "source": [
                "### Driving right (1)\n",
                "\n",
                "\n",
                "<div class>\n",
                "<p>Remember that <code>cars</code> dataset, containing the cars per 1000 people (<code>cars_per_cap</code>) and whether people drive right (<code>drives_right</code>) for different countries (<code>country</code>)? The code that imports this data in CSV format into Python as a DataFrame is included in the script.</p>\n",
                "<p>In the video, you saw a step-by-step approach to filter observations from a DataFrame based on boolean arrays. Let's start simple and try to find all observations in <code>cars</code> where <code>drives_right</code> is <code>True</code>.</p>\n",
                "<p><code>drives_right</code> is a boolean column, so you'll have to extract it as a Series and then use this boolean Series to select observations from <code>cars</code>.</p>\n",
                "</div>\n",
                "\n",
                "<li>Extract the <code>drives_right</code> column <em>as a Pandas Series</em> and store it as <code>dr</code>.</li>\n",
                "\n",
                "<li>Use <code>dr</code>, a boolean Series, to subset the <code>cars</code> DataFrame. Store the resulting selection in <code>sel</code>.</li>\n",
                "\n",
                "<li>Print <code>sel</code>, and assert that <code>drives_right</code> is <code>True</code> for all observations.</li>\n",
                "<div>\n"
            ]
        },
        {
            "cell_type": "code",
            "execution_count": null,
            "metadata": {
                "vscode": {
                    "languageId": "r"
                }
            },
            "outputs": [],
            "source": [
                "# Import cars data\n",
                "import pandas as pd\n",
                "cars = pd.read_csv('datasets/Intermediate-Python/cars.csv', index_col = 0)\n",
                "\n",
                "# Extract drives_right column as Series: dr\n",
                "dr = cars['drives_right']\n",
                "\n",
                "# Use dr to subset cars: sel\n",
                "sel = cars[dr]\n",
                "\n",
                "# Print sel\n",
                "print(sel)\n"
            ]
        },
        {
            "attachments": {},
            "cell_type": "markdown",
            "metadata": {},
            "source": [
                "</div>\n",
                "\n"
            ]
        },
        {
            "attachments": {},
            "cell_type": "markdown",
            "metadata": {},
            "source": [
                "<p class=\"\">Great job!</p>\n",
                "\n"
            ]
        },
        {
            "attachments": {},
            "cell_type": "markdown",
            "metadata": {},
            "source": [
                "### Driving right (2)\n",
                "\n",
                "\n",
                "<div class><p>The code in the previous example worked fine, but you actually unnecessarily created a new variable <code>dr</code>. You can achieve the same result without this intermediate variable. Put the code that computes <code>dr</code> straight into the square brackets that select observations from <code>cars</code>.</p></div>\n",
                "<div class=\"exercise--instructions__content\"><p>Convert the code to a one-liner that calculates the variable <code>sel</code> as before.</p></div>\n",
                "<div>\n"
            ]
        },
        {
            "cell_type": "code",
            "execution_count": null,
            "metadata": {
                "vscode": {
                    "languageId": "r"
                }
            },
            "outputs": [],
            "source": [
                "# Import cars data\n",
                "import pandas as pd\n",
                "cars = pd.read_csv('datasets/Intermediate-Python/cars.csv', index_col = 0)\n",
                "\n",
                "# Convert code to a one-liner\n",
                "sel = cars[cars['drives_right']]\n",
                "\n",
                "# Print sel\n",
                "print(sel)\n"
            ]
        },
        {
            "attachments": {},
            "cell_type": "markdown",
            "metadata": {},
            "source": [
                "</div>\n",
                "\n"
            ]
        },
        {
            "attachments": {},
            "cell_type": "markdown",
            "metadata": {},
            "source": [
                "<p class=\"\">Nice one! <code>cars</code> contains 7 rows or observations, <code>sel</code> contains 4; so in the majority of the countries in your dataset, people drive on the right side of the road.</p>\n",
                "\n"
            ]
        },
        {
            "attachments": {},
            "cell_type": "markdown",
            "metadata": {},
            "source": [
                "### Cars per capita (1)\n",
                "\n",
                "\n",
                "<div class>\n",
                "<p>Let's stick to the <code>cars</code> data some more. This time you want to find out which countries have a high <em>cars per capita</em> figure. In other words, in which countries do many people have a car, or maybe multiple cars.</p>\n",
                "<p>Similar to the previous example, you'll want to build up a boolean Series, that you can then use to subset the <code>cars</code> DataFrame to select certain observations. If you want to do this in a one-liner, that's perfectly fine!</p>\n",
                "</div>\n",
                "\n",
                "<li>Select the <code>cars_per_cap</code> column from <code>cars</code> as a Pandas Series and store it as <code>cpc</code>.</li>\n",
                "\n",
                "<li>Use <code>cpc</code> in combination with a comparison operator and <code>500</code>. You want to end up with a boolean Series that's <code>True</code> if the corresponding country has a <code>cars_per_cap</code> of more than <code>500</code> and <code>False</code> otherwise. Store this boolean Series as <code>many_cars</code>.</li>\n",
                "\n",
                "<li>Use <code>many_cars</code> to subset <code>cars</code>, similar to what you did before. Store the result as <code>car_maniac</code>.</li>\n",
                "\n",
                "<li>Print out <code>car_maniac</code> to see if you got it right.</li>\n",
                "<div>\n"
            ]
        },
        {
            "cell_type": "code",
            "execution_count": null,
            "metadata": {
                "vscode": {
                    "languageId": "r"
                }
            },
            "outputs": [],
            "source": [
                "# Import cars data\n",
                "import pandas as pd\n",
                "cars = pd.read_csv('datasets/Intermediate-Python/cars.csv', index_col = 0)\n",
                "\n",
                "# Create car_maniac: observations that have a cars_per_cap over 500\n",
                "cpc = cars['cars_per_cap']\n",
                "many_cars = cpc > 500\n",
                "car_maniac = cars[many_cars]\n",
                "\n",
                "# Print car_maniac\n",
                "print(car_maniac)\n"
            ]
        },
        {
            "attachments": {},
            "cell_type": "markdown",
            "metadata": {},
            "source": [
                "</div>\n",
                "\n"
            ]
        },
        {
            "attachments": {},
            "cell_type": "markdown",
            "metadata": {},
            "source": [
                "<p class=\"\">Good job! The output shows that the US, Australia and Japan have a <code>cars_per_cap</code> of over 500.</p>\n",
                "\n"
            ]
        },
        {
            "attachments": {},
            "cell_type": "markdown",
            "metadata": {},
            "source": [
                "### Cars per capita (2)\n",
                "\n",
                "\n",
                "<div class>\n",
                "<p>Remember about <a href=\"http://docs.scipy.org/doc/numpy-1.10.0/reference/generated/numpy.logical_and.html\"><code>np.logical_and()</code></a>, <a href=\"http://docs.scipy.org/doc/numpy-1.10.0/reference/generated/numpy.logical_or.html\"><code>np.logical_or()</code></a> and <a href=\"http://docs.scipy.org/doc/numpy-1.10.0/reference/generated/numpy.logical_not.html\"><code>np.logical_not()</code></a>, the NumPy variants of the <code>and</code>, <code>or</code> and <code>not</code> operators? You can also use them on Pandas Series to do more advanced filtering operations.</p>\n",
                "<p>Take this example that selects the observations that have a <code>cars_per_cap</code> between 10 and 80. Try out these lines of code step by step to see what's happening.</p>\n",
                "<pre><code>cpc = cars['cars_per_cap']\n",
                "between = np.logical_and(cpc &gt; 10, cpc &lt; 80)\n",
                "medium = cars[between]\n",
                "</code></pre>\n",
                "</div>\n",
                "\n",
                "<li>Use the code sample provided to create a DataFrame <code>medium</code>, that includes all the observations of <code>cars</code> that have a <code>cars_per_cap</code> between <code>100</code> and <code>500</code>.</li>\n",
                "\n",
                "<li>Print out <code>medium</code>.</li>\n",
                "<div>\n"
            ]
        },
        {
            "cell_type": "code",
            "execution_count": null,
            "metadata": {
                "vscode": {
                    "languageId": "r"
                }
            },
            "outputs": [],
            "source": [
                "# Import cars data\n",
                "import pandas as pd\n",
                "cars = pd.read_csv('datasets/Intermediate-Python/cars.csv', index_col = 0)\n",
                "\n",
                "# Import numpy, you'll need this\n",
                "import numpy as np\n",
                "\n",
                "# Create medium: observations with cars_per_cap between 100 and 500\n",
                "cpc = cars['cars_per_cap']\n",
                "between = np.logical_and(cpc > 100, cpc < 500)\n",
                "medium = cars[between]\n",
                "\n",
                "# Print medium\n",
                "print(medium)\n"
            ]
        },
        {
            "attachments": {},
            "cell_type": "markdown",
            "metadata": {},
            "source": [
                "</div>\n",
                "\n"
            ]
        },
        {
            "attachments": {},
            "cell_type": "markdown",
            "metadata": {},
            "source": [
                "<p class=\"\">Great work!</p>\n",
                "\n"
            ]
        },
        {
            "attachments": {},
            "cell_type": "markdown",
            "metadata": {},
            "source": [
                "# Loops\n",
                "\n",
                "<p class=\"chapter__description\">\n",
                "    There are several techniques you can use to repeatedly execute Python code. While loops are like repeated if statements, the for loop iterates over all kinds of data structures. Learn all about them in this chapter.\n",
                "  </p>\n",
                "\n"
            ]
        },
        {
            "attachments": {},
            "cell_type": "markdown",
            "metadata": {},
            "source": [
                "## while loop\n",
                "\n",
                "\n",
                "\n"
            ]
        },
        {
            "attachments": {},
            "cell_type": "markdown",
            "metadata": {},
            "source": [
                "### while: warming up\n",
                "\n",
                "\n",
                "<div class>\n",
                "<p>The while loop is like a repeated if statement. The code is executed over and over again, as long as the condition is <code>True</code>. Have another look at its recipe.</p>\n",
                "<pre><code>while condition :\n",
                "    expression\n",
                "</code></pre>\n",
                "<p>Can you tell how many printouts the following <code>while</code> loop will do?</p>\n",
                "<pre><code>x = 1\n",
                "while x &lt; 4 :\n",
                "    print(x)\n",
                "    x = x + 1\n",
                "</code></pre>\n",
                "</div>\n",
                "\n"
            ]
        },
        {
            "attachments": {},
            "cell_type": "markdown",
            "metadata": {},
            "source": [
                "- [ ] 0\n",
                "- [ ] 1\n",
                "- [ ] 2\n",
                "- [x] 3\n",
                "- [ ] 4\n",
                "\n"
            ]
        },
        {
            "attachments": {},
            "cell_type": "markdown",
            "metadata": {},
            "source": [
                "<p class=\"\">Correct! After 3 runs, <code>x</code> will be equal to 4, causing <code>x &lt; 4</code> to evaluate to <code>False</code>. This means that the <code>while</code> loop is executed 3 times, giving three printouts.</p>\n",
                "\n"
            ]
        },
        {
            "attachments": {},
            "cell_type": "markdown",
            "metadata": {},
            "source": [
                "### Basic while loop\n",
                "\n",
                "\n",
                "<div class>\n",
                "<p>Below you can find the example from the video where the <code>error</code> variable, initially equal to <code>50.0</code>, is divided by 4 and printed out on every run:</p>\n",
                "<pre><code>error = 50.0\n",
                "while error &gt; 1 :\n",
                "    error = error / 4\n",
                "    print(error)\n",
                "</code></pre>\n",
                "<p>This example will come in handy, because it's time to build a <code>while</code> loop yourself! We're going to code a <code>while</code> loop that implements a very basic control system for an <a href=\"https://en.wikipedia.org/wiki/Inverted_pendulum\">inverted pendulum</a>. If there's an offset from standing perfectly straight, the <code>while</code> loop will incrementally fix this offset.</p>\n",
                "<p>Note that if your <code>while</code> loop takes too long to run, you might have made a mistake. In particular, remember to <strong>indent</strong> the contents of the loop using four spaces or auto-indentation!</p>\n",
                "</div>\n",
                "\n",
                "<li>Create the variable <code>offset</code> with an initial value of <code>8</code>.</li>\n",
                "\n",
                "<li>Code a <code>while</code> loop that keeps running as long as <code>offset</code> is not equal to <code>0</code>. Inside the <code>while</code> loop:<ul>\n",
                "<li>Print out the sentence <code>\"correcting...\"</code>.</li>\n",
                "\n",
                "<li>Next, decrease the value of <code>offset</code> by 1. You can do this with <code>offset = offset - 1</code>.</li>\n",
                "\n",
                "<li>Finally, still within your loop, print out <code>offset</code> so you can see how it changes.</li>\n",
                "\n",
                "</ul>\n",
                "</li>\n",
                "<div>\n"
            ]
        },
        {
            "cell_type": "code",
            "execution_count": null,
            "metadata": {
                "vscode": {
                    "languageId": "r"
                }
            },
            "outputs": [],
            "source": [
                "# Initialize offset\n",
                "offset = 8\n",
                "\n",
                "# Code the while loop\n",
                "while offset != 0 :\n",
                "    print(\"correcting...\")\n",
                "    offset = offset - 1\n",
                "    print(offset)\n"
            ]
        },
        {
            "attachments": {},
            "cell_type": "markdown",
            "metadata": {},
            "source": [
                "</div>\n",
                "\n"
            ]
        },
        {
            "attachments": {},
            "cell_type": "markdown",
            "metadata": {},
            "source": [
                "<p class=\"\">Well done!</p>\n",
                "\n"
            ]
        },
        {
            "attachments": {},
            "cell_type": "markdown",
            "metadata": {},
            "source": [
                "### Add conditionals\n",
                "\n",
                "\n",
                "<div class>\n",
                "<p>The <code>while</code> loop that corrects the <code>offset</code> is a good start, but what if <code>offset</code> is negative? You can try to run the following code where <code>offset</code> is initialized to <code>-6</code>: </p>\n",
                "<pre><code># Initialize offset\n",
                "offset = -6</code>\n",
                "\n",
                "<code># Code the while loop\n",
                "while offset != 0 :\n",
                "    print(\"correcting...\")\n",
                "    offset = offset - 1\n",
                "    print(offset)\n",
                "</code></pre>\n",
                "<p>but your session will be disconnected. The <code>while</code> loop will never stop running, because <code>offset</code> will be further decreased on every run. <code>offset != 0</code> will never become <code>False</code> and the <code>while</code> loop continues forever.</p>\n",
                "<p>Fix things by putting an <code>if</code>-<code>else</code> statement inside the <code>while</code> loop. If your code is still taking too long to run, you probably made a mistake!</p>\n",
                "</div>\n",
                "<div class=\"exercise--instructions__content\">\n",
                "<ul>\n",
                "<li>\n",
                "<strong>Inside</strong> the <code>while</code> loop, complete the <code>if</code>-<code>else</code> statement:\n",
                "<li>If <code>offset</code> is greater than zero, you should decrease <code>offset</code> by 1.</li>\n",
                "<li>Else, you should increase <code>offset</code> by 1.</li>\n",
                "</ul>\n",
                "</li>\n",
                "\n",
                "<li>If you've coded things correctly, hitting <em>Submit Answer</em> should work this time. </li>\n",
                "<p><em>If your code is still taking too long to run (or your session is expiring), you probably made a mistake. Check your code and make sure that the statement <code>offset != 0</code> will eventually evaluate to <code>FALSE</code>!</em></p>\n",
                "</div>\n",
                "\n",
                "<div>\n"
            ]
        },
        {
            "cell_type": "code",
            "execution_count": null,
            "metadata": {
                "vscode": {
                    "languageId": "r"
                }
            },
            "outputs": [],
            "source": [
                "# Initialize offset\n",
                "offset = -6\n",
                "\n",
                "# Code the while loop\n",
                "while offset != 0 :\n",
                "    print(\"correcting...\")\n",
                "    if offset > 0 :\n",
                "        offset = offset - 1\n",
                "    else :\n",
                "        offset = offset + 1\n",
                "    print(offset)\n"
            ]
        },
        {
            "attachments": {},
            "cell_type": "markdown",
            "metadata": {},
            "source": [
                "</div>\n",
                "\n"
            ]
        },
        {
            "attachments": {},
            "cell_type": "markdown",
            "metadata": {},
            "source": [
                "<p class=\"\">Good work! The <code>while</code> loop is not that often used in Data Science, so let's head over to the <code>for</code> loop.</p>\n",
                "\n"
            ]
        },
        {
            "attachments": {},
            "cell_type": "markdown",
            "metadata": {},
            "source": [
                "## for loop\n",
                "\n",
                "\n",
                "\n"
            ]
        },
        {
            "attachments": {},
            "cell_type": "markdown",
            "metadata": {},
            "source": [
                "### Loop over a list\n",
                "\n",
                "\n",
                "<div class>\n",
                "<p>Have another look at the <code>for</code> loop that Hugo showed in the video:</p>\n",
                "<pre><code>fam = [1.73, 1.68, 1.71, 1.89]\n",
                "for height in fam : \n",
                "    print(height)\n",
                "</code></pre>\n",
                "<p>As usual, you simply have to indent the code with 4 spaces to tell Python which code should be executed in the <code>for</code> loop.</p>\n",
                "<p>The <code>areas</code> variable, containing the area of different rooms in your house, is already defined.</p>\n",
                "</div>\n",
                "<div class=\"exercise--instructions__content\"><p>Write a <code>for</code> loop that iterates over all elements of the <code>areas</code> list and prints out every element separately.</p></div>\n",
                "<div>\n"
            ]
        },
        {
            "cell_type": "code",
            "execution_count": null,
            "metadata": {
                "vscode": {
                    "languageId": "r"
                }
            },
            "outputs": [],
            "source": [
                "# areas list\n",
                "areas = [11.25, 18.0, 20.0, 10.75, 9.50]\n",
                "\n",
                "# Code the for loop\n",
                "for area in areas :\n",
                "    print(area)\n"
            ]
        },
        {
            "attachments": {},
            "cell_type": "markdown",
            "metadata": {},
            "source": [
                "</div>\n",
                "\n"
            ]
        },
        {
            "attachments": {},
            "cell_type": "markdown",
            "metadata": {},
            "source": [
                "<p class=\"\">Great! That wasn't too hard, was it?</p>\n",
                "\n"
            ]
        },
        {
            "attachments": {},
            "cell_type": "markdown",
            "metadata": {},
            "source": [
                "### Indexes and values (1)\n",
                "\n",
                "\n",
                "<div class>\n",
                "<p>Using a <code>for</code> loop to iterate over a list only gives you access to every list element in each run, one after the other. If you also want to access the index information, so where the list element you're iterating over is located, you can use <a href=\"https://docs.python.org/3/library/functions.html#enumerate\"><code>enumerate()</code></a>.</p>\n",
                "<p>As an example, have a look at how the <code>for</code> loop from the video was converted:</p>\n",
                "<pre><code>fam = [1.73, 1.68, 1.71, 1.89]\n",
                "for index, height in enumerate(fam) :\n",
                "    print(\"person \" + str(index) + \": \" + str(height))\n",
                "</code></pre>\n",
                "</div>\n",
                "\n",
                "<li>Adapt the <code>for</code> loop in the sample code to use <a href=\"https://docs.python.org/3/library/functions.html#enumerate\"><code>enumerate()</code></a> and use two iterator variables.</li>\n",
                "<li>Update the <code>print()</code> statement so that on each run, a line of the form <code>\"room x: y\"</code> should be printed, where x is the index of the list element and y is the actual list element, i.e. the area. Make sure to print out this exact string, with the correct spacing.</li>\n",
                "<div>\n"
            ]
        },
        {
            "cell_type": "code",
            "execution_count": null,
            "metadata": {
                "vscode": {
                    "languageId": "r"
                }
            },
            "outputs": [],
            "source": [
                "# areas list\n",
                "areas = [11.25, 18.0, 20.0, 10.75, 9.50]\n",
                "\n",
                "# Change for loop to use enumerate() and update print()\n",
                "for index, area in enumerate(areas) :\n",
                "    print(\"room \" + str(index) + \": \" + str(area))\n"
            ]
        },
        {
            "attachments": {},
            "cell_type": "markdown",
            "metadata": {},
            "source": [
                "</div>\n",
                "\n"
            ]
        },
        {
            "attachments": {},
            "cell_type": "markdown",
            "metadata": {},
            "source": [
                "<p class=\"\">Well done!</p>\n",
                "\n"
            ]
        },
        {
            "attachments": {},
            "cell_type": "markdown",
            "metadata": {},
            "source": [
                "### Indexes and values (2)\n",
                "\n",
                "\n",
                "<div class><p>For non-programmer folks, <code>room 0: 11.25</code> is strange. Wouldn't it be better if the count started at 1?</p></div>\n",
                "<div class=\"exercise--instructions__content\"><p>Adapt the <a href=\"https://docs.python.org/3/library/functions.html#print\"><code>print()</code></a> function in the <code>for</code> loop so that the first printout becomes <code>\"room 1: 11.25\"</code>, the second one <code>\"room 2: 18.0\"</code> and so on.</p></div>\n",
                "<div>\n"
            ]
        },
        {
            "cell_type": "code",
            "execution_count": null,
            "metadata": {
                "vscode": {
                    "languageId": "r"
                }
            },
            "outputs": [],
            "source": [
                "# areas list\n",
                "areas = [11.25, 18.0, 20.0, 10.75, 9.50]\n",
                "\n",
                "# Adapt the printout\n",
                "for index, area in enumerate(areas) :\n",
                "    print(\"room \" + str(index + 1) + \": \" + str(area))\n"
            ]
        },
        {
            "attachments": {},
            "cell_type": "markdown",
            "metadata": {},
            "source": [
                "</div>\n",
                "\n"
            ]
        },
        {
            "attachments": {},
            "cell_type": "markdown",
            "metadata": {},
            "source": [
                "<p class=\"\">Much better!</p>\n",
                "\n"
            ]
        },
        {
            "attachments": {},
            "cell_type": "markdown",
            "metadata": {},
            "source": [
                "### Loop over list of lists\n",
                "\n",
                "\n",
                "<div class>\n",
                "<p>Remember the <code>house</code> variable from the Intro to Python course? Have a look at its definition in the script. It's basically a list of lists, where each sublist contains the name and area of a room in your house.</p>\n",
                "<p>It's up to you to build a <code>for</code> loop from scratch this time!</p>\n",
                "</div>\n",
                "<div class=\"exercise--instructions__content\"><p>Write a <code>for</code> loop that goes through each sublist of <code>house</code> and prints out <code>the x is y sqm</code>, where x is the name of the room and y is the area of the room.</p></div>\n",
                "<div>\n"
            ]
        },
        {
            "cell_type": "code",
            "execution_count": null,
            "metadata": {
                "vscode": {
                    "languageId": "r"
                }
            },
            "outputs": [],
            "source": [
                "# house list of lists\n",
                "house = [[\"hallway\", 11.25], \n",
                "         [\"kitchen\", 18.0], \n",
                "         [\"living room\", 20.0], \n",
                "         [\"bedroom\", 10.75], \n",
                "         [\"bathroom\", 9.50]]\n",
                "         \n",
                "# Build a for loop from scratch\n",
                "for x in house :\n",
                "    print(\"the \" + x[0] + \" is \" + str(x[1]) + \" sqm\")\n"
            ]
        },
        {
            "attachments": {},
            "cell_type": "markdown",
            "metadata": {},
            "source": [
                "</div>\n",
                "\n"
            ]
        },
        {
            "attachments": {},
            "cell_type": "markdown",
            "metadata": {},
            "source": [
                "<p class=\"\">Off to next video!</p>\n",
                "\n"
            ]
        },
        {
            "attachments": {},
            "cell_type": "markdown",
            "metadata": {},
            "source": [
                "## Loop Data Structures Part 1\n",
                "\n",
                "\n",
                "\n"
            ]
        },
        {
            "attachments": {},
            "cell_type": "markdown",
            "metadata": {},
            "source": [
                "### Loop over dictionary\n",
                "\n",
                "\n",
                "<div class>\n",
                "<p>In Python 3, you need the <a href=\"https://docs.python.org/3/library/stdtypes.html#dict.items\"><code>items()</code></a> method to loop over a dictionary:</p>\n",
                "<pre><code>world = { \"afghanistan\":30.55, \n",
                "          \"albania\":2.77,\n",
                "          \"algeria\":39.21 }\n",
                "\n",
                "for key, value in world.items() :\n",
                "    print(key + \" -- \" + str(value))\n",
                "</code></pre>\n",
                "<p>Remember the <code>europe</code> dictionary that contained the names of some European countries as key and their capitals as corresponding value? Go ahead and write a loop to iterate over it!</p>\n",
                "</div>\n",
                "<div class=\"exercise--instructions__content\"><p>Write a <code>for</code> loop that goes through each key:value pair of <code>europe</code>. On each iteration, <code>\"the capital of x is y\"</code> should be printed out, where x is the key and y is the value of the pair.</p></div>\n",
                "<div>\n"
            ]
        },
        {
            "cell_type": "code",
            "execution_count": null,
            "metadata": {
                "vscode": {
                    "languageId": "r"
                }
            },
            "outputs": [],
            "source": [
                "# Definition of dictionary\n",
                "europe = {'spain':'madrid', 'france':'paris', 'germany':'berlin',\n",
                "          'norway':'oslo', 'italy':'rome', 'poland':'warsaw', 'austria':'vienna' }\n",
                "          \n",
                "# Iterate over europe\n",
                "for key, value in europe.items() :\n",
                "     print(\"the capital of \" + str(key) + \" is \" + str(value))\n"
            ]
        },
        {
            "attachments": {},
            "cell_type": "markdown",
            "metadata": {},
            "source": [
                "</div>\n",
                "\n"
            ]
        },
        {
            "attachments": {},
            "cell_type": "markdown",
            "metadata": {},
            "source": [
                "<p class=\"\">Great! Notice that the order of the printouts doesn't necessarily correspond with the order used when defining <code>europe</code>. Remember: dictionaries are inherently unordered!</p>\n",
                "\n"
            ]
        },
        {
            "attachments": {},
            "cell_type": "markdown",
            "metadata": {},
            "source": [
                "### Loop over NumPy array\n",
                "\n",
                "\n",
                "<div class>\n",
                "<p>If you're dealing with a 1D NumPy array, looping over all elements can be as simple as:</p>\n",
                "<pre><code>for x in my_array :\n",
                "    ...\n",
                "</code></pre>\n",
                "<p>If you're dealing with a 2D NumPy array, it's more complicated. A 2D array is built up of multiple 1D arrays. To explicitly iterate over all separate elements of a multi-dimensional array, you'll need this syntax:</p>\n",
                "<pre><code>for x in np.nditer(my_array) :\n",
                "    ...\n",
                "</code></pre>\n",
                "<p>Two NumPy arrays that you might recognize from the intro course are available in your Python session: <code>np_height</code>, a NumPy array containing the heights of Major League Baseball players, and <code>np_baseball</code>, a 2D NumPy array that contains both the heights (first column) and weights (second column) of those players.</p>\n",
                "</div>\n",
                "\n",
                "\n",
                "\n",
                "<li>Import the <code>numpy</code> package under the local alias <code>np</code>.</li>\n",
                "\n",
                "<li>Write a <code>for</code> loop that iterates over all elements in <code>np_height</code> and prints out <code>\"x inches\"</code> for each element, where x is the value in the array.</li>\n",
                "\n",
                "<li>Write a <code>for</code> loop that visits every element of the <code>np_baseball</code> array and prints it out.</li>\n",
                "<div>\n"
            ]
        },
        {
            "cell_type": "code",
            "execution_count": null,
            "metadata": {
                "vscode": {
                    "languageId": "r"
                }
            },
            "outputs": [],
            "source": [
                "# edited/added\n",
                "import pandas as pd\n",
                "mlb = pd.read_csv('datasets/Intermediate-Python/baseball.csv')\n",
                "np_height = np.array(mlb['Height'])\n",
                "np_weight = np.array(mlb['Weight'])\n",
                "baseball = [[180, 78.4],\n",
                "            [215, 102.7],\n",
                "            [210, 98.5],\n",
                "            [188, 75.2]]\n",
                "np_baseball = np.array(baseball)\n",
                "\n",
                "# Import numpy as np\n",
                "import numpy as np\n",
                "\n",
                "# For loop over np_height\n",
                "for x in np_height :\n",
                "    print(str(x) + \" inches\")\n"
            ]
        },
        {
            "cell_type": "markdown",
            "metadata": {},
            "source": [
                "</div>\n",
                "<div>\n"
            ]
        },
        {
            "cell_type": "code",
            "execution_count": null,
            "metadata": {
                "vscode": {
                    "languageId": "r"
                }
            },
            "outputs": [],
            "source": [
                "# For loop over np_baseball\n",
                "for x in np.nditer(np_baseball) :\n",
                "    print(x)\n"
            ]
        },
        {
            "attachments": {},
            "cell_type": "markdown",
            "metadata": {},
            "source": [
                "</div>\n",
                "\n"
            ]
        },
        {
            "attachments": {},
            "cell_type": "markdown",
            "metadata": {},
            "source": [
                "<p class=\"\">Wow, that's a lot of output! Try to add an additional argument <code>end =</code> to the <code>print()</code> call - the output will be mesmerizing!</p>\n",
                "\n"
            ]
        },
        {
            "attachments": {},
            "cell_type": "markdown",
            "metadata": {},
            "source": [
                "## Loop Data Structures Part 2\n",
                "\n",
                "\n",
                "\n"
            ]
        },
        {
            "attachments": {},
            "cell_type": "markdown",
            "metadata": {},
            "source": [
                "### Loop over DataFrame (1)\n",
                "\n",
                "\n",
                "<div class>\n",
                "<p>Iterating over a Pandas DataFrame is typically done with the <a href=\"https://pandas.pydata.org/pandas-docs/stable/generated/pandas.DataFrame.iterrows.html\"><code>iterrows()</code></a> method. Used in a <code>for</code> loop, every observation is iterated over and on every iteration the row label and actual row contents are available:</p>\n",
                "<pre><code>for lab, row in brics.iterrows() :\n",
                "    ...\n",
                "</code></pre>\n",
                "<p>In this and the following exercises you will be working on the <code>cars</code> DataFrame. It contains information on the cars per capita and whether people drive right or left for seven countries in the world.</p>\n",
                "</div>\n",
                "<div class=\"exercise--instructions__content\"><p>Write a <code>for</code> loop that iterates over the rows of <code>cars</code> and on each iteration perform two <a href=\"https://docs.python.org/3/library/functions.html#print\"><code>print()</code></a> calls: one to print out the row label and one to print out all of the rows contents.</p></div>\n",
                "<div>\n"
            ]
        },
        {
            "cell_type": "code",
            "execution_count": null,
            "metadata": {
                "vscode": {
                    "languageId": "r"
                }
            },
            "outputs": [],
            "source": [
                "# Import cars data\n",
                "import pandas as pd\n",
                "cars = pd.read_csv('datasets/Intermediate-Python/cars.csv', index_col = 0)\n",
                "\n",
                "# Iterate over rows of cars\n",
                "for lab, row in cars.iterrows() :\n",
                "    print(lab)\n",
                "    print(row)\n"
            ]
        },
        {
            "attachments": {},
            "cell_type": "markdown",
            "metadata": {},
            "source": [
                "</div>\n",
                "\n"
            ]
        },
        {
            "attachments": {},
            "cell_type": "markdown",
            "metadata": {},
            "source": [
                "<p class=\"\">Well done!</p>\n",
                "\n"
            ]
        },
        {
            "attachments": {},
            "cell_type": "markdown",
            "metadata": {},
            "source": [
                "### Loop over DataFrame (2)\n",
                "\n",
                "\n",
                "<div class>\n",
                "<p>The row data that's generated by <a href=\"https://pandas.pydata.org/docs/reference/api/pandas.DataFrame.iterrows.html\"><code>iterrows()</code></a> on every run is a Pandas Series. This format is not very convenient to print out. Luckily, you can easily select variables from the Pandas Series using square brackets:</p>\n",
                "<pre><code>for lab, row in brics.iterrows() :\n",
                "    print(row['country'])\n",
                "</code></pre>\n",
                "</div>\n",
                "\n",
                "<li>Using the iterators <code>lab</code> and <code>row</code>, adapt the code in the for loop such that the first iteration prints out <code>\"US: 809\"</code>, the second iteration <code>\"AUS: 731\"</code>, and so on. </li>\n",
                "<li>The output should be in the form <code>\"country: cars_per_cap\"</code>. Make sure to print out this exact string (with the correct spacing).</li>\n",
                "<li><em>You can use <code>str()</code> to convert your integer data to a string so that you can print it in conjunction with the country label.</em></li>\n",
                "\n",
                "<div>\n"
            ]
        },
        {
            "cell_type": "code",
            "execution_count": null,
            "metadata": {
                "vscode": {
                    "languageId": "r"
                }
            },
            "outputs": [],
            "source": [
                "# Import cars data\n",
                "import pandas as pd\n",
                "cars = pd.read_csv('datasets/Intermediate-Python/cars.csv', index_col = 0)\n",
                "\n",
                "# Adapt for loop\n",
                "for lab, row in cars.iterrows() :\n",
                "    print(lab + \": \" + str(row['cars_per_cap']))\n"
            ]
        },
        {
            "attachments": {},
            "cell_type": "markdown",
            "metadata": {},
            "source": [
                "</div>\n",
                "\n"
            ]
        },
        {
            "attachments": {},
            "cell_type": "markdown",
            "metadata": {},
            "source": [
                "<p class=\"\">Solid!</p>\n",
                "\n"
            ]
        },
        {
            "attachments": {},
            "cell_type": "markdown",
            "metadata": {},
            "source": [
                "### Add column (1)\n",
                "\n",
                "\n",
                "<div class>\n",
                "<p>In the video, Hugo showed you how to add the length of the country names of the <code>brics</code> DataFrame in a new column:</p>\n",
                "<pre><code>for lab, row in brics.iterrows() :\n",
                "    brics.loc[lab, \"name_length\"] = len(row[\"country\"])\n",
                "</code></pre>\n",
                "<p>You can do similar things on the <code>cars</code> DataFrame.</p>\n",
                "</div>\n",
                "\n",
                "<li>Use a <code>for</code> loop to add a new column, named <code>COUNTRY</code>, that contains a uppercase version of the country names in the <code>\"country\"</code> column. You can use the string method <a href=\"https://docs.python.org/3/library/stdtypes.html#str.upper\"><code>upper()</code></a> for this.</li>\n",
                "\n",
                "<li>To see if your code worked, print out <code>cars</code>. Don't indent this code, so that it's not part of the <code>for</code> loop.</li>\n",
                "<div>\n"
            ]
        },
        {
            "cell_type": "code",
            "execution_count": null,
            "metadata": {
                "vscode": {
                    "languageId": "r"
                }
            },
            "outputs": [],
            "source": [
                "# Import cars data\n",
                "import pandas as pd\n",
                "cars = pd.read_csv('datasets/Intermediate-Python/cars.csv', index_col = 0)\n",
                "\n",
                "# Code for loop that adds COUNTRY column\n",
                "for lab, row in cars.iterrows() :\n",
                "    cars.loc[lab, \"COUNTRY\"] = row[\"country\"].upper()\n",
                "\n",
                "# Print cars\n",
                "print(cars)\n"
            ]
        },
        {
            "attachments": {},
            "cell_type": "markdown",
            "metadata": {},
            "source": [
                "</div>\n",
                "\n"
            ]
        },
        {
            "attachments": {},
            "cell_type": "markdown",
            "metadata": {},
            "source": [
                "<p class=\"\">Great, but you might remember that there is also an easier way to do this.</p>\n",
                "\n"
            ]
        },
        {
            "attachments": {},
            "cell_type": "markdown",
            "metadata": {},
            "source": [
                "### Add column (2)\n",
                "\n",
                "\n",
                "<div class>\n",
                "<p>Using <a href=\"https://pandas.pydata.org/pandas-docs/stable/generated/pandas.DataFrame.iterrows.html\"><code>iterrows()</code></a> to iterate over every observation of a Pandas DataFrame is easy to understand, but not very efficient. On every iteration, you're creating a new Pandas Series.</p>\n",
                "<p>If you want to add a column to a DataFrame by calling a function on another column, the <a href=\"https://pandas.pydata.org/pandas-docs/stable/generated/pandas.DataFrame.iterrows.html\"><code>iterrows()</code></a> method in combination with a <code>for</code> loop is not the preferred way to go. Instead, you'll want to use <a href=\"https://pandas.pydata.org/docs/reference/api/pandas.DataFrame.apply.html\"><code>apply()</code></a>.</p>\n",
                "<p>Compare the <a href=\"https://pandas.pydata.org/pandas-docs/stable/generated/pandas.DataFrame.iterrows.html\"><code>iterrows()</code></a> version with the <a href=\"https://pandas.pydata.org/docs/reference/api/pandas.DataFrame.apply.html\"><code>apply()</code></a> version to get the same result in the <code>brics</code> DataFrame:</p>\n",
                "<pre><code>for lab, row in brics.iterrows() :\n",
                "    brics.loc[lab, \"name_length\"] = len(row[\"country\"])\n",
                "\n",
                "brics[\"name_length\"] = brics[\"country\"].apply(len)\n",
                "</code></pre>\n",
                "<p>We can do a similar thing to call the <a href=\"https://docs.python.org/3/library/stdtypes.html#str.upper\"><code>upper()</code></a> method on every name in the <code>country</code> column. However, <a href=\"https://docs.python.org/3/library/stdtypes.html#str.upper\"><code>upper()</code></a> is a <strong>method</strong>, so we'll need a slightly different approach:</p>\n",
                "</div>\n",
                "\n",
                "<li>Replace the <code>for</code> loop with a one-liner that uses <code>.apply(str.upper)</code>. The call should give the same result: a column <code>COUNTRY</code> should be added to <code>cars</code>, containing an uppercase version of the country names.</li>\n",
                "\n",
                "<li>As usual, print out <code>cars</code> to see the fruits of your hard labor</li>\n",
                "<div>\n"
            ]
        },
        {
            "cell_type": "code",
            "execution_count": null,
            "metadata": {
                "vscode": {
                    "languageId": "r"
                }
            },
            "outputs": [],
            "source": [
                "# Import cars data\n",
                "import pandas as pd\n",
                "cars = pd.read_csv('datasets/Intermediate-Python/cars.csv', index_col = 0)\n",
                "\n",
                "# Use .apply(str.upper)\n",
                "cars[\"COUNTRY\"] = cars[\"country\"].apply(str.upper)\n",
                "\n",
                "# Print cars\n",
                "print(cars)\n"
            ]
        },
        {
            "attachments": {},
            "cell_type": "markdown",
            "metadata": {},
            "source": [
                "</div>\n",
                "\n"
            ]
        },
        {
            "attachments": {},
            "cell_type": "markdown",
            "metadata": {},
            "source": [
                "<p class=\"\">Great job! It's time to blend everything you've learned together in a case-study. Head over to the next chapter!</p>\n",
                "\n"
            ]
        },
        {
            "attachments": {},
            "cell_type": "markdown",
            "metadata": {},
            "source": [
                "# Case Study: Hacker Statistics\n",
                "\n",
                "<p class=\"chapter__description\">\n",
                "    This chapter will allow you to apply all the concepts you've learned in this course. You will use hacker statistics to calculate your chances of winning a bet. Use random number generators, loops, and Matplotlib to gain a competitive edge!\n",
                "  </p>\n",
                "\n"
            ]
        },
        {
            "attachments": {},
            "cell_type": "markdown",
            "metadata": {},
            "source": [
                "## Random Numbers\n",
                "\n",
                "\n",
                "\n"
            ]
        },
        {
            "attachments": {},
            "cell_type": "markdown",
            "metadata": {},
            "source": [
                "### Random float\n",
                "\n",
                "\n",
                "<div class>\n",
                "<p>Randomness has many uses in science, art, statistics, cryptography, gaming, gambling, and other fields. You're going to use randomness to simulate a game.</p>\n",
                "<p>All the functionality you need is contained in the <code>random</code> package, a sub-package of <code>numpy</code>. In this exercise, you'll be using two functions from this package:</p>\n",
                "\n",
                "<li>\n",
                "<a href=\"https://docs.scipy.org/doc/numpy-1.10.1/reference/generated/numpy.random.seed.html\"><code>seed()</code></a>: sets the random seed, so that your results are reproducible between simulations. As an argument, it takes an integer of your choosing. If you call the function, no output will be generated.</li>\n",
                "<li>\n",
                "<a href=\"https://docs.scipy.org/doc/numpy-1.10.1/reference/generated/numpy.random.rand.html\"><code>rand()</code></a>: if you don't specify any arguments, it generates a random float between zero and one.</li>\n",
                "</ul>\n",
                "</div>\n",
                "\n",
                "<li>Import <code>numpy</code> as <code>np</code>.</li>\n",
                "\n",
                "<li>Use <a href=\"https://docs.scipy.org/doc/numpy-1.10.1/reference/generated/numpy.random.seed.html\"><code>seed()</code></a> to set the seed; as an argument, pass <code>123</code>.</li>\n",
                "\n",
                "<li>Generate your first random float with <a href=\"https://docs.scipy.org/doc/numpy-1.10.1/reference/generated/numpy.random.rand.html\"><code>rand()</code></a> and print it out.</li>\n",
                "<div>\n"
            ]
        },
        {
            "cell_type": "code",
            "execution_count": null,
            "metadata": {
                "vscode": {
                    "languageId": "r"
                }
            },
            "outputs": [],
            "source": [
                "# Import numpy as np\n",
                "import numpy as np\n",
                "\n",
                "# Set the seed\n",
                "np.random.seed(123)\n",
                "\n",
                "# Generate and print random float\n",
                "print(np.random.rand())\n"
            ]
        },
        {
            "attachments": {},
            "cell_type": "markdown",
            "metadata": {},
            "source": [
                "</div>\n",
                "\n"
            ]
        },
        {
            "attachments": {},
            "cell_type": "markdown",
            "metadata": {},
            "source": [
                "<p class=\"\">Great! Now let's simulate a dice.</p>\n",
                "\n"
            ]
        },
        {
            "attachments": {},
            "cell_type": "markdown",
            "metadata": {},
            "source": [
                "### Roll the dice\n",
                "\n",
                "\n",
                "<div class>\n",
                "<p>In the previous exercise, you used <a href=\"https://docs.scipy.org/doc/numpy-1.10.1/reference/generated/numpy.random.rand.html\"><code>rand()</code></a>, that generates a random float between 0 and 1.</p>\n",
                "<p>As Hugo explained in the video you can just as well use <a href=\"https://docs.scipy.org/doc/numpy-1.10.1/reference/generated/numpy.random.randint.html\"><code>randint()</code></a>, also a function of the <code>random</code> package, to generate integers randomly. The following call generates the integer 4, 5, 6 or 7 randomly. <strong>8 is not included</strong>.</p>\n",
                "<pre><code>import numpy as np\n",
                "np.random.randint(4, 8)\n",
                "</code></pre>\n",
                "<p>NumPy has already been imported as <code>np</code> and a seed has been set. Can you roll some dice?</p>\n",
                "</div>\n",
                "\n",
                "<li>Use <a href=\"https://docs.scipy.org/doc/numpy-1.10.1/reference/generated/numpy.random.randint.html\"><code>randint()</code></a> with the appropriate arguments to randomly generate the integer 1, 2, 3, 4, 5 or 6. This simulates a dice. Print it out.</li>\n",
                "\n",
                "<li>Repeat the outcome to see if the second throw is different. Again, print out the result.</li>\n",
                "<div>\n"
            ]
        },
        {
            "cell_type": "code",
            "execution_count": null,
            "metadata": {
                "vscode": {
                    "languageId": "r"
                }
            },
            "outputs": [],
            "source": [
                "# Import numpy and set seed\n",
                "import numpy as np\n",
                "np.random.seed(123)\n",
                "\n",
                "# Use randint() to simulate a dice\n",
                "print(np.random.randint(1,7))\n"
            ]
        },
        {
            "cell_type": "markdown",
            "metadata": {},
            "source": [
                "</div>\n",
                "<div>\n"
            ]
        },
        {
            "cell_type": "code",
            "execution_count": null,
            "metadata": {
                "vscode": {
                    "languageId": "r"
                }
            },
            "outputs": [],
            "source": [
                "# Use randint() again\n",
                "print(np.random.randint(1,7))\n"
            ]
        },
        {
            "attachments": {},
            "cell_type": "markdown",
            "metadata": {},
            "source": [
                "</div>\n",
                "\n"
            ]
        },
        {
            "attachments": {},
            "cell_type": "markdown",
            "metadata": {},
            "source": [
                "<p class=\"\">Alright! Time to actually start coding things up!</p>\n",
                "\n"
            ]
        },
        {
            "attachments": {},
            "cell_type": "markdown",
            "metadata": {},
            "source": [
                "### Determine your next move\n",
                "\n",
                "\n",
                "<div class>\n",
                "<p>In the Empire State Building bet, your next move depends on the number of eyes you throw with the dice. We can perfectly code this with an <code>if</code>-<code>elif</code>-<code>else</code> construct!</p>\n",
                "<p>The sample code assumes that you're currently at step 50. Can you fill in the missing pieces to finish the script? <code>numpy</code> is already imported as <code>np</code> and the seed has been set to <code>123</code>, so you don't have to worry about that anymore.</p>\n",
                "</div>\n",
                "\n",
                "<li>Roll the dice. Use <a href=\"https://docs.scipy.org/doc/numpy-1.10.1/reference/generated/numpy.random.randint.html\"><code>randint()</code></a> to create the variable <code>dice</code>.</li>\n",
                "\n",
                "<li>Finish the <code>if</code>-<code>elif</code>-<code>else</code> construct by replacing <code>___</code>:</li>\n",
                "<li>If <code>dice</code> is 1 or 2, you go one step down.</li>\n",
                "<li>If <code>dice</code> is 3, 4 or 5, you go one step up.</li>\n",
                "<li>Else, you throw the dice again. The number of eyes is the number of steps you go up.</li>\n",
                "\n",
                "<li>Print out <code>dice</code> and <code>step</code>. Given the value of <code>dice</code>, was <code>step</code> updated correctly?</li>\n",
                "<div>\n"
            ]
        },
        {
            "cell_type": "code",
            "execution_count": null,
            "metadata": {
                "vscode": {
                    "languageId": "r"
                }
            },
            "outputs": [],
            "source": [
                "# NumPy is imported, seed is set\n",
                "\n",
                "# Starting step\n",
                "step = 50\n",
                "\n",
                "# Roll the dice\n",
                "dice = np.random.randint(1,7)\n",
                "\n",
                "# Finish the control construct\n",
                "if dice <= 2 :\n",
                "    step = step - 1\n",
                "elif dice <= 5 :\n",
                "    step = step + 1\n",
                "else :\n",
                "    step = step + np.random.randint(1,7)\n",
                "    \n",
                "# Print out dice and step\n",
                "print(dice)\n",
                "print(step)\n"
            ]
        },
        {
            "attachments": {},
            "cell_type": "markdown",
            "metadata": {},
            "source": [
                "</div>\n",
                "\n"
            ]
        },
        {
            "attachments": {},
            "cell_type": "markdown",
            "metadata": {},
            "source": [
                "<p class=\"\">Cool! You threw a 6, so the code for the <code>else</code> statement was executed. You threw again, and apparently you threw 3, causing you to take three steps up: you're currently at step 53.</p>\n",
                "\n"
            ]
        },
        {
            "attachments": {},
            "cell_type": "markdown",
            "metadata": {},
            "source": [
                "## Random Walk\n",
                "\n",
                "\n",
                "\n"
            ]
        },
        {
            "attachments": {},
            "cell_type": "markdown",
            "metadata": {},
            "source": [
                "### The next step\n",
                "\n",
                "\n",
                "<div class>\n",
                "<p>Before, you have already written Python code that determines the next step based on the previous step. Now it's time to put this code inside a <code>for</code> loop so that we can simulate a random walk.</p>\n",
                "<p><code>numpy</code> has been imported as <code>np</code>.</p>\n",
                "</div>\n",
                "\n",
                "<li>Make a list <code>random_walk</code> that contains the first step, which is the integer 0.</li>\n",
                "\n",
                "<li>Finish the <code>for</code> loop:</li>\n",
                "<li>The loop should run <code>100</code> times.</li>\n",
                "<li>On each iteration, set <code>step</code> equal to the last element in the <code>random_walk</code> list. You can use the index <code>-1</code> for this.</li>\n",
                "<li>Next, let the <code>if</code>-<code>elif</code>-<code>else</code> construct update <code>step</code> for you.</li>\n",
                "<li>The code that appends <code>step</code> to <code>random_walk</code> is already coded.</li>\n",
                "\n",
                "<li>Print out <code>random_walk</code>.</li>\n",
                "<div>\n"
            ]
        },
        {
            "cell_type": "code",
            "execution_count": null,
            "metadata": {
                "vscode": {
                    "languageId": "r"
                }
            },
            "outputs": [],
            "source": [
                "# NumPy is imported, seed is set\n",
                "\n",
                "# Initialize random_walk\n",
                "random_walk = [0]\n",
                "\n",
                "# Complete the ___\n",
                "for x in range(100) :\n",
                "    # Set step: last element in random_walk\n",
                "    step = random_walk[-1]\n",
                "\n",
                "    # Roll the dice\n",
                "    dice = np.random.randint(1,7)\n",
                "\n",
                "    # Determine next step\n",
                "    if dice <= 2:\n",
                "        step = step - 1\n",
                "    elif dice <= 5:\n",
                "        step = step + 1\n",
                "    else:\n",
                "        step = step + np.random.randint(1,7)\n",
                "\n",
                "    # append next_step to random_walk\n",
                "    random_walk.append(step)\n",
                "    \n",
                "# Print random_walk\n",
                "print(random_walk)\n"
            ]
        },
        {
            "attachments": {},
            "cell_type": "markdown",
            "metadata": {},
            "source": [
                "</div>\n",
                "\n"
            ]
        },
        {
            "attachments": {},
            "cell_type": "markdown",
            "metadata": {},
            "source": [
                "<p class=\"\">Good job! There's still something wrong: the level at index 15 is negative!</p>\n",
                "\n"
            ]
        },
        {
            "attachments": {},
            "cell_type": "markdown",
            "metadata": {},
            "source": [
                "### How low can you go?\n",
                "\n",
                "\n",
                "<div class>\n",
                "<p>Things are shaping up nicely! You already have code that calculates your location in the Empire State Building after 100 dice throws. However, there's something we haven't thought about - you can't go below 0!</p>\n",
                "<p>A typical way to solve problems like this is by using <a href=\"https://docs.python.org/3/library/functions.html#max\"><code>max()</code></a>. If you pass <a href=\"https://docs.python.org/3/library/functions.html#max\"><code>max()</code></a> two arguments, the biggest one gets returned. For example, to make sure that a variable <code>x</code> never goes below <code>10</code> when you decrease it, you can use:</p>\n",
                "<pre><code>x = max(10, x - 1)\n",
                "</code></pre>\n",
                "</div>\n",
                "\n",
                "<li>Use <a href=\"https://docs.python.org/3/library/functions.html#max\"><code>max()</code></a> in a similar way to make sure that <code>step</code> doesn't go below zero if <code>dice &lt;= 2</code>.</li>\n",
                "\n",
                "<li>Hit <em>Submit Answer</em> and check the contents of <code>random_walk</code>.</li>\n",
                "<div>\n"
            ]
        },
        {
            "cell_type": "code",
            "execution_count": null,
            "metadata": {
                "vscode": {
                    "languageId": "r"
                }
            },
            "outputs": [],
            "source": [
                "# NumPy is imported, seed is set\n",
                "\n",
                "# Initialize random_walk\n",
                "random_walk = [0]\n",
                "\n",
                "for x in range(100) :\n",
                "    step = random_walk[-1]\n",
                "    dice = np.random.randint(1,7)\n",
                "\n",
                "    if dice <= 2:\n",
                "        # Replace below: use max to make sure step can't go below 0\n",
                "        step = max(0, step - 1)\n",
                "    elif dice <= 5:\n",
                "        step = step + 1\n",
                "    else:\n",
                "        step = step + np.random.randint(1,7)\n",
                "\n",
                "    random_walk.append(step)\n",
                "    \n",
                "print(random_walk)\n"
            ]
        },
        {
            "attachments": {},
            "cell_type": "markdown",
            "metadata": {},
            "source": [
                "</div>\n",
                "\n"
            ]
        },
        {
            "attachments": {},
            "cell_type": "markdown",
            "metadata": {},
            "source": [
                "<p class=\"\">If you look closely at the output, you'll see that around index 15 the step stays at 0. You're not going below zero anymore. Great!</p>\n",
                "\n"
            ]
        },
        {
            "attachments": {},
            "cell_type": "markdown",
            "metadata": {},
            "source": [
                "### Visualize the walk\n",
                "\n",
                "\n",
                "<div class>\n",
                "<p>Let's visualize this random walk! Remember how you could use <code>matplotlib</code> to build a line plot?</p>\n",
                "<pre><code>import matplotlib.pyplot as plt\n",
                "plt.plot(x, y)\n",
                "plt.show()\n",
                "</code></pre>\n",
                "<p>The first list you pass is mapped onto the <code>x</code> axis and the second list is mapped onto the <code>y</code> axis.</p>\n",
                "<p>If you pass only one argument, Python will know what to do and will use the index of the list to map onto the <code>x</code> axis, and the values in the list onto the <code>y</code> axis.</p>\n",
                "</div>\n",
                "<div class=\"exercise--instructions__content\">\n",
                "<p>Add some lines of code after the <code>for</code> loop:</p>\n",
                "\n",
                "<li>Import <code>matplotlib.pyplot</code> as <code>plt</code>.</li>\n",
                "\n",
                "<li>Use <a href=\"https://matplotlib.org/stable/api/_as_gen/matplotlib.pyplot.plot.html\"><code>plt.plot()</code></a> to plot <code>random_walk</code>.</li>\n",
                "<li>Finish off with <a href=\"https://matplotlib.org/stable/api/_as_gen/matplotlib.pyplot.show.html\"><code>plt.show()</code></a> to actually display the plot.</li>\n",
                "<div>\n"
            ]
        },
        {
            "cell_type": "code",
            "execution_count": null,
            "metadata": {
                "vscode": {
                    "languageId": "r"
                }
            },
            "outputs": [],
            "source": [
                "# Import matplotlib.pyplot as plt\n",
                "import matplotlib.pyplot as plt\n",
                "\n",
                "# NumPy is imported, seed is set\n",
                "\n",
                "# Initialization\n",
                "random_walk = [0]\n",
                "\n",
                "for x in range(100) :\n",
                "    step = random_walk[-1]\n",
                "    dice = np.random.randint(1,7)\n",
                "\n",
                "    if dice <= 2:\n",
                "        step = max(0, step - 1)\n",
                "    elif dice <= 5:\n",
                "        step = step + 1\n",
                "    else:\n",
                "        step = step + np.random.randint(1,7)\n",
                "\n",
                "    random_walk.append(step)\n",
                "    \n",
                "# Plot random_walk\n",
                "plt.plot(random_walk)\n",
                "# Show the plot\n",
                "plt.show()\n"
            ]
        },
        {
            "attachments": {},
            "cell_type": "markdown",
            "metadata": {},
            "source": [
                "</div>\n",
                "\n",
                "</div>\n",
                "\n"
            ]
        },
        {
            "attachments": {},
            "cell_type": "markdown",
            "metadata": {},
            "source": [
                "<p class=\"\">This is pretty cool! You can clearly see how your random walk progressed.</p>\n",
                "\n"
            ]
        },
        {
            "attachments": {},
            "cell_type": "markdown",
            "metadata": {},
            "source": [
                "## Distribution\n",
                "\n",
                "\n",
                "\n"
            ]
        },
        {
            "attachments": {},
            "cell_type": "markdown",
            "metadata": {},
            "source": [
                "### Simulate multiple walks\n",
                "\n",
                "\n",
                "<div class>\n",
                "<p>A single random walk is one thing, but that doesn't tell you if you have a good chance at winning the bet.</p>\n",
                "<p>To get an idea about how big your chances are of reaching 60 steps, you can repeatedly simulate the random walk and collect the results. That's exactly what you'll do in this exercise.</p>\n",
                "<p>The sample code already sets you off in the right direction. Another <code>for</code> loop is wrapped around the code you already wrote. It's up to you to add some bits and pieces to make sure all of the results are recorded correctly.</p>\n",
                "<p><strong>Note: Don't change anything about the initialization of <code>all_walks</code> that is given. Setting any number inside the list will cause the exercise to crash!</strong></p>\n",
                "</div>\n",
                "\n",
                "<li>Fill in the specification of the <code>for</code> loop so that the random walk is simulated 10 times.</li>\n",
                "<li>After the <code>random_walk</code> array is entirely populated, append the array to the <code>all_walks</code> list.</li>\n",
                "\n",
                "<li>Finally, after the top-level <code>for</code> loop, print out <code>all_walks</code>.</li>\n",
                "<div>\n"
            ]
        },
        {
            "cell_type": "code",
            "execution_count": null,
            "metadata": {
                "vscode": {
                    "languageId": "r"
                }
            },
            "outputs": [],
            "source": [
                "# NumPy is imported; seed is set\n",
                "\n",
                "# Initialize all_walks (don't change this line)\n",
                "all_walks = []\n",
                "\n",
                "# Simulate random walk 10 times\n",
                "for i in range(10) :\n",
                "\n",
                "    # Code from before\n",
                "    random_walk = [0]\n",
                "    for x in range(100) :\n",
                "        step = random_walk[-1]\n",
                "        dice = np.random.randint(1,7)\n",
                "\n",
                "        if dice <= 2:\n",
                "            step = max(0, step - 1)\n",
                "        elif dice <= 5:\n",
                "            step = step + 1\n",
                "        else:\n",
                "            step = step + np.random.randint(1,7)\n",
                "        random_walk.append(step)\n",
                "\n",
                "    # Append random_walk to all_walks\n",
                "    all_walks.append(random_walk)\n",
                "    \n",
                "# Print all_walks\n",
                "print(all_walks)\n"
            ]
        },
        {
            "attachments": {},
            "cell_type": "markdown",
            "metadata": {},
            "source": [
                "</div>\n",
                "\n"
            ]
        },
        {
            "attachments": {},
            "cell_type": "markdown",
            "metadata": {},
            "source": [
                "<p class=\"\">Well done!</p>\n",
                "\n"
            ]
        },
        {
            "attachments": {},
            "cell_type": "markdown",
            "metadata": {},
            "source": [
                "### Visualize all walks\n",
                "\n",
                "\n",
                "<div class>\n",
                "<p><code>all_walks</code> is a list of lists: every sub-list represents a single random walk. If you convert this list of lists to a NumPy array, you can start making interesting plots! <code>matplotlib.pyplot</code> is already imported as <code>plt</code>.</p>\n",
                "<p>The nested <code>for</code> loop is already coded for you - don't worry about it. For now, focus on the code that comes after this <code>for</code> loop.</p>\n",
                "</div>\n",
                "\n",
                "<li>Use <a href=\"http://docs.scipy.org/doc/numpy-1.10.1/reference/generated/numpy.array.html\"><code>np.array()</code></a> to convert <code>all_walks</code> to a NumPy array, <code>np_aw</code>.</li>\n",
                "\n",
                "<li>Try to use <a href=\"https://matplotlib.org/stable/api/_as_gen/matplotlib.pyplot.plot.html\"><code>plt.plot()</code></a> on <code>np_aw</code>. Also include <a href=\"https://matplotlib.org/stable/api/_as_gen/matplotlib.pyplot.show.html\"><code>plt.show()</code></a>. Does it work out of the box?</li>\n",
                "<div>\n"
            ]
        },
        {
            "cell_type": "code",
            "execution_count": null,
            "metadata": {
                "vscode": {
                    "languageId": "r"
                }
            },
            "outputs": [],
            "source": [
                "# numpy and matplotlib imported, seed set.\n",
                "\n",
                "# initialize and populate all_walks\n",
                "all_walks = []\n",
                "for i in range(10) :\n",
                "    random_walk = [0]\n",
                "    for x in range(100) :\n",
                "        step = random_walk[-1]\n",
                "        dice = np.random.randint(1,7)\n",
                "        if dice <= 2:\n",
                "            step = max(0, step - 1)\n",
                "        elif dice <= 5:\n",
                "            step = step + 1\n",
                "        else:\n",
                "            step = step + np.random.randint(1,7)\n",
                "        random_walk.append(step)\n",
                "    all_walks.append(random_walk)\n",
                "\n",
                "# Convert all_walks to NumPy array: np_aw\n",
                "np_aw = np.array(all_walks)\n",
                "\n",
                "# Plot np_aw and show\n",
                "plt.plot(np_aw)\n",
                "plt.show()\n"
            ]
        },
        {
            "cell_type": "markdown",
            "metadata": {},
            "source": [
                "</div>\n",
                "<div>\n"
            ]
        },
        {
            "cell_type": "code",
            "execution_count": null,
            "metadata": {
                "vscode": {
                    "languageId": "r"
                }
            },
            "outputs": [],
            "source": [
                "# Clear the figure\n",
                "plt.clf()\n"
            ]
        },
        {
            "cell_type": "markdown",
            "metadata": {},
            "source": [
                "</div>\n",
                "<li>Transpose <code>np_aw</code> by calling <a href=\"http://docs.scipy.org/doc/numpy-1.10.1/reference/generated/numpy.transpose.html\"><code>np.transpose()</code></a> on <code>np_aw</code>. Call the result <code>np_aw_t</code>. Now every row in <code>np_all_walks</code> represents the position after 1 throw for the 10 random walks.</li>\n",
                "\n",
                "<li>Use <a href=\"https://matplotlib.org/stable/api/_as_gen/matplotlib.pyplot.plot.html\"><code>plt.plot()</code></a> to plot <code>np_aw_t</code>; also include a <a href=\"https://matplotlib.org/stable/api/_as_gen/matplotlib.pyplot.show.html\"><code>plt.show()</code></a>. Does it look better this time?</li>\n",
                "<div>\n"
            ]
        },
        {
            "cell_type": "code",
            "execution_count": null,
            "metadata": {
                "vscode": {
                    "languageId": "r"
                }
            },
            "outputs": [],
            "source": [
                "# Transpose np_aw: np_aw_t\n",
                "np_aw_t = np.transpose(np_aw)\n",
                "\n",
                "# Plot np_aw_t and show\n",
                "plt.plot(np_aw_t)\n",
                "plt.show()\n"
            ]
        },
        {
            "attachments": {},
            "cell_type": "markdown",
            "metadata": {},
            "source": [
                "</div>\n",
                "\n"
            ]
        },
        {
            "attachments": {},
            "cell_type": "markdown",
            "metadata": {},
            "source": [
                "<p class=\"\">Good job! You can clearly see how the different simulations of the random walk went. Transposing the 2D NumPy array was crucial; otherwise Python misunderstood.</p>\n",
                "\n"
            ]
        },
        {
            "attachments": {},
            "cell_type": "markdown",
            "metadata": {},
            "source": [
                "### Implement clumsiness\n",
                "\n",
                "\n",
                "<div class>\n",
                "<p>With this neatly written code of yours, changing the number of times the random walk should be simulated is super-easy. You simply update the <a href=\"https://docs.python.org/3/library/functions.html#func-range\"><code>range()</code></a> function in the top-level <code>for</code> loop.</p>\n",
                "<p>There's still something we forgot! You're a bit clumsy and you have a 0.1% chance of falling down. That calls for another random number generation. Basically, you can generate a random float between <code>0</code> and <code>1</code>. If this value is less than or equal to 0.001, you should reset step to 0.</p>\n",
                "</div>\n",
                "\n",
                "<li>Change the <a href=\"https://docs.python.org/3/library/functions.html#func-range\"><code>range()</code></a> function so that the simulation is performed 250 times.</li>\n",
                "<li>Finish the <code>if</code> condition so that <code>step</code> is set to 0 if a random float is less or equal to 0.001. Use <a href=\"https://docs.scipy.org/doc/numpy-1.10.1/reference/generated/numpy.random.rand.html\"><code>np.random.rand()</code></a>.</li>\n",
                "<div>\n"
            ]
        },
        {
            "cell_type": "code",
            "execution_count": null,
            "metadata": {
                "vscode": {
                    "languageId": "r"
                }
            },
            "outputs": [],
            "source": [
                "# numpy and matplotlib imported, seed set\n",
                "\n",
                "# Simulate random walk 250 times\n",
                "all_walks = []\n",
                "for i in range(250) :\n",
                "    random_walk = [0]\n",
                "    for x in range(100) :\n",
                "        step = random_walk[-1]\n",
                "        dice = np.random.randint(1,7)\n",
                "        if dice <= 2:\n",
                "            step = max(0, step - 1)\n",
                "        elif dice <= 5:\n",
                "            step = step + 1\n",
                "        else:\n",
                "            step = step + np.random.randint(1,7)\n",
                "\n",
                "        # Implement clumsiness\n",
                "        if np.random.rand() <= 0.001 :\n",
                "            step = 0\n",
                "\n",
                "        random_walk.append(step)\n",
                "    all_walks.append(random_walk)\n",
                "\n",
                "# Create and plot np_aw_t\n",
                "np_aw_t = np.transpose(np.array(all_walks))\n",
                "plt.plot(np_aw_t)\n",
                "plt.show()\n"
            ]
        },
        {
            "attachments": {},
            "cell_type": "markdown",
            "metadata": {},
            "source": [
                "</div>\n",
                "\n",
                "<p class=\"\">Superb! Look at the plot. In some of the 250 simulations you're indeed taking a deep dive down!</p>\n",
                "\n"
            ]
        },
        {
            "attachments": {},
            "cell_type": "markdown",
            "metadata": {},
            "source": [
                "### Plot the distribution\n",
                "\n",
                "\n",
                "<div class>\n",
                "<p>All these fancy visualizations have put us on a sidetrack. We still have to solve the million-dollar problem: <em>What are the odds that you'll reach 60 steps high on the Empire State Building?</em></p>\n",
                "<p>Basically, you want to know about the end points of all the random walks you've simulated. These end points have a certain distribution that you can visualize with a histogram.</p>\n",
                "<p>Note that if your code is taking too long to run, you might be plotting a histogram of the wrong data!</p>\n",
                "</div>\n",
                "\n",
                "<li>To make sure we've got enough simulations, go crazy. Simulate the random walk 500 times.</li>\n",
                "\n",
                "<li>From <code>np_aw_t</code>, select the last row. This contains the endpoint of all 500 random walks you've simulated. Store this NumPy array as <code>ends</code>.</li>\n",
                "\n",
                "<li>Use <a href=\"https://matplotlib.org/stable/api/_as_gen/matplotlib.pyplot.hist.html\"><code>plt.hist()</code></a> to build a histogram of <code>ends</code>. Don't forget <a href=\"https://matplotlib.org/stable/api/_as_gen/matplotlib.pyplot.show.html\"><code>plt.show()</code></a> to display the plot.</li>\n",
                "<div>\n"
            ]
        },
        {
            "cell_type": "code",
            "execution_count": null,
            "metadata": {
                "vscode": {
                    "languageId": "r"
                }
            },
            "outputs": [],
            "source": [
                "# numpy and matplotlib imported, seed set\n",
                "\n",
                "# Simulate random walk 500 times\n",
                "all_walks = []\n",
                "for i in range(500) :\n",
                "    random_walk = [0]\n",
                "    for x in range(100) :\n",
                "        step = random_walk[-1]\n",
                "        dice = np.random.randint(1,7)\n",
                "        if dice <= 2:\n",
                "            step = max(0, step - 1)\n",
                "        elif dice <= 5:\n",
                "            step = step + 1\n",
                "        else:\n",
                "            step = step + np.random.randint(1,7)\n",
                "        if np.random.rand() <= 0.001 :\n",
                "            step = 0\n",
                "        random_walk.append(step)\n",
                "    all_walks.append(random_walk)\n",
                "\n",
                "# Create and plot np_aw_t\n",
                "np_aw_t = np.transpose(np.array(all_walks))\n",
                "\n",
                "# Select last row from np_aw_t: ends\n",
                "ends = np_aw_t[-1,:]\n",
                "\n",
                "# Plot histogram of ends, display plot\n",
                "plt.hist(ends)\n",
                "plt.show()\n"
            ]
        },
        {
            "attachments": {},
            "cell_type": "markdown",
            "metadata": {},
            "source": [
                "</div>\n",
                "\n"
            ]
        },
        {
            "attachments": {},
            "cell_type": "markdown",
            "metadata": {},
            "source": [
                "<p class=\"\">Great job! Have a look at a histogram; what do you think your chances are?</p>\n",
                "\n"
            ]
        },
        {
            "attachments": {},
            "cell_type": "markdown",
            "metadata": {},
            "source": [
                "### Calculate the odds\n",
                "\n",
                "\n",
                "<div class>\n",
                "<p>The histogram of the previous exercise was created from a NumPy array <code>ends</code>, that contains 500 integers. Each integer represents the end point of a random walk. To calculate the chance that this end point is greater than or equal to 60, you can count the number of integers in <code>ends</code> that are greater than or equal to 60 and divide that number by 500, the total number of simulations.</p>\n",
                "<p>Well then, what's the estimated chance that you'll reach 60 steps high if you play this Empire State Building game? The <code>ends</code> array is everything you need; it's available in your Python session so you can make calculations in the IPython Shell.</p>\n",
                "</div>\n",
                "<div>\n"
            ]
        },
        {
            "cell_type": "code",
            "execution_count": null,
            "metadata": {
                "vscode": {
                    "languageId": "r"
                }
            },
            "outputs": [],
            "source": [
                "# edited/added\n",
                "sum(ends>60)/len(ends)\n"
            ]
        },
        {
            "attachments": {},
            "cell_type": "markdown",
            "metadata": {},
            "source": [
                "</div>\n",
                "\n"
            ]
        },
        {
            "attachments": {},
            "cell_type": "markdown",
            "metadata": {},
            "source": [
                "- [ ] 48.8%\n",
                "- [ ] 76.6%\n",
                "- [x] 78.4%\n",
                "- [ ] 95.9%\n",
                "\n"
            ]
        },
        {
            "attachments": {},
            "cell_type": "markdown",
            "metadata": {},
            "source": [
                "<p class=\"\">Correct! Seems like you have a pretty high chance of winning the bet!</p>\n"
            ]
        }
    ],
    "metadata": {
        "anaconda-cloud": "",
        "kernelspec": {
            "display_name": "R",
            "langauge": "R",
            "name": "ir"
        },
        "language_info": {
            "codemirror_mode": "r",
            "file_extension": ".r",
            "mimetype": "text/x-r-source",
            "name": "R",
            "pygments_lexer": "r",
            "version": "3.4.1"
        }
    },
    "nbformat": 4,
    "nbformat_minor": 1
}
