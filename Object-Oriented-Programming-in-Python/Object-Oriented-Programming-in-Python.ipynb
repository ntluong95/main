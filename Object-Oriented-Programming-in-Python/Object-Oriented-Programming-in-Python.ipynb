{
    "cells": [
        {
            "cell_type": "markdown",
            "metadata": {},
            "source": [
                "<h3><a href=\"https://github.com/mclix85/datacamp\" target=\"_blank\">View Source Code</a></h3>\n",
                "\n",
                "<h3>Course Description</h3>\n",
                "\n",
                "<p class=\"course__description\">You've done your analysis, built your report, and trained a model. What's next? Well, if you want to deploy your model into production, your code will need to be more reliable than exploratory scripts in a Jupyter notebook. Writing Functions in Python will give you a strong foundation in writing complex and beautiful functions so that you can contribute research and engineering skills to your team. You'll learn useful tricks, like how to write context managers and decorators. You'll also learn best practices around how to write maintainable reusable functions with good documentation. They say that people who can do good research and write high-quality code are unicorns. Take this course and discover the magic!</p>\n",
                "\n",
                "Object-oriented programming (OOP) is a widely used programming paradigm that reduces development times—making it easier to read, reuse, and maintain your code. OOP shifts the focus from thinking about code as a sequence of actions to looking at your program as a collection of objects that interact with each other. In this course, you’ll learn how to create classes, which act as the blueprints for every object in Python. You’ll then leverage principles called inheritance and polymorphism to reuse and optimize code. Dive in and learn how to create beautiful code that’s clean and efficient!\n",
                "\n",
                "# OOP Fundamentals\n",
                "\n",
                "<p class=\"chapter__description\">\n",
                "    In this chapter, you'll learn what object-oriented programming (OOP) is, how it differs from procedural-programming, and how it can be applied. You'll then define your own classes, and learn how to create methods, attributes, and constructors.\n",
                "  </p>\n",
                "  \n",
                "## What is OOP?\n",
                "\n",
                "\n",
                "\n",
                "### OOP termininology\n",
                "\n",
                "<p>That was a lot of terminology at once -- classes, objects, methods, attributes… Before you start writing your own object-oriented code, make sure you have a solid grasp on the main concepts of OOP.</p>\n",
                "\n",
                "<li>Classify the cards into the correct buckets. Are the statements true or false?</li>\n",
                "\n",
                "<div>\n",
                "**True**:\n",
                "\n",
                "- <p><strong>Encapsulation</strong> is a software design practice of bundling the data and the methods that operate on that data.</p>\n",
                "- <p><strong>Methods</strong> encode behavior of an object and are represented by functions.</p>\n",
                "- <p><strong>Attributes</strong> encode the state of an object and are represented by variables.</p>\n",
                "\n",
                "**False**:\n",
                "\n",
                "- <p>A programming language can be either object-oriented or procedural, but not both.</p>\n",
                "- <p><em>Object</em> and <em>class</em> are different terms describing the same concept.</p>\n",
                "- <p><code>.columns</code> is an example of a method of a DataFrame object.</p>\n",
                "- <p><strong>Object</strong> is an abstract template describing the general states and behaviors.</p>\n",
                "</div>\n",
                "\n",
                "<p>Great job! Classes and objects both have attributes and methods, but the difference is that a class is an abstract template, while an object is a concrete representation of a class.</p>\n",
                "\n",
                "### Exploring object interface\n",
                "\n",
                "\n",
                "<div class>\n",
                "<p>The best way to learn how to write object-oriented code is to study the design of existing classes. \n",
                "You've already learned about exploration tools like <code>type()</code> and <code>dir()</code>. </p>\n",
                "<p>Another important function is <code>help()</code>: calling <code>help(x)</code> in the console will show the documentation for the object or class <code>x</code>. </p>\n",
                "<p>Most real world classes have many methods and attributes, and it is easy to get lost, so in this exercise, you will start with something simpler. We have defined a class, and created an object of that class called <code>mystery</code>. Explore the object in the console using the tools that you learned.</p>\n",
                "</div>\n",
                "\n",
                "<p>What class does the <code>mystery</code> object have?</p>\n",
                "\n",
                "\n",
                "\n",
                "<div>\n"
            ]
        },
        {
            "cell_type": "code",
            "execution_count": null,
            "metadata": {
                "vscode": {
                    "languageId": "r"
                }
            },
            "outputs": [],
            "source": [
                "class Employee:\n",
                "  \n",
                "    def __init__(self, name, salary=30000):\n",
                "        self.name = name\n",
                "        self.salary = salary\n",
                "        \n",
                "    def give_raise(self, amount):\n",
                "        self.salary += amount\n",
                "\n",
                "mystery = Employee(name = \"Natasha Ting\", salary = 73500)\n",
                "type(mystery)\n"
            ]
        },
        {
            "cell_type": "markdown",
            "metadata": {},
            "source": [
                "</div>\n",
                "\n",
                "- [ ] <code>numpy.ndarray</code>\n",
                "- [x] <code>\\_\\_main\\_\\_.Employee</code>\n",
                "- [ ] <code>pandas.core.DataFrame</code>\n",
                "- [ ] <code>salesforce.Customer</code>\n",
                "- [ ] It doesn't have a class\n",
                "\n",
                "\n",
                "<p>So the <code>mystery</code> object is an <code>Employee</code>! Explore it in the console further to find out what attributes it has.</p>\n",
                "<ul>\n",
                "<li>Print the <code>mystery</code> employee's <code>name</code> attribute.</li>\n",
                "<li>Print the employee's salary.</li>\n",
                "</ul>\n",
                "\n",
                "<p>Natasha -- our <code>mystery</code> employee -- has their salary stored in the attribute <code>.salary</code>.</p>\n",
                "<ul>\n",
                "<li>Give Natasha a raise of $2500 by using a suitable method (use <code>help()</code> again if you need to!).</li>\n",
                "<li>Print the salary again.</li>\n",
                "</ul>\n",
                "\n",
                "\n",
                "<div>\n"
            ]
        },
        {
            "cell_type": "code",
            "execution_count": null,
            "metadata": {
                "vscode": {
                    "languageId": "r"
                }
            },
            "outputs": [],
            "source": [
                "# Print the mystery employee's name\n",
                "print(mystery.name)\n"
            ]
        },
        {
            "cell_type": "markdown",
            "metadata": {},
            "source": [
                "</div>\n",
                "\n",
                "<div>\n"
            ]
        },
        {
            "cell_type": "code",
            "execution_count": null,
            "metadata": {
                "vscode": {
                    "languageId": "r"
                }
            },
            "outputs": [],
            "source": [
                "# Print the mystery employee's salary\n",
                "print(mystery.salary)\n"
            ]
        },
        {
            "cell_type": "markdown",
            "metadata": {},
            "source": [
                "</div>\n",
                "\n",
                "<div>\n"
            ]
        },
        {
            "cell_type": "code",
            "execution_count": null,
            "metadata": {
                "vscode": {
                    "languageId": "r"
                }
            },
            "outputs": [],
            "source": [
                "# Give the mystery employee a raise of $2500\n",
                "mystery.give_raise(2500)\n",
                "\n",
                "# Print the salary again\n",
                "print(mystery.salary)\n"
            ]
        },
        {
            "cell_type": "markdown",
            "metadata": {},
            "source": [
                "</div>\n",
                "\n",
                "<p class=\"\">Great start! You can use <code>help()</code> to explore an unfamiliar object. Notice how descriptive names of attributes and methods, together with the methods' docstrings, helped you figure out class functionality even when you didn't know how it was implemented. Keep this in mind when writing your own classes!</p>\n",
                "\n",
                "## Class anatomy: attributes and methods\n",
                "\n",
                "\n",
                "\n",
                "### Understanding class definitions\n",
                "\n",
                "<div class=\"\">\n",
                "<p>Objects and classes consist of attributes (storing the state) and methods (storing the behavior).</p>\n",
                "<p>Before you get to writing your own classes, you need to understand the basic structure of the class, and how attributes in the class definition relate to attributes in the object. In this exercise, you have a class with one method and one attribute, as well as the object of that class.</p></div>\n",
                "\n",
                "<div class=\"\">\n",
                "<ul>\n",
                "<li>Arrange the code blocks in the order that will produce the output <code>6</code> when run.</li>\n",
                "</ul>\n",
                "<p><em>Don't forget to indent the blocks correctly using the <code>&lt;&gt;</code> buttons to the left of the ☰ icon!</em></p></div>\n",
                "\n",
                "\n",
                "<div>\n"
            ]
        },
        {
            "cell_type": "code",
            "execution_count": null,
            "metadata": {
                "vscode": {
                    "languageId": "r"
                }
            },
            "outputs": [],
            "source": [
                "class MyCounter:\n",
                "  \n",
                "  def set_count(self, n):\n",
                "    self.count = n\n",
                "\n",
                "mc = MyCounter()\n",
                "mc.set_count(5)\n",
                "mc.count = mc.count + 1\n",
                "print(mc.count)\n"
            ]
        },
        {
            "cell_type": "markdown",
            "metadata": {},
            "source": [
                "</div>\n",
                "\n",
                "<p>Well done! Notice how you used <code>self.count</code> to refer to the <code>count</code> attribute inside a class definition, and <code>mc.count</code> to refer to the <code>count</code> attribute of an object. Make sure you understand the difference, and when to use which form (review the video if necessary)!</p>\n",
                "\n",
                "### Create your first class\n",
                "\n",
                "\n",
                "<div class>\n",
                "<p>Time to write your first class! In this exercise, you'll start building the <code>Employee</code> class you briefly explored in the previous lesson. You'll start by creating methods that set attributes, and then add a few methods that manipulate them.</p>\n",
                "<p>As mentioned in the first video, an object-oriented approach is most useful when your code involves complex interactions of many objects. In real production code, classes can have dozens of attributes and methods with complicated logic, but the underlying structure is the same as with the most simple class. </p>\n",
                "<p>Your classes in this course will only have a few attributes and short methods, but the organizational principles behind the them will be directly translatable to more complicated code.</p>\n",
                "</div>\n",
                "\n",
                "<ul>\n",
                "\n",
                "<li>Create an empty class <code>Employee</code>.</li>\n",
                "<li>Create an object <code>emp</code> of the class <code>Employee</code> by calling <code>Employee()</code>.</li>\n",
                "</ul>\n",
                "<p><em>Try printing the <code>.name</code> attribute of <code>emp</code> object in the console. What happens?</em></p>\n",
                "\n",
                "\n",
                "\n",
                "<div>\n"
            ]
        },
        {
            "cell_type": "code",
            "execution_count": null,
            "metadata": {
                "vscode": {
                    "languageId": "r"
                }
            },
            "outputs": [],
            "source": [
                "# Create an empty class Employee\n",
                "class Employee:\n",
                "    pass\n",
                "\n",
                "# Create an object emp of class Employee  \n",
                "emp = Employee()\n"
            ]
        },
        {
            "cell_type": "markdown",
            "metadata": {},
            "source": [
                "</div>\n",
                "\n",
                "\n",
                "<ul>\n",
                "<li>Modify the <code>Employee</code> class to include a <code>.set_name()</code> method that takes a <code>new_name</code> argument, and assigns <code>new_name</code> to the <code>.name</code> attribute of the class.</li>\n",
                "<li>Use the <code>set_name()</code> method on <code>emp</code> to set the name to <code>'Korel Rossi'</code>.</li>\n",
                "<li>Print <code>emp.name</code>.</li>\n",
                "</ul>\n",
                "\n",
                "\n",
                "<div>\n"
            ]
        },
        {
            "cell_type": "code",
            "execution_count": null,
            "metadata": {
                "vscode": {
                    "languageId": "r"
                }
            },
            "outputs": [],
            "source": [
                "# Include a set_name method\n",
                "class Employee:\n",
                "  \n",
                "  def set_name(self, new_name):\n",
                "    self.name = new_name\n",
                "  \n",
                "# Create an object emp of class Employee  \n",
                "emp = Employee()\n",
                "\n",
                "# Use set_name() on emp to set the name of emp to 'Korel Rossi'\n",
                "emp.set_name('Korel Rossi')\n",
                "\n",
                "# Print the name of emp\n",
                "print(emp.name)\n"
            ]
        },
        {
            "cell_type": "markdown",
            "metadata": {},
            "source": [
                "</div>\n",
                "\n",
                "\n",
                "<ul>\n",
                "<li>Follow the pattern to add another method - <code>set_salary()</code> - that will set the <code>salary</code> attribute of the class to the parameter <code>new_salary</code> passed to method.</li>\n",
                "<li>Set the salary of <code>emp</code> to 50000.</li>\n",
                "</ul>\n",
                "<p><em>Try printing <code>emp.salary</code> before and after calling <code>set_salary()</code>.</em></p>\n",
                "\n",
                "\n",
                "<div>\n"
            ]
        },
        {
            "cell_type": "code",
            "execution_count": null,
            "metadata": {
                "vscode": {
                    "languageId": "r"
                }
            },
            "outputs": [],
            "source": [
                "class Employee:\n",
                "  \n",
                "  def set_name(self, new_name):\n",
                "    self.name = new_name\n",
                "  \n",
                "  # Add set_salary() method  \n",
                "  def set_salary(self, new_salary):\n",
                "    self.salary = new_salary \n",
                "  \n",
                "  \n",
                "# Create an object emp of class Employee  \n",
                "emp = Employee()\n",
                "\n",
                "# Use set_name to set the name of emp to 'Korel Rossi'\n",
                "emp.set_name('Korel Rossi')\n",
                "\n",
                "# Set the salary of emp to 50000\n",
                "emp.set_salary(50000)\n"
            ]
        },
        {
            "cell_type": "markdown",
            "metadata": {},
            "source": [
                "</div>\n",
                "\n",
                "<p class=\"\">Fantastic! You created your first class with two methods and two attributes. Try running <code>dir(emp)</code> in the console and see if you can find where these attributes and methods pop up!</p>\n",
                "\n",
                "### Using attributes in class definition\n",
                "\n",
                "\n",
                "<div class>\n",
                "<p>In the previous exercise, you defined an <code>Employee</code> class with two attributes and two methods setting those attributes. This kind of method, aptly called a <em>setter</em> method, is far from the only possible kind. <em>Methods are functions</em>, so anything you can do with a function, you can also do with a method. For example, you can use methods to print, return values, make plots, and raise exceptions, as long as it makes sense as the behavior of the objects described by the class (an <code>Employee</code> probably wouldn't have a <code>pivot_table()</code> method).</p>\n",
                "<p>In this exercise, you'll go beyond the setter methods and learn how to use existing class attributes to define new methods. The <code>Employee</code> class and the <code>emp</code> object from the previous exercise are in your script pane.</p>\n",
                "</div>\n",
                "\n",
                "<li>Print the <code>salary</code> attribute of <code>emp</code>.</li>\n",
                "<li>Attributes aren't read-only: use assignment (equality sign) to increase the <code>salary</code> attribute of <code>emp</code> by 1500, and print it again.</li>\n",
                "\n",
                "\n",
                "\n",
                "<div>\n"
            ]
        },
        {
            "cell_type": "code",
            "execution_count": null,
            "metadata": {
                "vscode": {
                    "languageId": "r"
                }
            },
            "outputs": [],
            "source": [
                "class Employee:\n",
                "    def set_name(self, new_name):\n",
                "        self.name = new_name\n",
                "\n",
                "    def set_salary(self, new_salary):\n",
                "        self.salary = new_salary \n",
                "  \n",
                "emp = Employee()\n",
                "emp.set_name('Korel Rossi')\n",
                "emp.set_salary(50000)\n",
                "\n",
                "# Print the salary attribute of emp\n",
                "print(emp.salary)\n"
            ]
        },
        {
            "cell_type": "markdown",
            "metadata": {},
            "source": [
                "</div>\n",
                "\n",
                "\n",
                "\n",
                "<div>\n"
            ]
        },
        {
            "cell_type": "code",
            "execution_count": null,
            "metadata": {
                "vscode": {
                    "languageId": "r"
                }
            },
            "outputs": [],
            "source": [
                "# Increase salary of emp by 1500\n",
                "emp.salary = emp.salary + 1500\n",
                "\n",
                "# Print the salary attribute of emp again\n",
                "print(emp.salary)\n"
            ]
        },
        {
            "cell_type": "markdown",
            "metadata": {},
            "source": [
                "</div>\n",
                "\n",
                "<p>Raising a salary for an employee is a <em>common pattern of behavior</em>, so it should be part of the class definition instead.</p>\n",
                "<ul>\n",
                "<li>Add a method <code>give_raise()</code> to <code>Employee</code> that increases the salary by the amount passed to <code>give_raise()</code> as a parameter.</li>\n",
                "</ul>\n",
                "\n",
                "\n",
                "<div>\n"
            ]
        },
        {
            "cell_type": "code",
            "execution_count": null,
            "metadata": {
                "vscode": {
                    "languageId": "r"
                }
            },
            "outputs": [],
            "source": [
                "class Employee:\n",
                "    def set_name(self, new_name):\n",
                "        self.name = new_name\n",
                "\n",
                "    def set_salary(self, new_salary):\n",
                "        self.salary = new_salary \n",
                "\n",
                "    # Add a give_raise() method with raise amount as a parameter\n",
                "    def give_raise(self, amount):\n",
                "        self.salary = self.salary + amount\n",
                "\n",
                "emp = Employee()\n",
                "emp.set_name('Korel Rossi')\n",
                "emp.set_salary(50000)\n",
                "\n",
                "print(emp.salary)\n",
                "emp.give_raise(1500)\n",
                "print(emp.salary)\n"
            ]
        },
        {
            "cell_type": "markdown",
            "metadata": {},
            "source": [
                "</div>\n",
                "\n",
                "<p>Methods don't have to just modify the attributes - they can return values as well! </p>\n",
                "<ul>\n",
                "<li>Add a method <code>monthly_salary()</code> that <code>return</code>s the value of the <code>.salary</code> attribute divided by 12.</li>\n",
                "<li>Call <code>.monthly_salary()</code> on <code>emp</code>, assign it to <code>mon_sal</code>, and print.</li>\n",
                "</ul>\n",
                "\n",
                "\n",
                "<div>\n"
            ]
        },
        {
            "cell_type": "code",
            "execution_count": null,
            "metadata": {
                "vscode": {
                    "languageId": "r"
                }
            },
            "outputs": [],
            "source": [
                "class Employee:\n",
                "    def set_name(self, new_name):\n",
                "        self.name = new_name\n",
                "\n",
                "    def set_salary(self, new_salary):\n",
                "        self.salary = new_salary \n",
                "\n",
                "    def give_raise(self, amount):\n",
                "        self.salary = self.salary + amount\n",
                "\n",
                "    # Add monthly_salary method that returns 1/12th of salary attribute\n",
                "    def monthly_salary(self):\n",
                "        return self.salary / 12\n",
                "    \n",
                "emp = Employee()\n",
                "emp.set_name('Korel Rossi')\n",
                "emp.set_salary(50000)\n",
                "\n",
                "# Get monthly salary of emp and assign to mon_sal\n",
                "mon_sal = emp.monthly_salary()\n",
                "\n",
                "# Print mon_sal\n",
                "print(mon_sal)\n"
            ]
        },
        {
            "cell_type": "markdown",
            "metadata": {},
            "source": [
                "</div>\n",
                "\n",
                "<p class=\"\">You are doing great! You might be wondering: why did we write these methods when all the same operations could have been performed on object attributes directly? Our code was very simple, but methods that deal only with attribute values often have pre-processing and checks built in: for example, maybe the company has a maximal allowable raise amount. Then it would be prudent to add a clause to the <code>give_raise()</code> method that checks whether the raise amount is within limits.</p>\n",
                "\n",
                "## Class anatomy: the __init__ constructor\n",
                "\n",
                "\n",
                "\n",
                "### Correct use of __init__\n",
                "\n",
                "<div class=\"\"><p>Python allows you to run custom code - for example, initializing attributes - any time an object is created: you just need to define a special method called <code>__init__()</code>. Use this exercise to check your understanding of <code>__init__()</code> mechanics!</p>\n",
                "<p>Which of the code blocks will <strong>NOT</strong> return an error when run?</p>\n",
                "<p><img src=\"https://assets.datacamp.com/production/repositories/5748/datasets/b86dfcfce0ba2c0c3b26d7c25881863ca48bb640/constructors.png\" width=\"800,\" alt=\"4 code blocks\"></p>\n",
                "</div>\n",
                "\n",
                "- [ ] 1\n",
                "- [x] 2\n",
                "- [ ] 3\n",
                "- [ ] 4\n",
                "\n",
                "<p class=\"dc-completion-pane__message dc-u-maxw-100pc\">Exactly right! The printout, however, will be 5, while the person writing the code likely expected 0. That's why documentation is important!</p>\n",
                "\n",
                "### Add a class constructor\n",
                "\n",
                "\n",
                "<div class>\n",
                "<p>In this exercise, you'll continue working on the <code>Employee</code> class. Instead of using the methods like <code>set_salary()</code> that you wrote in the previous lesson, you will introduce a constructor that assigns name and salary to the employee at the moment when the object is created. </p>\n",
                "<p>You'll also create a new attribute -- <code>hire_date</code> -- which will <strong>not</strong> be initialized through parameters, but instead will contain the current date.</p>\n",
                "<p>Initializing attributes in the constructor is a good idea, because this ensures that the object has all the necessary attributes the moment it is created.</p>\n",
                "</div>\n",
                "\n",
                "<p>Define the class <code>Employee</code> with a constructor <code>__init__()</code> that:</p>\n",
                "<ul>\n",
                "<li>accepts two arguments, <code>name</code> and <code>salary</code> (with default value<code>0</code>),</li>\n",
                "<li>creates two attributes, also called <code>name</code> and <code>salary</code>,  </li>\n",
                "<li>sets their values to the corresponding arguments.</li>\n",
                "</ul>\n",
                "\n",
                "\n",
                "\n",
                "<div>\n"
            ]
        },
        {
            "cell_type": "code",
            "execution_count": null,
            "metadata": {
                "vscode": {
                    "languageId": "r"
                }
            },
            "outputs": [],
            "source": [
                "class Employee:\n",
                "    # Create __init__() method\n",
                "    def __init__(self, name, salary=0):\n",
                "        # Create the name and salary attributes\n",
                "        self.name = name\n",
                "        self.salary = salary\n",
                "    \n",
                "    # From the previous lesson\n",
                "    def give_raise(self, amount):\n",
                "        self.salary += amount\n",
                "\n",
                "    def monthly_salary(self):\n",
                "        return self.salary/12\n",
                "        \n",
                "emp = Employee(\"Korel Rossi\")\n",
                "print(emp.name)\n",
                "print(emp.salary)\n"
            ]
        },
        {
            "cell_type": "markdown",
            "metadata": {},
            "source": [
                "</div>\n",
                "\n",
                "<p>The <code>__init__()</code> method is a great place to do preprocessing.</p>\n",
                "<ul>\n",
                "<li>Modify <code>__init__()</code> to check whether the <code>salary</code> parameter is positive:<ul>\n",
                "<li>if yes, assign it to the <code>salary</code> attribute,</li>\n",
                "<li>if not, assign <code>0</code> to the attribute and print <code>\"Invalid salary!\"</code>.</li></ul></li>\n",
                "</ul>\n",
                "\n",
                "\n",
                "<div>\n"
            ]
        },
        {
            "cell_type": "code",
            "execution_count": null,
            "metadata": {
                "vscode": {
                    "languageId": "r"
                }
            },
            "outputs": [],
            "source": [
                "class Employee:\n",
                "    \n",
                "    def __init__(self, name, salary=0):\n",
                "        self.name = name\n",
                "        # Modify code below to check if salary is positive\n",
                "        if salary >= 0:\n",
                "          self.salary = salary\n",
                "        else:\n",
                "          self.salary = 0\n",
                "          print(\"Invalid salary!\")\n",
                "        \n",
                "   \n",
                "   # ...Other methods omitted for brevity ... \n",
                "      \n",
                "emp = Employee(\"Korel Rossi\", -1000)\n",
                "print(emp.name)\n",
                "print(emp.salary)\n"
            ]
        },
        {
            "cell_type": "markdown",
            "metadata": {},
            "source": [
                "</div>\n",
                "\n",
                "<ul>\n",
                "<li>Import <code>datetime</code> from the <code>datetime</code> module. This contains the function that returns current date.</li>\n",
                "<li>Add an attribute <code>hire_date</code> and set it to <code>datetime.today()</code>.</li>\n",
                "</ul>\n",
                "\n",
                "\n",
                "<div>\n"
            ]
        },
        {
            "cell_type": "code",
            "execution_count": null,
            "metadata": {
                "vscode": {
                    "languageId": "r"
                }
            },
            "outputs": [],
            "source": [
                "# Import datetime from datetime\n",
                "from datetime import datetime\n",
                "\n",
                "class Employee:\n",
                "    \n",
                "    def __init__(self, name, salary=0):\n",
                "        self.name = name\n",
                "        if salary > 0:\n",
                "          self.salary = salary\n",
                "        else:\n",
                "          self.salary = 0\n",
                "          print(\"Invalid salary!\")\n",
                "          \n",
                "        # Add the hire_date attribute and set it to today's date\n",
                "        self.hire_date = datetime.today()\n",
                "        \n",
                "   # ...Other methods omitted for brevity ...\n",
                "      \n",
                "emp = Employee(\"Korel Rossi\")\n",
                "print(emp.name)\n",
                "print(emp.hire_date)\n"
            ]
        },
        {
            "cell_type": "markdown",
            "metadata": {},
            "source": [
                "</div>\n",
                "\n",
                "<p class=\"\">You're doing great! Notice how you had to add the <code>import</code> statement to use the <code>today()</code> function. You can use functions from other modules in your class definition, but you need to import the module first, and the import statement has to be outside class definition.</p>\n",
                "\n",
                "### Write a class from scratch\n",
                "\n",
                "\n",
                "<div class>\n",
                "<p>You are a Python developer writing a visualization package. For any element in a visualization, you want to be able to tell the position of the element, how far it is from other elements, and easily implement horizontal or vertical flip .</p>\n",
                "<p>The most basic element of any visualization is a single point. In this exercise, you'll write a class for a point on a plane from scratch.</p>\n",
                "</div>\n",
                "\n",
                "<p>Define the class  <code>Point</code> that has:</p>\n",
                "<ul>\n",
                "<li>\n",
                "<em>Two attributes, <code>x</code> and <code>y</code></em> -  the coordinates of the point on the plane;</li>\n",
                "<li>\n",
                "<em>A constructor</em> that accepts two arguments, <code>x</code> and <code>y</code>, that initialize the corresponding attributes.\n",
                "These arguments should have default value of <code>0.0</code>;</li>\n",
                "<li>\n",
                "<em>A method <code>distance_to_origin()</code></em> that <em>returns</em> the distance from the point to the origin. The formula for that is \\(\\sqrt{x^2 + y^2}\\). </li>\n",
                "<li>\n",
                "<em>A method <code>reflect()</code></em>, that reflects the point with respect to the x- or y-axis:<ul>\n",
                "<li>accepts one argument <code>axis</code>,</li>\n",
                "<li>if <code>axis=\"x\"</code> , it sets the <code>y</code> (not a typo!) attribute to the negative value of the <code>y</code> attribute,</li>\n",
                "<li>if <code>axis=\"y\"</code>, it sets the <code>x</code> attribute to the negative value of the <code>x</code> attribute,</li>\n",
                "<li>for any other value of <code>axis</code>, prints an error message.\n",
                "<img src=\"https://assets.datacamp.com/production/repositories/5748/datasets/ae24abb426a181d3785bba89c3130b17f7001704/reflect.png\" width=\"400,\" alt=\"Reflection of a point with respect to y and x axes\">\n",
                "</li>\n",
                "</ul>\n",
                "</li>\n",
                "</ul>\n",
                "<p>Note: <em>You can choose to use <code>sqrt()</code> function from either the <code>numpy</code> or the <code>math</code> package, but whichever package you choose, <strong>don't forget to import it</strong> before starting the class definition!</em></p>\n",
                "<hr>\n",
                "<p><em>To check your work, you should be able to run the following code without errors:</em></p>\n",
                "<pre><code>pt = Point(x=3.0)\n",
                "pt.reflect(\"y\")\n",
                "print((pt.x, pt.y))\n",
                "pt.y = 4.0\n",
                "print(pt.distance_to_origin())\n",
                "</code></pre>\n",
                "<p><em>and return the output</em></p>\n",
                "<pre><code>(-3.0,0.0)\n",
                "5.0\n",
                "</code></pre>\n",
                "\n",
                "\n",
                "\n",
                "<div>\n"
            ]
        },
        {
            "cell_type": "code",
            "execution_count": null,
            "metadata": {
                "vscode": {
                    "languageId": "r"
                }
            },
            "outputs": [],
            "source": [
                "# For use of np.sqrt\n",
                "import numpy as np\n",
                "\n",
                "class Point:\n",
                "    \"\"\" A point on a 2D plane\n",
                "    \n",
                "   Attributes\n",
                "    ----------\n",
                "    x : float, default 0.0. The x coordinate of the point        \n",
                "    y : float, default 0.0. The y coordinate of the point\n",
                "    \"\"\"\n",
                "    def __init__(self, x=0.0, y=0.0):\n",
                "      self.x = x\n",
                "      self.y = y\n",
                "      \n",
                "    def distance_to_origin(self):\n",
                "      \"\"\"Calculate distance from the point to the origin (0,0)\"\"\"\n",
                "      return np.sqrt(self.x ** 2 + self.y ** 2)\n",
                "    \n",
                "    def reflect(self, axis):\n",
                "      \"\"\"Reflect the point with respect to x or y axis.\"\"\"\n",
                "      if axis == \"x\":\n",
                "        self.y = - self.y\n",
                "      elif axis == \"y\":\n",
                "        self.x = - self.x\n",
                "      else:\n",
                "        print(\"The argument axis only accepts values 'x' and 'y'!\")\n"
            ]
        },
        {
            "cell_type": "markdown",
            "metadata": {},
            "source": [
                "</div>\n",
                "\n",
                "<p class=\"\">Great work! Notice how you implemented <code>distance_to_origin()</code> as a method instead of an attribute. Implementing it as an attribute would be less sustainable - you would have to recalculate it every time you change the values of the <code>x</code> and <code>y</code> attributes to make sure the object state stays current.</p>\n",
                "\n",
                "# Inheritance and Polymorphism\n",
                "\n",
                "<p class=\"chapter__description\">\n",
                "    Inheritance and polymorphism are the core concepts of OOP that enable efficient and consistent code reuse. Learn how to inherit from a class, customize and redefine methods, and review the differences between class-level data and instance-level data.\n",
                "  </p>\n",
                "\n",
                "## Instance and class data\n",
                "\n",
                "\n",
                "\n",
                "### Class-level attributes\n",
                "\n",
                "\n",
                "<div class>\n",
                "<p>Class attributes store data that is shared among all the class instances. They are assigned values in the class body, and are referred to using the <code>ClassName.</code> syntax rather than <code>self.</code> syntax when used in methods.</p>\n",
                "<p>In this exercise, you will be a game developer working on a game that will have several players moving on a grid and interacting with each other. As the first step, you want to define a <code>Player</code> class that will just move along a straight line. <code>Player</code> will have a <code>position</code> attribute and a <code>move()</code> method. The grid is limited, so the <code>position</code> of <code>Player</code> will have a maximal value.</p>\n",
                "</div>\n",
                "\n",
                "<ul>\n",
                "\n",
                "<li>Define a class <code>Player</code> that has:</li>\n",
                "<li>A class attribute <code>MAX_POSITION</code> with value <code>10</code>.</li>\n",
                "<li>The <code>__init__()</code> method that sets the <code>position</code> instance attribute to <code>0</code>.  </li>\n",
                "<li>Print <code>Player.MAX_POSITION</code>.</li>\n",
                "<li>Create a <code>Player</code> object <code>p</code> and print its <code>MAX_POSITION</code>.</li>\n",
                "</ul>\n",
                "\n",
                "\n",
                "\n",
                "<div>\n"
            ]
        },
        {
            "cell_type": "code",
            "execution_count": null,
            "metadata": {
                "vscode": {
                    "languageId": "r"
                }
            },
            "outputs": [],
            "source": [
                "# Create a Player class\n",
                "class Player:\n",
                "    MAX_POSITION = 10\n",
                "    \n",
                "    def __init__(self):\n",
                "      self.position = 0\n",
                "\n",
                "# Print Player.MAX_POSITION  \n",
                "print(Player.MAX_POSITION)   \n"
            ]
        },
        {
            "cell_type": "markdown",
            "metadata": {},
            "source": [
                "</div>\n",
                "\n",
                "<div>\n"
            ]
        },
        {
            "cell_type": "code",
            "execution_count": null,
            "metadata": {
                "vscode": {
                    "languageId": "r"
                }
            },
            "outputs": [],
            "source": [
                "# Create a player p and print its MAX_POSITITON\n",
                "p = Player()\n",
                "print(p.MAX_POSITION)\n"
            ]
        },
        {
            "cell_type": "markdown",
            "metadata": {},
            "source": [
                "</div>\n",
                "\n",
                "<p>Add a <code>move()</code> method with a <code>steps</code> parameter such that:</p>\n",
                "<ul>\n",
                "<li>if <code>position</code> plus <code>steps</code> is less than <code>MAX_POSITION</code>, then add <code>steps</code> to <code>position</code> and assign the result back to <code>position</code>;</li>\n",
                "<li>otherwise, set <code>position</code> to <code>MAX_POSITION</code>.</li>\n",
                "</ul>\n",
                "<p><em>Take a look at the console for a visualization</em>!</p>\n",
                "\n",
                "\n",
                "<div>\n"
            ]
        },
        {
            "cell_type": "code",
            "execution_count": null,
            "metadata": {
                "vscode": {
                    "languageId": "r"
                }
            },
            "outputs": [],
            "source": [
                "class Player:\n",
                "    MAX_POSITION = 10\n",
                "    \n",
                "    def __init__(self):\n",
                "        self.position = 0\n",
                "\n",
                "    # Add a move() method with steps parameter     \n",
                "    def move(self, steps):\n",
                "        if self.position + steps < Player.MAX_POSITION:\n",
                "           self.position = self.position + steps \n",
                "        else:\n",
                "           self.position = Player.MAX_POSITION\n",
                "    \n",
                "    # This method provides a rudimentary visualization in the console    \n",
                "    def draw(self):\n",
                "        drawing = \"-\" * self.position + \"|\" +\"-\"*(Player.MAX_POSITION - self.position)\n",
                "        print(drawing)\n",
                "\n",
                "p = Player(); p.draw()\n",
                "p.move(4); p.draw()\n",
                "p.move(5); p.draw()\n",
                "p.move(3); p.draw()\n"
            ]
        },
        {
            "cell_type": "markdown",
            "metadata": {},
            "source": [
                "</div>\n",
                "\n",
                "<p class=\"\">Great work!</p>\n",
                "\n",
                "### Changing class attributes\n",
                "\n",
                "\n",
                "<div class>\n",
                "<p>You learned how to define class attributes and how to access them from class instances. So what will happen if you try to assign another value to a class attribute when accessing it from an instance? The answer is not as simple as you might think!</p>\n",
                "<p>The <code>Player</code> class from the previous exercise is pre-defined. Recall that it has a <code>position</code> instance attribute, and <code>MAX_SPEED</code> and <code>MAX_POSITION</code> class attributes. The initial value of <code>MAX_SPEED</code> is <code>3</code>.</p>\n",
                "</div>\n",
                "\n",
                "\n",
                "\n",
                "\n",
                "<div>\n"
            ]
        },
        {
            "cell_type": "code",
            "execution_count": null,
            "metadata": {
                "vscode": {
                    "languageId": "r"
                }
            },
            "outputs": [],
            "source": [
                "# edited/added\n",
                "class Player:\n",
                "    MAX_POSITION = 10\n",
                "    MAX_SPEED = 3\n",
                "    \n",
                "    def __init__(self):\n",
                "        self.position = 0\n",
                "    # Add a move() method with steps parameter     \n",
                "    def move(self, steps):\n",
                "        if self.position + steps < Player.MAX_POSITION:\n",
                "           self.position = self.position + steps \n",
                "        else:\n",
                "           self.position = Player.MAX_POSITION\n",
                "    # This method provides a rudimentary visualization in the console    \n",
                "    def draw(self):\n",
                "        drawing = \"-\" * self.position + \"|\" +\"-\"*(Player.MAX_POSITION - self.position)\n",
                "        print(drawing)\n"
            ]
        },
        {
            "cell_type": "markdown",
            "metadata": {},
            "source": [
                "</div>\n",
                "<li>Create two <code>Player</code> objects <code>p1</code> and <code>p2</code>.</li>\n",
                "<li>Print <code>p1.MAX_SPEED</code> and <code>p2.MAX_SPEED</code>.</li>\n",
                "<li>Assign <code>7</code> to <code>p1.MAX_SPEED</code>.</li>\n",
                "<li>Print <code>p1.MAX_SPEED</code> and <code>p2.MAX_SPEED</code> again.</li>\n",
                "<li>Print <code>Player.MAX_SPEED</code>.</li>\n",
                "<li><em>Examine the output carefully.</em></li>\n",
                "\n",
                "\n",
                "\n",
                "\n",
                "<div>\n"
            ]
        },
        {
            "cell_type": "code",
            "execution_count": null,
            "metadata": {
                "vscode": {
                    "languageId": "r"
                }
            },
            "outputs": [],
            "source": [
                "# Create Players p1 and p2\n",
                "p1, p2 = Player(), Player()\n",
                "\n",
                "print(\"MAX_SPEED of p1 and p2 before assignment:\")\n"
            ]
        },
        {
            "cell_type": "markdown",
            "metadata": {},
            "source": [
                "</div>\n",
                "\n",
                "<div>\n"
            ]
        },
        {
            "cell_type": "code",
            "execution_count": null,
            "metadata": {
                "vscode": {
                    "languageId": "r"
                }
            },
            "outputs": [],
            "source": [
                "# Print p1.MAX_SPEED and p2.MAX_SPEED\n",
                "print(p1.MAX_SPEED)\n",
                "print(p2.MAX_SPEED)\n"
            ]
        },
        {
            "cell_type": "markdown",
            "metadata": {},
            "source": [
                "</div>\n",
                "\n",
                "<div>\n"
            ]
        },
        {
            "cell_type": "code",
            "execution_count": null,
            "metadata": {
                "vscode": {
                    "languageId": "r"
                }
            },
            "outputs": [],
            "source": [
                "# Assign 7 to p1.MAX_SPEED\n",
                "p1.MAX_SPEED = 7\n",
                "\n",
                "print(\"MAX_SPEED of p1 and p2 after assignment:\")\n",
                "# Print p1.MAX_SPEED and p2.MAX_SPEED\n",
                "print(p1.MAX_SPEED)\n",
                "print(p2.MAX_SPEED)\n"
            ]
        },
        {
            "cell_type": "markdown",
            "metadata": {},
            "source": [
                "</div>\n",
                "\n",
                "<div>\n"
            ]
        },
        {
            "cell_type": "code",
            "execution_count": null,
            "metadata": {
                "vscode": {
                    "languageId": "r"
                }
            },
            "outputs": [],
            "source": [
                "print(\"MAX_SPEED of Player:\")\n",
                "\n"
            ]
        },
        {
            "cell_type": "markdown",
            "metadata": {},
            "source": [
                "</div>\n",
                "\n",
                "<div>\n"
            ]
        },
        {
            "cell_type": "code",
            "execution_count": null,
            "metadata": {
                "vscode": {
                    "languageId": "r"
                }
            },
            "outputs": [],
            "source": [
                "# Print Player.MAX_SPEED\n",
                "print(Player.MAX_SPEED)\n"
            ]
        },
        {
            "cell_type": "markdown",
            "metadata": {},
            "source": [
                "</div>\n",
                "\n",
                "<p>Even though <code>MAX_SPEED</code> is shared across instances, assigning 7 to <code>p1.MAX_SPEED</code> didn't change the value of <code>MAX_SPEED</code> in <code>p2</code>, or in the <code>Player</code> class. </p>\n",
                "<p>So what happened? In fact, Python created a new <em>instance attribute</em> in <code>p1</code>, also called it <code>MAX_SPEED</code>, and assigned <code>7</code> to it, without touching the class attribute.</p>\n",
                "<p>Now let's change the class attribute value for real.</p>\n",
                "<ul>\n",
                "<li>Modify the assignment to assign <code>7</code> to <code>Player.MAX_SPEED</code> instead.</li>\n",
                "</ul>\n",
                "\n",
                "\n",
                "<div>\n"
            ]
        },
        {
            "cell_type": "code",
            "execution_count": null,
            "metadata": {
                "vscode": {
                    "languageId": "r"
                }
            },
            "outputs": [],
            "source": [
                "# Create Players p1 and p2\n",
                "p1, p2 = Player(), Player()\n",
                "\n",
                "print(\"MAX_SPEED of p1 and p2 before assignment:\")\n",
                "# Print p1.MAX_SPEED and p2.MAX_SPEED\n",
                "print(p1.MAX_SPEED)\n",
                "print(p2.MAX_SPEED)\n",
                "\n",
                "# ---MODIFY THIS LINE---\n",
                "Player.MAX_SPEED = 7\n",
                "\n",
                "print(\"MAX_SPEED of p1 and p2 after assignment:\")\n",
                "# Print p1.MAX_SPEED and p2.MAX_SPEED\n",
                "print(p1.MAX_SPEED)\n",
                "print(p2.MAX_SPEED)\n",
                "\n",
                "print(\"MAX_SPEED of Player:\")\n",
                "# Print Player.MAX_SPEED\n",
                "print(Player.MAX_SPEED)\n"
            ]
        },
        {
            "cell_type": "markdown",
            "metadata": {},
            "source": [
                "</div>\n",
                "\n",
                "<p class=\"\">Not obvious, right? But it makes sense, when you think about it! You shouldn't be able to change the data in all the instances of the class through a single instance. Imagine if you could change the time on all the computers in the world by changing the time on your own computer! If you want to change the value of the class attribute at runtime, you need to do it by referring to the class name, not through an instance.</p>\n",
                "\n",
                "### Alternative constructors\n",
                "\n",
                "\n",
                "<div class>\n",
                "<p>Python allows you to define class <em>methods</em> as well, using the <code>@classmethod</code> decorator and a special first argument <code>cls</code>. The main use of class methods is defining  methods that return an instance of the class, but aren't using the same code as <code>__init__()</code>.</p>\n",
                "<p>For example, you are developing a time series package and want to define your own class for working with dates, <code>BetterDate</code>. The attributes of the class will be <code>year</code>, <code>month</code>, and <code>day</code>.  You want to have a constructor that creates <code>BetterDate</code> objects given the values for year, month, and day, but you also want to be able to create <code>BetterDate</code> objects from strings like <code>2020-04-30</code>.</p>\n",
                "<p>You might find the following functions useful:</p>\n",
                "<ul>\n",
                "<li>\n",
                "<code>.split(\"-\")</code> method  will split a string at<code>\"-\"</code> into an array, e.g. <code>\"2020-04-30\".split(\"-\")</code> returns <code>[\"2020\", \"04\", \"30\"]</code>,</li>\n",
                "<li>\n",
                "<code>int()</code> will convert a string into a number, e.g. <code>int(\"2019\")</code> is <code>2019</code> .</li>\n",
                "</ul>\n",
                "</div>\n",
                "\n",
                "<p>Add a class method <code>from_str()</code> that:</p>\n",
                "<ul>\n",
                "<li>accepts a string <code>datestr</code> of the format<code>'YYYY-MM-DD'</code>, </li>\n",
                "<li>splits <code>datestr</code> and converts each part into an integer,</li>\n",
                "<li>returns an instance of the class with the attributes set to the values extracted from <code>datestr</code>.</li>\n",
                "</ul>\n",
                "\n",
                "\n",
                "\n",
                "<div>\n"
            ]
        },
        {
            "cell_type": "code",
            "execution_count": null,
            "metadata": {
                "vscode": {
                    "languageId": "r"
                }
            },
            "outputs": [],
            "source": [
                "class BetterDate:\n",
                "    # Constructor\n",
                "    def __init__(self, year, month, day):\n",
                "      # Recall that Python allows multiple variable assignments in one line\n",
                "      self.year, self.month, self.day = year, month, day\n",
                "    \n",
                "    # Define a class method from_str\n",
                "    @classmethod\n",
                "    def from_str(cls, datestr):\n",
                "         # Split the string at \"-\" and  convert each part to integer\n",
                "        parts = datestr.split(\"-\")\n",
                "        year, month, day = int(parts[0]), int(parts[1]), int(parts[2])\n",
                "        # Return the class instance\n",
                "        return cls(year, month, day)\n",
                "        \n",
                "bd = BetterDate.from_str('2020-04-30')   \n",
                "print(bd.year)\n",
                "print(bd.month)\n",
                "print(bd.day)\n"
            ]
        },
        {
            "cell_type": "markdown",
            "metadata": {},
            "source": [
                "</div>\n",
                "\n",
                "<p>For compatibility, you also want to be able to convert a  <code>datetime</code> object into a <code>BetterDate</code> object.</p>\n",
                "<ul>\n",
                "<li>Add a class method <code>from_datetime()</code> that accepts a <code>datetime</code> object as the argument, and uses its attributes <code>.year</code>, <code>.month</code> and <code>.day</code> to create a <code>BetterDate</code> object with the same attribute values.</li>\n",
                "</ul>\n",
                "\n",
                "\n",
                "<div>\n"
            ]
        },
        {
            "cell_type": "code",
            "execution_count": null,
            "metadata": {
                "vscode": {
                    "languageId": "r"
                }
            },
            "outputs": [],
            "source": [
                "# import datetime from datetime\n",
                "from datetime import datetime\n",
                "\n",
                "class BetterDate:\n",
                "    def __init__(self, year, month, day):\n",
                "      self.year, self.month, self.day = year, month, day\n",
                "      \n",
                "    @classmethod\n",
                "    def from_str(cls, datestr):\n",
                "        year, month, day = map(int, datestr.split(\"-\"))\n",
                "        return cls(year, month, day)\n",
                "      \n",
                "    # Define a class method from_datetime accepting a datetime object\n",
                "    @classmethod\n",
                "    def from_datetime(cls, dateobj):\n",
                "      year, month, day = dateobj.year, dateobj.month, dateobj.day\n",
                "      return cls(year, month, day) \n",
                "\n",
                "\n",
                "# You should be able to run the code below with no errors: \n",
                "today = datetime.today()     \n",
                "bd = BetterDate.from_datetime(today)   \n",
                "print(bd.year)\n",
                "print(bd.month)\n",
                "print(bd.day)\n"
            ]
        },
        {
            "cell_type": "markdown",
            "metadata": {},
            "source": [
                "</div>\n",
                "\n",
                "<p class=\"\">Great work on those class methods! There's another type of methods that are not bound to a class instance - static methods, defined with the decorator <code>@staticmethod</code>. They are mainly used for helper or utility functions that could as well live outside of the class, but make more sense when bundled into the class. Static methods are beyond the scope of this class, but you can read about them <a href=\"https://docs.python.org/3/library/functions.html#staticmethod\" target=\"_blank\" rel=\"noopener noreferrer\">here</a>.</p>\n",
                "\n",
                "## Class inheritance\n",
                "\n",
                "\n",
                "\n",
                "### Understanding inheritance\n",
                "\n",
                "<div class=\"\"><p>Inheritance is a powerful tool of object-oriented languages that allows you to customize functionality of existing classes without having to re-implement methods from scratch. </p>\n",
                "<p>In this exercise you'll check your understanding of the basics of inheritance. In the questions, we'll make use of the following two classes:</p>\n",
                "<pre><code>class Counter:\n",
                "    def __init__(self, count):\n",
                "       self.count = count\n",
                "\n",
                "    def add_counts(self, n):\n",
                "       self.count += n\n",
                "\n",
                "class Indexer(Counter):\n",
                "   pass\n",
                "</code></pre>\n",
                "<p>`</p></div>\n",
                "\n",
                "<ul>\n",
                "<li>Classify the cards into the correct buckets. Are the statements true or false?</li>\n",
                "</ul>\n",
                "\n",
                "<div>\n",
                "**True**:\n",
                "\n",
                "- <p>Inheritance represents is-a relationship.</p>\n",
                "- <p>Running <code>ind = Indexer()</code> will cause an error.</p>\n",
                "- <p>Class <code>Indexer</code> is inherited from <code>Counter</code>.</p>\n",
                "- <p>If <code>ind</code> is an <code>Indexer</code> object, then <code>isinstance(ind, Counter)</code> will return <code>True</code>.</p>\n",
                "\n",
                "**False**:\n",
                "\n",
                "- <p>Every <code>Counter</code> object is an <code>Indexer</code> object.</p>\n",
                "- <p>If <code>ind</code> is an <code>Indexer</code> object, then running <code>ind.add_counts(5)</code> will cause an error.</p>\n",
                "- <p>Inheritance can be used to add some of the parts of one class to another class.</p>\n",
                "</div>\n",
                "\n",
                "<p>Great job, you're a pro! The fact that the instances of a child class are also instances of the parent class allows you to create consistent interfaces that Alex mentioned in the video. Any place that a <code>Counter</code> could go -- for example, as an argument to a function, you will be able to use <code>Indexer</code> instead because it has the same methods and attributes as <code>Counter</code>.</p>\n",
                "\n",
                "### Create a subclass\n",
                "\n",
                "\n",
                "<div class>\n",
                "<p>The purpose of child classes -- or sub-classes, as they are usually called - is to customize and extend functionality of the parent class. </p>\n",
                "<p>Recall the <code>Employee</code> class from earlier in the course. In most organizations, managers enjoy more privileges and more responsibilities than a regular employee. So it would make sense to introduce a <code>Manager</code> class that has more functionality than <code>Employee</code>.</p>\n",
                "<p>But a <code>Manager</code> is still an employee, so the <code>Manager</code> class should be <em>inherited</em> from the <code>Employee</code> class.</p>\n",
                "</div>\n",
                "\n",
                "<li>Add an empty <code>Manager</code> class that is inherited from <code>Employee</code>.</li>\n",
                "<li>Create an object <code>mng</code> of the <code>Manager</code> class with the name <code>Debbie Lashko</code> and salary <code>86500</code>.</li>\n",
                "<li>Print the name of <code>mng</code>.</li>\n",
                "\n",
                "\n",
                "\n",
                "<div>\n"
            ]
        },
        {
            "cell_type": "code",
            "execution_count": null,
            "metadata": {
                "vscode": {
                    "languageId": "r"
                }
            },
            "outputs": [],
            "source": [
                "class Employee:\n",
                "  MIN_SALARY = 30000    \n",
                "\n",
                "  def __init__(self, name, salary=MIN_SALARY):\n",
                "      self.name = name\n",
                "      if salary >= Employee.MIN_SALARY:\n",
                "        self.salary = salary\n",
                "      else:\n",
                "        self.salary = Employee.MIN_SALARY\n",
                "        \n",
                "  def give_raise(self, amount):\n",
                "      self.salary += amount\n",
                "        \n",
                "# Define a new class Manager inheriting from Employee\n",
                "class Manager(Employee):\n",
                "  pass\n",
                "\n",
                "# Define a Manager object\n",
                "mng = Manager(\"Debbie Lashko\", 86500)\n",
                "\n",
                "# Print mng's name\n",
                "print(mng.name)\n"
            ]
        },
        {
            "cell_type": "markdown",
            "metadata": {},
            "source": [
                "</div>\n",
                "\n",
                "<ul>\n",
                "<li>Remove the <code>pass</code> statement and add a <code>display()</code> method to the <code>Manager</code> class that just prints the string <code>\"Manager\"</code> followed by the full name, e.g. <code>\"Manager Katie Flatcher\"</code></li>\n",
                "<li>Call the <code>.display()</code>method from the <code>mng</code>instance.</li>\n",
                "</ul>\n",
                "\n",
                "\n",
                "<div>\n"
            ]
        },
        {
            "cell_type": "code",
            "execution_count": null,
            "metadata": {
                "vscode": {
                    "languageId": "r"
                }
            },
            "outputs": [],
            "source": [
                "class Employee:\n",
                "  MIN_SALARY = 30000    \n",
                "\n",
                "  def __init__(self, name, salary=MIN_SALARY):\n",
                "      self.name = name\n",
                "      if salary >= Employee.MIN_SALARY:\n",
                "        self.salary = salary\n",
                "      else:\n",
                "        self.salary = Employee.MIN_SALARY\n",
                "        \n",
                "  def give_raise(self, amount):\n",
                "    self.salary += amount\n",
                "\n",
                "        \n",
                "# MODIFY Manager class and add a display method\n",
                "class Manager(Employee):\n",
                "  def display(self):\n",
                "    print(\"Manager \", self.name)\n",
                "\n",
                "\n",
                "mng = Manager(\"Debbie Lashko\", 86500)\n",
                "print(mng.name)\n"
            ]
        },
        {
            "cell_type": "markdown",
            "metadata": {},
            "source": [
                "</div>\n",
                "\n",
                "<div>\n"
            ]
        },
        {
            "cell_type": "code",
            "execution_count": null,
            "metadata": {
                "vscode": {
                    "languageId": "r"
                }
            },
            "outputs": [],
            "source": [
                "# Call mng.display()\n",
                "mng.display()\n"
            ]
        },
        {
            "cell_type": "markdown",
            "metadata": {},
            "source": [
                "</div>\n",
                "\n",
                "<p class=\"\">Excellent! You already started customizing! The <code>Manager</code> class now includes functionality that wasn't present in the original class (the <code>display()</code> function) in addition to all the functionality of the <code>Employee</code> class. Notice that there wasn't anything special about adding this new method.</p>\n",
                "\n",
                "## Customizing functionality via inheritance\n",
                "\n",
                "\n",
                "\n",
                "### Method inheritance\n",
                "\n",
                "\n",
                "<div class>\n",
                "<p>Inheritance is powerful because it allows us to reuse and customize code without rewriting existing code. By calling methods of the parent class within the child class, we reuse all the code in those methods, making our code concise and manageable. </p>\n",
                "<p>In this exercise, you'll continue working with the <code>Manager</code> class that is inherited from the <code>Employee</code> class. You'll add new data to the class, and customize the <code>give_raise()</code> method from Chapter 1 to increase the manager's raise amount by a bonus percentage whenever they are given a raise.</p>\n",
                "<p>A simplified version of the <code>Employee</code> class, as well as the beginning of the <code>Manager</code> class from the previous lesson is provided for you in the script pane.</p>\n",
                "</div>\n",
                "\n",
                "<p>Add a constructor to <code>Manager</code> that:</p>\n",
                "<ul>\n",
                "<li>accepts <code>name</code>, <code>salary</code> (default <code>50000</code>), and <code>project</code> (default <code>None</code>)</li>\n",
                "<li>calls the constructor of the <code>Employee</code> class with the <code>name</code> and <code>salary</code> parameters,</li>\n",
                "<li>creates a <code>project</code> attribute and sets it to the <code>project</code> parameter.</li>\n",
                "</ul>\n",
                "\n",
                "\n",
                "\n",
                "<div>\n"
            ]
        },
        {
            "cell_type": "code",
            "execution_count": null,
            "metadata": {
                "vscode": {
                    "languageId": "r"
                }
            },
            "outputs": [],
            "source": [
                "class Employee:\n",
                "    def __init__(self, name, salary=30000):\n",
                "        self.name = name\n",
                "        self.salary = salary\n",
                "\n",
                "    def give_raise(self, amount):\n",
                "        self.salary += amount\n",
                "\n",
                "        \n",
                "class Manager(Employee):\n",
                "  # Add a constructor \n",
                "    def __init__(self, name, salary=50000, project=None):\n",
                "        # Call the parent's constructor   \n",
                "        Employee.__init__(self, name, salary)\n",
                "\n",
                "        # Assign project attribute\n",
                "        self.project = project\n",
                "  \n",
                "    def display(self):\n",
                "        print(\"Manager \", self.name)\n"
            ]
        },
        {
            "cell_type": "markdown",
            "metadata": {},
            "source": [
                "</div>\n",
                "\n",
                "<p>Add a <code>give_raise()</code> method to <code>Manager</code> that:</p>\n",
                "<ul>\n",
                "<li>accepts the same parameters as <code>Employee.give_raise()</code>, plus a <code>bonus</code> parameter with the default value of <code>1.05</code> (bonus of 5%),</li>\n",
                "<li>multiplies <code>amount</code> by <code>bonus</code>,</li>\n",
                "<li>uses the <code>Employee</code>'s method to raise salary by that product.</li>\n",
                "</ul>\n",
                "\n",
                "\n",
                "<div>\n"
            ]
        },
        {
            "cell_type": "code",
            "execution_count": null,
            "metadata": {
                "vscode": {
                    "languageId": "r"
                }
            },
            "outputs": [],
            "source": [
                "class Employee:\n",
                "    def __init__(self, name, salary=30000):\n",
                "        self.name = name\n",
                "        self.salary = salary\n",
                "\n",
                "    def give_raise(self, amount):\n",
                "        self.salary += amount\n",
                "\n",
                "        \n",
                "class Manager(Employee):\n",
                "    def display(self):\n",
                "        print(\"Manager \", self.name)\n",
                "\n",
                "    def __init__(self, name, salary=50000, project=None):\n",
                "        Employee.__init__(self, name, salary)\n",
                "        self.project = project\n",
                "\n",
                "    # Add a give_raise method\n",
                "    def give_raise(self, amount, bonus=1.05):\n",
                "        new_amount = amount * bonus\n",
                "        Employee.give_raise(self, new_amount)\n",
                "    \n",
                "    \n",
                "mngr = Manager(\"Ashta Dunbar\", 78500)\n",
                "mngr.give_raise(1000)\n",
                "print(mngr.salary)\n",
                "mngr.give_raise(2000, bonus=1.03)\n",
                "print(mngr.salary)\n"
            ]
        },
        {
            "cell_type": "markdown",
            "metadata": {},
            "source": [
                "</div>\n",
                "\n",
                "<p class=\"\">Good work! In the new class, the use of the default values ensured that the signature of the customized method was compatible with its signature in the parent class. But what if we defined <code>Manager</code>'s'<code>give_raise()</code> to have 2 non-optional parameters? What would be the result of <code>mngr.give_raise(1000)</code>? Experiment in console and see if you can understand what's happening. Adding print statements to both <code>give_raise()</code> could help!</p>\n",
                "\n",
                "### Inheritance of class attributes\n",
                "\n",
                "\n",
                "<div class>\n",
                "<p>In the beginning of this chapter, you learned about class attributes and methods that are shared among all the instances of a class. How do they work with inheritance? </p>\n",
                "<p>In this exercise, you'll create subclasses of the <code>Player</code> class from the first lesson of the chapter, and explore the inheritance of class attributes and methods.</p>\n",
                "<p>The <code>Player</code> class has been defined for you. Recall that the <code>Player</code> class had two class-level attributes: <code>MAX_POSITION</code> and <code>MAX_SPEED</code>, with default values <code>10</code> and <code>3</code>.</p>\n",
                "</div>\n",
                "\n",
                "<ul>\n",
                "\n",
                "<li>Create a class <code>Racer</code> inherited from <code>Player</code>, </li>\n",
                "<li>Assign  <code>5</code> to <code>MAX_SPEED</code> in the body of the class.</li>\n",
                "<li>Create a <code>Player</code> object <code>p</code> and a <code>Racer</code> object <code>r</code> (no arguments needed for the constructor).</li>\n",
                "</ul>\n",
                "<p><em>Examine the printouts carefully. Next step is a quiz!</em></p>\n",
                "\n",
                "\n",
                "\n",
                "<div>\n"
            ]
        },
        {
            "cell_type": "code",
            "execution_count": null,
            "metadata": {
                "vscode": {
                    "languageId": "r"
                }
            },
            "outputs": [],
            "source": [
                "class Racer(Player):\n",
                "    MAX_SPEED = 5\n",
                "    \n",
                "p = Player()\n",
                "r = Racer()\n",
                "\n",
                "print(\"p.MAX_SPEED = \", p.MAX_SPEED)\n",
                "print(\"r.MAX_SPEED = \", r.MAX_SPEED)\n",
                "\n",
                "print(\"p.MAX_POSITION = \", p.MAX_POSITION)\n",
                "print(\"r.MAX_POSITION = \", r.MAX_POSITION)\n"
            ]
        },
        {
            "cell_type": "markdown",
            "metadata": {},
            "source": [
                "</div>\n",
                "\n",
                "<p>Which of the following statements about inheritance of class attributes is correct?</p>\n",
                "\n",
                "- [ ] Class attributes CANNOT be inherited, but new class attributes of the same name CAN be created in a child class.\n",
                "- [ ] Class attributes CANNOT be inherited, and new class attributes of the same name CANNOT be created in a child class.\n",
                "- [x] Class attributes CAN be inherited, and the value of class attributes CAN be overwritten in the child class\n",
                "- [ ] Class attributes can be inherited, and the value of class attributes CANNOT be overwritten in the child class\n",
                "\n",
                "<p class=\"\">Correct! But notice that the value of <code>MAX_SPEED</code> in <code>Player</code> was not affected by the changes to the attribute of the same name in <code>Racer</code>.</p>\n",
                "\n",
                "### Customizing a DataFrame\n",
                "\n",
                "\n",
                "<div class>\n",
                "<p>In your company, any data has to come with a timestamp recording when the dataset was created, to make sure that outdated information is not being used. You would like to use <code>pandas</code> DataFrames for processing data, but you would need to customize the class to allow for the use of timestamps.</p>\n",
                "<p>In this exercise, you will implement a small <code>LoggedDF</code> class that inherits from a regular <code>pandas</code> DataFrame but has a <code>created_at</code> attribute storing the timestamp. You will then augment the standard <code>to_csv()</code> method to always include a column storing the creation date.</p>\n",
                "<p><em>Tip: all DataFrame methods have many parameters, and it is not sustainable to copy all of them for each method you're customizing. The trick is to use variable-length arguments <code>*args</code> and <code>**kwargs</code>to catch all of them.</em></p>\n",
                "</div>\n",
                "\n",
                "<li>Import <code>pandas</code> as <code>pd</code>.</li>\n",
                "<li>Define <code>LoggedDF</code> class inherited from <code>pd.DataFrame</code>.</li>\n",
                "<li>Define a constructor with arguments <code>*args</code> and <code>**kwargs</code> that:<ul>\n",
                "<li>calls the <code>pd.DataFrame</code> constructor with the same arguments,</li>\n",
                "<li>assigns <code>datetime.today()</code> to <code>self.created_at</code>.</li>\n",
                "</ul>\n",
                "</li>\n",
                "\n",
                "\n",
                "\n",
                "<div>\n"
            ]
        },
        {
            "cell_type": "code",
            "execution_count": null,
            "metadata": {
                "vscode": {
                    "languageId": "r"
                }
            },
            "outputs": [],
            "source": [
                "# Import pandas as pd\n",
                "import pandas as pd\n",
                "\n",
                "# Define LoggedDF inherited from pd.DataFrame and add the constructor\n",
                "class LoggedDF(pd.DataFrame):\n",
                "  \n",
                "  def __init__(self, *args, **kwargs):\n",
                "    pd.DataFrame.__init__(self, *args, **kwargs)\n",
                "    self.created_at = datetime.today()\n",
                "    \n",
                "    \n",
                "ldf = LoggedDF({\"col1\": [1,2], \"col2\": [3,4]})\n",
                "print(ldf.values)\n",
                "print(ldf.created_at)\n"
            ]
        },
        {
            "cell_type": "markdown",
            "metadata": {},
            "source": [
                "</div>\n",
                "\n",
                "<ul>\n",
                "<li>Add a <code>to_csv()</code> method to <code>LoggedDF</code> that:</li>\n",
                "<li>copies <code>self</code> to a temporary DataFrame using <code>.copy()</code>,</li>\n",
                "<li>creates a new column <code>created_at</code> in the temporary DataFrame and fills it with <code>self.created_at</code></li>\n",
                "<li>calls <code>pd.DataFrame.to_csv()</code> <em>on the temporary variable</em>.</li>\n",
                "</ul>\n",
                "\n",
                "\n",
                "<div>\n"
            ]
        },
        {
            "cell_type": "code",
            "execution_count": null,
            "metadata": {
                "vscode": {
                    "languageId": "r"
                }
            },
            "outputs": [],
            "source": [
                "# Import pandas as pd\n",
                "import pandas as pd\n",
                "\n",
                "# Define LoggedDF inherited from pd.DataFrame and add the constructor\n",
                "class LoggedDF(pd.DataFrame):\n",
                "  \n",
                "  def __init__(self, *args, **kwargs):\n",
                "    pd.DataFrame.__init__(self, *args, **kwargs)\n",
                "    self.created_at = datetime.today()\n",
                "    \n",
                "  def to_csv(self, *args, **kwargs):\n",
                "    # Copy self to a temporary DataFrame\n",
                "    temp = self.copy()\n",
                "    \n",
                "    # Create a new column filled with self.created_at\n",
                "    temp[\"created_at\"] = self.created_at\n",
                "    \n",
                "    # Call pd.DataFrame.to_csv on temp, passing in *args and **kwargs\n",
                "    pd.DataFrame.to_csv(temp, *args, **kwargs)\n"
            ]
        },
        {
            "cell_type": "markdown",
            "metadata": {},
            "source": [
                "</div>\n",
                "\n",
                "<p class=\"\">Incredible work! Using <code>*args</code> and <code>**kwargs</code> allows you to not worry about keeping the signature of your customized method compatible. Notice how in the very last line, you called the parent method and passed an object to it that isn't <code>self</code>. When you call parent methods in the class, they should accept <em>some</em> object as the first argument, and that object is <em>usually</em> <code>self</code>, but it doesn't have to be!</p>\n",
                "\n",
                "# Integrating with Standard Python\n",
                "\n",
                "<p class=\"chapter__description\">\n",
                "    In this chapter, you'll learn how to make sure that objects that store the same data are considered equal, how to define and customize string representations of objects, and even how to create new error types. Through interactive exercises, you’ll learn how to further customize your classes to make them work more like standard Python data types.\n",
                "  </p>\n",
                "\n",
                "## Operator overloading: comparison\n",
                "\n",
                "\n",
                "\n",
                "### Overloading equality\n",
                "\n",
                "\n",
                "<div class>\n",
                "<p>When comparing two objects of a custom class using <code>==</code>, Python by default compares just the object references, not the data contained in the objects. To override this behavior, the class can implement the special <code>__eq__()</code> method, which accepts two arguments -- the objects to be compared -- and returns <code>True</code> or <code>False</code>. This method will be implicitly called when two objects are compared.</p>\n",
                "<p>The <code>BankAccount</code> class from the previous chapter is available for you in the script pane. It has one attribute, <code>balance</code>, and a <code>withdraw()</code> method. Two bank accounts with the same balance are not necessarily the same account, but a bank account usually has an <em>account number</em>, and two accounts with the same account number should be considered the same.</p>\n",
                "</div>\n",
                "\n",
                "<p><em>Try selecting the code in lines 1-7 and pressing the \"Run code\" button. Then try to create a few <code>BankAccount</code> objects in the console and compare them.</em></p>\n",
                "<ul>\n",
                "<li>Modify the <code>__init__()</code> method to accept a new parameter - <code>number</code> - and initialize a new <code>number</code> attribute.</li>\n",
                "<li>Define an <code>__eq__()</code> method that returns <code>True</code> if the <code>number</code> attribute of two objects is equal.</li>\n",
                "<li><em>Examine the print statements and the output in the console.</em></li>\n",
                "</ul>\n",
                "\n",
                "\n",
                "\n",
                "<div>\n"
            ]
        },
        {
            "cell_type": "code",
            "execution_count": null,
            "metadata": {
                "vscode": {
                    "languageId": "r"
                }
            },
            "outputs": [],
            "source": [
                "class BankAccount:\n",
                "     # MODIFY to initialize a number attribute\n",
                "    def __init__(self, number, balance=0):\n",
                "        self.balance = balance\n",
                "        self.number = number\n",
                "      \n",
                "    def withdraw(self, amount):\n",
                "        self.balance -= amount \n",
                "\n",
                "    # Define __eq__ that returns True if the number attributes are equal \n",
                "    def __eq__(self, other):\n",
                "        return self.number == other.number    \n",
                "    \n",
                "acct1 = BankAccount(123, 1000)\n",
                "acct2 = BankAccount(123, 1000)\n",
                "acct3 = BankAccount(456, 1000)\n",
                "print(acct1 == acct2)\n",
                "print(acct1 == acct3)\n"
            ]
        },
        {
            "cell_type": "markdown",
            "metadata": {},
            "source": [
                "</div>\n",
                "\n",
                "<p class=\"\">Great job! Notice that your method compares just the account numbers, but not balances. What would happen if two accounts have the same account number but different balances? The code you wrote will treat these accounts as equal, but it might be better to throw an error - an <em>exception</em> - instead, informing the user that something is wrong. At the end of the chapter, you'll learn how to define your own exception classes to create these kinds of custom errors.</p>\n",
                "\n",
                "### Checking class equality\n",
                "\n",
                "\n",
                "<div class>\n",
                "<p>In the previous exercise, you defined a <code>BankAccount</code> class with a <code>number</code> attribute that was used for comparison. But if you were to compare a <code>BankAccount</code> object to an object of another class that also has a <code>number</code> attribute, you could end up with unexpected results.</p>\n",
                "<p>For example, consider two classes</p>\n",
                "<table><tr>\n",
                "<td>\n",
                "<pre><code>\n",
                "class Phone:\n",
                "  def __init__(self, number):\n",
                "     self.number = number\n",
                "\n",
                "  def __eq__(self, other):\n",
                "    return self.number == \\\n",
                "          other.number\n",
                "\n",
                "pn = Phone(873555333)\n",
                "</code></pre>\n",
                "</td>\n",
                "<td>\n",
                "<pre><code>\n",
                "class BankAccount:\n",
                "  def __init__(self, number):\n",
                "     self.number = number\n",
                "\n",
                "  def __eq__(self, other):\n",
                "    return self.number == \\\n",
                "           other.number\n",
                "\n",
                "acct = BankAccount(873555333)\n",
                "</code></pre>\n",
                "</td>\n",
                "</tr></table>\n",
                "<p>Running <code>acct == pn</code> will return <code>True</code>, even though we're comparing a phone number with a bank account number. </p>\n",
                "<p>It is good practice to check the class of objects passed to the <code>__eq__()</code> method to make sure the comparison makes sense.</p>\n",
                "</div>\n",
                "\n",
                "<p><em>Both the <code>Phone</code> and the <code>BankAccount</code> classes have been defined. Try running the code as-is using the \"Run code\" button and examine the output.</em></p>\n",
                "<ul>\n",
                "<li>Modify the definition of <code>BankAccount</code> to only return <code>True</code>  if the <code>number</code> attribute is the same <strong>and</strong> the <code>type()</code> of both objects passed to it is the same.</li>\n",
                "</ul>\n",
                "<p><em>Run the code and examine the output again.</em></p>\n",
                "\n",
                "\n",
                "\n",
                "<div>\n"
            ]
        },
        {
            "cell_type": "code",
            "execution_count": null,
            "metadata": {
                "vscode": {
                    "languageId": "r"
                }
            },
            "outputs": [],
            "source": [
                "# edited/added\n",
                "class Phone:\n",
                "  def __init__(self, number):\n",
                "     self.number = number\n",
                "\n",
                "  def __eq__(self, other):\n",
                "    return self.number == \\\n",
                "          other.number\n",
                "\n",
                "pn = Phone(873555333)\n",
                "\n",
                "class BankAccount:\n",
                "    def __init__(self, number, balance=0):\n",
                "        self.number, self.balance = number, balance\n",
                "      \n",
                "    def withdraw(self, amount):\n",
                "        self.balance -= amount \n",
                "\n",
                "    # MODIFY to add a check for the type()\n",
                "    def __eq__(self, other):\n",
                "        return (self.number == other.number) and (type(self) == type(other))    \n",
                "\n",
                "acct = BankAccount(873555333)      \n",
                "pn = Phone(873555333)\n",
                "print(acct == pn)\n"
            ]
        },
        {
            "cell_type": "markdown",
            "metadata": {},
            "source": [
                "</div>\n",
                "\n",
                "<p>Perfect! Now only comparing objects of the same class <code>BankAccount</code> could return <code>True</code>. Another way to ensure that an object has the same type as you expect is to use the <code>isinstance(obj, Class)</code> function. This can helpful when handling inheritance, as Python considers an object to be an instance of both the parent and the child class. \n",
                " Try running <code>pn == acct</code> in the console (with reversed order of equality). What does this tell you about the <code>__eq__()</code> method?</p>\n",
                "\n",
                "### Comparison and inheritance\n",
                "\n",
                "\n",
                "<div class>\n",
                "<p>What happens when an object is compared to an object of a child class? Consider the following two classes:</p>\n",
                "<pre><code>class Parent:\n",
                "    def __eq__(self, other):\n",
                "        print(\"Parent's __eq__() called\")\n",
                "        return True\n",
                "\n",
                "class Child(Parent):\n",
                "    def __eq__(self, other):\n",
                "        print(\"Child's __eq__() called\")\n",
                "        return True\n",
                "</code></pre>\n",
                "<p>The <code>Child</code> class inherits from the <code>Parent</code> class, and both implement the <code>__eq__()</code> method that includes a diagnostic printout.</p>\n",
                "</div>\n",
                "\n",
                "<div class=\"\"><p><strong>Which <code>__eq__()</code> method will be called when the following code is run?</strong></p>\n",
                "<pre><code>p = Parent()\n",
                "c = Child()\n",
                "\n",
                "p == c \n",
                "</code></pre>\n",
                "<p>Feel free to experiment in the console -- the classes have already been defined for you.</p></div>\n",
                "\n",
                "- [ ] <code>Parent</code>'s <code>__eq__()</code> method will be called.\n",
                "- [x] <code>Child</code>'s <code>__eq__()</code> method will be called.\n",
                "- [ ] The code will cause an error.\n",
                "\n",
                "<p class=\"\">Correct! Python always calls the <em>child's</em> <code>__eq__()</code> method when comparing a child object to a parent object.</p>\n",
                "\n",
                "## Operator overloading: string representation\n",
                "\n",
                "\n",
                "\n",
                "### String formatting review\n",
                "\n",
                "\n",
                "<div class>\n",
                "<p>Before you start defining custom string representations for objects, make sure you are comfortable working with strings and formatting them. If you need a refresher, take a minute to look through the <a href=\"https://docs.python.org/3/library/stdtypes.html#str.format\">official Python tutorial on string formatting</a>.</p>\n",
                "<p>In this exercise, consider the following code</p>\n",
                "<pre><code>my_num = 5\n",
                "my_str = \"Hello\"\n",
                "\n",
                "f = ...\n",
                "print(f)\n",
                "</code></pre>\n",
                "<p>where the definition for <code>f</code> is missing.</p>\n",
                "<p>Here are a few possible variants for the definition of <code>f</code>:</p>\n",
                "<p>1.</p>\n",
                "<pre><code>\n",
                "f = \"my_num is {0}, and my_str is {1}.\".format(my_num, my_str)\n",
                " </code></pre>\n",
                "<p></p>\n",
                "<p>2.</p>\n",
                "<pre><code>\n",
                "f = \"my_num is {}, and my_str is \\\"{}\\\".\".format(my_num, my_str)\n",
                "</code></pre>\n",
                "<p></p>\n",
                "<p>3.</p>\n",
                "<pre><code>\n",
                "f = \"my_num is {n}, and my_str is '{s}'.\".format(n=my_num, s=my_str)\n",
                "</code></pre>\n",
                "<p></p>\n",
                "<p>4.</p>\n",
                "<pre><code>\n",
                "f = \"my_num is {my_num}, and my_str is '{my_str}'.\".format()\n",
                "</code></pre>\n",
                "<p></p>\n",
                "</div>\n",
                "\n",
                "<div class=\"\"><p>Pick the definition of <code>f</code> that will make the code above print <em>exactly</em> the following:</p>\n",
                "<pre><code>my_num is 5, and my_str is \"Hello\".\n",
                "</code></pre>\n",
                "<p>There is only one correct answer! Feel free to use the script pane or console to experiment.</p></div>\n",
                "\n",
                "- [ ] 1\n",
                "- [x] 2\n",
                "- [ ] 3\n",
                "- [ ] 4\n",
                "\n",
                "<p class=\"\">Great work! To recap: to format a string with variables, you can either use keyword arguments in <code>.format</code> (<code>'Insert {n} here'.format(n=num)</code>), refer to them by position index explicitly (like <code>'Insert {0} here'.format(num)</code>) or implicitly  (like <code>'Insert {} here'.format(num)</code>). You can use double quotation marks inside single quotation marks and the way around, but to nest the same set of quotation marks, you need to escape them with a slash like <code>\\\"</code>.</p>\n",
                "\n",
                "### String representation of objects\n",
                "\n",
                "\n",
                "<div class>\n",
                "<p>There are two special methods in Python that return a string representation of an object. <code>__str__()</code> is called when you use <code>print()</code> or <code>str()</code> on an object, and <code>__repr__()</code> is called when you use <code>repr()</code> on an object, print the object in the console without calling <code>print()</code>, or instead of <code>__str__()</code> if <code>__str__()</code> is not defined.</p>\n",
                "<p><code>__str__()</code> is supposed to provide a \"user-friendly\" output describing an object, and <code>__repr__()</code> should return the expression that, when evaluated, will return the same object, ensuring the reproducibility of your code.</p>\n",
                "<p>In this exercise, you will continue working with the <code>Employee</code> class from Chapter 2.</p>\n",
                "</div>\n",
                "\n",
                "<p>Add the <code>__str__()</code> method to <code>Employee</code> that satisfies the following:</p>\n",
                "<ul>\n",
                "<li>If <code>emp</code> is an <code>Employee</code> object with name <code>\"Amar Howard\"</code> and salary of <code>40000</code>, then <code>print(emp)</code> outputs</li>\n",
                "</ul>\n",
                "<pre><code>Employee name: Amar Howard\n",
                "Employee salary: 40000\n",
                "</code></pre>\n",
                "\n",
                "\n",
                "\n",
                "<div>\n"
            ]
        },
        {
            "cell_type": "code",
            "execution_count": null,
            "metadata": {
                "vscode": {
                    "languageId": "r"
                }
            },
            "outputs": [],
            "source": [
                "class Employee:\n",
                "    def __init__(self, name, salary=30000):\n",
                "        self.name, self.salary = name, salary\n",
                "      \n",
                "    # Add the __str__() method\n",
                "    def __str__(self):\n",
                "        s = \"Employee name: {name}\\nEmployee salary: {salary}\".format(name=self.name, salary=self.salary)      \n",
                "        return s\n",
                "\n",
                "emp1 = Employee(\"Amar Howard\", 30000)\n",
                "print(emp1)\n",
                "emp2 = Employee(\"Carolyn Ramirez\", 35000)\n",
                "print(emp2)\n"
            ]
        },
        {
            "cell_type": "markdown",
            "metadata": {},
            "source": [
                "</div>\n",
                "\n",
                "<p>Add the <code>__repr__()</code> method to <code>Employee</code> that satisfies the following:</p>\n",
                "<ul>\n",
                "<li>If <code>emp</code> is an <code>Employee</code> object with name <code>\"Amar Howard\"</code> and salary of <code>40000</code>, then <code>repr(emp)</code> outputs</li>\n",
                "</ul>\n",
                "<pre><code>Employee(\"Amar Howard\", 40000)\n",
                "</code></pre>\n",
                "\n",
                "\n",
                "<div>\n"
            ]
        },
        {
            "cell_type": "code",
            "execution_count": null,
            "metadata": {
                "vscode": {
                    "languageId": "r"
                }
            },
            "outputs": [],
            "source": [
                "class Employee:\n",
                "    def __init__(self, name, salary=30000):\n",
                "        self.name, self.salary = name, salary\n",
                "      \n",
                "\n",
                "    def __str__(self):\n",
                "        s = \"Employee name: {name}\\nEmployee salary: {salary}\".format(name=self.name, salary=self.salary)      \n",
                "        return s\n",
                "      \n",
                "    # Add the __repr__method  \n",
                "    def __repr__(self):\n",
                "        s = \"Employee(\\\"{name}\\\", {salary})\".format(name=self.name, salary=self.salary)      \n",
                "        return s      \n",
                "\n",
                "emp1 = Employee(\"Amar Howard\", 30000)\n",
                "print(repr(emp1))\n",
                "emp2 = Employee(\"Carolyn Ramirez\", 35000)\n",
                "print(repr(emp2))\n"
            ]
        },
        {
            "cell_type": "markdown",
            "metadata": {},
            "source": [
                "</div>\n",
                "\n",
                "<p class=\"\">Fantastic! You should always define at least one of the string representation methods for your object to make sure that the person using your class can get important information about the object easily.</p>\n",
                "\n",
                "## Exceptions\n",
                "\n",
                "\n",
                "\n",
                "### Catching exceptions\n",
                "\n",
                "\n",
                "<div class>\n",
                "<p>Before you start writing your own custom exceptions, let's make sure you have the basics of handling exceptions down.</p>\n",
                "<p>In this exercise, you are given a function <code>invert_at_index(x, ind)</code> that takes two arguments, a list <code>x</code> and an index <code>ind</code>, and inverts the element of the list at that index. For example <code>invert_at_index([5,6,7], 1)</code> returns <code>1/6</code>, or <code>0.166666</code> .</p>\n",
                "<p>Try running the code as-is and examine the output in the console. There are two unsafe operations in this function: first, if the element that we're trying to invert has the value <code>0</code>, then the code will cause a <code>ZeroDivisionError</code> exception. Second, if the index passed to the function is out of range for the list, the code will cause a <code>IndexError</code>. In both cases, the script will be interrupted, which might not be desirable.</p>\n",
                "</div>\n",
                "\n",
                "<p>Use  a <code>try</code> - <code>except</code> - <code>except</code> pattern (with two <code>except</code> blocks) inside the function to catch and handle two exceptions as follows:</p>\n",
                "<ul>\n",
                "<li>\n",
                "<code>try</code> executing the code as-is,</li>\n",
                "<li>if <code>ZeroDivisionError</code> occurs, print <code>\"Cannot divide by zero!\"</code>,</li>\n",
                "<li>if <code>IndexError</code> occurs, print <code>\"Index out of range!\"</code>\n",
                "</li>\n",
                "</ul>\n",
                "<p><em>You know you got it right if the code runs without errors, and the output in the console is</em>:</p>\n",
                "<pre><code>0.16666666666666666\n",
                "Cannot divide by zero!\n",
                "None\n",
                "Index out of range!\n",
                "None\n",
                "</code></pre>\n",
                "\n",
                "\n",
                "\n",
                "<div>\n"
            ]
        },
        {
            "cell_type": "code",
            "execution_count": null,
            "metadata": {
                "vscode": {
                    "languageId": "r"
                }
            },
            "outputs": [],
            "source": [
                "# MODIFY the function to catch exceptions\n",
                "def invert_at_index(x, ind):\n",
                "  try:\n",
                "    return 1/x[ind]\n",
                "  except ZeroDivisionError:\n",
                "    print(\"Cannot divide by zero!\")\n",
                "  except IndexError:\n",
                "    print(\"Index out of range!\")\n",
                " \n",
                "a = [5,6,0,7]\n",
                "\n",
                "# Works okay\n",
                "print(invert_at_index(a, 1))\n"
            ]
        },
        {
            "cell_type": "markdown",
            "metadata": {},
            "source": [
                "</div>\n",
                "\n",
                "<div>\n"
            ]
        },
        {
            "cell_type": "code",
            "execution_count": null,
            "metadata": {
                "vscode": {
                    "languageId": "r"
                }
            },
            "outputs": [],
            "source": [
                "# Potential ZeroDivisionError\n",
                "print(invert_at_index(a, 2))\n",
                "\n",
                "# Potential IndexError\n",
                "print(invert_at_index(a, 5))\n"
            ]
        },
        {
            "cell_type": "markdown",
            "metadata": {},
            "source": [
                "</div>\n",
                "\n",
                "<p class=\"\">Great job! Of course, this is only a toy example to illustrate the structure: you can do much more in the <code>except</code> block than just print a message. For example, it might make sense for a function to return a special value when an error occurs. It's important to note, though, that this code will only be able to handle the two particular errors specified in the <code>except</code> blocks. Any other error would still terminate the program.</p>\n",
                "\n",
                "### Custom exceptions\n",
                "\n",
                "\n",
                "<div class>\n",
                "<p>You don't have to rely solely on built-in exceptions like <code>IndexError</code>: you can define your own exceptions more specific to your application. You can also define exception hierarchies. All you need to define an exception is a class inherited from the built-in <code>Exception</code> class or one of its subclasses.</p>\n",
                "<p>In Chapter 1, you defined an <code>Employee</code> class and used <code>print</code> statements and default values to handle errors like creating an employee with a salary below the minimum or giving a raise that is too big. A better way to handle this situation is to use exceptions. Because these errors are specific to our application (unlike, for example, a division by zero error which is universal), it makes sense to use custom exception classes.</p>\n",
                "</div>\n",
                "\n",
                "<ul>\n",
                "\n",
                "<li>Define an empty class <code>SalaryError</code> inherited from the built-in <code>ValueError</code> class.</li>\n",
                "<li>Define an empty class <code>BonusError</code> inherited from the <code>SalaryError</code> class.</li>\n",
                "</ul>\n",
                "\n",
                "\n",
                "\n",
                "<div>\n"
            ]
        },
        {
            "cell_type": "code",
            "execution_count": null,
            "metadata": {
                "vscode": {
                    "languageId": "r"
                }
            },
            "outputs": [],
            "source": [
                "# Define SalaryError inherited from ValueError\n",
                "class SalaryError(ValueError): pass\n",
                "\n",
                "# Define BonusError inherited from SalaryError\n",
                "class BonusError(SalaryError): pass\n"
            ]
        },
        {
            "cell_type": "markdown",
            "metadata": {},
            "source": [
                "</div>\n",
                "\n",
                "<ul>\n",
                "<li>Complete the definition of <code>__init__()</code> to <code>raise</code> a <code>SalaryError</code> with the message <code>\"Salary is too low!\"</code> if the <code>salary</code> parameter is less than <code>MIN_SALARY</code> class attribute. </li>\n",
                "</ul>\n",
                "<p><em>There's no need for <code>else</code> because <code>raise</code> terminates the program anyway.</em></p>\n",
                "\n",
                "\n",
                "<div>\n"
            ]
        },
        {
            "cell_type": "code",
            "execution_count": null,
            "metadata": {
                "vscode": {
                    "languageId": "r"
                }
            },
            "outputs": [],
            "source": [
                "class SalaryError(ValueError): pass\n",
                "class BonusError(SalaryError): pass\n",
                "\n",
                "class Employee:\n",
                "  MIN_SALARY = 30000\n",
                "  MAX_RAISE = 5000\n",
                "\n",
                "  def __init__(self, name, salary = 30000):\n",
                "    self.name = name\n",
                "    \n",
                "    # If salary is too low\n",
                "    if salary < Employee.MIN_SALARY:\n",
                "      # Raise a SalaryError exception\n",
                "      raise SalaryError(\"Salary is too low!\")\n",
                "      \n",
                "    self.salary = salary\n"
            ]
        },
        {
            "cell_type": "markdown",
            "metadata": {},
            "source": [
                "</div>\n",
                "\n",
                "<p>Examine the <code>give_bonus()</code> method, and the rewrite it using exceptions instead of print statements:</p>\n",
                "<ul>\n",
                "<li>raise a <code>BonusError</code> if the bonus amount is too high;</li>\n",
                "<li>raise a <code>SalaryError</code> if the result of adding the bonus would be too low.</li>\n",
                "</ul>\n",
                "\n",
                "\n",
                "<div>\n"
            ]
        },
        {
            "cell_type": "code",
            "execution_count": null,
            "metadata": {
                "vscode": {
                    "languageId": "r"
                }
            },
            "outputs": [],
            "source": [
                "class SalaryError(ValueError): pass\n",
                "class BonusError(SalaryError): pass\n",
                "\n",
                "class Employee:\n",
                "  MIN_SALARY = 30000\n",
                "  MAX_BONUS = 5000\n",
                "\n",
                "  def __init__(self, name, salary = 30000):\n",
                "    self.name = name    \n",
                "    if salary < Employee.MIN_SALARY:\n",
                "      raise SalaryError(\"Salary is too low!\")      \n",
                "    self.salary = salary\n",
                "    \n",
                "  # Rewrite using exceptions  \n",
                "  def give_bonus(self, amount):\n",
                "    if amount > Employee.MAX_BONUS:\n",
                "       raise BonusError(\"The bonus amount is too high!\")\n",
                "        \n",
                "    if self.salary + amount <  Employee.MIN_SALARY:\n",
                "       raise SalaryError(\"The salary after bonus is too low!\")\n",
                "      \n",
                "    self.salary += amount\n"
            ]
        },
        {
            "cell_type": "markdown",
            "metadata": {},
            "source": [
                "</div>\n",
                "\n",
                "<p class=\"\">Wonderful! Notice that if you <code>raise</code> an exception inside an <code>if</code> statement, you don't need to add an <code>else</code> branch to run the rest of the code. Because <code>raise</code> terminates the function, the code after <code>raise</code> will only be executed if an exception did not occur.</p>\n",
                "\n",
                "### Handling exception hierarchies\n",
                "\n",
                "\n",
                "<div class>\n",
                "<p>Previously, you defined an <code>Employee</code> class with a method <code>get_bonus()</code> that raises a <code>BonusError</code> and a <code>SalaryError</code> depending on parameters. But the <code>BonusError</code> exception was inherited from the <code>SalaryError</code> exception. How does exception inheritance affect exception handling?</p>\n",
                "<p>The <code>Employee</code> class has been defined for you. It has a minimal salary of <code>30000</code> and a maximal bonus amount of <code>5000</code>.</p>\n",
                "</div>\n",
                "\n",
                "<div class=\"\"><p>Experiment with the following code</p>\n",
                "<pre><code>emp = Employee(\"Katze Rik\", salary=50000)\n",
                "try:\n",
                "  emp.give_bonus(7000)\n",
                "except SalaryError:\n",
                "  print(\"SalaryError caught!\")\n",
                "\n",
                "try:\n",
                "  emp.give_bonus(7000)\n",
                "except BonusError:\n",
                "  print(\"BonusError caught!\")\n",
                "\n",
                "try:\n",
                "  emp.give_bonus(-100000)\n",
                "except SalaryError:\n",
                "  print(\"SalaryError caught again!\")\n",
                "\n",
                "try:\n",
                "  emp.give_bonus(-100000)\n",
                "except BonusError:\n",
                "  print(\"BonusError caught again!\")  \n",
                "</code></pre>\n",
                "<p>and select the statement which is TRUE about handling parent/child exception classes:</p></div>\n",
                "\n",
                "- [x] <code>except</code> block  for a parent exception will catch child exceptions\n",
                "- [ ] <code>except</code> block for a parent exception will <em>not</em> catch child exceptions\n",
                "\n",
                "<div class=\"\"><p>Experiment with two pieces of code:</p>\n",
                "<table>\n",
                "  <tbody><tr>\n",
                "    <td>\n",
                "      <pre><code>\n",
                "emp = Employee(\"Katze Rik\",\\\n",
                "                    50000)\n",
                "try:\n",
                "  emp.give_bonus(7000)\n",
                "except SalaryError:\n",
                "  print(\"SalaryError caught\")\n",
                "except BonusError:\n",
                "  print(\"BonusError caught\")\n",
                "      </code></pre>\n",
                "   </td>\n",
                "    <td>\n",
                "      <pre><code>\n",
                "emp = Employee(\"Katze Rik\",\\\n",
                "                    50000)\n",
                "try:\n",
                "  emp.give_bonus(7000)\n",
                "except BonusError:\n",
                "  print(\"BonusError caught\")\n",
                "except SalaryError:\n",
                "  print(\"SalaryError caught\")\n",
                "      </code></pre>\n",
                "   </td>    \n",
                "  </tr>   \n",
                "</tbody></table>\n",
                "<p>(one catches <code>BonusError</code> before <code>SalaryError</code>, and the other -<code>SalaryError</code> before <code>BonusError</code>)</p>\n",
                "<p>Select the statement which is TRUE about the order of <code>except</code> blocks:</p></div>\n",
                "\n",
                "- [ ] The order of <code>except</code> blocks doesn't matter: the result is the same.\n",
                "- [ ] It's better to include an <code>except</code> block for a parent exception before the block for a child exception to ensure that the most general exception is handled first.\n",
                "- [x] It's better to include an <code>except</code> block for a child exception before the block for a parent exception, otherwise the child exceptions will be always be caught in the parent block, and the <code>except</code> block for the child will never be executed.\n",
                " \n",
                " <p class=\"\">Exactly! It's better to list the <code>except</code> blocks in the increasing order of specificity, i.e. children before parents, otherwise the child exception will be called in the parent <code>except</code> block.</p>\n",
                " \n",
                "# Best Practices of Class Design\n",
                "\n",
                "<p class=\"chapter__description\">\n",
                "    How do you design classes for inheritance? Does Python have private attributes? Is it possible to control attribute access? You'll find answers to these questions (and more) as you learn class design best practices.\n",
                "  </p>\n",
                "\n",
                "## Designing for inheritance and polymorphism\n",
                "\n",
                "\n",
                "\n",
                "### Polymorphic methods\n",
                "\n",
                "<div class=\"\"><p>To design classes effectively, you need to understand how inheritance and polymorphism work together. </p>\n",
                "<p>In this exercise, you have three classes - one parent and two children - each of which has a <code>talk()</code> method. Analyze the following code:</p>\n",
                "<pre><code>class Parent:\n",
                "    def talk(self):\n",
                "        print(\"Parent talking!\")     \n",
                "\n",
                "class Child(Parent):\n",
                "    def talk(self):\n",
                "        print(\"Child talking!\")          \n",
                "\n",
                "class TalkativeChild(Parent):\n",
                "    def talk(self):\n",
                "        print(\"TalkativeChild talking!\")\n",
                "        Parent.talk(self)\n",
                "\n",
                "\n",
                "p, c, tc = Parent(), Child(), TalkativeChild()\n",
                "\n",
                "for obj in (p, c, tc):\n",
                "    obj.talk()\n",
                "</code></pre>\n",
                "<p>What is the output of the code above?</p>\n",
                "<table>\n",
                "  <tbody><tr>\n",
                "    <td>\n",
                "      1.\n",
                "     </td>\n",
                "    <td>\n",
                "      2.\n",
                "     </td>\n",
                "  </tr>  \n",
                "  <tr>\n",
                "    <td> \n",
                "      <pre><code>\n",
                "Parent talking!\n",
                "Parent talking!\n",
                "Parent talking!      \n",
                "</code>\n",
                "      </pre>\n",
                "    </td>\n",
                "    <td> \n",
                "      <pre><code>\n",
                "Parent talking!\n",
                "Child talking!\n",
                "Talkative Child talking!     \n",
                "</code>      \n",
                "      </pre>\n",
                "    </td>    \n",
                "  </tr>\n",
                "  <tr>\n",
                "    <td>\n",
                "      3.\n",
                "     </td>\n",
                "    <td>\n",
                "      4.\n",
                "     </td>\n",
                "  </tr>   \n",
                "  <tr>\n",
                "    <td> \n",
                "      <pre><code>\n",
                "Parent talking!\n",
                "Child talking!\n",
                "Parent talking! \n",
                "Talkative Child talking!\n",
                "Parent talking!      \n",
                "</code>      \n",
                "      </pre>\n",
                "    </td>\n",
                "    <td> \n",
                "      <pre><code>\n",
                "Parent talking!\n",
                "Child talking!\n",
                "Talkative Child talking!\n",
                "Parent talking!      \n",
                "</code>\n",
                "      </pre>\n",
                "    </td>    \n",
                "  </tr>  \n",
                "</tbody></table>\n",
                "<p><strong>You should be able to complete the exercise just by reading the code, without running it in the console!</strong></p></div>\n",
                "\n",
                "- [ ] 1\n",
                "- [ ] 2\n",
                "- [ ] 3\n",
                "- [x] 4\n",
                "- [ ] Code causes an error\n",
                "\n",
                "<p class=\"dc-completion-pane__message dc-u-maxw-100pc\">Great job! Polymorphism ensures that the exact method called is determined dynamically based on the instance. What do you think would happen if <code>Child</code> did not implement <code>talk()</code>?</p>\n",
                "\n",
                "### Square and rectangle\n",
                "\n",
                "\n",
                "<div class>\n",
                "<p>The classic example of a problem that violates the Liskov Substitution Principle is the <a href=\"https://en.wikipedia.org/wiki/Circle%E2%80%93ellipse_problem\">Circle-Ellipse problem</a>, sometimes called the Square-Rectangle problem.</p>\n",
                "<p>By all means, it seems like you should be able to define a class <code>Rectangle</code>, with attributes <code>h</code> and <code>w</code> (for height and width), and then define a class <code>Square</code> that inherits from the <code>Rectangle</code>. After all, a square \"is-a\" rectangle!</p>\n",
                "<p>Unfortunately, this intuition doesn't apply to object-oriented design.</p>\n",
                "</div>\n",
                "\n",
                "<li>Create a class <code>Rectangle</code> with a constructor that accepts two parameters, <code>h</code> and <code>w</code>, and sets its <code>h</code> and <code>w</code> attributes to the values of <code>h</code> and <code>w</code>.</li>\n",
                "<li>Create a class <code>Square</code> <em>inherited from</em> <code>Rectangle</code> with a constructor that accepts <em>one</em> parameter <code>w</code>, and sets both the <code>h</code> and <code>w</code> attributes to the value of <code>w</code>.</li>\n",
                "\n",
                "\n",
                "\n",
                "<div>\n"
            ]
        },
        {
            "cell_type": "code",
            "execution_count": null,
            "metadata": {
                "vscode": {
                    "languageId": "r"
                }
            },
            "outputs": [],
            "source": [
                "# Define a Rectangle class\n",
                "class Rectangle:\n",
                "    def __init__(self, h, w):\n",
                "      self.h, self.w = h, w\n",
                "\n",
                "# Define a Square class\n",
                "class Square(Rectangle):\n",
                "    def __init__(self, w):\n",
                "      self.h, self.w = w, w\n"
            ]
        },
        {
            "cell_type": "markdown",
            "metadata": {},
            "source": [
                "</div>\n",
                "\n",
                "<div class=\"\"><p>The classes are defined for you. Experiment with them in the console.</p>\n",
                "<p>For example, in the console or the script pane, create a <code>Square</code> object with side length <code>4</code>. Then try assigning <code>7</code> to the <code>h</code> attribute. </p>\n",
                "<p>What went wrong with these classes?</p></div>\n",
                "\n",
                "- [ ] This wasn't a correct use of inheritance: we did not call the parent constructor in the child constructor.\n",
                "- [ ] We cannot set the <code>h</code> attribute  to <code>7</code> in the <code>Square</code> object because it will cause an error.\n",
                "- [x] The 4x4 <code>Square</code> object would no longer be a square if we assign <code>7</code> to <code>h</code>.\n",
                "- [ ] Because a <code>Square</code> only has one side length, it should not have the <code>h</code> attribute. We should not have included the <code>h</code> attribute in the constructor.\n",
                "- [ ] All of the above.\n",
                "\n",
                "<p>A <code>Square</code> inherited from a <code>Rectangle</code> will always have both the <code>h</code> and <code>w</code> attributes, but we can't allow them to change independently of each other.</p>\n",
                "<ul>\n",
                "<li>Define methods <code>set_h()</code> and <code>set_w()</code> in <code>Rectangle</code>, each accepting one parameter and setting <code>h</code> and <code>w</code>.</li>\n",
                "<li>Define methods <code>set_h()</code> and <code>set_w()</code> in <code>Square</code>, each accepting one parameter, and setting both <code>h</code> and <code>w</code> to that parameter in both methods.</li>\n",
                "</ul>\n",
                "\n",
                "\n",
                "<div>\n"
            ]
        },
        {
            "cell_type": "code",
            "execution_count": null,
            "metadata": {
                "vscode": {
                    "languageId": "r"
                }
            },
            "outputs": [],
            "source": [
                "class Rectangle:\n",
                "    def __init__(self, w,h):\n",
                "      self.w, self.h = w,h\n",
                "      \n",
                "# Define set_h to set h       \n",
                "    def set_h(self, h):\n",
                "      self.h = h\n",
                "\n",
                "# Define set_w to set w\n",
                "    def set_w(self, w):\n",
                "      self.w = w   \n",
                "      \n",
                "class Square(Rectangle):\n",
                "    def __init__(self, w):\n",
                "      self.w, self.h = w, w \n",
                "      \n",
                "# Define set_h to set w and h \n",
                "    def set_h(self, h):\n",
                "      self.h = h\n",
                "      self.w = h\n",
                "      \n",
                "# Define set_w to set w and h \n",
                "    def set_w(self, w):\n",
                "      self.w = w   \n",
                "      self.h = w\n"
            ]
        },
        {
            "cell_type": "markdown",
            "metadata": {},
            "source": [
                "</div>\n",
                "\n",
                "<div class=\"\"><p>Later in this chapter you'll learn how to make these setter methods run automatically when attributes are assigned new values, don't worry about that for now, just assume that when we assign a value to <code>h</code> of a square, now the <code>w</code> attribute will be changed accordingly.</p>\n",
                "<p>How does using these setter methods violate Liskov Substitution principle?</p></div>\n",
                "\n",
                "- [ ] There are syntactic inconsistencies.\n",
                "- [x] Each of the setter methods of <code>Square</code> change both <code>h</code> and <code>w</code> attributes, while setter methods of <code>Rectangle</code> change only one attribute at a time, so the <code>Square</code> objects cannot be substituted for <code>Rectangle</code> into programs that rely on one attribute staying constant.\n",
                "- [ ] The setter methods of <code>Square</code> accept only limited range of parameters, unlike the setter methods of <code>Rectangle</code>, so the <code>Square</code> objects cannot be substituted for <code>Rectangle</code> into programs that use parameter values outside that range.\n",
                "- [ ] All of the above.\n",
                "\n",
                "<p class=\"\">Correct! Remember that the substitution principle requires the substitution to preserve the oversall state of the program. An example of a program that would fail when this substitution is made is a unit test for a setter functions in <code>Rectangle</code> class.</p>\n",
                "\n",
                "## Managing data access: private attributes\n",
                "\n",
                "\n",
                "\n",
                "### Attribute naming conventions\n",
                "\n",
                "<div class=\"\">\n",
                "<p>In Python, all data is public. Instead of access modifiers common in languages like Java, Python uses naming conventions to communicate the developer's intention to class users, shifting the responsibility of safe class use onto the class user.</p>\n",
                "<p>Python uses underscores extensively to signal the purpose of methods and attributes. In this exercise, you will match a use case with the appropriate naming convention.</p></div>\n",
                "\n",
                "<li>Drag the cards into the bucket representing the most appropriate naming convention for the use case.</li>\n",
                "\n",
                "- _name: A helper method that checks validity of an attribute's value but isn't considered a part of class's public interface\n",
                "- __name: A 'version' attribute that stores the current version of the class and shouldn't be passed to child classes, who will have their own versions.\n",
                "- \\_\\_name\\_\\_: A method that is run whenever the object is printed\n",
                "\n",
                "<p>Great job! The single leading underscore is a convention for internal details of implementation. Double leading underscores are used for attributes that should not be inherited to aviod name clashes in child classes. Finally, leading <em>and</em> trailing double underscores are reserved for built-in methods.</p>\n",
                "\n",
                "### Using internal attributes\n",
                "\n",
                "\n",
                "<div class>\n",
                "<p>In this exercise, you'll return to the <code>BetterDate</code> class of Chapter 2. Your date class is <em>better</em> because it will use the sensible convention of having exactly 30 days in each month.</p>\n",
                "<p>You decide to add a method that checks the validity of the date, but you don't want to make it a part of <code>BetterDate</code>'s public interface.</p>\n",
                "<p>The class <code>BetterDate</code> is available in the script pane.</p>\n",
                "</div>\n",
                "\n",
                "<ul>\n",
                "\n",
                "<li>Add a <em>class attribute</em> <code>_MAX_DAYS</code> storing the maximal number of days in a month - <code>30</code>. </li>\n",
                "<li>Add another <em>class attribute</em> storing the maximal number of months in a year - <code>12</code>. <em>Use the appropriate naming convention to indicate that this is an internal attribute.</em>\n",
                "</li>\n",
                "<li>Add an <code>_is_valid()</code> method that returns <code>True</code> if the <code>day</code> and <code>month</code> attributes are less than or equal to the corresponding maximum values, and <code>False</code> otherwise. Make sure to refer to the class attributes by their names!</li>\n",
                "</ul>\n",
                "\n",
                "\n",
                "\n",
                "<div>\n"
            ]
        },
        {
            "cell_type": "code",
            "execution_count": null,
            "metadata": {
                "vscode": {
                    "languageId": "r"
                }
            },
            "outputs": [],
            "source": [
                "# Add class attributes for max number of days and months\n",
                "class BetterDate:\n",
                "    _MAX_DAYS = 30\n",
                "    _MAX_MONTHS = 12\n",
                "    \n",
                "    def __init__(self, year, month, day):\n",
                "        self.year, self.month, self.day = year, month, day\n",
                "        \n",
                "    @classmethod\n",
                "    def from_str(cls, datestr):\n",
                "        year, month, day = map(int, datestr.split(\"-\"))\n",
                "        return cls(year, month, day)\n",
                "        \n",
                "    # Add _is_valid() checking day and month values\n",
                "    def _is_valid(self):\n",
                "        return (self.day <= BetterDate._MAX_DAYS) and \\\n",
                "               (self.month <= BetterDate._MAX_MONTHS)\n",
                "        \n",
                "bd1 = BetterDate(2020, 4, 30)\n",
                "print(bd1._is_valid())\n",
                "\n",
                "bd2 = BetterDate(2020, 6, 45)\n",
                "print(bd2._is_valid())\n"
            ]
        },
        {
            "cell_type": "markdown",
            "metadata": {},
            "source": [
                "</div>\n",
                "\n",
                "<p class=\"\">Great job! Notice that you were still able to use the <code>_is_valid()</code> method as usual. The single underscore naming convention is purely a convention, and Python doesn't do anything special with such attributes and methods behind the scenes. That convention is widely followed, though, so if you see an attribute name with one leading underscore in someone's class - don't use it! The class developer trusts you with this responsibility.</p>\n",
                "\n",
                "## Properties\n",
                "\n",
                "\n",
                "\n",
                "### What do properties do?\n",
                "\n",
                "<div class=\"\"><p>You could think of properties as attributes with built-in access control. They are especially useful when there is some additional code you'd like to execute when assigning values to attributes.</p>\n",
                "<p>Which of the following statements is NOT TRUE about properties?</p></div>\n",
                "\n",
                "- [ ] Properties can be used to implement \"read-only\" attributes\n",
                "- [x] Properties can prevent creation of new attributes via assignment\n",
                "- [ ] Properties can be accessed using the dot syntax just like regular attributes\n",
                "- [ ] Properties allow for validation of values that are assigned to them\n",
                "\n",
                "<p class=\"dc-completion-pane__message dc-u-maxw-100pc\">This statement is indeed not true! Properties control only one specific attribute that they're attached to. There are ways to prevent creating new attributes, but doing so would go against the \"we're all adults here\" principle.</p>\n",
                "\n",
                "### Create and set properties\n",
                "\n",
                "\n",
                "<div class>\n",
                "<p>There are two parts to defining a property: </p>\n",
                "<ul>\n",
                "<li>first, define an \"internal\" attribute that will contain the data;</li>\n",
                "<li>then, define a <code>@property</code>-decorated  method whose <em>name is the property name</em>, and that returns the internal attribute storing the data.</li>\n",
                "</ul>\n",
                "<p>If you'd also like to define a custom <em>setter</em> method, there's an additional step:</p>\n",
                "<ul>\n",
                "<li>define <em>another</em> method whose name is exactly the property name (again), and decorate it with <code>@prop_name.setter</code> where <code>prop_name</code> is the name of the property. The method should take two arguments -- <code>self</code> (as always), and the value that's being assigned to the property.</li>\n",
                "</ul>\n",
                "<p>In this exercise, you'll create a <code>balance</code> property for a <code>Customer</code> class - a better, more controlled version of the <code>balance</code> <em>attribute</em> that you worked with before.</p>\n",
                "</div>\n",
                "\n",
                "<p>Create a <code>Customer</code> class with the <code>__init__()</code> method that:</p>\n",
                "<ul>\n",
                "<li>takes parameters <code>name</code> and <code>new_bal</code>,</li>\n",
                "<li>assigns <code>name</code> to the attribute <code>name</code>, </li>\n",
                "<li>raises a <code>ValueError</code> if <code>new_bal</code> is negative,</li>\n",
                "<li>otherwise, assigns <code>new_bal</code> to the attribute <code>_balance</code> (with <code>_</code>).</li>\n",
                "</ul>\n",
                "\n",
                "\n",
                "\n",
                "<div>\n"
            ]
        },
        {
            "cell_type": "code",
            "execution_count": null,
            "metadata": {
                "vscode": {
                    "languageId": "r"
                }
            },
            "outputs": [],
            "source": [
                "# Create a Customer class\n",
                "class Customer:\n",
                "    def __init__(self, name, new_bal):\n",
                "        self.name = name\n",
                "        if new_bal < 0:\n",
                "           raise ValueError(\"Invalid balance!\")\n",
                "        self._balance = new_bal\n"
            ]
        },
        {
            "cell_type": "markdown",
            "metadata": {},
            "source": [
                "</div>\n",
                "\n",
                "<li>Add a method <code>balance()</code> with a <code>@property</code> decorator that returns the <code>_balance</code> attribute.</li>\n",
                "\n",
                "\n",
                "<div>\n"
            ]
        },
        {
            "cell_type": "code",
            "execution_count": null,
            "metadata": {
                "vscode": {
                    "languageId": "r"
                }
            },
            "outputs": [],
            "source": [
                "class Customer:\n",
                "    def __init__(self, name, new_bal):\n",
                "        self.name = name\n",
                "        if new_bal < 0:\n",
                "           raise ValueError(\"Invalid balance!\")\n",
                "        self._balance = new_bal  \n",
                "\n",
                "    # Add a decorated balance() method returning _balance        \n",
                "    @property\n",
                "    def balance(self):\n",
                "        return self._balance\n"
            ]
        },
        {
            "cell_type": "markdown",
            "metadata": {},
            "source": [
                "</div>\n",
                "\n",
                "<p>Define <em>another</em> <code>balance()</code> method to serve as a <em>setter</em>, with the appropriate decorator and an additional parameter:</p>\n",
                "<ul>\n",
                "<li>Raise a <code>ValueError</code> if the parameter is negative, </li>\n",
                "<li>otherwise assign it to <code>_balance</code> ;</li>\n",
                "<li>print <code>\"Setter method is called\"</code>.</li>\n",
                "</ul>\n",
                "\n",
                "\n",
                "<div>\n"
            ]
        },
        {
            "cell_type": "code",
            "execution_count": null,
            "metadata": {
                "vscode": {
                    "languageId": "r"
                }
            },
            "outputs": [],
            "source": [
                "class Customer:\n",
                "    def __init__(self, name, new_bal):\n",
                "        self.name = name\n",
                "        if new_bal < 0:\n",
                "           raise ValueError(\"Invalid balance!\")\n",
                "        self._balance = new_bal  \n",
                "\n",
                "    # Add a decorated balance() method returning _balance        \n",
                "    @property\n",
                "    def balance(self):\n",
                "        return self._balance\n",
                "\n",
                "    # Add a setter balance() method\n",
                "    @balance.setter\n",
                "    def balance(self, new_bal):\n",
                "        # Validate the parameter value\n",
                "        if new_bal < 0:\n",
                "           raise ValueError(\"Invalid balance!\")\n",
                "        self._balance = new_bal\n",
                "        \n",
                "        # Print \"Setter method is called\"\n",
                "        print(\"Setter method is called\")\n"
            ]
        },
        {
            "cell_type": "markdown",
            "metadata": {},
            "source": [
                "</div>\n",
                "\n",
                "<ul>\n",
                "<li>Create a <code>Customer</code> named <code>Belinda Lutz</code> with the balance of <code>2000</code> and save it as <code>cust</code>.</li>\n",
                "<li>Use the dot syntax and the <code>=</code> to assign <code>3000</code> to <code>cust.balance</code>.</li>\n",
                "<li>Print <code>cust.balance</code>.</li>\n",
                "</ul>\n",
                "<p><em>In the console, try assigning <code>-1000</code> to <code>cust.balance</code>. What happens?</em></p>\n",
                "\n",
                "\n",
                "<div>\n"
            ]
        },
        {
            "cell_type": "code",
            "execution_count": null,
            "metadata": {
                "vscode": {
                    "languageId": "r"
                }
            },
            "outputs": [],
            "source": [
                "class Customer:\n",
                "    def __init__(self, name, new_bal):\n",
                "        self.name = name\n",
                "        if new_bal < 0:\n",
                "           raise ValueError(\"Invalid balance!\")\n",
                "        self._balance = new_bal  \n",
                "\n",
                "    # Add a decorated balance() method returning _balance        \n",
                "    @property\n",
                "    def balance(self):\n",
                "        return self._balance\n",
                "\n",
                "    # Add a setter balance() method\n",
                "    @balance.setter\n",
                "    def balance(self, new_bal):\n",
                "        # Validate the parameter value\n",
                "        if new_bal < 0:\n",
                "           raise ValueError(\"Invalid balance!\")\n",
                "        self._balance = new_bal\n",
                "        print(\"Setter method called\")\n",
                "        \n",
                "# Create a Customer        \n",
                "cust = Customer(\"Belinda Lutz\", 2000)\n",
                "\n",
                "# Assign 3000 to the balance property\n",
                "cust.balance = 3000\n"
            ]
        },
        {
            "cell_type": "markdown",
            "metadata": {},
            "source": [
                "</div>\n",
                "\n",
                "<div>\n"
            ]
        },
        {
            "cell_type": "code",
            "execution_count": null,
            "metadata": {
                "vscode": {
                    "languageId": "r"
                }
            },
            "outputs": [],
            "source": [
                "# Print the balance property\n",
                "print(cust.balance)\n"
            ]
        },
        {
            "cell_type": "markdown",
            "metadata": {},
            "source": [
                "</div>\n",
                "\n",
                "<p class=\"\">Great start! Now the user of your <code>Customer</code> class won't be able to assign arbitrary values to the customers' balance. You could also add a custom <em>getter</em> method (with a decorator <code>@balance.getter</code>) that returns a value and gets executed every time the attribute is accessed.</p>\n",
                "\n",
                "### Read-only properties\n",
                "\n",
                "\n",
                "<div class>\n",
                "<p>The <code>LoggedDF</code> class from Chapter 2 was an extension of the <code>pandas</code> DataFrame class that had an additional <code>created_at</code> attribute that stored the timestamp when the DataFrame was created, so that the user could see how out-of-date the data is.</p>\n",
                "<p>But that class wasn't very useful: we could just assign any value to <code>created_at</code> after the DataFrame was created, thus defeating the whole point of the attribute! Now, using properties, we can make the attribute read-only.</p>\n",
                "<p>The <code>LoggedDF</code> class from Chapter 2 is available for you in the script pane.</p>\n",
                "</div>\n",
                "\n",
                "<li>Assign a new value of <code>'2035-07-13'</code> to the <code>created_at</code> attribute.</li>\n",
                "<li>Print the value of <code>ldf</code>'s <code>created_at</code> attribute to verify that your assignment was successful.</li>\n",
                "\n",
                "\n",
                "\n",
                "<div>\n"
            ]
        },
        {
            "cell_type": "code",
            "execution_count": null,
            "metadata": {
                "vscode": {
                    "languageId": "r"
                }
            },
            "outputs": [],
            "source": [
                "import pandas as pd\n",
                "from datetime import datetime\n",
                "\n",
                "# LoggedDF class definition from Chapter 2\n",
                "class LoggedDF(pd.DataFrame):\n",
                "    def __init__(self, *args, **kwargs):\n",
                "        pd.DataFrame.__init__(self, *args, **kwargs)\n",
                "        self.created_at = datetime.today()\n",
                "\n",
                "    def to_csv(self, *args, **kwargs):\n",
                "        temp = self.copy()\n",
                "        temp[\"created_at\"] = self.created_at\n",
                "        pd.DataFrame.to_csv(temp, *args, **kwargs)   \n",
                "\n",
                "# Instantiate a LoggedDF called ldf\n",
                "ldf = LoggedDF({\"col1\": [1,2], \"col2\":[3,4]})\n",
                "\n",
                "# Assign a new value to ldf's created_at attribute and print\n",
                "ldf.created_at = '2035-07-13'\n",
                "print(ldf.created_at)\n"
            ]
        },
        {
            "cell_type": "markdown",
            "metadata": {},
            "source": [
                "</div>\n",
                "\n",
                "<ul>\n",
                "<li>Create an internal attribute called <code>_created_at</code> to turn <code>created_at</code> into a read-only attribute.</li>\n",
                "<li>Modify the class to use the internal attribute, <code>_created_at</code>, in place of <code>created_at</code>.</li>\n",
                "</ul>\n",
                "\n",
                "\n",
                "<div>\n"
            ]
        },
        {
            "cell_type": "code",
            "execution_count": null,
            "metadata": {
                "vscode": {
                    "languageId": "r"
                }
            },
            "outputs": [],
            "source": [
                "import pandas as pd\n",
                "from datetime import datetime\n",
                "\n",
                "# MODIFY the class to use _created_at instead of created_at\n",
                "class LoggedDF(pd.DataFrame):\n",
                "    def __init__(self, *args, **kwargs):\n",
                "        pd.DataFrame.__init__(self, *args, **kwargs)\n",
                "        self._created_at = datetime.today()\n",
                "    \n",
                "    def to_csv(self, *args, **kwargs):\n",
                "        temp = self.copy()\n",
                "        temp[\"created_at\"] = self._created_at\n",
                "        pd.DataFrame.to_csv(temp, *args, **kwargs)   \n",
                "    \n",
                "    # Add a read-only property: _created_at\n",
                "    @property  \n",
                "    def created_at(self):\n",
                "        return self._created_at\n",
                "\n",
                "# Instantiate a LoggedDF called ldf\n",
                "ldf = LoggedDF({\"col1\": [1,2], \"col2\":[3,4]}) \n"
            ]
        },
        {
            "cell_type": "markdown",
            "metadata": {},
            "source": [
                "</div>\n",
                "\n",
                "<p>What happens when you assign <code>'2035-07-13'</code> to <code>ldf.created_at</code>?</p>\n",
                "\n",
                "- [ ] The <code>created_at</code> attribute of <code>ldf</code> is updated to <code>'2035-07-13'</code>.\n",
                "- [ ] An <code>AttributeError</code> is thrown since <code>'2035-07-13'</code> is not a valid date.\n",
                "- [ ] An <code>AttributeError</code> is thrown since the <code>created_at</code> attribute doesn't exist.\n",
                "- [x] An <code>AttributeError</code> is thrown since <code>ldf.created_at</code> is read-only.\n",
                "\n",
                "<p class=\"\">You've put it all together! Notice that the <code>to_csv()</code> method in the original class was using the original <code>created_at</code> attribute. After converting the attribute into a property, you could replace the call to <code>self.created_at</code> with the call to the internal attribute that's attached to the property, or you could keep it as <code>self.created_at</code>, in which case you'll now be accessing the property. Either way works!</p>\n",
                "\n",
                "## Congratulations!\n",
                "\n",
                "### Congratulations!\n",
                "\n",
                "Congratulations on completing this course on introduction to object-oriented programming in Python. You've done a great job!\n",
                "\n",
                "### Overview\n",
                "\n",
                "You learned how to think about your code in terms of classes and objects; how to create attributes and methods. You explored inheritance and polymorphism -- two ideas that allows you to leverage and customize existing code in powerful ways. You also learned the distinction between class-level data and instance-level data. What does it mean for two objects to be equal? Turns out, it can mean anything you want, as you learned in chapter 3. You defined custom equality functions, readable string representations, even built your own exceptions. Finally, you learned what makes a relationship between classes suitable for inheritance, how Python handles private vs public data, and how to use properties to manage data access.\n",
                "\n",
                "### What's next?\n",
                "\n",
                "So, where can you go from here? You could start by expanding your knowledge of functionality available in Python. For example, learn about mix-in classes and multiple inheritance -- a highly debated feature of Python that isn't present in many other object-oriented languages. You could learn how to override more built-in operators, like arithmetic operators, or the length operator; how to customize attribute access even more using special methods; how to create your own iterator classes that you could use to index loops. You could learn about abstract base classes used to create interfaces, or how leverage dataclasses -- a new type of class that is especially suitable for data storage.\n",
                "\n",
                "### What's next?\n",
                "\n",
                "Also consider learning more about object-oriented design, which is based on SOLID principles. Solid is an acronym, and you've already learned about the \"L\" is SOLID -- the Liskov substitution principle, but the other 4 letters are just as important. Finally, I encourage you to learn more about design patterns -- reusable solutions addressing most common problems in software design.\n",
                "\n",
                "### Thank you!\n",
                "\n",
                "Thank you so much for taking this course, and good luck in you future coding adventures!\n"
            ]
        }
    ],
    "metadata": {
        "anaconda-cloud": "",
        "kernelspec": {
            "display_name": "R",
            "langauge": "R",
            "name": "ir"
        },
        "language_info": {
            "codemirror_mode": "r",
            "file_extension": ".r",
            "mimetype": "text/x-r-source",
            "name": "R",
            "pygments_lexer": "r",
            "version": "3.4.1"
        }
    },
    "nbformat": 4,
    "nbformat_minor": 1
}
