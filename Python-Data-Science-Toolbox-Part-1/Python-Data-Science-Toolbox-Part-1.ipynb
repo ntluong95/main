{
    "cells": [
        {
            "attachments": {},
            "cell_type": "markdown",
            "metadata": {},
            "source": [
                "<h3><a href=\"https://github.com/mclix85/datacamp\" target=\"_blank\">View Source Code</a></h3>\n",
                "\n",
                "<h3>Course Description</h3>\n",
                "\n",
                "<p class=\"course__description\">It's time to push forward and develop your Python chops even further. There are tons of fantastic functions in Python and its library ecosystem. However, as a data scientist, you'll constantly need to write your own functions to solve problems that are dictated by your data. You will learn the art of function writing in this first Python Data Science Toolbox course. You'll come out of this course being able to write your very own custom functions, complete with multiple parameters and multiple return values, along with default arguments and variable-length arguments. You'll gain insight into scoping in Python and be able to write lambda functions and handle errors in your function writing practice. And you'll wrap up each chapter by using your new skills to write functions that analyze Twitter DataFrames.</p>\n",
                "\n",
                "\n",
                "  </p>\n",
                "\n"
            ]
        },
        {
            "attachments": {},
            "cell_type": "markdown",
            "metadata": {},
            "source": [
                "# Writing your own functions\n",
                "\n",
                "<p class=\"chapter__description\">\n",
                "    In this chapter, you'll learn how to write simple functions, as well as functions that accept multiple arguments and return multiple values. You'll also have the opportunity to apply these new skills to questions commonly encountered by data scientists.\n",
                "  </p>\n",
                "  \n"
            ]
        },
        {
            "attachments": {},
            "cell_type": "markdown",
            "metadata": {},
            "source": [
                "## User-defined functions\n",
                "\n",
                "\n",
                "\n"
            ]
        },
        {
            "attachments": {},
            "cell_type": "markdown",
            "metadata": {},
            "source": [
                "### Strings in Python\n",
                "\n",
                "\n",
                "<div class>\n",
                "<p>In the video, you learned of another standard Python datatype, <strong>strings</strong>. Recall that these represent textual data. To assign the string <code>'DataCamp'</code> to a variable <code>company</code>, you execute:</p>\n",
                "<pre><code>company = 'DataCamp'\n",
                "</code></pre>\n",
                "<p>You've also learned to use the operations <code>+</code> and <code>\\*</code> with strings. Unlike with numeric types such as ints and floats, the <code>+</code> operator <em>concatenates</em> strings together, while the <code>\\*</code> concatenates multiple copies of a string together. In this exercise, you will use the <code>+</code> and <code>\\*</code> operations on strings to answer the question below. Execute the following code in the shell: </p>\n",
                "<pre><code>object1 = \"data\" + \"analysis\" + \"visualization\"\n",
                "object2 = 1 * 3\n",
                "object3 = \"1\" * 3\n",
                "</code></pre>\n",
                "<p>What are the values in <code>object1</code>, <code>object2</code>, and <code>object3</code>, respectively?</p>\n",
                "</div>\n",
                "\n"
            ]
        },
        {
            "attachments": {},
            "cell_type": "markdown",
            "metadata": {},
            "source": [
                "- [ ] <code>object1</code> contains <code>\"data + analysis + visualization\"</code>, <code>object2</code> contains <code>\"1*3\"</code>, <code>object3</code> contains <code>13</code>.\n",
                "- [ ] <code>object1</code> contains <code>\"data+analysis+visualization\"</code>, <code>object2</code> contains <code>3</code>, <code>object3</code> contains <code>\"13\"</code>.\n",
                "- [x] <code>object1</code> contains <code>\"dataanalysisvisualization\"</code>, <code>object2</code> contains <code>3</code>, <code>object3</code> contains <code>\"111\"</code>.\n",
                "\n"
            ]
        },
        {
            "attachments": {},
            "cell_type": "markdown",
            "metadata": {},
            "source": [
                "<p class=\"\">Correct!</p>\n",
                "\n"
            ]
        },
        {
            "attachments": {},
            "cell_type": "markdown",
            "metadata": {},
            "source": [
                "### Recapping built-in functions\n",
                "\n",
                "\n",
                "<div class>\n",
                "<p>In the video, Hugo briefly examined the return behavior of the built-in functions <code>print()</code> and <code>str()</code>. Here, you will use both functions and examine their return values. A variable <code>x</code> has been preloaded for this exercise. Run the code below in the console. Pay close attention to the results to answer the question that follows.</p>\n",
                "<ul>\n",
                "<li>Assign <code>str(x)</code> to a variable <code>y1</code>: <code>y1 = str(x)</code>\n",
                "</li>\n",
                "<li>Assign <code>print(x)</code> to a variable <code>y2</code>: <code>y2 = print(x)</code>\n",
                "</li>\n",
                "<li>Check the types of the variables <code>x</code>, <code>y1</code>, and <code>y2</code>.</li>\n",
                "</ul>\n",
                "<p>What are the types of <code>x</code>, <code>y1</code>, and <code>y2</code>?</p>\n",
                "</div>\n",
                "<div>\n"
            ]
        },
        {
            "cell_type": "code",
            "execution_count": null,
            "metadata": {
                "vscode": {
                    "languageId": "r"
                }
            },
            "outputs": [],
            "source": [
                "# edited/added\n",
                "x = 4.89\n",
                "y1 = str(x)\n",
                "y2 = print(x)\n",
                "type(x),type(y1),type(y2)\n"
            ]
        },
        {
            "attachments": {},
            "cell_type": "markdown",
            "metadata": {},
            "source": [
                "</div>\n",
                "\n"
            ]
        },
        {
            "attachments": {},
            "cell_type": "markdown",
            "metadata": {},
            "source": [
                "- [ ] They are all <code>str</code> types.\n",
                "- [ ] <code>x</code> is a <code>float</code>, <code>y1</code> is an <code>float</code>, and <code>y2</code> is a <code>str</code>.</li>\n",
                "- [x] <code>x</code> is a <code>float</code>, <code>y1</code> is a <code>str</code>, and <code>y2</code> is a <code>NoneType</code>.</li>\n",
                "- [ ] They are all <code>NoneType</code> types.</li>\n",
                "\n"
            ]
        },
        {
            "attachments": {},
            "cell_type": "markdown",
            "metadata": {},
            "source": [
                "<p class=\"\">Correct! It is important to remember that assigning a variable <code>y2</code> to a function that prints a value but does not return a value will result in that variable <code>y2</code> being of <code>type</code> <code>NoneType</code>.</p>\n",
                "\n"
            ]
        },
        {
            "attachments": {},
            "cell_type": "markdown",
            "metadata": {},
            "source": [
                "### Write a simple function\n",
                "\n",
                "\n",
                "<div class>\n",
                "<p>In the last video, Hugo described the basics of how to define a function. You will now write your own function!</p>\n",
                "<p>Define a function, <code>shout()</code>, which simply prints out a string with three exclamation marks <code>'!!!'</code> at the end. The code for the <code>square()</code> function that we wrote earlier is found below. You can use it as a pattern to define <code>shout()</code>.</p>\n",
                "<pre><code>def square():\n",
                "    new_value = 4 ** 2\n",
                "    return new_value\n",
                "</code></pre>\n",
                "<p>Note that the function body is indented 4 spaces already for you. Function bodies need to be indented by a consistent number of spaces and the choice of 4 is common.</p>\n",
                "<p><em>This course touches on a lot of concepts you may have forgotten, so if you ever need a quick refresher, download the <a href=\"https://datacamp-community-prod.s3.amazonaws.com/0eff0330-e87d-4c34-88d5-73e80cb955f2\">Python for Data Science Cheat Sheet</a> and keep it handy!</em></p>\n",
                "</div>\n",
                "\n",
                "<li>Complete the function header by adding the appropriate function name, <code>shout</code>.</li>\n",
                "<li>In the function body, <strong>concatenate</strong> the string, <code>'congratulations'</code> with another string, <code>'!!!'</code>. Assign the result to <code>shout_word</code>.</li>\n",
                "<li>Print the value of <code>shout_word</code>.</li>\n",
                "\n",
                "<li>Call the <code>shout</code> function.</li>\n",
                "<div>\n"
            ]
        },
        {
            "cell_type": "code",
            "execution_count": null,
            "metadata": {
                "vscode": {
                    "languageId": "r"
                }
            },
            "outputs": [],
            "source": [
                "# Define the function shout\n",
                "def shout():\n",
                "    \"\"\"Print a string with three exclamation marks\"\"\"\n",
                "    # Concatenate the strings: shout_word\n",
                "    shout_word = 'congratulations' + '!!!'\n",
                "\n",
                "    # Print shout_word\n",
                "    print(shout_word)\n",
                "\n",
                "# Call shout\n",
                "shout()\n"
            ]
        },
        {
            "attachments": {},
            "cell_type": "markdown",
            "metadata": {},
            "source": [
                "</div>\n",
                "\n"
            ]
        },
        {
            "attachments": {},
            "cell_type": "markdown",
            "metadata": {},
            "source": [
                "<p class=\"\">Great work!</p>\n",
                "\n"
            ]
        },
        {
            "attachments": {},
            "cell_type": "markdown",
            "metadata": {},
            "source": [
                "### Single-parameter functions\n",
                "\n",
                "\n",
                "<div class>\n",
                "<p>Congratulations! You have successfully defined <em>and</em> called your own function! That's pretty cool.</p>\n",
                "<p>In the previous exercise, you defined and called the function <code>shout()</code>, which printed out a string concatenated with <code>'!!!'</code>.\n",
                "You will now update <code>shout()</code> by adding a <em>parameter</em> so that it can accept and process any string <em>argument</em> passed to it. Also note that <code>shout(word)</code>, the part of the <em>header</em> that specifies the function name and parameter(s), is known as the <em>signature</em> of the function. You may encounter this term in the wild!</p>\n",
                "</div>\n",
                "\n",
                "<li>Complete the function header by adding the parameter name, <code>word</code>.</li>\n",
                "<li>Assign the result of concatenating <code>word</code> with <code>'!!!'</code> to <code>shout_word</code>.</li>\n",
                "<li>Print the value of <code>shout_word</code>.</li>\n",
                "\n",
                "<li>Call the <code>shout()</code> function, passing to it the string, <code>'congratulations'</code>.</li>\n",
                "<div>\n"
            ]
        },
        {
            "cell_type": "code",
            "execution_count": null,
            "metadata": {
                "vscode": {
                    "languageId": "r"
                }
            },
            "outputs": [],
            "source": [
                "# Define shout with the parameter, word\n",
                "def shout(word):\n",
                "    \"\"\"Print a string with three exclamation marks\"\"\"\n",
                "    # Concatenate the strings: shout_word\n",
                "    shout_word = word + '!!!'\n",
                "\n",
                "    # Print shout_word\n",
                "    print(shout_word)\n",
                "    \n",
                "# Call shout with the string 'congratulations'\n",
                "shout('congratulations')\n"
            ]
        },
        {
            "attachments": {},
            "cell_type": "markdown",
            "metadata": {},
            "source": [
                "</div>\n",
                "\n"
            ]
        },
        {
            "attachments": {},
            "cell_type": "markdown",
            "metadata": {},
            "source": [
                "<p class=\"\">Great work!</p>\n",
                "\n"
            ]
        },
        {
            "attachments": {},
            "cell_type": "markdown",
            "metadata": {},
            "source": [
                "### Functions that return single values\n",
                "\n",
                "\n",
                "<div class><p>You're getting very good at this! Try your hand at another modification to the <code>shout()</code> function so that it now <em>returns</em> a single value instead of printing within the function. Recall that the <code>return</code> keyword lets you return values from functions. Parts of the function <code>shout()</code>, which you wrote earlier, are shown. Returning values is generally more desirable than printing them out because, as you saw earlier, a <code>print()</code> call assigned to a variable has type <code>NoneType</code>.</p></div>\n",
                "\n",
                "<li>In the function body, concatenate the string in <code>word</code> with <code>'!!!'</code> and assign to <code>shout_word</code>.</li>\n",
                "<li>Replace the <code>print()</code> statement with the appropriate <code>return</code> statement.</li>\n",
                "\n",
                "<li>Call the <code>shout()</code> function, passing to it the string, <code>'congratulations'</code>, and assigning the call to the variable, <code>yell</code>.</li>\n",
                "\n",
                "<li>To check if <code>yell</code> contains the value returned by <code>shout()</code>, print the value of <code>yell</code>.</li>\n",
                "<div>\n"
            ]
        },
        {
            "cell_type": "code",
            "execution_count": null,
            "metadata": {
                "vscode": {
                    "languageId": "r"
                }
            },
            "outputs": [],
            "source": [
                "# Define shout with the parameter, word\n",
                "def shout(word):\n",
                "    \"\"\"Return a string with three exclamation marks\"\"\"\n",
                "    # Concatenate the strings: shout_word\n",
                "    shout_word = word + '!!!'\n",
                "\n",
                "    # Replace print with return\n",
                "    return shout_word\n",
                "  \n",
                "# Pass 'congratulations' to shout: yell\n",
                "yell = shout('congratulations')\n",
                "\n",
                "# Print yell\n",
                "print(yell)\n"
            ]
        },
        {
            "attachments": {},
            "cell_type": "markdown",
            "metadata": {},
            "source": [
                "</div>\n",
                "\n"
            ]
        },
        {
            "attachments": {},
            "cell_type": "markdown",
            "metadata": {},
            "source": [
                "<p class=\"\">Great work! Here it made sense to assign the output of <code>shout('congratulations')</code> to a variable <code>yell</code> because the function <code>shout</code> actually returns a value, it does not merely print one.</p>\n",
                "\n"
            ]
        },
        {
            "attachments": {},
            "cell_type": "markdown",
            "metadata": {},
            "source": [
                "## Multiple parameters and return values\n",
                "\n",
                "\n",
                "\n"
            ]
        },
        {
            "attachments": {},
            "cell_type": "markdown",
            "metadata": {},
            "source": [
                "### Functions with multiple parameters\n",
                "\n",
                "\n",
                "<div class><p>Hugo discussed the use of multiple parameters in defining functions in the last lecture. You are now going to use what you've learned to modify the <code>shout()</code> function further. Here, you will modify <code>shout()</code> to accept two arguments. Parts of the function <code>shout()</code>, which you wrote earlier, are shown.</p></div>\n",
                "\n",
                "<li>Modify the function header such that it accepts two parameters, <code>word1</code> and <code>word2</code>, in that order.</li>\n",
                "<li>Concatenate each of <code>word1</code> and <code>word2</code> with <code>'!!!'</code> and assign to <code>shout1</code> and <code>shout2</code>, respectively.</li>\n",
                "<li>Concatenate <code>shout1</code> and <code>shout2</code> together, in that order, and assign to <code>new_shout</code>.</li>\n",
                "\n",
                "<li>Pass the strings <code>'congratulations'</code> and <code>'you'</code>, in that order, to a call to <code>shout()</code>. Assign the return value to <code>yell</code>.</li>\n",
                "<div>\n"
            ]
        },
        {
            "cell_type": "code",
            "execution_count": null,
            "metadata": {
                "vscode": {
                    "languageId": "r"
                }
            },
            "outputs": [],
            "source": [
                "# Define shout with parameters word1 and word2\n",
                "def shout(word1, word2):\n",
                "    \"\"\"Concatenate strings with three exclamation marks\"\"\"\n",
                "    # Concatenate word1 with '!!!': shout1\n",
                "    shout1 = word1 + '!!!'\n",
                "    \n",
                "    # Concatenate word2 with '!!!': shout2\n",
                "    shout2 = word2 + '!!!'\n",
                "    \n",
                "    # Concatenate shout1 with shout2: new_shout\n",
                "    new_shout = shout1 + shout2\n",
                "\n",
                "    # Return new_shout\n",
                "    return new_shout\n",
                "  \n",
                "# Pass 'congratulations' and 'you' to shout: yell\n",
                "yell = shout('congratulations', 'you')\n",
                "\n",
                "# Print yell\n",
                "print(yell)\n"
            ]
        },
        {
            "attachments": {},
            "cell_type": "markdown",
            "metadata": {},
            "source": [
                "</div>\n",
                "\n"
            ]
        },
        {
            "attachments": {},
            "cell_type": "markdown",
            "metadata": {},
            "source": [
                "<p class=\"\">Great work!</p>\n",
                "\n"
            ]
        },
        {
            "attachments": {},
            "cell_type": "markdown",
            "metadata": {},
            "source": [
                "### A brief introduction to tuples\n",
                "\n",
                "\n",
                "<div class>\n",
                "<p>Alongside learning about functions, you've also learned about tuples! Here, you will practice what you've learned about tuples: how to construct, unpack, and access tuple elements. Recall how Hugo unpacked the tuple <code>even_nums</code> in the video:</p>\n",
                "<p><code>a, b, c = even_nums</code></p>\n",
                "<p>A three-element tuple named <code>nums</code> has been preloaded for this exercise. Before completing the script, perform the following:</p>\n",
                "<ul>\n",
                "<li>Print out the value of <code>nums</code> in the IPython shell. Note the elements in the tuple.</li>\n",
                "<li>In the IPython shell, try to change the first element of <code>nums</code> to the value <em>2</em> by doing an assignment: <code>nums[0] = 2</code>. What happens?</li>\n",
                "</ul>\n",
                "</div>\n",
                "\n",
                "\n",
                "<li>Unpack <code>nums</code> to the variables <code>num1</code>, <code>num2</code>, and <code>num3</code>.</li>\n",
                "\n",
                "<li>Construct a new tuple, <code>even_nums</code> composed of the same elements in <code>nums</code>, but with the 1st element replaced with the value, <em>2</em>.</li>\n",
                "<div>\n"
            ]
        },
        {
            "cell_type": "code",
            "execution_count": null,
            "metadata": {
                "vscode": {
                    "languageId": "r"
                }
            },
            "outputs": [],
            "source": [
                "# edited/added\n",
                "nums = (3,4,6)\n",
                "\n",
                "# Unpack nums into num1, num2, and num3\n",
                "num1, num2, num3 = nums\n",
                "\n",
                "# Construct even_nums\n",
                "even_nums = (2, num2, num3)\n"
            ]
        },
        {
            "attachments": {},
            "cell_type": "markdown",
            "metadata": {},
            "source": [
                "</div>\n",
                "\n"
            ]
        },
        {
            "attachments": {},
            "cell_type": "markdown",
            "metadata": {},
            "source": [
                "<p class=\"\">Great work!</p>\n",
                "\n"
            ]
        },
        {
            "attachments": {},
            "cell_type": "markdown",
            "metadata": {},
            "source": [
                "### Functions that return multiple values\n",
                "\n",
                "\n",
                "<div class>\n",
                "<p>In the previous exercise, you constructed tuples, assigned tuples to variables, and unpacked tuples. Here you will return multiple values from a function using tuples. Let's now update our <code>shout()</code> function to return multiple values. Instead of returning just one string, we will return two strings with the string <code>!!!</code> concatenated to each. </p>\n",
                "<p>Note that the return statement <code>return x, y</code> has the same result as <code>return (x, y)</code>: the former actually packs <code>x</code> and <code>y</code> into a tuple under the hood!</p>\n",
                "</div>\n",
                "\n",
                "<li>Modify the function header such that the function name is now <code>shout_all</code>, and it accepts two parameters, <code>word1</code> and <code>word2</code>, in that order.</li>\n",
                "<li>Concatenate the string <code>'!!!'</code> to each of <code>word1</code> and <code>word2</code> and assign to <code>shout1</code> and <code>shout2</code>, respectively.</li>\n",
                "<li>Construct a tuple <code>shout_words</code>, composed of <code>shout1</code> and <code>shout2</code>.</li>\n",
                "\n",
                "<li>Call <code>shout_all()</code> with the strings <code>'congratulations'</code> and <code>'you'</code> and assign the result to <code>yell1</code> and <code>yell2</code> (remember, <code>shout_all()</code> returns 2 variables!).</li>\n",
                "<div>\n"
            ]
        },
        {
            "cell_type": "code",
            "execution_count": null,
            "metadata": {
                "vscode": {
                    "languageId": "r"
                }
            },
            "outputs": [],
            "source": [
                "# Define shout_all with parameters word1 and word2\n",
                "def shout_all(word1, word2):\n",
                "    \"\"\"Return a tuple of strings\"\"\"\n",
                "    # Concatenate word1 with '!!!': shout1\n",
                "    shout1 = word1 + '!!!'\n",
                "    \n",
                "    # Concatenate word2 with '!!!': shout2\n",
                "    shout2 = word2 + '!!!'\n",
                "    \n",
                "    # Construct a tuple with shout1 and shout2: shout_words\n",
                "    shout_words = (shout1, shout2)\n",
                "\n",
                "    # Return shout_words\n",
                "    return shout_words\n",
                "  \n",
                "# Pass 'congratulations' and 'you' to shout_all(): yell1, yell2\n",
                "yell1, yell2 = shout_all('congratulations', 'you')\n",
                "\n",
                "# Print yell1 and yell2\n",
                "print(yell1)\n",
                "print(yell2)\n"
            ]
        },
        {
            "attachments": {},
            "cell_type": "markdown",
            "metadata": {},
            "source": [
                "</div>\n",
                "\n"
            ]
        },
        {
            "attachments": {},
            "cell_type": "markdown",
            "metadata": {},
            "source": [
                "<p class=\"\">Great work!</p>\n",
                "\n"
            ]
        },
        {
            "attachments": {},
            "cell_type": "markdown",
            "metadata": {},
            "source": [
                "## Bringing it all together\n",
                "\n",
                "\n",
                "\n"
            ]
        },
        {
            "attachments": {},
            "cell_type": "markdown",
            "metadata": {},
            "source": [
                "### Bringing it all together (1)\n",
                "\n",
                "\n",
                "<div class>\n",
                "<p>You've got your first taste of writing your own functions in the previous exercises. You've learned how to add parameters to your own function definitions, return a value or multiple values with tuples, and how to call the functions you've defined.</p>\n",
                "<p>In this and the following exercise, you will bring together all these concepts and apply them to a simple data science problem. You will load a dataset and develop functionalities to extract simple insights from the data. </p>\n",
                "<p>For this exercise, your goal is to recall how to load a dataset into a DataFrame. The dataset contains Twitter data and you will iterate over entries in a column to build a dictionary in which the keys are the names of languages and the values are the number of tweets in the given language. The file <code>tweets.csv</code> is available in your current directory.</p>\n",
                "<p><em>Be aware that this is real data from Twitter and as such there is always a risk that it may contain profanity or other offensive content (in this exercise, and any following exercises that also use real Twitter data).</em></p>\n",
                "</div>\n",
                "\n",
                "<li>Import the pandas package with the alias <code>pd</code>.</li>\n",
                "\n",
                "<li>Import the file <code>'tweets.csv'</code> using the pandas function <code>read_csv()</code>. Assign the resulting DataFrame to <code>df</code>.</li>\n",
                "\n",
                "<li>Complete the <code>for</code> loop by iterating over <code>col</code>, the <code>'lang'</code> column in the DataFrame <code>df</code>.</li>\n",
                "<li>Complete the bodies of the <code>if-else</code> statements in the for loop:  <strong>if</strong> the key is in the dictionary <code>langs_count</code>, add <code>1</code> to the value corresponding to this key in the dictionary, <strong>else</strong> add the key to <code>langs_count</code> and set the corresponding value to <code>1</code>. Use the loop variable <code>entry</code> in your code.</li>\n",
                "<div>\n"
            ]
        },
        {
            "cell_type": "code",
            "execution_count": null,
            "metadata": {
                "vscode": {
                    "languageId": "r"
                }
            },
            "outputs": [],
            "source": [
                "# Import pandas\n",
                "import pandas as pd\n",
                "\n",
                "# Import Twitter data as DataFrame: df\n",
                "df = pd.read_csv('datasets/Python-Data-Science-Toolbox-(Part-1)/tweets.csv') # edited/added\n",
                "\n",
                "# Initialize an empty dictionary: langs_count\n",
                "langs_count = {}\n",
                "\n",
                "# Extract column from DataFrame: col\n",
                "col = df['lang']\n",
                "\n",
                "# Iterate over lang column in DataFrame\n",
                "for entry in col:\n",
                "\n",
                "    # If the language is in langs_count, add 1\n",
                "    if entry in langs_count.keys():\n",
                "        langs_count[entry] += 1\n",
                "    # Else add the language to langs_count, set the value to 1\n",
                "    else:\n",
                "        langs_count[entry] = 1\n",
                "\n",
                "# Print the populated dictionary\n",
                "print(langs_count)\n"
            ]
        },
        {
            "attachments": {},
            "cell_type": "markdown",
            "metadata": {},
            "source": [
                "</div>\n",
                "\n"
            ]
        },
        {
            "attachments": {},
            "cell_type": "markdown",
            "metadata": {},
            "source": [
                "<p class=\"\">Great work!</p>\n",
                "\n"
            ]
        },
        {
            "attachments": {},
            "cell_type": "markdown",
            "metadata": {},
            "source": [
                "### Bringing it all together (2)\n",
                "\n",
                "\n",
                "<div class>\n",
                "<p>Great job! You've now defined the functionality for iterating over entries in a column and building a dictionary with keys the names of languages and values the number of tweets in the given language. </p>\n",
                "<p>In this exercise, you will define a function with the functionality you developed in the previous exercise, return the resulting dictionary from within the function, and call the function with the appropriate arguments. </p>\n",
                "<p>For your convenience, the pandas package has been imported as <code>pd</code> and the <code>'tweets.csv'</code> file has been imported into the <code>tweets_df</code> variable.</p>\n",
                "</div>\n",
                "\n",
                "<li>Define the function <code>count_entries()</code>, which has two parameters. The first parameter is <code>df</code> for the DataFrame and the second is <code>col_name</code> for the column name.</li>\n",
                "<li>Complete the bodies of the <code>if-else</code> statements in the <code>for</code> loop: <strong>if</strong> the key is in the dictionary <code>langs_count</code>, add <code>1</code> to its current value, <strong>else</strong> add the key to <code>langs_count</code> and set its value to <code>1</code>. Use the loop variable <code>entry</code> in your code.</li>\n",
                "<li>Return the <code>langs_count</code> dictionary from inside the <code>count_entries()</code> function.</li>\n",
                "\n",
                "<li>Call the <code>count_entries()</code> function by passing to it <code>tweets_df</code> and the name of the column, <code>'lang'</code>. Assign the result of the call to the variable <code>result</code>.</li>\n",
                "<div>\n"
            ]
        },
        {
            "cell_type": "code",
            "execution_count": null,
            "metadata": {
                "vscode": {
                    "languageId": "r"
                }
            },
            "outputs": [],
            "source": [
                "# Define count_entries()\n",
                "def count_entries(df, col_name):\n",
                "    \"\"\"Return a dictionary with counts of \n",
                "    occurrences as value for each key.\"\"\"\n",
                "\n",
                "    # Initialize an empty dictionary: langs_count\n",
                "    langs_count = {}\n",
                "    \n",
                "    # Extract column from DataFrame: col\n",
                "    col = df[col_name]\n",
                "\n",
                "    # Iterate over lang column in DataFrame\n",
                "    for entry in col:\n",
                "\n",
                "        # If the language is in langs_count, add 1\n",
                "        if entry in langs_count.keys():\n",
                "            langs_count[entry] += 1\n",
                "        # Else add the language to langs_count, set the value to 1\n",
                "        else:\n",
                "            langs_count[entry] = 1\n",
                "\n",
                "    # Return the langs_count dictionary\n",
                "    return langs_count\n",
                "  \n",
                "# edited/added\n",
                "tweets_df = pd.read_csv('datasets/Python-Data-Science-Toolbox-(Part-1)/tweets.csv')\n",
                "\n",
                "# Call count_entries(): result\n",
                "result = count_entries(tweets_df, 'lang')\n",
                "\n",
                "# Print the result\n",
                "print(result)\n"
            ]
        },
        {
            "attachments": {},
            "cell_type": "markdown",
            "metadata": {},
            "source": [
                "</div>\n",
                "\n"
            ]
        },
        {
            "attachments": {},
            "cell_type": "markdown",
            "metadata": {},
            "source": [
                "<p class=\"\">Great work!</p>\n",
                "\n"
            ]
        },
        {
            "attachments": {},
            "cell_type": "markdown",
            "metadata": {},
            "source": [
                "# Default arguments, variable-length arguments and scope\n",
                "\n",
                "<p class=\"chapter__description\">\n",
                "    In this chapter, you'll learn to write functions with default arguments so that the user doesn't always need to specify them, and variable-length arguments so they can pass an arbitrary number of arguments on to your functions. You'll also learn about the essential concept of scope.\n",
                "  </p>\n",
                "  \n"
            ]
        },
        {
            "attachments": {},
            "cell_type": "markdown",
            "metadata": {},
            "source": [
                "## Scope and user-defined functions\n",
                "\n",
                "\n",
                "\n",
                "\n"
            ]
        },
        {
            "attachments": {},
            "cell_type": "markdown",
            "metadata": {},
            "source": [
                "### Pop quiz on understanding scope\n",
                "\n",
                "\n",
                "<div class>\n",
                "<p>In this exercise, you will practice what you've learned about scope in functions. The variable <code>num</code> has been predefined as <code>5</code>, alongside the following function definitions:</p>\n",
                "<pre><code>def func1():\n",
                "    num = 3\n",
                "    print(num)\n",
                "\n",
                "def func2():\n",
                "    global num\n",
                "    double_num = num * 2\n",
                "    num = 6\n",
                "    print(double_num)\n",
                "</code></pre>\n",
                "<p>Try calling <code>func1()</code> and <code>func2()</code> in the shell, then answer the following questions:</p>\n",
                "<ul>\n",
                "<li>What are the values printed out when you call <code>func1()</code> and <code>func2()</code>? </li>\n",
                "<li>What is the value of <code>num</code> in the global scope after calling <code>func1()</code> and <code>func2()</code>?</li>\n",
                "</ul>\n",
                "</div>\n",
                "\n"
            ]
        },
        {
            "attachments": {},
            "cell_type": "markdown",
            "metadata": {},
            "source": [
                "- [ ] <code>func1()</code> prints out <code>3</code>, <code>func2()</code> prints out <code>6</code>, and the value of <code>num</code> in the global scope is <code>3</code>.\n",
                "- [ ] <code>func1()</code> prints out <code>3</code>, <code>func2()</code> prints out <code>3</code>, and the value of <code>num</code> in the global scope is <code>3</code>.\n",
                "- [ ] <code>func1()</code> prints out <code>3</code>, <code>func2()</code> prints out <code>10</code>, and the value of <code>num</code> in the global scope is <code>10</code>.\n",
                "- [x] <code>func1()</code> prints out <code>3</code>, <code>func2()</code> prints out <code>10</code>, and the value of <code>num</code> in the global scope is <code>6</code>.\n",
                "\n"
            ]
        },
        {
            "attachments": {},
            "cell_type": "markdown",
            "metadata": {},
            "source": [
                "<p class=\"\">Correct!</p>\n",
                "\n"
            ]
        },
        {
            "attachments": {},
            "cell_type": "markdown",
            "metadata": {},
            "source": [
                "### The keyword global\n",
                "\n",
                "\n",
                "<div class><p>Let's work more on your mastery of scope. In this exercise, you will use the keyword <code>global</code> within a function to alter the value of a variable defined in the global scope.</p></div>\n",
                "\n",
                "<li>Use the keyword <code>global</code> to alter the object <code>team</code> in the global scope.</li>\n",
                "<li>Change the value of <code>team</code> in the global scope to the string <code>\"justice league\"</code>. Assign the result to <code>team</code>.</li>\n",
                "\n",
                "<li>Hit the Submit button to see how executing your newly defined function <code>change_team()</code> changes the value of the name <code>team</code>!</li>\n",
                "<div>\n"
            ]
        },
        {
            "cell_type": "code",
            "execution_count": null,
            "metadata": {
                "vscode": {
                    "languageId": "r"
                }
            },
            "outputs": [],
            "source": [
                "# Create a string: team\n",
                "team = \"teen titans\"\n",
                "\n",
                "# Define change_team()\n",
                "def change_team():\n",
                "    \"\"\"Change the value of the global variable team.\"\"\"\n",
                "\n",
                "    # Use team in global scope\n",
                "    global team\n",
                "\n",
                "    # Change the value of team in global: team\n",
                "    team = \"justice league\"\n",
                "    \n",
                "# Print team\n",
                "print(team)\n"
            ]
        },
        {
            "cell_type": "markdown",
            "metadata": {},
            "source": [
                "</div>\n",
                "\n",
                "<div>\n"
            ]
        },
        {
            "cell_type": "code",
            "execution_count": null,
            "metadata": {
                "vscode": {
                    "languageId": "r"
                }
            },
            "outputs": [],
            "source": [
                "# Call change_team()\n",
                "change_team()\n",
                "\n",
                "# Print team\n",
                "print(team)\n"
            ]
        },
        {
            "attachments": {},
            "cell_type": "markdown",
            "metadata": {},
            "source": [
                "</div>\n",
                "\n"
            ]
        },
        {
            "attachments": {},
            "cell_type": "markdown",
            "metadata": {},
            "source": [
                "<p class=\"\">Great work!</p>\n",
                "\n"
            ]
        },
        {
            "attachments": {},
            "cell_type": "markdown",
            "metadata": {},
            "source": [
                "### Python's built-in scope\n",
                "\n",
                "\n",
                "<div class><p>Here you're going to check out Python's built-in scope, which is really just a built-in module called <code>builtins</code>. However, to query <code>builtins</code>, you'll need to <code>import builtins</code> 'because the name builtins is not itself built in…No, I’m serious!' (<a href=\"http://shop.oreilly.com/product/0636920028154.do\"><em>Learning Python</em>, 5th edition</a>, Mark Lutz).\n",
                "After executing <code>import builtins</code> in the IPython Shell, execute <code>dir(builtins)</code> to print a list of all the names in the module <code>builtins</code>. Have a look and you'll see a bunch of names that you'll recognize! Which of the following names is NOT in the module builtins?</p></div>\n",
                "\n"
            ]
        },
        {
            "attachments": {},
            "cell_type": "markdown",
            "metadata": {},
            "source": [
                "- [ ] 'sum'\n",
                "- [ ] 'range'\n",
                "- [x] 'array'\n",
                "- [ ] 'tuple'\n",
                "\n"
            ]
        },
        {
            "attachments": {},
            "cell_type": "markdown",
            "metadata": {},
            "source": [
                "<p class=\"\">You got it!</p>\n",
                "\n"
            ]
        },
        {
            "attachments": {},
            "cell_type": "markdown",
            "metadata": {},
            "source": [
                "## Nested functions\n",
                "\n",
                "\n",
                "\n"
            ]
        },
        {
            "attachments": {},
            "cell_type": "markdown",
            "metadata": {},
            "source": [
                "### Nested Functions I\n",
                "\n",
                "\n",
                "<div class>\n",
                "<p>You've learned in the last video about nesting functions within functions. One reason why you'd like to do this is to avoid writing out the same computations within functions repeatedly. There's nothing new about defining nested functions: you simply define it as you would a regular function with <code>def</code> and embed it inside another function!</p>\n",
                "<p>In this exercise, inside a function <code>three_shouts()</code>, you will define a nested function <code>inner()</code> that concatenates a string object with <code>!!!</code>. <code>three_shouts()</code> then returns a tuple of three elements, each a string concatenated with <code>!!!</code> using <code>inner()</code>. Go for it!</p>\n",
                "</div>\n",
                "\n",
                "<li>Complete the function header of the nested function with the function name <code>inner()</code> and a single parameter <code>word</code>.</li>\n",
                "<li>Complete the return value: each element of the tuple should be a call to <code>inner()</code>, passing in the parameters from <code>three_shouts()</code> as arguments to each call.</li>\n",
                "<div>\n"
            ]
        },
        {
            "cell_type": "code",
            "execution_count": null,
            "metadata": {
                "vscode": {
                    "languageId": "r"
                }
            },
            "outputs": [],
            "source": [
                "# Define three_shouts\n",
                "def three_shouts(word1, word2, word3):\n",
                "    \"\"\"Returns a tuple of strings\n",
                "    concatenated with '!!!'.\"\"\"\n",
                "\n",
                "    # Define inner\n",
                "    def inner(word):\n",
                "        \"\"\"Returns a string concatenated with '!!!'.\"\"\"\n",
                "        return word + '!!!'\n",
                "\n",
                "    # Return a tuple of strings\n",
                "    return (inner(word1), inner(word2), inner(word3))\n",
                "\n",
                "# Call three_shouts() and print\n",
                "print(three_shouts('a', 'b', 'c'))\n"
            ]
        },
        {
            "attachments": {},
            "cell_type": "markdown",
            "metadata": {},
            "source": [
                "</div>\n",
                "\n"
            ]
        },
        {
            "attachments": {},
            "cell_type": "markdown",
            "metadata": {},
            "source": [
                "<p class=\"\">Great work!</p>\n",
                "\n"
            ]
        },
        {
            "attachments": {},
            "cell_type": "markdown",
            "metadata": {},
            "source": [
                "### Nested Functions II\n",
                "\n",
                "\n",
                "<div class>\n",
                "<p>Great job, you've just nested a function within another function. One other pretty cool reason for nesting functions is the idea of a <strong>closure</strong>. This means that the nested or inner function remembers the state of its enclosing scope when called. Thus, anything defined locally in the enclosing scope is available to the inner function even when the outer function has finished execution.</p>\n",
                "<p>Let's move forward then! In this exercise, you will complete the definition of the inner function <code>inner_echo()</code> and then call <code>echo()</code> a couple of times, each with a different argument. Complete the exercise and see what the output will be!</p>\n",
                "</div>\n",
                "\n",
                "<li>Complete the function header of the inner function with the function name <code>inner_echo()</code> and a single parameter <code>word1</code>.</li>\n",
                "<li>Complete the function <code>echo()</code> so that it returns <code>inner_echo</code>.</li>\n",
                "\n",
                "<li>We have called <code>echo()</code>, passing 2 as an argument, and assigned the resulting function to <code>twice</code>. Your job is to call <code>echo()</code>, passing 3 as an argument. Assign the resulting function to <code>thrice</code>.</li>\n",
                "\n",
                "<li>Hit Submit to call <code>twice()</code> and <code>thrice()</code> and print the results.</li>\n",
                "<div>\n"
            ]
        },
        {
            "cell_type": "code",
            "execution_count": null,
            "metadata": {
                "vscode": {
                    "languageId": "r"
                }
            },
            "outputs": [],
            "source": [
                "# Define echo\n",
                "def echo(n):\n",
                "    \"\"\"Return the inner_echo function.\"\"\"\n",
                "\n",
                "    # Define inner_echo\n",
                "    def inner_echo(word1):\n",
                "        \"\"\"Concatenate n copies of word1.\"\"\"\n",
                "        echo_word = word1 * n\n",
                "        return echo_word\n",
                "\n",
                "    # Return inner_echo\n",
                "    return inner_echo\n",
                "  \n",
                "# Call echo: twice\n",
                "twice = echo(2)\n",
                "\n",
                "# Call echo: thrice\n",
                "thrice = echo(3)\n",
                "\n",
                "# Call twice() and thrice() then print\n",
                "print(twice('hello'), thrice('hello'))\n"
            ]
        },
        {
            "attachments": {},
            "cell_type": "markdown",
            "metadata": {},
            "source": [
                "</div>\n",
                "\n"
            ]
        },
        {
            "attachments": {},
            "cell_type": "markdown",
            "metadata": {},
            "source": [
                "<p class=\"\">Great work!</p>\n",
                "\n"
            ]
        },
        {
            "attachments": {},
            "cell_type": "markdown",
            "metadata": {},
            "source": [
                "### The keyword nonlocal and nested functions\n",
                "\n",
                "\n",
                "<div class><p>Let's once again work further on your mastery of scope! In this exercise, you will use the keyword <code>nonlocal</code> within a nested function to alter the value of a variable defined in the enclosing scope.</p></div>\n",
                "\n",
                "<li>Assign to <code>echo_word</code> the string <code>word</code>, concatenated with itself.</li>\n",
                "<li>Use the keyword <code>nonlocal</code> to alter the value of <code>echo_word</code> in the enclosing scope.</li>\n",
                "<li>Alter <code>echo_word</code> to <code>echo_word</code> concatenated with '!!!'.</li>\n",
                "\n",
                "<li>Call the function <code>echo_shout()</code>,  passing it a single argument 'hello'.</li>\n",
                "<div>\n"
            ]
        },
        {
            "cell_type": "code",
            "execution_count": null,
            "metadata": {
                "vscode": {
                    "languageId": "r"
                }
            },
            "outputs": [],
            "source": [
                "# Define echo_shout()\n",
                "def echo_shout(word):\n",
                "    \"\"\"Change the value of a nonlocal variable\"\"\"\n",
                "    \n",
                "    # Concatenate word with itself: echo_word\n",
                "    echo_word = word*2\n",
                "    \n",
                "    # Print echo_word\n",
                "    print(echo_word)\n",
                "    \n",
                "    # Define inner function shout()\n",
                "    def shout():\n",
                "        \"\"\"Alter a variable in the enclosing scope\"\"\"\n",
                "        \n",
                "        # Use echo_word in nonlocal scope\n",
                "        nonlocal echo_word\n",
                "        \n",
                "        # Change echo_word to echo_word concatenated with '!!!'\n",
                "        echo_word = echo_word + '!!!'\n",
                "    \n",
                "    # Call function shout()\n",
                "    shout()\n",
                "    \n",
                "    # Print echo_word\n",
                "    print(echo_word)\n",
                "    \n",
                "# Call function echo_shout() with argument 'hello'\n",
                "echo_shout('hello')\n"
            ]
        },
        {
            "attachments": {},
            "cell_type": "markdown",
            "metadata": {},
            "source": [
                "</div>\n",
                "\n"
            ]
        },
        {
            "attachments": {},
            "cell_type": "markdown",
            "metadata": {},
            "source": [
                "<p class=\"\">Quite something, that <code>nonlocal</code> keyword!</p>\n",
                "\n"
            ]
        },
        {
            "attachments": {},
            "cell_type": "markdown",
            "metadata": {},
            "source": [
                "## Default and flexible arguments\n",
                "\n",
                "\n",
                "\n"
            ]
        },
        {
            "attachments": {},
            "cell_type": "markdown",
            "metadata": {},
            "source": [
                "### Functions with one default argument\n",
                "\n",
                "\n",
                "<div class><p>In the previous chapter, you've learned to define functions with more than one parameter and then calling those functions by passing the required number of arguments. In the last video, Hugo built on this idea by showing you how to define functions with default arguments. You will practice that skill in this exercise by writing a function that uses a default argument and then calling the function a couple of times.</p></div>\n",
                "\n",
                "<li>Complete the function header with the function name <code>shout_echo</code>. It accepts an argument <code>word1</code> and a default argument <code>echo</code> with default value <code>1</code>, in that order.</li>\n",
                "<li>Use the <code>*</code> operator to concatenate <code>echo</code> copies of <code>word1</code>. Assign the result to <code>echo_word</code>.</li>\n",
                "\n",
                "<li>Call <code>shout_echo()</code> with just the string, <code>\"Hey\"</code>. Assign the result to <code>no_echo</code>.</li>\n",
                "\n",
                "<li>Call <code>shout_echo()</code> with the string <code>\"Hey\"</code> and the value <code>5</code> for the default argument, <code>echo</code>. Assign the result to <code>with_echo</code>.</li>\n",
                "<div>\n"
            ]
        },
        {
            "cell_type": "code",
            "execution_count": null,
            "metadata": {
                "vscode": {
                    "languageId": "r"
                }
            },
            "outputs": [],
            "source": [
                "# Define shout_echo\n",
                "def shout_echo(word1, echo=1):\n",
                "    \"\"\"Concatenate echo copies of word1 and three\n",
                "     exclamation marks at the end of the string.\"\"\"\n",
                "\n",
                "    # Concatenate echo copies of word1 using *: echo_word\n",
                "    echo_word = word1 * echo\n",
                "\n",
                "    # Concatenate '!!!' to echo_word: shout_word\n",
                "    shout_word = echo_word + '!!!'\n",
                "\n",
                "    # Return shout_word\n",
                "    return shout_word\n",
                "  \n",
                "# Call shout_echo() with \"Hey\": no_echo\n",
                "no_echo = shout_echo(\"Hey\")\n",
                "\n",
                "# Call shout_echo() with \"Hey\" and echo=5: with_echo\n",
                "with_echo = shout_echo(\"Hey\", echo=5)\n",
                "\n",
                "# Print no_echo and with_echo\n",
                "print(no_echo)\n",
                "print(with_echo)\n"
            ]
        },
        {
            "attachments": {},
            "cell_type": "markdown",
            "metadata": {},
            "source": [
                "</div>\n",
                "\n"
            ]
        },
        {
            "attachments": {},
            "cell_type": "markdown",
            "metadata": {},
            "source": [
                "<p class=\"\">Great work!</p>\n",
                "\n"
            ]
        },
        {
            "attachments": {},
            "cell_type": "markdown",
            "metadata": {},
            "source": [
                "### Functions with multiple default arguments\n",
                "\n",
                "\n",
                "<div class>\n",
                "<p>You've now defined a function that uses a default argument - don't stop there just yet! You will now try your hand at defining a function with more than one default argument and then calling this function in various ways. </p>\n",
                "<p>After defining the function, you will call it by supplying values to <em>all</em> the default arguments of the function. Additionally, you will call the function by not passing a value to one of the default arguments - see how that changes the output of your function!</p>\n",
                "</div>\n",
                "\n",
                "<li>Complete the function header with the function name <code>shout_echo</code>. It accepts an argument <code>word1</code>, a default argument <code>echo</code> with default value <code>1</code> and a default argument <code>intense</code> with default value <code>False</code>, in that order.</li>\n",
                "<li>In the body of the <code>if</code> statement, make the string object <code>echo_word</code> upper case by applying the method <code>.upper()</code> on it.</li>\n",
                "\n",
                "<li>Call <code>shout_echo()</code> with the string, <code>\"Hey\"</code>, the value <code>5</code> for <code>echo</code> and the value <code>True</code> for <code>intense</code>. Assign the result to <code>with_big_echo</code>.</li>\n",
                "\n",
                "<li>Call <code>shout_echo()</code> with the string <code>\"Hey\"</code> and the value <code>True</code> for <code>intense</code>. Assign the result to <code>big_no_echo</code>.</li>\n",
                "<div>\n"
            ]
        },
        {
            "cell_type": "code",
            "execution_count": null,
            "metadata": {
                "vscode": {
                    "languageId": "r"
                }
            },
            "outputs": [],
            "source": [
                "# Define shout_echo\n",
                "def shout_echo(word1, echo=1, intense=False):\n",
                "    \"\"\"Concatenate echo copies of word1 and three\n",
                "    exclamation marks at the end of the string.\"\"\"\n",
                "\n",
                "    # Concatenate echo copies of word1 using *: echo_word\n",
                "    echo_word = word1 * echo\n",
                "\n",
                "    # Make echo_word uppercase if intense is True\n",
                "    if intense is True:\n",
                "        # Make uppercase and concatenate '!!!': echo_word_new\n",
                "        echo_word_new = echo_word.upper() + '!!!'\n",
                "    else:\n",
                "        # Concatenate '!!!' to echo_word: echo_word_new\n",
                "        echo_word_new = echo_word + '!!!'\n",
                "\n",
                "    # Return echo_word_new\n",
                "    return echo_word_new\n",
                "  \n",
                "# Call shout_echo() with \"Hey\", echo=5 and intense=True: with_big_echo\n",
                "with_big_echo = shout_echo(\"Hey\", echo=5, intense=True)\n",
                "\n",
                "# Call shout_echo() with \"Hey\" and intense=True: big_no_echo\n",
                "big_no_echo = shout_echo(\"Hey\", intense=True)\n",
                "\n",
                "# Print with_big_echo and big_no_echo\n",
                "print(with_big_echo)\n",
                "print(big_no_echo)\n"
            ]
        },
        {
            "attachments": {},
            "cell_type": "markdown",
            "metadata": {},
            "source": [
                "</div>\n",
                "\n"
            ]
        },
        {
            "attachments": {},
            "cell_type": "markdown",
            "metadata": {},
            "source": [
                "<p class=\"\">Great work!</p>\n",
                "\n"
            ]
        },
        {
            "attachments": {},
            "cell_type": "markdown",
            "metadata": {},
            "source": [
                "### Functions with variable-length arguments (\\*args)\n",
                "\n",
                "\n",
                "<div class>\n",
                "<p>Flexible arguments enable you to pass a variable number of arguments to a function. In this exercise, you will practice defining a function that accepts a variable number of string arguments.</p>\n",
                "<p>The function you will define is <code>gibberish()</code> which can accept a variable number of string values. Its return value is a single string composed of all the string arguments concatenated together in the order they were passed to the function call. You will call the function with a single string argument and see how the output changes with another call using more than one string argument. Recall from the previous video that, within the function definition, <code>args</code> is a tuple.</p>\n",
                "</div>\n",
                "\n",
                "<li>Complete the function header with the function name <code>gibberish</code>. It accepts a single flexible argument <code>\\*args</code>.</li>\n",
                "<li>Initialize a variable <code>hodgepodge</code> to an empty string.</li>\n",
                "<li>Return the variable <code>hodgepodge</code> at the end of the function body.</li>\n",
                "\n",
                "<li>Call <code>gibberish()</code> with the single string, <code>\"luke\"</code>. Assign the result to <code>one_word</code>.</li>\n",
                "\n",
                "<li>Hit the Submit button to call <code>gibberish()</code> with multiple arguments and to print the value to the Shell.</li>\n",
                "<div>\n"
            ]
        },
        {
            "cell_type": "code",
            "execution_count": null,
            "metadata": {
                "vscode": {
                    "languageId": "r"
                }
            },
            "outputs": [],
            "source": [
                "# Define gibberish\n",
                "def gibberish(*args):\n",
                "    \"\"\"Concatenate strings in *args together.\"\"\"\n",
                "\n",
                "    # Initialize an empty string: hodgepodge\n",
                "    hodgepodge = ''\n",
                "\n",
                "    # Concatenate the strings in args\n",
                "    for word in args:\n",
                "        hodgepodge += word\n",
                "\n",
                "    # Return hodgepodge\n",
                "    return hodgepodge\n",
                "  \n",
                "# Call gibberish() with one string: one_word\n",
                "one_word = gibberish(\"luke\")\n",
                "\n",
                "# Call gibberish() with five strings: many_words\n",
                "many_words = gibberish(\"luke\", \"leia\", \"han\", \"obi\", \"darth\")\n",
                "\n",
                "# Print one_word and many_words\n",
                "print(one_word)\n",
                "print(many_words)\n"
            ]
        },
        {
            "attachments": {},
            "cell_type": "markdown",
            "metadata": {},
            "source": [
                "</div>\n",
                "\n"
            ]
        },
        {
            "attachments": {},
            "cell_type": "markdown",
            "metadata": {},
            "source": [
                "<p class=\"\">Great work!</p>\n",
                "\n"
            ]
        },
        {
            "attachments": {},
            "cell_type": "markdown",
            "metadata": {},
            "source": [
                "### Functions with variable-length keyword arguments (\\*\\*kwargs)\n",
                "\n",
                "\n",
                "<div class>\n",
                "<p>Let's push further on what you've learned about flexible arguments - you've used <code>\\*args</code>, you're now going to use <code>\\*\\*kwargs</code>! What makes <code>**kwargs</code> different is that it allows you to pass a variable number of <em>keyword arguments</em> to functions. Recall from the previous video that, within the function definition, <code>kwargs</code> is a dictionary.</p>\n",
                "<p>To understand this idea better, you're going to use <code>\\*\\*kwargs</code> in this exercise to define a function that accepts a variable number of keyword arguments. The function simulates a simple status report system that prints out the status of a character in a movie.</p>\n",
                "</div>\n",
                "\n",
                "<li>Complete the function header with the function name <code>report_status</code>. It accepts a single flexible argument <code>\\*\\*kwargs</code>.</li>\n",
                "<li>Iterate over the key-value pairs of <code>kwargs</code> to print out the keys and values, separated by a colon ':'.</li>\n",
                "\n",
                "<li>In the first call to <code>report_status()</code>, pass the following keyword-value pairs: <code>name=\"luke\"</code>, <code>affiliation=\"jedi\"</code> and <code>status=\"missing\"</code>.</li>\n",
                "\n",
                "<li>In the second call to <code>report_status()</code>, pass the following keyword-value pairs: <code>name=\"anakin\"</code>, <code>affiliation=\"sith lord\"</code> and <code>status=\"deceased\"</code>.</li>\n",
                "<div>\n"
            ]
        },
        {
            "cell_type": "code",
            "execution_count": null,
            "metadata": {
                "vscode": {
                    "languageId": "r"
                }
            },
            "outputs": [],
            "source": [
                "# Define report_status\n",
                "def report_status(**kwargs):\n",
                "    \"\"\"Print out the status of a movie character.\"\"\"\n",
                "\n",
                "    print(\"\\nBEGIN: REPORT\\n\")\n",
                "\n",
                "    # Iterate over the key-value pairs of kwargs\n",
                "    for key, value in kwargs.items():\n",
                "        # Print out the keys and values, separated by a colon ':'\n",
                "        print(key + \": \" + value)\n",
                "\n",
                "    print(\"\\nEND REPORT\")\n",
                "    \n",
                "# First call to report_status()\n",
                "report_status(name=\"luke\", affiliation=\"jedi\", status=\"missing\")\n"
            ]
        },
        {
            "cell_type": "markdown",
            "metadata": {},
            "source": [
                "</div>\n",
                "<div>\n"
            ]
        },
        {
            "cell_type": "code",
            "execution_count": null,
            "metadata": {
                "vscode": {
                    "languageId": "r"
                }
            },
            "outputs": [],
            "source": [
                "# Second call to report_status()\n",
                "report_status(name=\"anakin\", affiliation=\"sith lord\", status=\"deceased\")\n"
            ]
        },
        {
            "attachments": {},
            "cell_type": "markdown",
            "metadata": {},
            "source": [
                "</div>\n",
                "\n"
            ]
        },
        {
            "attachments": {},
            "cell_type": "markdown",
            "metadata": {},
            "source": [
                "<div class=\"dc-completed__message\"><p class=\"\">Great work!</p></div>\n",
                "\n"
            ]
        },
        {
            "attachments": {},
            "cell_type": "markdown",
            "metadata": {},
            "source": [
                "## Bringing it all together\n",
                "\n",
                "\n",
                "\n"
            ]
        },
        {
            "attachments": {},
            "cell_type": "markdown",
            "metadata": {},
            "source": [
                "### Bringing it all together (1)\n",
                "\n",
                "\n",
                "<div class>\n",
                "<p>Recall the <em>Bringing it all together</em> exercise in the previous chapter where you did a simple Twitter analysis by developing a function that counts how many tweets are in certain languages. The output of your function was a dictionary that had the language as the <em>keys</em> and the counts of tweets in that language as the <em>value</em>.</p>\n",
                "<p>In this exercise, we will generalize the Twitter language analysis that you did in the previous chapter. You will do that by including a <strong>default argument</strong> that takes a column name. </p>\n",
                "<p>For your convenience, <code>pandas</code> has been imported as <code>pd</code> and the <code>'tweets.csv'</code> file has been imported into the DataFrame <code>tweets_df</code>. Parts of the code from your previous work are also provided.</p>\n",
                "</div>\n",
                "\n",
                "<li>Complete the function header by supplying the parameter for a DataFrame <code>df</code> and the parameter <code>col_name</code> with a default value of <code>'lang'</code> for the DataFrame column name.</li>\n",
                "\n",
                "<li>Call <code>count_entries()</code> by passing the <code>tweets_df</code> DataFrame and the column name <code>'lang'</code>. Assign the result to <code>result1</code>. Note that since <code>'lang'</code> is the default value of the <code>col_name</code> parameter, you don't have to specify it here.</li>\n",
                "\n",
                "<li>Call <code>count_entries()</code> by passing the <code>tweets_df</code> DataFrame and the column name <code>'source'</code>. Assign the result to <code>result2</code>.</li>\n",
                "<div>\n"
            ]
        },
        {
            "cell_type": "code",
            "execution_count": null,
            "metadata": {
                "vscode": {
                    "languageId": "r"
                }
            },
            "outputs": [],
            "source": [
                "# Define count_entries()\n",
                "def count_entries(df, col_name='lang'):\n",
                "    \"\"\"Return a dictionary with counts of\n",
                "    occurrences as value for each key.\"\"\"\n",
                "\n",
                "    # Initialize an empty dictionary: cols_count\n",
                "    cols_count = {}\n",
                "    \n",
                "    # Extract column from DataFrame: col\n",
                "    col = df[col_name]\n",
                "\n",
                "    # Iterate over the column in DataFrame\n",
                "    for entry in col:\n",
                "\n",
                "        # If entry is in cols_count, add 1\n",
                "        if entry in cols_count.keys():\n",
                "            cols_count[entry] += 1\n",
                "\n",
                "        # Else add the entry to cols_count, set the value to 1\n",
                "        else:\n",
                "            cols_count[entry] = 1\n",
                "\n",
                "    # Return the cols_count dictionary\n",
                "    return cols_count\n",
                "  \n",
                "# Call count_entries(): result1\n",
                "result1 = count_entries(tweets_df, col_name='lang')\n",
                "\n",
                "# Call count_entries(): result2\n",
                "result2 = count_entries(tweets_df, col_name='source')\n",
                "\n",
                "# Print result1 and result2\n",
                "print(result1)\n",
                "print(result2)\n"
            ]
        },
        {
            "attachments": {},
            "cell_type": "markdown",
            "metadata": {},
            "source": [
                "</div>\n",
                "\n"
            ]
        },
        {
            "attachments": {},
            "cell_type": "markdown",
            "metadata": {},
            "source": [
                "<p class=\"\">Great work!</p>\n",
                "\n"
            ]
        },
        {
            "attachments": {},
            "cell_type": "markdown",
            "metadata": {},
            "source": [
                "### Bringing it all together (2)\n",
                "\n",
                "\n",
                "<div class>\n",
                "<p>Wow, you've just generalized your Twitter language analysis that you did in the previous chapter to include a default argument for the column name. You're now going to generalize this function one step further by allowing the user to pass it a flexible argument, that is, in this case, as many column names as the user would like!</p>\n",
                "<p>Once again, for your convenience, <code>pandas</code> has been imported as <code>pd</code> and the <code>'tweets.csv'</code> file has been imported into the DataFrame <code>tweets_df</code>. Parts of the code from your previous work are also provided.</p>\n",
                "</div>\n",
                "\n",
                "<li>Complete the function header by supplying the parameter for the DataFrame <code>df</code> and the flexible argument <code>*args</code>.</li>\n",
                "<li>Complete the <code>for</code> loop within the function definition so that the loop occurs over the tuple <code>args</code>.</li>\n",
                "\n",
                "<li>Call <code>count_entries()</code> by passing the <code>tweets_df</code> DataFrame and the column name <code>'lang'</code>. Assign the result to <code>result1</code>.</li>\n",
                "\n",
                "<li>Call <code>count_entries()</code> by passing the <code>tweets_df</code> DataFrame and the column names <code>'lang'</code> and <code>'source'</code>. Assign the result to <code>result2</code>.</li>\n",
                "<div>\n"
            ]
        },
        {
            "cell_type": "code",
            "execution_count": null,
            "metadata": {
                "vscode": {
                    "languageId": "r"
                }
            },
            "outputs": [],
            "source": [
                "# Define count_entries()\n",
                "def count_entries(df, *args):\n",
                "    \"\"\"Return a dictionary with counts of\n",
                "    occurrences as value for each key.\"\"\"\n",
                "    \n",
                "    #Initialize an empty dictionary: cols_count\n",
                "    cols_count = {}\n",
                "    \n",
                "    # Iterate over column names in args\n",
                "    for col_name in args:\n",
                "    \n",
                "        # Extract column from DataFrame: col\n",
                "        col = df[col_name]\n",
                "    \n",
                "        # Iterate over the column in DataFrame\n",
                "        for entry in col:\n",
                "    \n",
                "            # If entry is in cols_count, add 1\n",
                "            if entry in cols_count.keys():\n",
                "                cols_count[entry] += 1\n",
                "    \n",
                "            # Else add the entry to cols_count, set the value to 1\n",
                "            else:\n",
                "                cols_count[entry] = 1\n",
                "\n",
                "    # Return the cols_count dictionary\n",
                "    return cols_count\n",
                "  \n",
                "# Call count_entries(): result1\n",
                "result1 = count_entries(tweets_df, 'lang')\n",
                "\n",
                "# Call count_entries(): result2\n",
                "result2 = count_entries(tweets_df, 'lang', 'source')\n",
                "\n",
                "# Print result1 and result2\n",
                "print(result1)\n",
                "print(result2)\n"
            ]
        },
        {
            "attachments": {},
            "cell_type": "markdown",
            "metadata": {},
            "source": [
                "</div>\n",
                "\n"
            ]
        },
        {
            "attachments": {},
            "cell_type": "markdown",
            "metadata": {},
            "source": [
                "<p class=\"\">Great work!</p>\n",
                "\n"
            ]
        },
        {
            "attachments": {},
            "cell_type": "markdown",
            "metadata": {},
            "source": [
                "# Lambda functions and error-handling\n",
                "\n",
                "<p class=\"chapter__description\">\n",
                "    Learn about lambda functions, which allow you to write functions quickly and on the fly. You'll also practice handling errors in your functions, which is an essential skill. Then, apply your new skills to answer data science questions.\n",
                "  </p>\n",
                "  \n"
            ]
        },
        {
            "attachments": {},
            "cell_type": "markdown",
            "metadata": {},
            "source": [
                "## Lambda functions\n",
                "\n",
                "\n",
                "\n"
            ]
        },
        {
            "attachments": {},
            "cell_type": "markdown",
            "metadata": {},
            "source": [
                "### Pop quiz on lambda functions\n",
                "\n",
                "\n",
                "<div class>\n",
                "<p>In this exercise, you will practice writing a simple lambda function and calling this function. Recall what you know about lambda functions and answer the following questions:</p>\n",
                "<ul>\n",
                "<li>How would you write a lambda function <code>add_bangs</code> that adds three exclamation points <code>'!!!'</code> to the end of a string <code>a</code>? </li>\n",
                "<li>How would you call <code>add_bangs</code> with the argument <code>'hello'</code>?</li>\n",
                "</ul>\n",
                "<p>You may use the IPython shell to test your code.</p>\n",
                "</div>\n",
                "\n"
            ]
        },
        {
            "attachments": {},
            "cell_type": "markdown",
            "metadata": {},
            "source": [
                "- [ ] The lambda function definition is: <code>add_bangs = (a + '!!!')</code>, and the function call is: <code>add_bangs('hello')</code>.\n",
                "- [x] The lambda function definition is: <code>add_bangs = (lambda a: a + '!!!')</code>, and the function call is: <code>add_bangs('hello')</code>.\n",
                "- [ ] The lambda function definition is: <code>(lambda a: a + '!!!') = add_bangs</code>, and the function call is: <code>add_bangs('hello')</code>.\n",
                "\n"
            ]
        },
        {
            "attachments": {},
            "cell_type": "markdown",
            "metadata": {},
            "source": [
                "<p class=\"\">Correct!</p>\n",
                "\n"
            ]
        },
        {
            "attachments": {},
            "cell_type": "markdown",
            "metadata": {},
            "source": [
                "### Writing a lambda function you already know\n",
                "\n",
                "\n",
                "<div class>\n",
                "<p>Some function definitions are simple enough that they can be converted to a lambda function. By doing this, you write less lines of code, which is pretty awesome and will come in handy, especially when you're writing and maintaining big programs. In this exercise, you will use what you know about lambda functions to convert a function that does a simple task into a lambda function. Take a look at this function definition:</p>\n",
                "<pre><code>def echo_word(word1, echo):\n",
                "    \"\"\"Concatenate echo copies of word1.\"\"\"\n",
                "    words = word1 * echo\n",
                "    return words\n",
                "</code></pre>\n",
                "<p>The function <code>echo_word</code> takes 2 parameters: a string value, <code>word1</code> and an integer value, <code>echo</code>. It returns a string that is a concatenation of <code>echo</code> copies of <code>word1</code>. Your task is to convert this simple function into a lambda function.</p>\n",
                "</div>\n",
                "\n",
                "<li>Define the lambda function <code>echo_word</code> using the variables <code>word1</code> and <code>echo</code>. Replicate what the original function definition for <code>echo_word()</code> does above.</li>\n",
                "\n",
                "<li>Call <code>echo_word()</code> with the string argument <code>'hey'</code> and the value <code>5</code>, in that order. Assign the call to <code>result</code>.</li>\n",
                "<div>\n"
            ]
        },
        {
            "cell_type": "code",
            "execution_count": null,
            "metadata": {
                "vscode": {
                    "languageId": "r"
                }
            },
            "outputs": [],
            "source": [
                "# Define echo_word as a lambda function: echo_word\n",
                "echo_word = (lambda word1, echo: word1 * echo)\n",
                "\n",
                "# Call echo_word: result\n",
                "result = echo_word('hey', 5)\n",
                "\n",
                "# Print result\n",
                "print(result)\n"
            ]
        },
        {
            "attachments": {},
            "cell_type": "markdown",
            "metadata": {},
            "source": [
                "</div>\n",
                "\n"
            ]
        },
        {
            "attachments": {},
            "cell_type": "markdown",
            "metadata": {},
            "source": [
                "<p class=\"\">Great work!</p>\n",
                "\n"
            ]
        },
        {
            "attachments": {},
            "cell_type": "markdown",
            "metadata": {},
            "source": [
                "### Map() and lambda functions\n",
                "\n",
                "\n",
                "<div class>\n",
                "<p>So far, you've used lambda functions to write short, simple functions as well as to redefine functions with simple functionality. The best use case for lambda functions, however, are for when you want these simple functionalities to be anonymously embedded within larger expressions. What that means is that the functionality is not stored in the environment, unlike a function defined with <code>def</code>. To understand this idea better, you will use a lambda function in the context of the <code>map()</code> function.</p>\n",
                "<p>Recall from the video that <code>map()</code> applies a function over an object, such as a list. Here, you can use lambda functions to define the function that <code>map()</code> will use to process the object. For example:</p>\n",
                "<pre><code>nums = [2, 4, 6, 8, 10]\n",
                "\n",
                "result = map(lambda a: a ** 2, nums)\n",
                "</code></pre>\n",
                "<p>You can see here that a lambda function, which raises a value <code>a</code> to the power of 2, is passed to <code>map()</code> alongside a list of numbers, <code>nums</code>. The <em>map object</em> that results from the call to <code>map()</code> is stored in <code>result</code>. You will now practice the use of lambda functions with <code>map()</code>. For this exercise, you will map the functionality of the <code>add_bangs()</code> function you defined in previous exercises over a list of strings.</p>\n",
                "</div>\n",
                "\n",
                "<li>In the <code>map()</code> call, pass a lambda function that concatenates the string <code>'!!!'</code> to a string <code>item</code>; also pass the list of strings, <code>spells</code>. Assign the resulting map object to <code>shout_spells</code>.</li>\n",
                "\n",
                "<li>Convert <code>shout_spells</code> to a list and print out the list.</li>\n",
                "<div>\n"
            ]
        },
        {
            "cell_type": "code",
            "execution_count": null,
            "metadata": {
                "vscode": {
                    "languageId": "r"
                }
            },
            "outputs": [],
            "source": [
                "# Create a list of strings: spells\n",
                "spells = ['protego', 'accio', 'expecto patronum', 'legilimens']\n",
                "\n",
                "# Use map() to apply a lambda function over spells: shout_spells\n",
                "shout_spells = map(lambda item: item + '!!!', spells)\n",
                "\n",
                "# Convert shout_spells to a list: shout_spells_list\n",
                "shout_spells_list = list(shout_spells)\n",
                "\n",
                "# Print the result\n",
                "print(shout_spells_list)\n"
            ]
        },
        {
            "attachments": {},
            "cell_type": "markdown",
            "metadata": {},
            "source": [
                "</div>\n",
                "\n"
            ]
        },
        {
            "attachments": {},
            "cell_type": "markdown",
            "metadata": {},
            "source": [
                "<p class=\"\">Great work!</p>\n",
                "\n"
            ]
        },
        {
            "attachments": {},
            "cell_type": "markdown",
            "metadata": {},
            "source": [
                "### Filter() and lambda functions\n",
                "\n",
                "\n",
                "<div class>\n",
                "<p>In the previous exercise, you used lambda functions to anonymously embed an operation within <code>map()</code>. You will practice this again in this exercise by using a lambda function with <code>filter()</code>, which may be new to you! The function <code>filter()</code> offers a way to filter out elements from a list that don't satisfy certain criteria.</p>\n",
                "<p>Your goal in this exercise is to use <code>filter()</code> to create, from an input list of strings, a new list that contains only strings that have more than 6 characters.</p>\n",
                "</div>\n",
                "\n",
                "<li>In the <code>filter()</code> call, pass a lambda function and the list of strings, <code>fellowship</code>. The lambda function should check if the number of characters in a string <code>member</code> is greater than 6; use the <code>len()</code> function to do this. Assign the resulting filter object to <code>result</code>.</li>\n",
                "\n",
                "<li>Convert <code>result</code> to a list and print out the list.</li>\n",
                "<div>\n"
            ]
        },
        {
            "cell_type": "code",
            "execution_count": null,
            "metadata": {
                "vscode": {
                    "languageId": "r"
                }
            },
            "outputs": [],
            "source": [
                "# Create a list of strings: fellowship\n",
                "fellowship = ['frodo', 'samwise', 'merry', 'pippin', 'aragorn', 'boromir', 'legolas', 'gimli', 'gandalf']\n",
                "\n",
                "# Use filter() to apply a lambda function over fellowship: result\n",
                "result = filter(lambda member: len(member) > 6, fellowship)\n",
                "\n",
                "# Convert result to a list: result_list\n",
                "result_list = list(result)\n",
                "\n",
                "# Print result_list\n",
                "print(result_list)\n"
            ]
        },
        {
            "attachments": {},
            "cell_type": "markdown",
            "metadata": {},
            "source": [
                "</div>\n",
                "\n"
            ]
        },
        {
            "attachments": {},
            "cell_type": "markdown",
            "metadata": {},
            "source": [
                "<p class=\"\">Great work!</p>\n",
                "\n"
            ]
        },
        {
            "attachments": {},
            "cell_type": "markdown",
            "metadata": {},
            "source": [
                "### Reduce() and lambda functions\n",
                "\n",
                "\n",
                "<div class>\n",
                "<p>You're getting very good at using lambda functions! Here's one more function to add to your repertoire of skills. The <code>reduce()</code> function is useful for performing some computation on a list and, unlike <code>map()</code> and <code>filter()</code>, returns a single value as a result. To use <code>reduce()</code>, you must import it from the <code>functools</code> module.</p>\n",
                "<p>Remember <code>gibberish()</code> from a few exercises back?</p>\n",
                "<pre><code># Define gibberish\n",
                "def gibberish(*args):\n",
                "    \"\"\"Concatenate strings in *args together.\"\"\"\n",
                "    hodgepodge = ''\n",
                "    for word in args:\n",
                "        hodgepodge += word\n",
                "    return hodgepodge\n",
                "</code></pre>\n",
                "<p><code>gibberish()</code> simply takes a list of strings as an argument and returns, as a single-value result, the concatenation of all of these strings. In this exercise, you will replicate this functionality by using <code>reduce()</code> and a lambda function that concatenates strings together.</p>\n",
                "</div>\n",
                "\n",
                "<li>Import the <code>reduce</code> function from the <code>functools</code> module.</li>\n",
                "\n",
                "<li>In the <code>reduce()</code> call, pass a lambda function that takes two string arguments <code>item1</code> and <code>item2</code> and concatenates them; also pass the list of strings, <code>stark</code>. Assign the result to <code>result</code>. The first argument to <code>reduce()</code> should be the lambda function and the second argument is the list <code>stark</code>.</li>\n",
                "<div>\n"
            ]
        },
        {
            "cell_type": "code",
            "execution_count": null,
            "metadata": {
                "vscode": {
                    "languageId": "r"
                }
            },
            "outputs": [],
            "source": [
                "# Import reduce from functools\n",
                "from functools import reduce\n",
                "\n",
                "# Create a list of strings: stark\n",
                "stark = ['robb', 'sansa', 'arya', 'brandon', 'rickon']\n",
                "\n",
                "# Use reduce() to apply a lambda function over stark: result\n",
                "result = reduce(lambda item1, item2: item1 + item2, stark)\n",
                "\n",
                "# Print the result\n",
                "print(result)\n"
            ]
        },
        {
            "attachments": {},
            "cell_type": "markdown",
            "metadata": {},
            "source": [
                "</div>\n",
                "\n"
            ]
        },
        {
            "attachments": {},
            "cell_type": "markdown",
            "metadata": {},
            "source": [
                "<p class=\"\">Great work!</p>\n",
                "\n"
            ]
        },
        {
            "attachments": {},
            "cell_type": "markdown",
            "metadata": {},
            "source": [
                "## Introduction to error handling\n",
                "\n",
                "\n",
                "\n",
                "### Pop quiz about errors\n",
                "\n",
                "\n",
                "<div class>\n",
                "<p>In the video, Hugo talked about how errors happen when functions are supplied arguments that they are unable to work with. In this exercise, you will identify which function call raises an error and what type of error is raised.</p>\n",
                "<p>Take a look at the following function calls to <code>len()</code>:</p>\n",
                "<pre><code>len('There is a beast in every man and it stirs when you put a sword in his hand.')\n",
                "\n",
                "len(['robb', 'sansa', 'arya', 'eddard', 'jon'])\n",
                "\n",
                "len(525600)\n",
                "\n",
                "len(('jaime', 'cersei', 'tywin', 'tyrion', 'joffrey'))\n",
                "</code></pre>\n",
                "<p>Which of the function calls raises an error and what type of error is raised?</p>\n",
                "</div>\n",
                "\n"
            ]
        },
        {
            "attachments": {},
            "cell_type": "markdown",
            "metadata": {},
            "source": [
                "- [ ] The call <code>len('There is a beast in every man and it stirs when you put a sword in his hand.')</code> raises a <code>TypeError</code>.\n",
                "- [ ] The call <code>len(['robb', 'sansa', 'arya', 'eddard', 'jon'])</code> raises an <code>IndexError</code>.\n",
                "- [x] The call <code>len(525600)</code> raises a <code>TypeError</code>.\n",
                "- [ ] The call <code>len(('jaime', 'cersei', 'tywin', 'tyrion', 'joffrey'))</code> raises a <code>NameError</code>.\n",
                "\n"
            ]
        },
        {
            "attachments": {},
            "cell_type": "markdown",
            "metadata": {},
            "source": [
                "<p class=\"\">Correct!</p>\n",
                "\n"
            ]
        },
        {
            "attachments": {},
            "cell_type": "markdown",
            "metadata": {},
            "source": [
                "### Error handling with try-except\n",
                "\n",
                "\n",
                "<div class>\n",
                "<p>A good practice in writing your own functions is also anticipating the ways in which other people (or yourself, if you accidentally misuse your own function) might use the function you defined. </p>\n",
                "<p>As in the previous exercise, you saw that the <code>len()</code> function is able to handle input arguments such as strings, lists, and tuples, but not int type ones and raises an appropriate error and error message when it encounters invalid input arguments. One way of doing this is through exception handling with the <code>try-except</code> block. </p>\n",
                "<p>In this exercise, you will define a function as well as use a <code>try-except</code> block for handling cases when incorrect input arguments are passed to the function.</p>\n",
                "<p>Recall the <code>shout_echo()</code> function you defined in previous exercises; parts of the function definition are provided in the sample code. Your goal is to complete the exception handling code in the function definition and provide an appropriate error message when raising an error.</p>\n",
                "</div>\n",
                "\n",
                "<li>Initialize the variables <code>echo_word</code> and <code>shout_words</code> to empty strings.</li>\n",
                "<li>Add the keywords <code>try</code> and <code>except</code> in the appropriate locations for the exception handling block.</li>\n",
                "<li>Use the <code>*</code> operator to concatenate <code>echo</code> copies of <code>word1</code>. Assign the result to <code>echo_word</code>.</li>\n",
                "<li>Concatenate the string <code>'!!!'</code> to <code>echo_word</code>. Assign the result to <code>shout_words</code>.</li>\n",
                "<div>\n"
            ]
        },
        {
            "cell_type": "code",
            "execution_count": null,
            "metadata": {
                "vscode": {
                    "languageId": "r"
                }
            },
            "outputs": [],
            "source": [
                "# Define shout_echo\n",
                "def shout_echo(word1, echo=1):\n",
                "    \"\"\"Concatenate echo copies of word1 and three\n",
                "    exclamation marks at the end of the string.\"\"\"\n",
                "\n",
                "    # Initialize empty strings: echo_word, shout_words\n",
                "    echo_word = ''\n",
                "    shout_words = ''\n",
                "\n",
                "    # Add exception handling with try-except\n",
                "    try:\n",
                "        # Concatenate echo copies of word1 using *: echo_word\n",
                "        echo_word = word1 * echo\n",
                "\n",
                "        # Concatenate '!!!' to echo_word: shout_words\n",
                "        shout_words = echo_word + '!!!'\n",
                "    except:\n",
                "        # Print error message\n",
                "        print(\"word1 must be a string and echo must be an integer.\")\n",
                "\n",
                "    # Return shout_words\n",
                "    return shout_words\n",
                "\n",
                "# Call shout_echo\n",
                "shout_echo(\"particle\", echo=\"accelerator\")\n"
            ]
        },
        {
            "attachments": {},
            "cell_type": "markdown",
            "metadata": {},
            "source": [
                "</div>\n",
                "\n"
            ]
        },
        {
            "attachments": {},
            "cell_type": "markdown",
            "metadata": {},
            "source": [
                "<p class=\"\">Great work!</p>\n",
                "\n"
            ]
        },
        {
            "attachments": {},
            "cell_type": "markdown",
            "metadata": {},
            "source": [
                "### Error handling by raising an error\n",
                "\n",
                "\n",
                "<div class>\n",
                "<p>Another way to raise an error is by using <code>raise</code>. In this exercise, you will add a <code>raise</code> statement to the <code>shout_echo()</code> function you defined before to raise an error message when the value supplied by the user to the <code>echo</code> argument is less than 0.</p>\n",
                "<p>The call to <code>shout_echo()</code> uses valid argument values. To test and see how the <code>raise</code> statement works, simply change the value for the <code>echo</code> argument to a <em>negative</em> value. Don't forget to change it back to valid values to move on to the next exercise!</p>\n",
                "</div>\n",
                "\n",
                "<li>Complete the <code>if</code> statement by checking if the value of <code>echo</code> is <em>less than</em> 0.</li>\n",
                "<li>In the body of the <code>if</code> statement, add a <code>raise</code> statement that raises a <code>ValueError</code> with message <code>'echo must be greater than or equal to 0'</code> when the value supplied by the user to <code>echo</code> is less than 0.</li>\n",
                "<div>\n"
            ]
        },
        {
            "cell_type": "code",
            "execution_count": null,
            "metadata": {
                "vscode": {
                    "languageId": "r"
                }
            },
            "outputs": [],
            "source": [
                "# Define shout_echo\n",
                "def shout_echo(word1, echo=1):\n",
                "    \"\"\"Concatenate echo copies of word1 and three\n",
                "    exclamation marks at the end of the string.\"\"\"\n",
                "\n",
                "    # Raise an error with raise\n",
                "    if echo < 0:\n",
                "        raise ValueError('echo must be greater than or equal to 0')\n",
                "\n",
                "    # Concatenate echo copies of word1 using *: echo_word\n",
                "    echo_word = word1 * echo\n",
                "\n",
                "    # Concatenate '!!!' to echo_word: shout_word\n",
                "    shout_word = echo_word + '!!!'\n",
                "\n",
                "    # Return shout_word\n",
                "    return shout_word\n",
                "\n",
                "# Call shout_echo\n",
                "shout_echo(\"particle\", echo=5)\n"
            ]
        },
        {
            "attachments": {},
            "cell_type": "markdown",
            "metadata": {},
            "source": [
                "</div>\n",
                "\n"
            ]
        },
        {
            "attachments": {},
            "cell_type": "markdown",
            "metadata": {},
            "source": [
                "<p class=\"\">Great work!</p>\n",
                "\n"
            ]
        },
        {
            "attachments": {},
            "cell_type": "markdown",
            "metadata": {},
            "source": [
                "## Bringing it all together\n",
                "\n",
                "\n",
                "\n"
            ]
        },
        {
            "attachments": {},
            "cell_type": "markdown",
            "metadata": {},
            "source": [
                "### Bringing it all together (1)\n",
                "\n",
                "\n",
                "<div class>\n",
                "<p>This is awesome! You have now learned how to write anonymous functions using <code>lambda</code>, how to pass lambda functions as arguments to other functions such as <code>map()</code>, <code>filter()</code>, and <code>reduce()</code>, as well as how to write errors and output custom error messages within your functions. You will now put together these learnings to good use by working with a Twitter dataset. Before practicing your new error handling skills; in this exercise, you will write a lambda function and use <code>filter()</code> to select retweets, that is, tweets that begin with the string <code>'RT'</code>.</p>\n",
                "<p>To help you accomplish this, the Twitter data has been imported into the DataFrame, <code>tweets_df</code>. Go for it!</p>\n",
                "</div>\n",
                "\n",
                "<li>In the <code>filter()</code> call, pass a lambda function and the sequence of tweets as strings, <code>tweets_df['text']</code>. The lambda function should check if the first 2 characters in a tweet <code>x</code> are 'RT'. Assign the resulting filter object to <code>result</code>.  To get the first 2 characters in a tweet <code>x</code>, use <code>x[0:2]</code>. To check equality, use a Boolean filter with <code>==</code>.</li>\n",
                "\n",
                "<li>Convert <code>result</code> to a list and print out the list.</li>\n",
                "<div>\n"
            ]
        },
        {
            "cell_type": "code",
            "execution_count": null,
            "metadata": {
                "vscode": {
                    "languageId": "r"
                }
            },
            "outputs": [],
            "source": [
                "# Select retweets from the Twitter DataFrame: result\n",
                "result = filter(lambda x: x[0:2] == 'RT', tweets_df['text'])\n",
                "\n",
                "# Create list from filter object result: res_list\n",
                "res_list = list(result)\n",
                "\n",
                "# Print all retweets in res_list\n",
                "for tweet in res_list:\n",
                "    print(tweet)\n"
            ]
        },
        {
            "attachments": {},
            "cell_type": "markdown",
            "metadata": {},
            "source": [
                "</div>\n",
                "\n"
            ]
        },
        {
            "attachments": {},
            "cell_type": "markdown",
            "metadata": {},
            "source": [
                "<p class=\"\">Great work!</p>\n",
                "\n"
            ]
        },
        {
            "attachments": {},
            "cell_type": "markdown",
            "metadata": {},
            "source": [
                "### Bringing it all together (2)\n",
                "\n",
                "\n",
                "<div class>\n",
                "<p>Sometimes, we make mistakes when calling functions - even ones <em>you</em> made yourself. But don't fret! In this exercise, you will improve on your previous work with the <code>count_entries()</code> function in the last chapter by adding a <code>try-except</code> block to it. This will allow your function to provide a helpful message when the user calls your <code>count_entries()</code> function but provides a column name that isn't in the DataFrame.</p>\n",
                "<p>Once again, for your convenience, <code>pandas</code> has been imported as <code>pd</code> and the <code>'tweets.csv'</code> file has been imported into the DataFrame <code>tweets_df</code>. Parts of the code from your previous work are also provided.</p>\n",
                "</div>\n",
                "\n",
                "<li>Add a <code>try</code> block so that when the function is called with the correct arguments, it processes the DataFrame and returns a dictionary of results.</li>\n",
                "<li>Add an <code>except</code> block so that when the function is called incorrectly, it displays the following error message: <code>'The DataFrame does not have a ' + col_name + ' column.'</code>.</li>\n",
                "<div>\n"
            ]
        },
        {
            "cell_type": "code",
            "execution_count": null,
            "metadata": {
                "vscode": {
                    "languageId": "r"
                }
            },
            "outputs": [],
            "source": [
                "# Define count_entries()\n",
                "def count_entries(df, col_name='lang'):\n",
                "    \"\"\"Return a dictionary with counts of\n",
                "    occurrences as value for each key.\"\"\"\n",
                "\n",
                "    # Initialize an empty dictionary: cols_count\n",
                "    cols_count = {}\n",
                "\n",
                "    # Add try block\n",
                "    try: \n",
                "        # Extract column from DataFrame: col\n",
                "        col = df[col_name]\n",
                "        \n",
                "        # Iterate over the column in DataFrame\n",
                "        for entry in col:\n",
                "    \n",
                "            # If entry is in cols_count, add 1\n",
                "            if entry in cols_count.keys():\n",
                "                cols_count[entry] += 1\n",
                "            # Else add the entry to cols_count, set the value to 1\n",
                "            else:\n",
                "                cols_count[entry] = 1\n",
                "    \n",
                "        # Return the cols_count dictionary\n",
                "        return cols_count\n",
                "\n",
                "    # Add except block\n",
                "    except:\n",
                "        print('The DataFrame does not have a ' + col_name + ' column.')\n",
                "\n",
                "# Call count_entries(): result1\n",
                "result1 = count_entries(tweets_df, 'lang')\n",
                "\n",
                "# Print result1\n",
                "print(result1)\n"
            ]
        },
        {
            "attachments": {},
            "cell_type": "markdown",
            "metadata": {},
            "source": [
                "</div>\n",
                "\n"
            ]
        },
        {
            "attachments": {},
            "cell_type": "markdown",
            "metadata": {},
            "source": [
                "<p class=\"\">Great work!</p>\n",
                "\n"
            ]
        },
        {
            "attachments": {},
            "cell_type": "markdown",
            "metadata": {},
            "source": [
                "### Bringing it all together (3)\n",
                "\n",
                "\n",
                "<div class>\n",
                "<p>In the previous exercise, you built on your function <code>count_entries()</code> to add a <code>try-except</code> block. This was so that users would get helpful messages when calling your <code>count_entries()</code> function and providing a column name that isn't in the DataFrame. In this exercise, you'll instead raise a <code>ValueError</code> in the case that the user provides a column name that isn't in the DataFrame.</p>\n",
                "<p>Once again, for your convenience, <code>pandas</code> has been imported as <code>pd</code> and the <code>'tweets.csv'</code> file has been imported into the DataFrame <code>tweets_df</code>. Parts of the code from your previous work are also provided.</p>\n",
                "</div>\n",
                "\n",
                "<li>If <code>col_name</code> is <em>not</em> a column in the DataFrame <code>df</code>, raise a <code>ValueError 'The DataFrame does not have a ' + col_name + ' column.'</code>.</li>\n",
                "\n",
                "<li>Call your new function <code>count_entries()</code> to analyze the <code>'lang'</code> column of <code>tweets_df</code>. Store the result in <code>result1</code>. </li>\n",
                "\n",
                "<li>Print <code>result1</code>. This has been done for you, so hit 'Submit Answer' to check out the result. In the next exercise, you'll see that it raises the necessary <code>ValueErrors</code>.</li>\n",
                "<div>\n"
            ]
        },
        {
            "cell_type": "code",
            "execution_count": null,
            "metadata": {
                "vscode": {
                    "languageId": "r"
                }
            },
            "outputs": [],
            "source": [
                "# Define count_entries()\n",
                "def count_entries(df, col_name='lang'):\n",
                "    \"\"\"Return a dictionary with counts of\n",
                "    occurrences as value for each key.\"\"\"\n",
                "    \n",
                "    # Raise a ValueError if col_name is NOT in DataFrame\n",
                "    if col_name not in df.columns:\n",
                "        raise ValueError('The DataFrame does not have a ' + col_name + ' column.')\n",
                "\n",
                "    # Initialize an empty dictionary: cols_count\n",
                "    cols_count = {}\n",
                "    \n",
                "    # Extract column from DataFrame: col\n",
                "    col = df[col_name]\n",
                "    \n",
                "    # Iterate over the column in DataFrame\n",
                "    for entry in col:\n",
                "\n",
                "        # If entry is in cols_count, add 1\n",
                "        if entry in cols_count.keys():\n",
                "            cols_count[entry] += 1\n",
                "            # Else add the entry to cols_count, set the value to 1\n",
                "        else:\n",
                "            cols_count[entry] = 1\n",
                "        \n",
                "        # Return the cols_count dictionary\n",
                "    return cols_count\n",
                "  \n",
                "# Call count_entries(): result1\n",
                "result1 = count_entries(tweets_df, 'lang')\n",
                "\n",
                "# Print result1\n",
                "print(result1)\n"
            ]
        },
        {
            "attachments": {},
            "cell_type": "markdown",
            "metadata": {},
            "source": [
                "</div>\n",
                "\n"
            ]
        },
        {
            "attachments": {},
            "cell_type": "markdown",
            "metadata": {},
            "source": [
                "<p class=\"\">Great work!</p>\n",
                "\n"
            ]
        },
        {
            "attachments": {},
            "cell_type": "markdown",
            "metadata": {},
            "source": [
                "### Bringing it all together: testing your error handling skills\n",
                "\n",
                "\n",
                "<div class><p>You have just written error handling into your <code>count_entries()</code> function so that, when the user passes the function a column (as 2nd argument) NOT contained in the DataFrame (1st argument), a <code>ValueError</code> is thrown. You're now going to play with this function: it is loaded into pre-exercise code, as is the DataFrame <code>tweets_df</code>. Try calling <code>count_entries(tweets_df, 'lang')</code> to confirm that the function behaves as it should. Then call <code>count_entries(tweets_df, 'lang1')</code>: what is the last line of the output?</p></div>\n",
                "\n"
            ]
        },
        {
            "attachments": {},
            "cell_type": "markdown",
            "metadata": {},
            "source": [
                "- [ ] 'ValueError: The DataFrame does not have the requested column.'\n",
                "- [x] 'ValueError: The DataFrame does not have a lang1 column.'\n",
                "- [ ] 'TypeError: The DataFrame does not have the requested column.'\n",
                "\n"
            ]
        },
        {
            "attachments": {},
            "cell_type": "markdown",
            "metadata": {},
            "source": [
                "<p class=\"\">Correct!</p>\n",
                "\n"
            ]
        },
        {
            "attachments": {},
            "cell_type": "markdown",
            "metadata": {},
            "source": [
                "## Congratulations!\n",
                "\n",
                "### Congratulations!\n",
                "\n",
                "Well done. You're now well on your way to being a Pythonista Data Science ninja.\n",
                "\n",
                "### What you’ve learned:\n",
                "\n",
                "You're now able to write functions in Python that accept single and multiple arguments and can return as many values as you please. You're also adept at using default and flexible arguments and keyword arguments. You've gained insight into scoping in Python, can write lambda functions and handle errors in your very own function writing practice. You've also gained invaluable practice in using all of these techniques to write functions that are useful in a Data Science context. You have come a long way in your developing practice as a budding Pythonista Data Scientist.\n",
                "\n",
                "### There’s more to learn!\n",
                "\n",
                "There are more basic skills that you will need to learn in Python to be valuable as a working Data Scientist and many of these we'll cover in the sequel to this course so if you're finding yourself still thirsty for more Pythonista Data Science chops, I'd head over there right now. There you'll learn all about list comprehensions, which allow you to wrangle data in lists to create other lists, a tool utilized by all Data Scientists working in Python. You'll also learn about iterators, which you have already seen in the context of for loops without having necessarily known it. Iterators are everywhere in PythonLand and, to put it simply, allow you to rapidly iterate Data Science protocols and procedures over sets of objects; these are a couple of the cool functionalities in PythonLand you'll encounter in the sequel to this course, which will conclude with an entire chapter devoted to a case study in which you'll apply time and time again techniques learnt in both of these courses.\n",
                "\n",
                "### Let's practice!\n",
                "\n",
                "I'm looking forward to seeing you there and congratulations once again!\n"
            ]
        }
    ],
    "metadata": {
        "anaconda-cloud": "",
        "kernelspec": {
            "display_name": "R",
            "langauge": "R",
            "name": "ir"
        },
        "language_info": {
            "codemirror_mode": "r",
            "file_extension": ".r",
            "mimetype": "text/x-r-source",
            "name": "R",
            "pygments_lexer": "r",
            "version": "3.4.1"
        }
    },
    "nbformat": 4,
    "nbformat_minor": 1
}
