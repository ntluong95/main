{
    "cells": [
        {
            "attachments": {},
            "cell_type": "markdown",
            "metadata": {},
            "source": [
                "<h3><a href=\"https://github.com/mclix85/datacamp\" target=\"_blank\">View Source Code</a></h3>\n",
                "\n",
                "<h3>Course Description</h3>\n",
                "\n",
                "<p class=\"course__description\">You've done your analysis, built your report, and trained a model. What's next? Well, if you want to deploy your model into production, your code will need to be more reliable than exploratory scripts in a Jupyter notebook. Writing Functions in Python will give you a strong foundation in writing complex and beautiful functions so that you can contribute research and engineering skills to your team. You'll learn useful tricks, like how to write context managers and decorators. You'll also learn best practices around how to write maintainable reusable functions with good documentation. They say that people who can do good research and write high-quality code are unicorns. Take this course and discover the magic!</p>\n",
                "\n"
            ]
        },
        {
            "attachments": {},
            "cell_type": "markdown",
            "metadata": {},
            "source": [
                "# Best Practices\n",
                "\n",
                "<p class=\"chapter__description\">\n",
                "    The goal of this course is to transform you into a Python expert, and so the first chapter starts off with best practices when writing functions. You'll cover docstrings and why they matter and how to know when you need to turn a chunk of code into a function. You will also learn the details of how Python passes arguments to functions, as well as some common gotchas that can cause debugging headaches when calling functions.\n",
                "  </p>\n",
                "\n"
            ]
        },
        {
            "attachments": {},
            "cell_type": "markdown",
            "metadata": {},
            "source": [
                "## Docstrings\n",
                "\n",
                "\n",
                "\n"
            ]
        },
        {
            "attachments": {},
            "cell_type": "markdown",
            "metadata": {},
            "source": [
                "### Crafting a docstring\n",
                "\n",
                "\n",
                "<div class>\n",
                "<p>You've decided to write the world's greatest open-source natural language processing Python package. It will revolutionize working with free-form text, the way <code>numpy</code> did for arrays, <code>pandas</code> did for tabular data, and <code>scikit-learn</code> did for machine learning.</p>\n",
                "<p>The first function you write is <code>count_letter()</code>. It takes a string and a single letter and returns the number of times the letter appears in the string. You want the users of your open-source package to be able to understand how this function works easily, so you will need to give it a docstring. Build up a Google Style docstring for this function by following these steps.</p>\n",
                "</div>\n",
                "\n",
                "<li>Copy the following string and add it as the docstring for the function: <code>Count the number of times `letter` appears in `content`.</code>\n",
                "</li>\n",
                "<li>Now add the arguments section, using the Google style for docstrings. Use <code>str</code> to indicate a string.</li>\n",
                "<li>Add a returns section that informs the user the return value is an <code>int</code>.</li>\n",
                "<li>Finally, add some information about the <code>ValueError</code> that gets raised when the arguments aren't correct.</li>\n",
                "\n",
                "<div>\n"
            ]
        },
        {
            "cell_type": "code",
            "execution_count": 1,
            "metadata": {},
            "outputs": [],
            "source": [
                "def count_letter(content, letter):\n",
                "  \"\"\"Count the number of times `letter` appears in `content`.\n",
                "\n",
                "  Args:\n",
                "    content (str): The string to search.\n",
                "    letter (str): The letter to search for.\n",
                "\n",
                "  Returns:\n",
                "    int\n",
                "\n",
                "  # Add a section detailing what errors might be raised\n",
                "  Raises:\n",
                "    ValueError: If `letter` is not a one-character string.\n",
                "  \"\"\"\n",
                "  if (not isinstance(letter, str)) or len(letter) != 1:\n",
                "    raise ValueError('`letter` must be a single character string.')\n",
                "  return len([char for char in content if char == letter])\n"
            ]
        },
        {
            "attachments": {},
            "cell_type": "markdown",
            "metadata": {},
            "source": [
                "</div>\n",
                "\n"
            ]
        },
        {
            "attachments": {},
            "cell_type": "markdown",
            "metadata": {},
            "source": [
                "<p class=\"\">What a delightful docstring! While it does require a bit more typing, the information presented here will make it very easy for others to use this code in the future. Remember that even though computers execute it, code is actually written for humans to read (otherwise you'd just be writing the 1s and 0s that the computer operates on).</p>\n",
                "\n"
            ]
        },
        {
            "attachments": {},
            "cell_type": "markdown",
            "metadata": {},
            "source": [
                "### Retrieving docstrings\n",
                "\n",
                "\n",
                "<div class>\n",
                "<p>You and a group of friends are working on building an amazing new Python IDE (integrated development environment -- like PyCharm, Spyder, Eclipse, Visual Studio, etc.). The team wants to add a feature that displays a tooltip with a function's docstring whenever the user starts typing the function name. That way, the user doesn't have to go elsewhere to look up the documentation for the function they are trying to use. You've been asked to complete the <code>build_tooltip()</code> function that retrieves a docstring from an arbitrary function.</p>\n",
                "<p>You will be reusing the <code>count_letter()</code> function that you developed in the last exercise to show that we can properly extract its docstring.</p>\n",
                "</div>\n",
                "<div class=\"exercise--instructions__content\"><p>Begin by getting the docstring for the function <code>count_letter()</code>. Use an attribute of the <code>count_letter()</code> function.</p></div>\n",
                "\n",
                "<div>\n"
            ]
        },
        {
            "cell_type": "code",
            "execution_count": 2,
            "metadata": {},
            "outputs": [
                {
                    "name": "stdout",
                    "output_type": "stream",
                    "text": [
                        "############################\n",
                        "Count the number of times `letter` appears in `content`.\n",
                        "\n",
                        "  Args:\n",
                        "    content (str): The string to search.\n",
                        "    letter (str): The letter to search for.\n",
                        "\n",
                        "  Returns:\n",
                        "    int\n",
                        "\n",
                        "  # Add a section detailing what errors might be raised\n",
                        "  Raises:\n",
                        "    ValueError: If `letter` is not a one-character string.\n",
                        "  \n",
                        "############################\n"
                    ]
                }
            ],
            "source": [
                "# Get the \"count_letter\" docstring by using an attribute of the function\n",
                "docstring = count_letter.__doc__\n",
                "\n",
                "border = '#' * 28\n",
                "print('{}\\n{}\\n{}'.format(border, docstring, border))\n"
            ]
        },
        {
            "cell_type": "markdown",
            "metadata": {},
            "source": [
                "</div>\n",
                "\n",
                "<div class=\"exercise--instructions__content\"><p>Now use a function from the <code>inspect</code> module to get a better-formatted version of <code>count_letter()</code>'s docstring.</p></div>\n",
                "\n",
                "<div>\n"
            ]
        },
        {
            "cell_type": "code",
            "execution_count": 3,
            "metadata": {},
            "outputs": [
                {
                    "name": "stdout",
                    "output_type": "stream",
                    "text": [
                        "############################\n",
                        "Count the number of times `letter` appears in `content`.\n",
                        "\n",
                        "Args:\n",
                        "  content (str): The string to search.\n",
                        "  letter (str): The letter to search for.\n",
                        "\n",
                        "Returns:\n",
                        "  int\n",
                        "\n",
                        "# Add a section detailing what errors might be raised\n",
                        "Raises:\n",
                        "  ValueError: If `letter` is not a one-character string.\n",
                        "############################\n"
                    ]
                }
            ],
            "source": [
                "import inspect\n",
                "\n",
                "# Inspect the count_letter() function to get its docstring\n",
                "docstring = inspect.getdoc(count_letter)\n",
                "\n",
                "border = '#' * 28\n",
                "print('{}\\n{}\\n{}'.format(border, docstring, border))\n"
            ]
        },
        {
            "cell_type": "markdown",
            "metadata": {},
            "source": [
                "</div>\n",
                "\n",
                "<div class=\"exercise--instructions__content\"><p>Now create a <code>build_tooltip()</code> function that can extract the docstring from <em>any</em> function that we pass to it.</p></div>\n",
                "\n",
                "<div>\n"
            ]
        },
        {
            "cell_type": "code",
            "execution_count": 4,
            "metadata": {},
            "outputs": [
                {
                    "name": "stdout",
                    "output_type": "stream",
                    "text": [
                        "############################\n",
                        "Count the number of times `letter` appears in `content`.\n",
                        "\n",
                        "Args:\n",
                        "  content (str): The string to search.\n",
                        "  letter (str): The letter to search for.\n",
                        "\n",
                        "Returns:\n",
                        "  int\n",
                        "\n",
                        "# Add a section detailing what errors might be raised\n",
                        "Raises:\n",
                        "  ValueError: If `letter` is not a one-character string.\n",
                        "############################\n",
                        "############################\n",
                        "range(stop) -> range object\n",
                        "range(start, stop[, step]) -> range object\n",
                        "\n",
                        "Return an object that produces a sequence of integers from start (inclusive)\n",
                        "to stop (exclusive) by step.  range(i, j) produces i, i+1, i+2, ..., j-1.\n",
                        "start defaults to 0, and stop is omitted!  range(4) produces 0, 1, 2, 3.\n",
                        "These are exactly the valid indices for a list of 4 elements.\n",
                        "When step is given, it specifies the increment (or decrement).\n",
                        "############################\n",
                        "############################\n",
                        "print(value, ..., sep=' ', end='\\n', file=sys.stdout, flush=False)\n",
                        "\n",
                        "Prints the values to a stream, or to sys.stdout by default.\n",
                        "Optional keyword arguments:\n",
                        "file:  a file-like object (stream); defaults to the current sys.stdout.\n",
                        "sep:   string inserted between values, default a space.\n",
                        "end:   string appended after the last value, default a newline.\n",
                        "flush: whether to forcibly flush the stream.\n",
                        "############################\n"
                    ]
                }
            ],
            "source": [
                "import inspect\n",
                "\n",
                "def build_tooltip(function):\n",
                "  \"\"\"Create a tooltip for any function that shows the\n",
                "  function's docstring.\n",
                "\n",
                "  Args:\n",
                "    function (callable): The function we want a tooltip for.\n",
                "\n",
                "  Returns:\n",
                "    str\n",
                "  \"\"\"\n",
                "  # Get the docstring for the \"function\" argument by using inspect\n",
                "  docstring = inspect.getdoc(function)\n",
                "  border = '#' * 28\n",
                "  return '{}\\n{}\\n{}'.format(border, docstring, border)\n",
                "\n",
                "print(build_tooltip(count_letter))\n",
                "print(build_tooltip(range))\n",
                "print(build_tooltip(print))\n"
            ]
        },
        {
            "attachments": {},
            "cell_type": "markdown",
            "metadata": {},
            "source": [
                "</div>\n",
                "\n"
            ]
        },
        {
            "attachments": {},
            "cell_type": "markdown",
            "metadata": {},
            "source": [
                "<p class=\"\">This IDE is going to be an incredibly delightful experience for your users now! Notice how the <code>count_letter.__doc__</code> version of the docstring had strange whitespace at the beginning of all but the first line. That's because the docstring is indented to line up visually when reading the code. But when we want to print the docstring, removing those leading spaces with <code>inspect.getdoc()</code> will look much better.</p>\n",
                "\n"
            ]
        },
        {
            "attachments": {},
            "cell_type": "markdown",
            "metadata": {},
            "source": [
                "### Docstrings to the rescue!\n",
                "\n",
                "\n",
                "<div class>\n",
                "<p>Some maniac has corrupted your installation of <code>numpy</code>! All of the functions still exist, but they've been given random names. You desperately need to call the <code>numpy.histogram()</code> function and you don't have time to reinstall the package. Fortunately for you, the maniac didn't think to alter the docstrings, and you know how to access them. <code>numpy</code> has a lot of functions in it, so we've narrowed it down to four possible functions that could be <code>numpy.histogram()</code> in disguise: <code>numpy.leyud()</code>, <code>numpy.uqka()</code>, <code>numpy.fywdkxa()</code> or <code>numpy.jinzyxq()</code>.</p>\n",
                "<p>Examine each of these functions' docstrings in the IPython shell to determine which of them is actually <code>numpy.histogram()</code>.</p>\n",
                "</div>\n",
                "\n"
            ]
        },
        {
            "attachments": {},
            "cell_type": "markdown",
            "metadata": {},
            "source": [
                "- [ ] <code>numpy.leyud()</code>\n",
                "- [ ] <code>numpy.uqka()</code>\n",
                "- [x] <code>numpy.fywdkxa()</code>\n",
                "- [ ] <code>numpy.jinzyxq()</code>\n",
                "\n"
            ]
        },
        {
            "attachments": {},
            "cell_type": "markdown",
            "metadata": {},
            "source": [
                "<p class=\"\">You found it! <code>numpy.fywdkxa()</code> is actually <code>numpy.histogram()</code> in disguise. If you've spent any time browsing numpy's online documentation, you will notice that it is built directly from the docstrings. There are some wonderful tools like <code>sphinx</code> and <code>pydoc</code> that will automatically generate online documentation for you based off of your docstrings.</p>\n",
                "\n"
            ]
        },
        {
            "attachments": {},
            "cell_type": "markdown",
            "metadata": {},
            "source": [
                "## DRY and &quot;Do One Thing&quot;\n",
                "\n",
                "\n",
                "\n"
            ]
        },
        {
            "attachments": {},
            "cell_type": "markdown",
            "metadata": {},
            "source": [
                "### Extract a function\n",
                "\n",
                "\n",
                "<div class>\n",
                "<p>While you were developing a model to predict the likelihood of a student graduating from college, you wrote this bit of code to get the z-scores of students' yearly GPAs. Now you're ready to turn it into a production-quality system, so you need to do something about the repetition. Writing a function to calculate the z-scores would improve this code.</p>\n",
                "<pre><code># Standardize the GPAs for each year\n",
                "df['y1_z'] = (df.y1_gpa - df.y1_gpa.mean()) / df.y1_gpa.std()\n",
                "df['y2_z'] = (df.y2_gpa - df.y2_gpa.mean()) / df.y2_gpa.std()\n",
                "df['y3_z'] = (df.y3_gpa - df.y3_gpa.mean()) / df.y3_gpa.std()\n",
                "df['y4_z'] = (df.y4_gpa - df.y4_gpa.mean()) / df.y4_gpa.std()\n",
                "</code></pre>\n",
                "<p><em>Note: <code>df</code> is a pandas DataFrame where each row is a student with 4 columns of yearly student GPAs: <code>y1_gpa</code>, <code>y2_gpa</code>, <code>y3_gpa</code>, <code>y4_gpa</code></em></p>\n",
                "</div>\n",
                "\n",
                "<div>\n",
                "\n"
            ]
        },
        {
            "cell_type": "code",
            "execution_count": 5,
            "metadata": {},
            "outputs": [],
            "source": [
                "# edited/added\n",
                "import pandas as pd\n",
                "df = pd.read_csv(\"datasets/Writing-Functions-in-Python/students.csv\")\n"
            ]
        },
        {
            "cell_type": "markdown",
            "metadata": {},
            "source": [
                "</div>\n",
                "<li>Finish the function so that it returns the z-scores of a column.</li>\n",
                "<li>Use the function to calculate the z-scores for each year (<code>df['y1_z']</code>, <code>df['y2_z']</code>, etc.) from the raw GPA scores (<code>df.y1_gpa</code>, <code>df.y2_gpa</code>, etc.).</li>\n",
                "\n",
                "<div>\n"
            ]
        },
        {
            "cell_type": "code",
            "execution_count": 6,
            "metadata": {},
            "outputs": [],
            "source": [
                "def standardize(column):\n",
                "  \"\"\"Standardize the values in a column.\n",
                "\n",
                "  Args:\n",
                "    column (pandas Series): The data to standardize.\n",
                "\n",
                "  Returns:\n",
                "    pandas Series: the values as z-scores\n",
                "  \"\"\"\n",
                "  # Finish the function so that it returns the z-scores\n",
                "  z_score = (column - column.mean()) / column.std()\n",
                "  return z_score\n",
                "\n",
                "# Use the standardize() function to calculate the z-scores\n",
                "df['y1_z'] = standardize(df.y1_gpa)\n",
                "df['y2_z'] = standardize(df.y2_gpa)\n",
                "df['y3_z'] = standardize(df.y3_gpa)\n",
                "df['y4_z'] = standardize(df.y4_gpa)\n"
            ]
        },
        {
            "attachments": {},
            "cell_type": "markdown",
            "metadata": {},
            "source": [
                "</div>\n",
                "\n"
            ]
        },
        {
            "attachments": {},
            "cell_type": "markdown",
            "metadata": {},
            "source": [
                "<p class=\"\">That's a fantastic function! <code>standardize()</code> will probably be useful in other places in your code, and now it is easy to use, test, and update if you need to. It's also easier to tell what the code is doing because of the docstring and the name of the function.</p>\n",
                "\n"
            ]
        },
        {
            "attachments": {},
            "cell_type": "markdown",
            "metadata": {},
            "source": [
                "### Split up a function\n",
                "\n",
                "\n",
                "<div class>\n",
                "<p>Another engineer on your team has written this function to calculate the mean and median of a sorted list. You want to show them how to split it into two simpler functions: <code>mean()</code> and <code>median()</code></p>\n",
                "<pre><code>def mean_and_median(values):\n",
                "  \"\"\"Get the mean and median of a sorted list of `values`\n",
                "\n",
                "  Args:\n",
                "    values (iterable of float): A list of numbers\n",
                "\n",
                "  Returns:\n",
                "    tuple (float, float): The mean and median\n",
                "  \"\"\"\n",
                "  mean = sum(values) / len(values)\n",
                "  midpoint = int(len(values) / 2)\n",
                "  if len(values) % 2 == 0:\n",
                "    median = (values[midpoint - 1] + values[midpoint]) / 2\n",
                "  else:\n",
                "    median = values[midpoint]\n",
                "\n",
                "  return mean, median\n",
                "</code></pre>\n",
                "</div>\n",
                "<div class=\"exercise--instructions__content\"><p>Write the <code>mean()</code> function.</p></div>\n",
                "\n",
                "<div>\n"
            ]
        },
        {
            "cell_type": "code",
            "execution_count": 7,
            "metadata": {},
            "outputs": [],
            "source": [
                "def mean(values):\n",
                "  \"\"\"Get the mean of a sorted list of values\n",
                "\n",
                "  Args:\n",
                "    values (iterable of float): A list of numbers\n",
                "\n",
                "  Returns:\n",
                "    float\n",
                "  \"\"\"\n",
                "  # Write the mean() function\n",
                "  mean = sum(values) / len(values)\n",
                "  return mean\n"
            ]
        },
        {
            "cell_type": "markdown",
            "metadata": {},
            "source": [
                "</div>\n",
                "\n",
                "<div class=\"exercise--instructions__content\"><p>Write the <code>median()</code> function.</p></div>\n",
                "\n",
                "<div>\n"
            ]
        },
        {
            "cell_type": "code",
            "execution_count": 8,
            "metadata": {},
            "outputs": [],
            "source": [
                "def median(values):\n",
                "  \"\"\"Get the median of a sorted list of values\n",
                "\n",
                "  Args:\n",
                "    values (iterable of float): A list of numbers\n",
                "\n",
                "  Returns:\n",
                "    float\n",
                "  \"\"\"\n",
                "  # Write the median() function\n",
                "  midpoint = int(len(values) / 2)\n",
                "  if len(values) % 2 == 0:\n",
                "    median = (values[midpoint - 1] + values[midpoint]) / 2\n",
                "  else:\n",
                "    median = values[midpoint]\n",
                "  return median\n"
            ]
        },
        {
            "attachments": {},
            "cell_type": "markdown",
            "metadata": {},
            "source": [
                "</div>\n",
                "\n"
            ]
        },
        {
            "attachments": {},
            "cell_type": "markdown",
            "metadata": {},
            "source": [
                "<p class=\"\">A perfect split! Each function does one thing and does it well. Using, testing, and maintaining these will be a breeze (although you'll probably just use <code>numpy.mean()</code> and <code>numpy.median()</code> for this in real life).</p>\n",
                "\n"
            ]
        },
        {
            "attachments": {},
            "cell_type": "markdown",
            "metadata": {},
            "source": [
                "## Pass by assignment\n",
                "\n",
                "\n",
                "\n"
            ]
        },
        {
            "attachments": {},
            "cell_type": "markdown",
            "metadata": {},
            "source": [
                "### Mutable or immutable?\n",
                "\n",
                "<div class=\"\"><p>The following function adds a mapping between a string and the lowercase version of that string to a dictionary. What do you expect the values of <code>d</code> and <code>s</code> to be after the function is called?</p>\n",
                "<pre><code>def store_lower(_dict, _string):\n",
                "  \"\"\"Add a mapping between `_string` and a lowercased version of `_string` to `_dict`\n",
                "\n",
                "  Args:\n",
                "    _dict (dict): The dictionary to update.\n",
                "    _string (str): The string to add.\n",
                "  \"\"\"\n",
                "  orig_string = _string\n",
                "  _string = _string.lower()\n",
                "  _dict[orig_string] = _string\n",
                "\n",
                "d = {}\n",
                "s = 'Hello'\n",
                "\n",
                "store_lower(d, s)\n",
                "</code></pre></div>\n",
                "\n"
            ]
        },
        {
            "attachments": {},
            "cell_type": "markdown",
            "metadata": {},
            "source": [
                "- [ ] <code>d = {}</code>, <code>s = 'Hello'</code>\n",
                "- [ ] <code>d = {}</code>, <code>s = 'hello'</code>\n",
                "- [x] <code>d = {'Hello': 'hello'}</code>, <code>s = 'Hello'</code>\n",
                "- [ ] <code>d = {'Hello': 'hello'}</code>, <code>s = 'hello'</code>\n",
                "- [ ] <code>d = {'hello': 'hello'}</code>, <code>s = 'hello'</code>\n",
                "\n"
            ]
        },
        {
            "attachments": {},
            "cell_type": "markdown",
            "metadata": {},
            "source": [
                "<p class=\"dc-completion-pane__message dc-u-maxw-100pc\">Correct! Dictionaries are mutable objects in Python, so the function can directly change it in the <code>_dict[_orig_string] = _string</code> statement. Strings, on the other hand, are immutable. When the function creates the lowercase version, it has to <em>assign</em> it to the <code>_string</code> variable. This disconnects what happens to <code>_string</code> from the external <code>s</code> variable.</p>\n",
                "\n"
            ]
        },
        {
            "attachments": {},
            "cell_type": "markdown",
            "metadata": {},
            "source": [
                "### Best practice for default arguments\n",
                "\n",
                "\n",
                "<div class>\n",
                "<p>One of your co-workers (who obviously didn't take this course) has written this function for adding a column to a pandas DataFrame. Unfortunately, they used a mutable variable as a default argument value! Please show them a better way to do this so that they don't get unexpected behavior.</p>\n",
                "<pre><code>def add_column(values, df=pandas.DataFrame()):\n",
                "  \"\"\"Add a column of `values` to a DataFrame `df`.\n",
                "  The column will be named \"col_&lt;n&gt;\" where \"n\" is\n",
                "  the numerical index of the column.\n",
                "\n",
                "  Args:\n",
                "    values (iterable): The values of the new column\n",
                "    df (DataFrame, optional): The DataFrame to update.\n",
                "      If no DataFrame is passed, one is created by default.\n",
                "\n",
                "  Returns:\n",
                "    DataFrame\n",
                "  \"\"\"\n",
                "  df['col_{}'.format(len(df.columns))] = values\n",
                "  return df\n",
                "</code></pre>\n",
                "</div>\n",
                "\n",
                "<li>Change the default value of <code>df</code> to an immutable value to follow best practices.</li>\n",
                "<li>Update the code of the function so that a new DataFrame is created if the caller didn't pass one.</li>\n",
                "\n",
                "<div>\n"
            ]
        },
        {
            "cell_type": "code",
            "execution_count": 9,
            "metadata": {},
            "outputs": [],
            "source": [
                "# Use an immutable variable for the default argument\n",
                "def better_add_column(values, df=None):\n",
                "  \"\"\"Add a column of `values` to a DataFrame `df`.\n",
                "  The column will be named \"col_<n>\" where \"n\" is\n",
                "  the numerical index of the column.\n",
                "\n",
                "  Args:\n",
                "    values (iterable): The values of the new column\n",
                "    df (DataFrame, optional): The DataFrame to update.\n",
                "      If no DataFrame is passed, one is created by default.\n",
                "\n",
                "  Returns:\n",
                "    DataFrame\n",
                "  \"\"\"\n",
                "  # Update the function to create a default DataFrame\n",
                "  if df is None:\n",
                "    df = pandas.DataFrame()\n",
                "  df['col_{}'.format(len(df.columns))] = values\n",
                "  return df\n"
            ]
        },
        {
            "attachments": {},
            "cell_type": "markdown",
            "metadata": {},
            "source": [
                "</div>\n",
                "\n"
            ]
        },
        {
            "attachments": {},
            "cell_type": "markdown",
            "metadata": {},
            "source": [
                "<p class=\"\">Beautiful and best practice! When you need to set a mutable variable as a default argument, always use <code>None</code> and then set the value in the body of the function. This prevents unexpected behavior like adding multiple columns if you call the function more than once.</p>\n",
                "\n"
            ]
        },
        {
            "attachments": {},
            "cell_type": "markdown",
            "metadata": {},
            "source": [
                "# Context Managers\n",
                "\n",
                "<p class=\"chapter__description\">\n",
                "    If you've ever seen the \"with\" keyword in Python and wondered what its deal was, then this is the chapter for you! Context managers are a convenient way to provide connections in Python and guarantee that those connections get cleaned up when you are done using them. This chapter will show you how to use context managers, as well as how to write your own.\n",
                "  </p>\n",
                "  \n"
            ]
        },
        {
            "attachments": {},
            "cell_type": "markdown",
            "metadata": {},
            "source": [
                "## Using context managers\n",
                "\n",
                "\n",
                "\n"
            ]
        },
        {
            "attachments": {},
            "cell_type": "markdown",
            "metadata": {},
            "source": [
                "### The number of cats\n",
                "\n",
                "\n",
                "<div class><p>You are working on a natural language processing project to determine what makes great writers so great. Your current hypothesis is that great writers talk about cats <em>a lot</em>. To prove it, you want to count the number of times the word \"cat\" appears in \"Alice's Adventures in Wonderland\" by Lewis Carroll. You have already downloaded a text file, <code>alice.txt</code>, with the entire contents of this great book.</p></div>\n",
                "\n",
                "<li>Use the <code>open()</code> context manager to open <code>alice.txt</code> and assign the file to the <code>file</code> variable.</li>\n",
                "\n",
                "<div>\n"
            ]
        },
        {
            "cell_type": "code",
            "execution_count": 10,
            "metadata": {},
            "outputs": [
                {
                    "name": "stdout",
                    "output_type": "stream",
                    "text": [
                        "Lewis Carroll uses the word \"cat\" 24 times\n"
                    ]
                }
            ],
            "source": [
                "# Open \"alice.txt\" and assign the file to \"file\"\n",
                "with open('datasets/Writing-Functions-in-Python/alice.txt') as file:\n",
                "  text = file.read()\n",
                "\n",
                "n = 0\n",
                "for word in text.split():\n",
                "  if word.lower() in ['cat', 'cats']:\n",
                "    n += 1\n",
                "\n",
                "print('Lewis Carroll uses the word \"cat\" {} times'.format(n))\n"
            ]
        },
        {
            "attachments": {},
            "cell_type": "markdown",
            "metadata": {},
            "source": [
                "</div>\n",
                "\n"
            ]
        },
        {
            "attachments": {},
            "cell_type": "markdown",
            "metadata": {},
            "source": [
                "<p class=\"\">Cool cat counting! By opening the file using the <code>with open()</code> statement, you were able to read in the text of the file. More importantly, when you were done reading the text, the context manager closed the file for you.</p>\n",
                "\n"
            ]
        },
        {
            "attachments": {},
            "cell_type": "markdown",
            "metadata": {},
            "source": [
                "### The speed of cats\n",
                "\n",
                "\n",
                "<div class>\n",
                "<p>You're working on a new web service that processes Instagram feeds to identify which pictures contain cats (don't ask why -- it's the internet). The code that processes the data is slower than you would like it to be, so you are working on tuning it up to run faster. Given an image, <code>image</code>, you have two functions that can process it:</p>\n",
                "<ul>\n",
                "<li><code>process_with_numpy(image)</code></li>\n",
                "<li><code>process_with_pytorch(image)</code></li>\n",
                "</ul>\n",
                "<p>Your colleague wrote a context manager, <code>timer()</code>, that will print out how long the code inside the context block takes to run. She is suggesting you use it to see which of the two options is faster. Time each function to determine which one to use in your web service.</p>\n",
                "</div>\n",
                "\n",
                "<div>\n",
                "\n",
                "\n",
                "\n",
                "</div>\n",
                "<li>Use the <code>timer()</code> context manager to time how long <code>process_with_numpy(image)</code> takes to run.</li>\n",
                "<li>Use the <code>timer()</code> context manager to time how long <code>process_with_pytorch(image)</code> takes to run.</li>\n",
                "\n",
                "<div>\n"
            ]
        },
        {
            "cell_type": "code",
            "execution_count": 11,
            "metadata": {},
            "outputs": [
                {
                    "name": "stdout",
                    "output_type": "stream",
                    "text": [
                        "Numpy version\n",
                        "Processing..........done!\n",
                        "Elapsed: 1.57 seconds\n"
                    ]
                }
            ],
            "source": [
                "# edited/added\n",
                "import numpy as np\n",
                "import time\n",
                "import contextlib\n",
                "def get_image_from_instagram():\n",
                "  return np.random.rand(84, 84)\n",
                "def _process_pic(n_sec):\n",
                "  print('Processing', end='', flush=True)\n",
                "  for i in range(10):\n",
                "    print('.', end='' if i < 9 else 'done!\\n', flush=True)\n",
                "    time.sleep(n_sec)\n",
                "def process_with_pytorch(p):\n",
                "  _process_pic(0.0328)\n",
                "def process_with_numpy(p):\n",
                "  _process_pic(0.1521)\n",
                "@contextlib.contextmanager\n",
                "def timer():\n",
                "  \"\"\"Time how long code in the context block takes to run.\"\"\"\n",
                "  t0 = time.time()\n",
                "  try:\n",
                "      yield\n",
                "  except:\n",
                "    raise\n",
                "  finally:\n",
                "    t1 = time.time()\n",
                "    print('Elapsed: {:.2f} seconds'.format(t1 - t0))\n",
                "    \n",
                "image = get_image_from_instagram()\n",
                "\n",
                "# Time how long process_with_numpy(image) takes to run\n",
                "with timer():\n",
                "  print('Numpy version')\n",
                "  process_with_numpy(image)\n"
            ]
        },
        {
            "cell_type": "markdown",
            "metadata": {},
            "source": [
                "</div>\n",
                "\n",
                "<div>\n"
            ]
        },
        {
            "cell_type": "code",
            "execution_count": 12,
            "metadata": {},
            "outputs": [
                {
                    "name": "stdout",
                    "output_type": "stream",
                    "text": [
                        "Pytorch version\n",
                        "Processing..........done!\n",
                        "Elapsed: 0.38 seconds\n"
                    ]
                }
            ],
            "source": [
                "# Time how long process_with_pytorch(image) takes to run\n",
                "with timer():\n",
                "  print('Pytorch version')\n",
                "  process_with_pytorch(image)\n"
            ]
        },
        {
            "attachments": {},
            "cell_type": "markdown",
            "metadata": {},
            "source": [
                "</div>\n",
                "\n"
            ]
        },
        {
            "attachments": {},
            "cell_type": "markdown",
            "metadata": {},
            "source": [
                "<p class=\"\">Terrific timing! Now that you know the <code>pytorch</code> version is faster, you can use it in your web service to ensure your users get the rapid response time they expect. <br><br> You may have noticed there was no <code>as &lt;variable name&gt;</code> at the end of the <code>with</code> statement in <code>timer()</code> context manager. That is because <code>timer()</code> is a context manager that does not return a value, so the <code>as &lt;variable name&gt;</code> at the end of the <code>with</code> statement isn't necessary. In the next lesson, you'll learn how to write your own context managers like <code>timer()</code>.</p>\n",
                "\n"
            ]
        },
        {
            "attachments": {},
            "cell_type": "markdown",
            "metadata": {},
            "source": [
                "## Writing context managers\n",
                "\n",
                "\n",
                "\n"
            ]
        },
        {
            "attachments": {},
            "cell_type": "markdown",
            "metadata": {},
            "source": [
                "### The timer() context manager\n",
                "\n",
                "\n",
                "<div class><p>A colleague of yours is working on a web service that processes Instagram photos. Customers are complaining that the service takes too long to identify whether or not an image has a cat in it, so your colleague has come to you for help. You decide to write a context manager that they can use to time how long their functions take to run.</p></div>\n",
                "\n",
                "<li>Add a decorator from the <code>contextlib</code> module to the <code>timer()</code> function that will make it act like a context manager.</li>\n",
                "<li>Send control from the <code>timer()</code> function to the context block.</li>\n",
                "\n",
                "<div>\n"
            ]
        },
        {
            "cell_type": "code",
            "execution_count": 13,
            "metadata": {},
            "outputs": [
                {
                    "name": "stdout",
                    "output_type": "stream",
                    "text": [
                        "This should take approximately 0.25 seconds\n",
                        "Elapsed: 0.25s\n"
                    ]
                }
            ],
            "source": [
                "# Add a decorator that will make timer() a context manager\n",
                "@contextlib.contextmanager\n",
                "def timer():\n",
                "  \"\"\"Time the execution of a context block.\n",
                "\n",
                "  Yields:\n",
                "    None\n",
                "  \"\"\"\n",
                "  start = time.time()\n",
                "  # Send control back to the context block\n",
                "  yield\n",
                "  end = time.time()\n",
                "  print('Elapsed: {:.2f}s'.format(end - start))\n",
                "\n",
                "with timer():\n",
                "  print('This should take approximately 0.25 seconds')\n",
                "  time.sleep(0.25)\n"
            ]
        },
        {
            "attachments": {},
            "cell_type": "markdown",
            "metadata": {},
            "source": [
                "</div>\n",
                "\n"
            ]
        },
        {
            "attachments": {},
            "cell_type": "markdown",
            "metadata": {},
            "source": [
                "<p class=\"\">You're managing context like a boss! And your colleague can now use your <code>timer()</code> context manager to figure out which of their functions is running too slow. Notice that the three elements of a context manager are all here: a function definition, a yield statement, and the <code>@contextlib.contextmanager</code> decorator. It's also worth noticing that <code>timer()</code> is a context manager that does not return an explicit value, so <code>yield</code> is written by itself without specifying anything to return.</p>\n",
                "\n"
            ]
        },
        {
            "attachments": {},
            "cell_type": "markdown",
            "metadata": {},
            "source": [
                "### A read-only open() context manager\n",
                "\n",
                "\n",
                "<div class>\n",
                "<p>You have a bunch of data files for your next deep learning project that took you months to collect and clean. It would be <em>terrible</em> if you accidentally overwrote one of those files when trying to read it in for training, so you decide to create a read-only version of the <code>open()</code> context manager to use in your project.</p>\n",
                "<p>The regular <code>open()</code> context manager:</p>\n",
                "<ul>\n",
                "<li>takes a filename and a mode (<code>'r'</code> for read, <code>'w'</code> for write, or <code>'a'</code> for append)</li>\n",
                "<li>opens the file for reading, writing, or appending</li>\n",
                "<li>yields control back to the context, along with a reference to the file</li>\n",
                "<li>waits for the context to finish</li>\n",
                "<li>and then closes the file before exiting</li>\n",
                "</ul>\n",
                "<p>Your context manager will do the same thing, except it will <em>only</em> take the filename as an argument and it will only open the file for reading.</p>\n",
                "</div>\n",
                "\n",
                "<li>Yield control from <code>open_read_only()</code> to the context block, ensuring that the <code>read_only_file</code> object gets assigned to <code>my_file</code>.</li>\n",
                "<li>Use <code>read_only_file</code>'s <code>.close()</code> method to ensure that you don't leave open files lying around.</li>\n",
                "\n",
                "<div>\n"
            ]
        },
        {
            "cell_type": "code",
            "execution_count": 14,
            "metadata": {},
            "outputs": [
                {
                    "name": "stdout",
                    "output_type": "stream",
                    "text": [
                        "    Congratulations! You wrote a context manager that acts like \"open()\" but operates in read-only mode!\n"
                    ]
                }
            ],
            "source": [
                "@contextlib.contextmanager\n",
                "def open_read_only(filename):\n",
                "  \"\"\"Open a file in read-only mode.\n",
                "\n",
                "  Args:\n",
                "    filename (str): The location of the file to read\n",
                "\n",
                "  Yields:\n",
                "    file object\n",
                "  \"\"\"\n",
                "  read_only_file = open(filename, mode='r')\n",
                "  # Yield read_only_file so it can be assigned to my_file\n",
                "  yield read_only_file\n",
                "  # Close read_only_file\n",
                "  read_only_file.close()\n",
                "\n",
                "with open_read_only('datasets/Writing-Functions-in-Python/my_file.txt') as my_file:\n",
                "  print(my_file.read())\n"
            ]
        },
        {
            "attachments": {},
            "cell_type": "markdown",
            "metadata": {},
            "source": [
                "</div>\n",
                "\n"
            ]
        },
        {
            "attachments": {},
            "cell_type": "markdown",
            "metadata": {},
            "source": [
                "<p class=\"\">That is a radical read-only context manager! Now you can relax, knowing that every time you use <code>with open_read_only()</code> your files are safe from being accidentally overwritten. This function is an example of a context manager that <em>does</em> return a value, so we write <code>yield read_only_file</code> instead of just <code>yield</code>. Then the <code>read_only_file</code> object gets assigned to <code>my_file</code> in the <code>with</code> statement so that whoever is using your context can call its <code>.read()</code> method in the context block.</p>\n",
                "\n"
            ]
        },
        {
            "attachments": {},
            "cell_type": "markdown",
            "metadata": {},
            "source": [
                "## Advanced topics\n",
                "\n",
                "\n",
                "\n"
            ]
        },
        {
            "attachments": {},
            "cell_type": "markdown",
            "metadata": {},
            "source": [
                "### Context manager use cases\n",
                "\n",
                "<div class=\"\"><p>Which of the following would <strong>NOT</strong> be a good opportunity to use a context manager?</p></div>\n",
                "\n"
            ]
        },
        {
            "attachments": {},
            "cell_type": "markdown",
            "metadata": {},
            "source": [
                "- [ ] A function that starts a timer that keeps track of how long some block of code takes to run.\n",
                "- [x] A function that prints all of the prime numbers between 2 and some value <code>n</code>.\n",
                "- [ ] A function that connects to a smart thermostat so that it can be programmed remotely.\n",
                "- [ ] A function that prevents multiple users from updating an online spreadsheet at the same time by locking access to the spreadsheet before every operation.\n",
                "\n"
            ]
        },
        {
            "attachments": {},
            "cell_type": "markdown",
            "metadata": {},
            "source": [
                "<p class=\"dc-completion-pane__message dc-u-maxw-100pc\">Correct! While you <em>might</em> be able to do this with a context manager, it would make much more sense just to do it with a normal function.</p>\n",
                "\n"
            ]
        },
        {
            "attachments": {},
            "cell_type": "markdown",
            "metadata": {},
            "source": [
                "### Scraping the NASDAQ\n",
                "\n",
                "\n",
                "<div class>\n",
                "<p>Training deep neural nets is expensive! You might as well invest in NVIDIA stock since you're spending so much on GPUs. To pick the best time to invest, you are going to collect and analyze some data on how their stock is doing. The context manager <code>stock('NVDA')</code> will connect to the NASDAQ and return an object that you can use to get the latest price by calling its <code>.price()</code> method.</p>\n",
                "<p>You want to connect to <code>stock('NVDA')</code> and record 10 timesteps of price data by writing it to the file <code>NVDA.txt</code>.</p>\n",
                "<p>You will notice the use of an underscore when iterating over the for loop. If this is confusing to you, don't worry. It could easily be replaced with <code>i</code>, if we planned to do something with it, like use it as an index. Since we won't be using it, we can use a dummy operator, <code>_</code>, which doesn't use any additional memory.</p>\n",
                "</div>\n",
                "\n",
                "<div>\n",
                "\n",
                "\n",
                "\n",
                "</div>\n",
                "<li>Use the <code>stock('NVDA')</code> context manager and assign the result to <code>nvda</code>.</li>\n",
                "<li>Open a file for writing with <code>open('NVDA.txt', 'w')</code> and assign the file object to <code>f_out</code> so you can record the price over time.</li>\n",
                "\n",
                "<div>\n"
            ]
        },
        {
            "cell_type": "code",
            "execution_count": 15,
            "metadata": {},
            "outputs": [
                {
                    "name": "stdout",
                    "output_type": "stream",
                    "text": [
                        "Opening stock ticker for outputs/NVDA\n",
                        "Logging $145.39 for NVDA\n",
                        "Logging $145.41 for NVDA\n",
                        "Logging $145.49 for NVDA\n",
                        "Logging $145.45 for NVDA\n",
                        "Logging $145.41 for NVDA\n",
                        "Logging $145.47 for NVDA\n",
                        "Logging $145.49 for NVDA\n",
                        "Logging $145.59 for NVDA\n",
                        "Logging $145.61 for NVDA\n",
                        "Logging $145.66 for NVDA\n",
                        "Closing stock ticker\n"
                    ]
                }
            ],
            "source": [
                "# edited/added\n",
                "class MockStock:\n",
                "    def __init__(self, loc, scale):\n",
                "        self.loc = loc\n",
                "        self.scale = scale\n",
                "        self.recent = list(np.random.laplace(loc, scale, 2))\n",
                "    def price(self):\n",
                "        sign = np.sign(self.recent[1] - self.recent[0])\n",
                "        # 70% chance of going same direction\n",
                "        sign = 1 if sign == 0 else (sign if np.random.rand() > 0.3 else -1 * sign)\n",
                "        new = self.recent[1] + sign * np.random.rand() / 10.0\n",
                "        self.recent = [self.recent[1], new]\n",
                "        return new\n",
                "@contextlib.contextmanager\n",
                "def stock(symbol):\n",
                "    base = 140.00\n",
                "    scale = 1.0\n",
                "    mock = MockStock(base, scale)\n",
                "    print('Opening stock ticker for {}'.format(symbol))\n",
                "    yield mock\n",
                "    print('Closing stock ticker')\n",
                "    \n",
                "# Use the \"stock('NVDA')\" context manager\n",
                "# and assign the result to the variable \"nvda\"\n",
                "with stock('outputs/NVDA') as nvda:\n",
                "  # Open 'NVDA.txt' for writing as f_out\n",
                "  with open('datasets/Writing-Functions-in-Python/NVDA.txt', 'w') as f_out:\n",
                "    for _ in range(10):\n",
                "      value = nvda.price()\n",
                "      print('Logging ${:.2f} for NVDA'.format(value))\n",
                "      f_out.write('{:.2f}\\n'.format(value))\n"
            ]
        },
        {
            "attachments": {},
            "cell_type": "markdown",
            "metadata": {},
            "source": [
                "</div>\n",
                "\n"
            ]
        },
        {
            "attachments": {},
            "cell_type": "markdown",
            "metadata": {},
            "source": [
                "<p class=\"\">Super stock scraping! Now you can monitor the NVIDIA stock price and decide when is the exact right time to buy. Nesting context managers like this allows you to connect to the stock market (the <strong>CONNECT/DISCONNECT</strong> pattern) and write to a file (the <strong>OPEN/CLOSE</strong> pattern) at the same time.</p>\n",
                "\n"
            ]
        },
        {
            "attachments": {},
            "cell_type": "markdown",
            "metadata": {},
            "source": [
                "### Changing the working directory\n",
                "\n",
                "\n",
                "<div class>\n",
                "<p>You are using an open-source library that lets you train deep neural networks on your data. Unfortunately, during training, this library writes out checkpoint models (i.e., models that have been trained on a portion of the data) to the current working directory. You find that behavior frustrating because you don't want to have to launch the script from the directory where the models will be saved.</p>\n",
                "<p>You decide that one way to fix this is to write a context manager that changes the current working directory, lets you build your models, and then resets the working directory to its original location. You'll want to be sure that any errors that occur during model training don't prevent you from resetting the working directory to its original location.</p>\n",
                "</div>\n",
                "\n",
                "<li>Add a statement that lets you handle any errors that might occur inside the context.</li>\n",
                "<li>Add a statement that ensures <code>os.chdir(current_dir)</code> will be called, whether there was an error or not.</li>\n",
                "\n",
                "<div>\n"
            ]
        },
        {
            "cell_type": "code",
            "execution_count": 16,
            "metadata": {},
            "outputs": [],
            "source": [
                "# edited/added\n",
                "import os\n",
                "\n",
                "def in_dir(directory):\n",
                "  \"\"\"Change current working directory to `directory`,\n",
                "  allow the user to run some code, and change back.\n",
                "  Args:\n",
                "    directory (str): The path to a directory to work in.\n",
                "  \"\"\"\n",
                "  current_dir = os.getcwd()\n",
                "  os.chdir(directory)\n",
                "  # Add code that lets you handle errors\n",
                "  try:\n",
                "    yield\n",
                "  # Ensure the directory is reset,\n",
                "  # whether there was an error or not\n",
                "  finally:\n",
                "    os.chdir(current_dir)\n"
            ]
        },
        {
            "attachments": {},
            "cell_type": "markdown",
            "metadata": {},
            "source": [
                "</div>\n",
                "\n"
            ]
        },
        {
            "attachments": {},
            "cell_type": "markdown",
            "metadata": {},
            "source": [
                "<p class=\"\">Excellent error handling! Now, even if someone writes buggy code when using your context manager, you will be sure to change the current working directory back to what it was when they called <code>in_dir()</code>. This is important to do because your users might be relying on their working directory being what it was when they started the script. <code>in_dir()</code> is a great example of the <strong>CHANGE/RESET</strong> pattern that indicates you should use a context manager.</p>\n",
                "\n"
            ]
        },
        {
            "attachments": {},
            "cell_type": "markdown",
            "metadata": {},
            "source": [
                "# Decorators\n",
                "\n",
                "<p class=\"chapter__description\">\n",
                "    Decorators are an extremely powerful concept in Python. They allow you to modify the behavior of a function without changing the code of the function itself. This chapter will lay the foundational concepts needed to thoroughly understand decorators (functions as objects, scope, and closures), and give you a good introduction into how decorators are used and defined. This deep dive into Python internals will set you up to be a superstar Pythonista.\n",
                "  </p>\n",
                "\n"
            ]
        },
        {
            "attachments": {},
            "cell_type": "markdown",
            "metadata": {},
            "source": [
                "## Functions are objects\n",
                "\n",
                "\n",
                "\n"
            ]
        },
        {
            "attachments": {},
            "cell_type": "markdown",
            "metadata": {},
            "source": [
                "### Building a command line data app\n",
                "\n",
                "\n",
                "<div class>\n",
                "<p>You are building a command line tool that lets a user interactively explore a dataset. We've defined four functions: <code>mean()</code>, <code>std()</code>, <code>minimum()</code>, and <code>maximum()</code> that users can call to analyze their data. Help finish this section of the code so that your users can call any of these functions by typing the function name at the input prompt.</p>\n",
                "<p><strong>Note</strong>: The function <code>get_user_input()</code> in this exercise is a mock version of asking the user to enter a command. It randomly returns one of the four function names. In real life, you would ask for input and wait until the user entered a value.</p>\n",
                "</div>\n",
                "\n",
                "<div>\n"
            ]
        },
        {
            "cell_type": "markdown",
            "metadata": {},
            "source": [
                "</div>\n",
                "<li>Add the functions <code>std()</code>, <code>minimum()</code>, and <code>maximum()</code> to the <code>function_map</code> dictionary, like we did with <code>mean()</code>.</li>\n",
                "<li>The name of the function the user wants to call is stored in <code>func_name</code>. Use the dictionary of functions, <code>function_map</code>, to call the chosen function and pass <code>data</code> as an argument.</li>\n",
                "\n",
                "<div>\n"
            ]
        },
        {
            "cell_type": "code",
            "execution_count": 17,
            "metadata": {},
            "outputs": [
                {
                    "name": "stdout",
                    "output_type": "stream",
                    "text": [
                        "   height  weight\n",
                        "0    72.1     198\n",
                        "1    69.8     204\n",
                        "2    63.2     164\n",
                        "3    64.7     238\n",
                        "Type a command: \n",
                        "> std\n",
                        "height     4.194043\n",
                        "weight    30.309514\n",
                        "dtype: float64\n"
                    ]
                }
            ],
            "source": [
                "# edited/added\n",
                "import random\n",
                "def get_user_input(prompt='Type a command: '):\n",
                "    command = random.choice(['mean', 'std', 'minimum', 'maximum'])\n",
                "    print(prompt)\n",
                "    print('> {}'.format(command))\n",
                "    return command\n",
                "def mean(data):\n",
                "    print(data.mean())\n",
                "def std(data):\n",
                "    print(data.std())\n",
                "def minimum(data):\n",
                "    print(data.min())\n",
                "def maximum(data):\n",
                "    print(data.max())\n",
                "def load_data():\n",
                "    df = pd.DataFrame()\n",
                "    df['height'] = [72.1, 69.8, 63.2, 64.7]\n",
                "    df['weight'] = [198, 204, 164, 238]\n",
                "    return df\n",
                "  \n",
                "# Add the missing function references to the function map\n",
                "function_map = {\n",
                "  'mean': mean,\n",
                "  'std': std,\n",
                "  'minimum': minimum,\n",
                "  'maximum': maximum\n",
                "}\n",
                "\n",
                "data = load_data()\n",
                "print(data)\n",
                "\n",
                "func_name = get_user_input()\n",
                "\n",
                "# Call the chosen function and pass \"data\" as an argument\n",
                "function_map[func_name](data)\n"
            ]
        },
        {
            "attachments": {},
            "cell_type": "markdown",
            "metadata": {},
            "source": [
                "</div>\n",
                "\n"
            ]
        },
        {
            "attachments": {},
            "cell_type": "markdown",
            "metadata": {},
            "source": [
                "<p class=\"\">Phenomenal function referencing! By adding the functions to a dictionary, you can select the function based on the user's input. You could have also used a series of if/else statements, but putting them in a dictionary like this is much easier to read and maintain.</p>\n",
                "\n"
            ]
        },
        {
            "attachments": {},
            "cell_type": "markdown",
            "metadata": {},
            "source": [
                "### Reviewing your co-worker's code\n",
                "\n",
                "\n",
                "<div class>\n",
                "<p>Your co-worker is asking you to review some code that they've written and give them some tips on how to get it ready for production. You know that having a docstring is considered best practice for maintainable, reusable functions, so as a sanity check you decide to run this <code>has_docstring()</code> function on all of their functions.</p>\n",
                "<pre><code>def has_docstring(func):\n",
                "  \"\"\"Check to see if the function \n",
                "  `func` has a docstring.\n",
                "\n",
                "  Args:\n",
                "    func (callable): A function.\n",
                "\n",
                "  Returns:\n",
                "    bool\n",
                "  \"\"\"\n",
                "  return func.__doc__ is not None\n",
                "</code></pre>\n",
                "</div>\n",
                "<div class=\"exercise--instructions__content\"><p>Call <code>has_docstring()</code> on your co-worker's <code>load_and_plot_data()</code> function.</p></div>\n",
                "\n",
                "<div>\n"
            ]
        },
        {
            "cell_type": "code",
            "execution_count": 18,
            "metadata": {},
            "outputs": [
                {
                    "name": "stdout",
                    "output_type": "stream",
                    "text": [
                        "load_and_plot_data() looks ok\n"
                    ]
                }
            ],
            "source": [
                "# edited/added\n",
                "def has_docstring(func):\n",
                "    \"\"\"Check to see if the function \n",
                "    `func` has a docstring.\n",
                "    Args:\n",
                "        func (callable): A function.\n",
                "    Returns:\n",
                "        bool\n",
                "    \"\"\"\n",
                "    return func.__doc__ is not None\n",
                "def load_and_plot_data(filename):\n",
                "    \"\"\"Load a data frame and plot each column.\n",
                "    Args:\n",
                "        filename (str): Path to a CSV file of data.\n",
                "    Returns:\n",
                "        pandas.DataFrame\n",
                "    \"\"\"\n",
                "    df = pd.load_csv(filename, index_col=0)\n",
                "    df.hist()\n",
                "    return df\n",
                "  \n",
                "# Call has_docstring() on the load_and_plot_data() function\n",
                "ok = has_docstring(load_and_plot_data)\n",
                "\n",
                "if not ok:\n",
                "  print(\"load_and_plot_data() doesn't have a docstring!\")\n",
                "else:\n",
                "  print(\"load_and_plot_data() looks ok\")\n"
            ]
        },
        {
            "cell_type": "markdown",
            "metadata": {},
            "source": [
                "</div>\n",
                "\n",
                "<li>Check if the function <code>as_2D()</code> has a docstring.</li>\n",
                "\n",
                "<div>\n"
            ]
        },
        {
            "cell_type": "code",
            "execution_count": 19,
            "metadata": {},
            "outputs": [
                {
                    "name": "stdout",
                    "output_type": "stream",
                    "text": [
                        "as_2D() looks ok\n"
                    ]
                }
            ],
            "source": [
                "# edited/added\n",
                "def as_2D(arr):\n",
                "    \"\"\"Reshape an array to 2 dimensions\"\"\"\n",
                "    return np.array(arr).reshape(1, -1)\n",
                "  \n",
                "# Call has_docstring() on the as_2D() function\n",
                "ok = has_docstring(as_2D)\n",
                "\n",
                "if not ok:\n",
                "  print(\"as_2D() doesn't have a docstring!\")\n",
                "else:\n",
                "  print(\"as_2D() looks ok\")\n"
            ]
        },
        {
            "cell_type": "markdown",
            "metadata": {},
            "source": [
                "</div>\n",
                "<li>Check if the function <code>log_product()</code> has a docstring.</li>\n",
                "\n",
                "<div>\n"
            ]
        },
        {
            "cell_type": "code",
            "execution_count": 20,
            "metadata": {},
            "outputs": [
                {
                    "name": "stdout",
                    "output_type": "stream",
                    "text": [
                        "log_product() doesn't have a docstring!\n"
                    ]
                }
            ],
            "source": [
                "# edited/added\n",
                "def log_product(arr):\n",
                "    return np.exp(np.sum(np.log(arr)))\n",
                "  \n",
                "# Call has_docstring() on the log_product() function\n",
                "ok = has_docstring(log_product)\n",
                "\n",
                "if not ok:\n",
                "  print(\"log_product() doesn't have a docstring!\")\n",
                "else:\n",
                "  print(\"log_product() looks ok\")\n"
            ]
        },
        {
            "attachments": {},
            "cell_type": "markdown",
            "metadata": {},
            "source": [
                "</div>\n",
                "\n"
            ]
        },
        {
            "attachments": {},
            "cell_type": "markdown",
            "metadata": {},
            "source": [
                "<p class=\"\">Awesome job writing functions as arguments! You have discovered that your co-worker forgot to write a docstring for <code>log_product()</code>. You have learned enough about best practices to tell them how to fix it. <br><br> To pass a function as an argument to another function, you had to determine which one you were calling and which one you were referencing. Keeping those straight will be important as we dig deeper into this chapter. From the function names can you think of any other advice you might give your co-worker about their functions?</p>\n",
                "\n"
            ]
        },
        {
            "attachments": {},
            "cell_type": "markdown",
            "metadata": {},
            "source": [
                "### Returning functions for a math game\n",
                "\n",
                "\n",
                "<div class><p>You are building an educational math game where the player enters a math term, and your program returns a function that matches that term. For instance, if the user types \"add\", your program returns a function that adds two numbers. So far you've only implemented the \"add\" function. Now you want to include a \"subtract\" function.</p></div>\n",
                "\n",
                "<li>Define the <code>subtract()</code> function. It should take two arguments and return the first argument minus the second argument.</li>\n",
                "\n",
                "<div>\n"
            ]
        },
        {
            "cell_type": "code",
            "execution_count": 21,
            "metadata": {},
            "outputs": [
                {
                    "name": "stdout",
                    "output_type": "stream",
                    "text": [
                        "5 + 2 = 7\n",
                        "5 - 2 = 3\n"
                    ]
                }
            ],
            "source": [
                "def create_math_function(func_name):\n",
                "  if func_name == 'add':\n",
                "    def add(a, b):\n",
                "      return a + b\n",
                "    return add\n",
                "  elif func_name == 'subtract':\n",
                "    # Define the subtract() function\n",
                "    def subtract(a, b):\n",
                "      return a - b\n",
                "    return subtract\n",
                "  else:\n",
                "    print(\"I don't know that one\")\n",
                "    \n",
                "add = create_math_function('add')\n",
                "print('5 + 2 = {}'.format(add(5, 2)))\n",
                "\n",
                "subtract = create_math_function('subtract')\n",
                "print('5 - 2 = {}'.format(subtract(5, 2)))\n"
            ]
        },
        {
            "attachments": {},
            "cell_type": "markdown",
            "metadata": {},
            "source": [
                "</div>\n",
                "\n"
            ]
        },
        {
            "attachments": {},
            "cell_type": "markdown",
            "metadata": {},
            "source": [
                "<p class=\"\">Nice nested function! Now that you've implemented the <code>subtract()</code> function, you can keep going to include <code>multiply()</code> and <code>divide()</code>. I predict this game is going to be even bigger than Fortnite! <br><br> Notice how we assign the return value from <code>create_math_function()</code> to the <code>add</code> and <code>subtract</code> variables in the script. Since <code>create_math_function()</code> returns a function, we can then call <em>those variables</em> as functions.</p>\n",
                "\n"
            ]
        },
        {
            "attachments": {},
            "cell_type": "markdown",
            "metadata": {},
            "source": [
                "## Scope\n",
                "\n",
                "\n",
                "\n"
            ]
        },
        {
            "attachments": {},
            "cell_type": "markdown",
            "metadata": {},
            "source": [
                "### Understanding scope\n",
                "\n",
                "<div class=\"\"><p>What four values does this script print?</p>\n",
                "<pre><code>x = 50\n",
                "\n",
                "def one():\n",
                "  x = 10\n",
                "\n",
                "def two():\n",
                "  global x\n",
                "  x = 30\n",
                "\n",
                "def three():\n",
                "  x = 100\n",
                "  print(x)\n",
                "\n",
                "for func in [one, two, three]:\n",
                "  func()\n",
                "  print(x)\n",
                "</code></pre></div>\n",
                "\n"
            ]
        },
        {
            "attachments": {},
            "cell_type": "markdown",
            "metadata": {},
            "source": [
                "- [ ] 50, 30, 100, 50\n",
                "- [ ] 10, 30, 30, 30\n",
                "- [x] 50, 30, 100, 30\n",
                "- [ ] 10, 30, 100, 50\n",
                "- [ ] 50, 50, 50, 50\n",
                "\n"
            ]
        },
        {
            "attachments": {},
            "cell_type": "markdown",
            "metadata": {},
            "source": [
                "<p class=\"dc-completion-pane__message dc-u-maxw-100pc\">Good job! <code>one()</code> doesn't change the global <code>x</code>, so the first <code>print()</code> statement prints <code>50</code>. <br><br> <code>two()</code> <em>does</em> change the global <code>x</code> so the second <code>print()</code> statement prints <code>30</code>. <br><br> The <code>print()</code> statement inside the function <code>three()</code> is referencing the <code>x</code> value that is local to <code>three()</code>, so it prints <code>100</code>. <br><br> But <code>three()</code> does not change the global <code>x</code> value so the last <code>print()</code> statement prints <code>30</code> again.</p>\n",
                "\n"
            ]
        },
        {
            "attachments": {},
            "cell_type": "markdown",
            "metadata": {},
            "source": [
                "### Modifying variables outside local scope\n",
                "\n",
                "\n",
                "<div class><p>Sometimes your functions will need to modify a variable that is outside of the local scope of that function. While it's generally not best practice to do so, it's still good to know how in case you need to do it. Update these functions so they can modify variables that would usually be outside of their scope.</p></div>\n",
                "<div class=\"exercise--instructions__content\"><p>Add a keyword that lets us update <code>call_count</code> from inside the function.</p></div>\n",
                "\n",
                "<div>\n"
            ]
        },
        {
            "cell_type": "code",
            "execution_count": 22,
            "metadata": {},
            "outputs": [
                {
                    "name": "stdout",
                    "output_type": "stream",
                    "text": [
                        "You've called my_function() 1 times!\n",
                        "You've called my_function() 2 times!\n",
                        "You've called my_function() 3 times!\n",
                        "You've called my_function() 4 times!\n",
                        "You've called my_function() 5 times!\n",
                        "You've called my_function() 6 times!\n",
                        "You've called my_function() 7 times!\n",
                        "You've called my_function() 8 times!\n",
                        "You've called my_function() 9 times!\n",
                        "You've called my_function() 10 times!\n",
                        "You've called my_function() 11 times!\n",
                        "You've called my_function() 12 times!\n",
                        "You've called my_function() 13 times!\n",
                        "You've called my_function() 14 times!\n",
                        "You've called my_function() 15 times!\n",
                        "You've called my_function() 16 times!\n",
                        "You've called my_function() 17 times!\n",
                        "You've called my_function() 18 times!\n",
                        "You've called my_function() 19 times!\n",
                        "You've called my_function() 20 times!\n"
                    ]
                }
            ],
            "source": [
                "call_count = 0\n",
                "\n",
                "def my_function():\n",
                "  # Use a keyword that lets us update call_count \n",
                "  global call_count\n",
                "  call_count += 1\n",
                "  \n",
                "  print(\"You've called my_function() {} times!\".format(\n",
                "    call_count\n",
                "  ))\n",
                "  \n",
                "for _ in range(20):\n",
                "  my_function()\n"
            ]
        },
        {
            "cell_type": "markdown",
            "metadata": {},
            "source": [
                "</div>\n",
                "\n",
                "<div class=\"exercise--instructions__content\"><p>Add a keyword that lets us modify <code>file_contents</code> from inside <code>save_contents()</code>.</p></div>\n",
                "\n",
                "<div>\n"
            ]
        },
        {
            "cell_type": "code",
            "execution_count": 23,
            "metadata": {},
            "outputs": [
                {
                    "name": "stdout",
                    "output_type": "stream",
                    "text": [
                        "It was a bright day in April, and the clocks were striking thirteen.\n",
                        "Call me Ishmael.\n",
                        "Time is not a line but a dimension, like the dimensions of space.\n"
                    ]
                }
            ],
            "source": [
                "def read_files():\n",
                "  file_contents = None\n",
                "  \n",
                "  def save_contents(filename):\n",
                "    # Add a keyword that lets us modify file_contents\n",
                "    nonlocal file_contents\n",
                "    if file_contents is None:\n",
                "      file_contents = []\n",
                "    with open(filename) as fin:\n",
                "      file_contents.append(fin.read())\n",
                "      \n",
                "  for filename in ['datasets/Writing-Functions-in-Python/1984.txt', 'datasets/Writing-Functions-in-Python/MobyDick.txt', 'datasets/Writing-Functions-in-Python/CatsEye.txt']:\n",
                "    save_contents(filename)\n",
                "    \n",
                "  return file_contents\n",
                "\n",
                "print('\\n'.join(read_files()))\n"
            ]
        },
        {
            "cell_type": "markdown",
            "metadata": {},
            "source": [
                "</div>\n",
                "\n",
                "<div class=\"exercise--instructions__content\"><p>Add a keyword to <code>done</code> in <code>check_is_done()</code> so that <code>wait_until_done()</code> eventually stops looping.</p></div>\n",
                "\n",
                "<div>\n"
            ]
        },
        {
            "cell_type": "code",
            "execution_count": 24,
            "metadata": {},
            "outputs": [
                {
                    "name": "stdout",
                    "output_type": "stream",
                    "text": [
                        "Work done? True\n"
                    ]
                }
            ],
            "source": [
                "def wait_until_done():\n",
                "  def check_is_done():\n",
                "    # Add a keyword so that wait_until_done() \n",
                "    # doesn't run forever\n",
                "    global done\n",
                "    if random.random() < 0.1:\n",
                "      done = True\n",
                "      \n",
                "  while not done:\n",
                "    check_is_done()\n",
                "\n",
                "done = False\n",
                "wait_until_done()\n",
                "\n",
                "print('Work done? {}'.format(done))\n"
            ]
        },
        {
            "attachments": {},
            "cell_type": "markdown",
            "metadata": {},
            "source": [
                "</div>\n",
                "\n"
            ]
        },
        {
            "attachments": {},
            "cell_type": "markdown",
            "metadata": {},
            "source": [
                "<p class=\"\">Stellar scoping! By adding <code>global done</code> in <code>check_is_done()</code>, you ensure that the <code>done</code> being referenced is the one that was set to <code>False</code> before <code>wait_until_done()</code> was called. Without this keyword, <code>wait_until_done()</code> would loop forever because the <code>done = True</code> in <code>check_is_done()</code> would only be changing a variable that is local to <code>check_is_done()</code>. Understanding what scope your variables are in will help you debug tricky situations like this one.</p>\n",
                "\n"
            ]
        },
        {
            "attachments": {},
            "cell_type": "markdown",
            "metadata": {},
            "source": [
                "## Closures\n",
                "\n",
                "\n",
                "\n"
            ]
        },
        {
            "attachments": {},
            "cell_type": "markdown",
            "metadata": {},
            "source": [
                "### Checking for closure\n",
                "\n",
                "\n",
                "<div class><p>You're teaching your niece how to program in Python, and she is working on returning nested functions. She thinks she has written the code correctly, but she is worried that the returned function won't have the necessary information when called. Show her that all of the nonlocal variables she needs are in the new function's closure.</p></div>\n",
                "\n",
                "<li>Use an attribute of the <code>my_func()</code> function to show that it has a closure that is not <code>None</code>.</li>\n",
                "\n",
                "<div>\n",
                "\n",
                "\n",
                "\n",
                "</div>\n",
                "<li>Show that there are two variables in the closure.</li>\n",
                "\n",
                "<div>\n",
                "\n",
                "\n",
                "\n",
                "</div>\n",
                "<li>Get the values of the variables in the closure so you can show that they are equal to <code>[2, 17]</code>, the arguments passed to <code>return_a_func()</code>.</li>\n",
                "\n",
                "<div>\n"
            ]
        },
        {
            "cell_type": "code",
            "execution_count": 25,
            "metadata": {},
            "outputs": [
                {
                    "name": "stdout",
                    "output_type": "stream",
                    "text": [
                        "True\n"
                    ]
                }
            ],
            "source": [
                "def return_a_func(arg1, arg2):\n",
                "  def new_func():\n",
                "    print('arg1 was {}'.format(arg1))\n",
                "    print('arg2 was {}'.format(arg2))\n",
                "  return new_func\n",
                "    \n",
                "my_func = return_a_func(2, 17)\n",
                "\n",
                "# Show that my_func()'s closure is not None\n",
                "print(my_func.__closure__ is not None)\n"
            ]
        },
        {
            "cell_type": "markdown",
            "metadata": {},
            "source": [
                "</div>\n",
                "\n",
                "<div>\n"
            ]
        },
        {
            "cell_type": "code",
            "execution_count": 26,
            "metadata": {},
            "outputs": [
                {
                    "name": "stdout",
                    "output_type": "stream",
                    "text": [
                        "True\n"
                    ]
                }
            ],
            "source": [
                "# Show that there are two variables in the closure\n",
                "print(len(my_func.__closure__) == 2)\n"
            ]
        },
        {
            "cell_type": "markdown",
            "metadata": {},
            "source": [
                "</div>\n",
                "\n",
                "<div>\n"
            ]
        },
        {
            "cell_type": "code",
            "execution_count": 27,
            "metadata": {},
            "outputs": [
                {
                    "name": "stdout",
                    "output_type": "stream",
                    "text": [
                        "True\n"
                    ]
                }
            ],
            "source": [
                "# Get the values of the variables in the closure\n",
                "closure_values = [\n",
                "  my_func.__closure__[i].cell_contents for i in range(2)\n",
                "]\n",
                "print(closure_values == [2, 17])\n"
            ]
        },
        {
            "attachments": {},
            "cell_type": "markdown",
            "metadata": {},
            "source": [
                "</div>\n",
                "\n"
            ]
        },
        {
            "attachments": {},
            "cell_type": "markdown",
            "metadata": {},
            "source": [
                "<p class=\"\">Case closed! Your niece is relieved to see that the values she passed to <code>return_a_func()</code> are still accessible to the new function she returned, even after the program has left the scope of <code>return_a_func()</code>. <br><br> Values get added to a function's closure in the order they are defined in the enclosing function (in this case, <code>arg1</code> and then <code>arg2</code>), but only if they are used in the nested function. That is, if <code>return_a_func()</code> took a third argument (e.g., <code>arg3</code>) that wasn't used by <code>new_func()</code>, then it would not be captured in <code>new_func()</code>'s closure.</p>\n",
                "\n"
            ]
        },
        {
            "attachments": {},
            "cell_type": "markdown",
            "metadata": {},
            "source": [
                "### Closures keep your values safe\n",
                "\n",
                "\n",
                "<div class>\n",
                "<p>You are still helping your niece understand closures. You have written the function <code>get_new_func()</code> that returns a nested function. The nested function <code>call_func()</code> calls whatever function was passed to <code>get_new_func()</code>. You've also written <code>my_special_function()</code> which simply prints a message that states that you are executing <code>my_special_function()</code>. </p>\n",
                "<p>You want to show your niece that no matter what you do to <code>my_special_function()</code> after passing it to <code>get_new_func()</code>, the new function still mimics the behavior of the original <code>my_special_function()</code> because it is in the new function's closure.</p>\n",
                "</div>\n",
                "<div class=\"exercise--instructions__content\"><p>Show that you still get the original message even if you redefine <code>my_special_function()</code> to only print \"hello\".</p></div>\n",
                "\n",
                "<div>\n"
            ]
        },
        {
            "cell_type": "code",
            "execution_count": 28,
            "metadata": {},
            "outputs": [
                {
                    "name": "stdout",
                    "output_type": "stream",
                    "text": [
                        "You are running my_special_function()\n"
                    ]
                }
            ],
            "source": [
                "def my_special_function():\n",
                "  print('You are running my_special_function()')\n",
                "  \n",
                "def get_new_func(func):\n",
                "  def call_func():\n",
                "    func()\n",
                "  return call_func\n",
                "\n",
                "new_func = get_new_func(my_special_function)\n",
                "\n",
                "# Redefine my_special_function() to just print \"hello\"\n",
                "def my_special_function():\n",
                "  print(\"hello\")\n",
                "\n",
                "new_func()\n"
            ]
        },
        {
            "cell_type": "markdown",
            "metadata": {},
            "source": [
                "</div>\n",
                "\n",
                "<div class=\"exercise--instructions__content\"><p>Show that even if you delete <code>my_special_function()</code>, you can still call <code>new_func()</code> without any problems.</p></div>\n",
                "\n",
                "<div>\n"
            ]
        },
        {
            "cell_type": "code",
            "execution_count": 29,
            "metadata": {},
            "outputs": [
                {
                    "name": "stdout",
                    "output_type": "stream",
                    "text": [
                        "You are running my_special_function()\n"
                    ]
                }
            ],
            "source": [
                "def my_special_function():\n",
                "  print('You are running my_special_function()')\n",
                "  \n",
                "def get_new_func(func):\n",
                "  def call_func():\n",
                "    func()\n",
                "  return call_func\n",
                "\n",
                "new_func = get_new_func(my_special_function)\n",
                "\n",
                "# Delete my_special_function()\n",
                "del(my_special_function)\n",
                "\n",
                "new_func()\n"
            ]
        },
        {
            "cell_type": "markdown",
            "metadata": {},
            "source": [
                "</div>\n",
                "\n",
                "<div class=\"exercise--instructions__content\"><p>Show that you still get the original message even if you overwrite <code>my_special_function()</code> with the new function.</p></div>\n",
                "\n",
                "<div>\n"
            ]
        },
        {
            "cell_type": "code",
            "execution_count": 30,
            "metadata": {},
            "outputs": [
                {
                    "name": "stdout",
                    "output_type": "stream",
                    "text": [
                        "You are running my_special_function()\n"
                    ]
                }
            ],
            "source": [
                "def my_special_function():\n",
                "  print('You are running my_special_function()')\n",
                "  \n",
                "def get_new_func(func):\n",
                "  def call_func():\n",
                "    func()\n",
                "  return call_func\n",
                "\n",
                "# Overwrite `my_special_function` with the new function\n",
                "my_special_function = get_new_func(my_special_function)\n",
                "\n",
                "my_special_function()\n"
            ]
        },
        {
            "attachments": {},
            "cell_type": "markdown",
            "metadata": {},
            "source": [
                "</div>\n",
                "\n"
            ]
        },
        {
            "attachments": {},
            "cell_type": "markdown",
            "metadata": {},
            "source": [
                "<p class=\"\">Well done! Your niece feels like she understands closures now. She has seen that you can modify, delete, or overwrite the values needed by the nested function, but the nested function can still access those values because they are stored safely in the function's closure. She even realized that you could run into memory issues if you wound up adding a very large array or object to the closure, and has resolved to keep her eye out for that sort of problem.</p>\n",
                "\n"
            ]
        },
        {
            "attachments": {},
            "cell_type": "markdown",
            "metadata": {},
            "source": [
                "## Decorators\n",
                "\n",
                "\n",
                "\n"
            ]
        },
        {
            "attachments": {},
            "cell_type": "markdown",
            "metadata": {},
            "source": [
                "### Using decorator syntax\n",
                "\n",
                "\n",
                "<div class><p>You have written a decorator called <code>print_args</code> that prints out all of the arguments and their values any time a function that it is decorating gets called.</p></div>\n",
                "<div class=\"exercise--instructions__content\"><p>Decorate <code>my_function()</code> with the <code>print_args()</code> decorator by redefining the <code>my_function</code> variable.</p></div>\n",
                "\n",
                "<div>\n"
            ]
        },
        {
            "cell_type": "code",
            "execution_count": 31,
            "metadata": {},
            "outputs": [
                {
                    "name": "stdout",
                    "output_type": "stream",
                    "text": [
                        "my_function was called with a=1, b=2, c=3\n",
                        "6\n"
                    ]
                }
            ],
            "source": [
                "# edited/added\n",
                "def print_args(func):\n",
                "    sig = inspect.signature(func)\n",
                "    def wrapper(*args, **kwargs):\n",
                "        bound = sig.bind(*args, **kwargs).arguments\n",
                "        str_args = ', '.join(['{}={}'.format(k, v) for k, v in bound.items()])\n",
                "        print('{} was called with {}'.format(func.__name__, str_args))\n",
                "        return func(*args, **kwargs)\n",
                "    return wrapper\n",
                "  \n",
                "def my_function(a, b, c):\n",
                "  print(a + b + c)\n",
                "\n",
                "# Decorate my_function() with the print_args() decorator\n",
                "my_function = print_args(my_function)\n",
                "\n",
                "my_function(1, 2, 3)\n"
            ]
        },
        {
            "cell_type": "markdown",
            "metadata": {},
            "source": [
                "</div>\n",
                "\n",
                "<div class=\"exercise--instructions__content\"><p>Decorate <code>my_function()</code> with the <code>print_args()</code> decorator using decorator syntax.</p></div>\n",
                "\n",
                "<div>\n"
            ]
        },
        {
            "cell_type": "code",
            "execution_count": 32,
            "metadata": {},
            "outputs": [
                {
                    "name": "stdout",
                    "output_type": "stream",
                    "text": [
                        "my_function was called with a=1, b=2, c=3\n",
                        "6\n"
                    ]
                }
            ],
            "source": [
                "# Decorate my_function() with the print_args() decorator\n",
                "@print_args\n",
                "def my_function(a, b, c):\n",
                "  print(a + b + c)\n",
                "\n",
                "my_function(1, 2, 3)\n"
            ]
        },
        {
            "attachments": {},
            "cell_type": "markdown",
            "metadata": {},
            "source": [
                "</div>\n",
                "\n"
            ]
        },
        {
            "attachments": {},
            "cell_type": "markdown",
            "metadata": {},
            "source": [
                "<p class=\"\">What a delightful decorator! Note that <code>@print_args</code> before the definition of <code>my_function</code> is exactly equivalent to <code>my_function = print_args(my_function)</code>. Remember, even though decorators are functions themselves, when you use decorator syntax with the <code>@</code> symbol you do not include the parentheses after the decorator name.</p>\n",
                "\n"
            ]
        },
        {
            "attachments": {},
            "cell_type": "markdown",
            "metadata": {},
            "source": [
                "### Defining a decorator\n",
                "\n",
                "\n",
                "<div class><p>Your buddy has been working on a decorator that prints a \"before\" message before the decorated function is called and prints an \"after\" message after the decorated function is called. They are having trouble remembering how wrapping the decorated function is supposed to work. Help them out by finishing their <code>print_before_and_after()</code> decorator.</p></div>\n",
                "\n",
                "<li>Call the function being decorated and pass it the positional arguments <code>*args</code>.</li>\n",
                "<li>Return the new decorated function.</li>\n",
                "\n",
                "<div>\n"
            ]
        },
        {
            "cell_type": "code",
            "execution_count": 33,
            "metadata": {},
            "outputs": [
                {
                    "name": "stdout",
                    "output_type": "stream",
                    "text": [
                        "Before multiply\n",
                        "50\n",
                        "After multiply\n"
                    ]
                }
            ],
            "source": [
                "def print_before_and_after(func):\n",
                "  def wrapper(*args):\n",
                "    print('Before {}'.format(func.__name__))\n",
                "    # Call the function being decorated with *args\n",
                "    func(*args)\n",
                "    print('After {}'.format(func.__name__))\n",
                "  # Return the nested function\n",
                "  return wrapper\n",
                "\n",
                "@print_before_and_after\n",
                "def multiply(a, b):\n",
                "  print(a * b)\n",
                "\n",
                "multiply(5, 10)\n"
            ]
        },
        {
            "attachments": {},
            "cell_type": "markdown",
            "metadata": {},
            "source": [
                "</div>\n",
                "\n"
            ]
        },
        {
            "attachments": {},
            "cell_type": "markdown",
            "metadata": {},
            "source": [
                "<p class=\"\">What a darling decorator! The decorator <code>print_before_and_after()</code> defines a nested function <code>wrapper()</code> that calls whatever function gets passed to <code>print_before_and_after()</code>. <code>wrapper()</code> adds a little something else to the function call by printing one message before the decorated function is called and another right afterwards. Since <code>print_before_and_after()</code> returns the new <code>wrapper()</code> function, we can use it as a decorator to decorate the <code>multiply()</code> function.</p>\n",
                "\n"
            ]
        },
        {
            "attachments": {},
            "cell_type": "markdown",
            "metadata": {},
            "source": [
                "# More on Decorators\n",
                "\n",
                "<p class=\"chapter__description\">\n",
                "    Now that you understand how decorators work under the hood, this chapter gives you a bunch of real-world examples of when and how you would write decorators in your own code. You will also learn advanced decorator concepts like how to preserve the metadata of your decorated functions and how to write decorators that take arguments.\n",
                "  </p>\n",
                "\n"
            ]
        },
        {
            "attachments": {},
            "cell_type": "markdown",
            "metadata": {},
            "source": [
                "## Real-world examples\n",
                "\n",
                "\n",
                "\n"
            ]
        },
        {
            "attachments": {},
            "cell_type": "markdown",
            "metadata": {},
            "source": [
                "### Print the return type\n",
                "\n",
                "\n",
                "<div class><p>You are debugging a package that you've been working on with your friends. Something weird is happening with the data being returned from one of your functions, but you're not even sure which function is causing the trouble. You know that sometimes bugs can sneak into your code when you are expecting a function to return one thing, and it returns something different. For instance, if you expect a function to return a numpy array, but it returns a list, you can get unexpected behavior. To ensure this is not what is causing the trouble, you decide to write a decorator, <code>print_return_type()</code>, that will print out the type of the variable that gets returned from every call of any function it is decorating.</p></div>\n",
                "\n",
                "<li>Create a nested function, <code>wrapper()</code>, that will become the new decorated function.</li>\n",
                "<li>Call the function being decorated.</li>\n",
                "<li>Return the new decorated function.</li>\n",
                "\n",
                "<div>\n"
            ]
        },
        {
            "cell_type": "code",
            "execution_count": 34,
            "metadata": {},
            "outputs": [
                {
                    "name": "stdout",
                    "output_type": "stream",
                    "text": [
                        "foo() returned type <class 'int'>\n",
                        "42\n",
                        "foo() returned type <class 'list'>\n",
                        "[1, 2, 3]\n",
                        "foo() returned type <class 'dict'>\n",
                        "{'a': 42}\n"
                    ]
                }
            ],
            "source": [
                "def print_return_type(func):\n",
                "  # Define wrapper(), the decorated function\n",
                "  def wrapper(*args, **kwargs):\n",
                "    # Call the function being decorated\n",
                "    result = func(*args, **kwargs)\n",
                "    print('{}() returned type {}'.format(\n",
                "      func.__name__, type(result)\n",
                "    ))\n",
                "    return result\n",
                "  # Return the decorated function\n",
                "  return wrapper\n",
                "  \n",
                "@print_return_type\n",
                "def foo(value):\n",
                "  return value\n",
                "  \n",
                "print(foo(42))\n",
                "print(foo([1, 2, 3]))\n",
                "print(foo({'a': 42}))\n"
            ]
        },
        {
            "attachments": {},
            "cell_type": "markdown",
            "metadata": {},
            "source": [
                "</div>\n",
                "\n"
            ]
        },
        {
            "attachments": {},
            "cell_type": "markdown",
            "metadata": {},
            "source": [
                "<p class=\"\">Righteous return types! Your new decorator helps you examine the results of your functions at runtime. Now you can apply this decorator to every function in the package you are developing and run your scripts. Being able to examine the types of your return values will help you understand what is happening and will hopefully help you find the bug.</p>\n",
                "\n"
            ]
        },
        {
            "attachments": {},
            "cell_type": "markdown",
            "metadata": {},
            "source": [
                "### Counter\n",
                "\n",
                "\n",
                "<div class><p>You're working on a new web app, and you are curious about how many times each of the functions in it gets called. So you decide to write a decorator that adds a counter to each function that you decorate. You could use this information in the future to determine whether there are sections of code that you could remove because they are no longer being used by the app.</p></div>\n",
                "\n",
                "<li>Call the function being decorated and return the result.</li>\n",
                "<li>Return the new decorated function.</li>\n",
                "<li>Decorate <code>foo()</code> with the <code>counter()</code> decorator.</li>\n",
                "\n",
                "<div>\n"
            ]
        },
        {
            "cell_type": "code",
            "execution_count": 35,
            "metadata": {},
            "outputs": [
                {
                    "name": "stdout",
                    "output_type": "stream",
                    "text": [
                        "calling foo()\n",
                        "calling foo()\n",
                        "foo() was called 2 times.\n"
                    ]
                }
            ],
            "source": [
                "def counter(func):\n",
                "  def wrapper(*args, **kwargs):\n",
                "    wrapper.count += 1\n",
                "    # Call the function being decorated and return the result\n",
                "    return func(*args, **kwargs)\n",
                "  wrapper.count = 0\n",
                "  # Return the new decorated function\n",
                "  return wrapper\n",
                "\n",
                "# Decorate foo() with the counter() decorator\n",
                "@counter\n",
                "def foo():\n",
                "  print('calling foo()')\n",
                "  \n",
                "foo()\n",
                "foo()\n",
                "\n",
                "print('foo() was called {} times.'.format(foo.count))\n"
            ]
        },
        {
            "attachments": {},
            "cell_type": "markdown",
            "metadata": {},
            "source": [
                "</div>\n",
                "\n"
            ]
        },
        {
            "attachments": {},
            "cell_type": "markdown",
            "metadata": {},
            "source": [
                "<p class=\"\">Cool counting! Now you can go decorate a bunch of functions with the <code>counter()</code> decorator, let your program run for a while, and then print out how many times each function was called. <br><br> It seems a little magical that you can reference the <code>wrapper()</code> function from <em>inside</em> the definition of <code>wrapper()</code> as we do here on line 3. That's just one of the many neat things about functions in Python -- any function, not just decorators.</p>\n",
                "\n"
            ]
        },
        {
            "attachments": {},
            "cell_type": "markdown",
            "metadata": {},
            "source": [
                "## Decorators and metadata\n",
                "\n",
                "\n",
                "\n"
            ]
        },
        {
            "attachments": {},
            "cell_type": "markdown",
            "metadata": {},
            "source": [
                "### Preserving docstrings when decorating functions\n",
                "\n",
                "\n",
                "<div class><p>Your friend has come to you with a problem. They've written some nifty decorators and added them to the functions in the open-source library they've been working on. However, they were running some tests and discovered that all of the docstrings have mysteriously disappeared from their decorated functions. Show your friend how to preserve docstrings and other metadata when writing decorators.</p></div>\n",
                "\n",
                "<li>Decorate <code>print_sum()</code> with the <code>add_hello()</code> decorator to replicate the issue that your friend saw - that the docstring disappears.</li>\n",
                "<li>To show your friend that they are printing the <code>wrapper()</code> function's docstring, not the <code>print_sum()</code> docstring, add the following docstring to <code>wrapper()</code>: </li>\n",
                "<li>Import a function that will allow you to add the metadata from <code>print_sum()</code> to the decorated version of <code>print_sum()</code>.</li>\n",
                "<li>Finally, decorate <code>wrapper()</code> so that the metadata from <code>func()</code> is preserved in the new decorated function.</li>\n",
                "\n",
                "<div>\n"
            ]
        },
        {
            "cell_type": "code",
            "execution_count": 36,
            "metadata": {},
            "outputs": [
                {
                    "name": "stdout",
                    "output_type": "stream",
                    "text": [
                        "Hello\n",
                        "30\n",
                        "Adds two numbers and prints the sum\n"
                    ]
                }
            ],
            "source": [
                "from functools import wraps\n",
                "\n",
                "def add_hello(func):\n",
                "  # Decorate wrapper() so that it keeps func()'s metadata\n",
                "  @wraps(func)\n",
                "  def wrapper(*args, **kwargs):\n",
                "    \"\"\"Print 'hello' and then call the decorated function.\"\"\"\n",
                "    print('Hello')\n",
                "    return func(*args, **kwargs)\n",
                "  return wrapper\n",
                "  \n",
                "@add_hello\n",
                "def print_sum(a, b):\n",
                "  \"\"\"Adds two numbers and prints the sum\"\"\"\n",
                "  print(a + b)\n",
                "  \n",
                "print_sum(10, 20)\n",
                "print_sum_docstring = print_sum.__doc__\n",
                "print(print_sum_docstring)\n"
            ]
        },
        {
            "attachments": {},
            "cell_type": "markdown",
            "metadata": {},
            "source": [
                "</div>\n",
                "\n"
            ]
        },
        {
            "attachments": {},
            "cell_type": "markdown",
            "metadata": {},
            "source": [
                "<p class=\"\">That's a wrap! Your friend was concerned that they couldn't print the docstrings of their functions. They now realize that the strange behavior they were seeing was caused by the fact that they were accidentally printing the <code>wrapper()</code> docstring instead of the docstring of the original function. After adding <code>@wraps(func)</code> to all of their decorators, they see that the docstrings are back where they expect them to be.</p>\n",
                "\n"
            ]
        },
        {
            "attachments": {},
            "cell_type": "markdown",
            "metadata": {},
            "source": [
                "### Measuring decorator overhead\n",
                "\n",
                "\n",
                "<div class>\n",
                "<p>Your boss wrote a decorator called <code>check_everything()</code> that they think is amazing, and they are insisting you use it on your function. However, you've noticed that when you use it to decorate your functions, it makes them run <em>much</em> slower. You need to convince your boss that the decorator is adding too much processing time to your function. To do this, you are going to measure how long the decorated function takes to run and compare it to how long the undecorated function would have taken to run. This is the decorator in question:</p>\n",
                "<pre><code>def check_everything(func):\n",
                "  @wraps(func)\n",
                "  def wrapper(*args, **kwargs):\n",
                "    check_inputs(*args, **kwargs)\n",
                "    result = func(*args, **kwargs)\n",
                "    check_outputs(result)\n",
                "    return result\n",
                "  return wrapper\n",
                "</code></pre>\n",
                "</div>\n",
                "\n",
                "<div>\n",
                "\n",
                "\n",
                "\n",
                "</div>\n",
                "<li>Call the original function instead of the decorated version by using an attribute of the function that the <code>wraps()</code> statement in your boss's decorator added to the decorated function.</li>\n",
                "\n",
                "<div>\n"
            ]
        },
        {
            "cell_type": "code",
            "execution_count": 37,
            "metadata": {},
            "outputs": [
                {
                    "name": "stdout",
                    "output_type": "stream",
                    "text": [
                        "Finished checking inputs\n",
                        "Finished checking outputs\n",
                        "Decorated time: 1.67404s\n",
                        "Undecorated time: 0.00019s\n"
                    ]
                }
            ],
            "source": [
                "# edited/added\n",
                "def check_inputs(a, *args, **kwargs):\n",
                "  for value in a:\n",
                "    time.sleep(0.01)\n",
                "  print('Finished checking inputs')\n",
                "def check_outputs(a, *args, **kwargs):\n",
                "  for value in a:\n",
                "    time.sleep(0.01)\n",
                "  print('Finished checking outputs')\n",
                "def check_everything(func):\n",
                "  @wraps(func)\n",
                "  def wrapper(*args, **kwargs):\n",
                "    check_inputs(*args, **kwargs)\n",
                "    result = func(*args, **kwargs)\n",
                "    check_outputs(result)\n",
                "    return result\n",
                "  return wrapper\n",
                "\n",
                "@check_everything\n",
                "def duplicate(my_list):\n",
                "  \"\"\"Return a new list that repeats the input twice\"\"\"\n",
                "  return my_list + my_list\n",
                "\n",
                "t_start = time.time()\n",
                "duplicated_list = duplicate(list(range(50)))\n",
                "t_end = time.time()\n",
                "decorated_time = t_end - t_start\n",
                "\n",
                "t_start = time.time()\n",
                "# Call the original function instead of the decorated one\n",
                "duplicated_list = duplicate.__wrapped__(list(range(50)))\n",
                "t_end = time.time()\n",
                "undecorated_time = t_end - t_start\n",
                "\n",
                "print('Decorated time: {:.5f}s'.format(decorated_time))\n",
                "print('Undecorated time: {:.5f}s'.format(undecorated_time))\n"
            ]
        },
        {
            "attachments": {},
            "cell_type": "markdown",
            "metadata": {},
            "source": [
                "</div>\n",
                "\n"
            ]
        },
        {
            "attachments": {},
            "cell_type": "markdown",
            "metadata": {},
            "source": [
                "<p class=\"\">Wow! Your function ran approximately 10,000 times faster without your boss's decorator. At least they were smart enough to add <code>@wraps(func)</code> to the nested <code>wrapper()</code> function so that you were able to access the original function. You should show them the results of this test. Be sure to ask for a raise while you're at it!</p>\n",
                "\n"
            ]
        },
        {
            "attachments": {},
            "cell_type": "markdown",
            "metadata": {},
            "source": [
                "## Decorators that take arguments\n",
                "\n",
                "\n",
                "\n"
            ]
        },
        {
            "cell_type": "code",
            "execution_count": 38,
            "metadata": {},
            "outputs": [
                {
                    "name": "stdout",
                    "output_type": "stream",
                    "text": [
                        "35\n",
                        "35\n",
                        "35\n",
                        "35\n",
                        "35\n",
                        "35\n",
                        "35\n",
                        "35\n",
                        "35\n",
                        "35\n"
                    ]
                }
            ],
            "source": [
                "# edited/added\n",
                "def run_n_times(n):\n",
                "  \"\"\"Define and return a decorator\"\"\"\n",
                "  def decorator(func):\n",
                "    def wrapper(*args, **kwargs):\n",
                "      for i in range(n):\n",
                "        func(*args, **kwargs)\n",
                "    return wrapper\n",
                "  return decorator\n",
                "\n",
                "# Make print_sum() run 10 times with the run_n_times() decorator\n",
                "@run_n_times(10)\n",
                "def print_sum(a, b):\n",
                "  print(a + b)\n",
                "  \n",
                "print_sum(15, 20)\n"
            ]
        },
        {
            "cell_type": "markdown",
            "metadata": {},
            "source": [
                "</div>\n",
                "\n",
                "<div class=\"exercise--instructions__content\"><p>Use <code>run_n_times()</code> to create a decorator <code>run_five_times()</code> that will run any function five times.</p></div>\n",
                "\n",
                "<div>\n"
            ]
        },
        {
            "cell_type": "code",
            "execution_count": 39,
            "metadata": {},
            "outputs": [
                {
                    "name": "stdout",
                    "output_type": "stream",
                    "text": [
                        "104\n",
                        "104\n",
                        "104\n",
                        "104\n",
                        "104\n"
                    ]
                }
            ],
            "source": [
                "# Use run_n_times() to create the run_five_times() decorator\n",
                "run_five_times = run_n_times(5)\n",
                "\n",
                "@run_five_times\n",
                "def print_sum(a, b):\n",
                "  print(a + b)\n",
                "  \n",
                "print_sum(4, 100)\n"
            ]
        },
        {
            "cell_type": "markdown",
            "metadata": {},
            "source": [
                "</div>\n",
                "\n",
                "<div class=\"exercise--instructions__content\"><p>Here's the prank: use <code>run_n_times()</code> to modify the built-in <code>print()</code> function so that it always prints 20 times!</p></div>\n",
                "\n",
                "<div>\n"
            ]
        },
        {
            "cell_type": "code",
            "execution_count": 40,
            "metadata": {},
            "outputs": [
                {
                    "name": "stdout",
                    "output_type": "stream",
                    "text": [
                        "What is happening?!?!\n",
                        "What is happening?!?!\n",
                        "What is happening?!?!\n",
                        "What is happening?!?!\n",
                        "What is happening?!?!\n",
                        "What is happening?!?!\n",
                        "What is happening?!?!\n",
                        "What is happening?!?!\n",
                        "What is happening?!?!\n",
                        "What is happening?!?!\n",
                        "What is happening?!?!\n",
                        "What is happening?!?!\n",
                        "What is happening?!?!\n",
                        "What is happening?!?!\n",
                        "What is happening?!?!\n",
                        "What is happening?!?!\n",
                        "What is happening?!?!\n",
                        "What is happening?!?!\n",
                        "What is happening?!?!\n",
                        "What is happening?!?!\n"
                    ]
                }
            ],
            "source": [
                "# Modify the print() function to always run 20 times\n",
                "print = run_n_times(20)(print)\n",
                "\n",
                "print('What is happening?!?!')\n"
            ]
        },
        {
            "attachments": {},
            "cell_type": "markdown",
            "metadata": {},
            "source": [
                "</div>\n",
                "\n"
            ]
        },
        {
            "attachments": {},
            "cell_type": "markdown",
            "metadata": {},
            "source": [
                "<p class=\"\">Good job!<br>Good job!<br>Good job!<br><br>You've become an expert at using decorators. Notice how when you use decorator syntax for a decorator that takes arguments, you need to call the decorator by adding parentheses, but you don't add parenthesis for decorators that don't take arguments.<br><br><em>Warning: overwriting commonly used functions is probably not a great idea, so think twice before using these powers for evil.</em></p>\n",
                "\n"
            ]
        },
        {
            "attachments": {},
            "cell_type": "markdown",
            "metadata": {},
            "source": [
                "### HTML Generator\n",
                "\n",
                "\n",
                "<div class>\n",
                "<p>You are writing a script that generates HTML for a webpage on the fly. So far, you have written two decorators that will add bold or italics tags to any function that returns a string. You notice, however, that these two decorators look very similar. Instead of writing a bunch of other similar looking decorators, you want to create one decorator, <code>html()</code>, that can take any pair of opening and closing tags.</p>\n",
                "<pre><code>def bold(func):\n",
                "  @wraps(func)\n",
                "  def wrapper(*args, **kwargs):\n",
                "    msg = func(*args, **kwargs)\n",
                "    return '&lt;b&gt;{}&lt;/b&gt;'.format(msg)\n",
                "  return wrapper\n",
                "</code></pre>\n",
                "<pre><code>def italics(func):\n",
                "  @wraps(func)\n",
                "  def wrapper(*args, **kwargs):\n",
                "    msg = func(*args, **kwargs)\n",
                "    return '&lt;i&gt;{}&lt;/i&gt;'.format(msg)\n",
                "  return wrapper\n",
                "</code></pre>\n",
                "</div>\n",
                "<div class=\"exercise--instructions__content\"><p>Return the decorator and the decorated function from the correct places in the new <code>html()</code> decorator.</p></div>\n",
                "\n",
                "<div>\n"
            ]
        },
        {
            "cell_type": "code",
            "execution_count": 41,
            "metadata": {},
            "outputs": [],
            "source": [
                "def html(open_tag, close_tag):\n",
                "  def decorator(func):\n",
                "    @wraps(func)\n",
                "    def wrapper(*args, **kwargs):\n",
                "      msg = func(*args, **kwargs)\n",
                "      return '{}{}{}'.format(open_tag, msg, close_tag)\n",
                "    # Return the decorated function\n",
                "    return wrapper\n",
                "  # Return the decorator\n",
                "  return decorator\n"
            ]
        },
        {
            "cell_type": "markdown",
            "metadata": {},
            "source": [
                "</div>\n",
                "\n",
                "<div class=\"exercise--instructions__content\"><p>Use the <code>html()</code> decorator to wrap the return value of <code>hello()</code> in the strings <code>&lt;b&gt;</code> and <code>&lt;/b&gt;</code> (the HTML tags that mean \"bold\").</p></div>\n",
                "\n",
                "<div>\n"
            ]
        },
        {
            "cell_type": "code",
            "execution_count": 42,
            "metadata": {},
            "outputs": [
                {
                    "name": "stdout",
                    "output_type": "stream",
                    "text": [
                        "<b>Hello Alice!</b>\n",
                        "<b>Hello Alice!</b>\n",
                        "<b>Hello Alice!</b>\n",
                        "<b>Hello Alice!</b>\n",
                        "<b>Hello Alice!</b>\n",
                        "<b>Hello Alice!</b>\n",
                        "<b>Hello Alice!</b>\n",
                        "<b>Hello Alice!</b>\n",
                        "<b>Hello Alice!</b>\n",
                        "<b>Hello Alice!</b>\n",
                        "<b>Hello Alice!</b>\n",
                        "<b>Hello Alice!</b>\n",
                        "<b>Hello Alice!</b>\n",
                        "<b>Hello Alice!</b>\n",
                        "<b>Hello Alice!</b>\n",
                        "<b>Hello Alice!</b>\n",
                        "<b>Hello Alice!</b>\n",
                        "<b>Hello Alice!</b>\n",
                        "<b>Hello Alice!</b>\n",
                        "<b>Hello Alice!</b>\n"
                    ]
                }
            ],
            "source": [
                "# Make hello() return bolded text\n",
                "@html('<b>', '</b>')\n",
                "def hello(name):\n",
                "  return 'Hello {}!'.format(name)\n",
                "\n",
                "print(hello('Alice'))\n"
            ]
        },
        {
            "cell_type": "markdown",
            "metadata": {},
            "source": [
                "</div>\n",
                "\n",
                "<div class=\"exercise--instructions__content\"><p>Use <code>html()</code> to wrap the return value of <code>goodbye()</code> in the strings <code>&lt;i&gt;</code> and <code>&lt;/i&gt;</code> (the HTML tags that mean \"italics\").</p></div>\n",
                "\n",
                "<div>\n"
            ]
        },
        {
            "cell_type": "code",
            "execution_count": 43,
            "metadata": {},
            "outputs": [
                {
                    "name": "stdout",
                    "output_type": "stream",
                    "text": [
                        "<i>Goodbye Alice.</i>\n",
                        "<i>Goodbye Alice.</i>\n",
                        "<i>Goodbye Alice.</i>\n",
                        "<i>Goodbye Alice.</i>\n",
                        "<i>Goodbye Alice.</i>\n",
                        "<i>Goodbye Alice.</i>\n",
                        "<i>Goodbye Alice.</i>\n",
                        "<i>Goodbye Alice.</i>\n",
                        "<i>Goodbye Alice.</i>\n",
                        "<i>Goodbye Alice.</i>\n",
                        "<i>Goodbye Alice.</i>\n",
                        "<i>Goodbye Alice.</i>\n",
                        "<i>Goodbye Alice.</i>\n",
                        "<i>Goodbye Alice.</i>\n",
                        "<i>Goodbye Alice.</i>\n",
                        "<i>Goodbye Alice.</i>\n",
                        "<i>Goodbye Alice.</i>\n",
                        "<i>Goodbye Alice.</i>\n",
                        "<i>Goodbye Alice.</i>\n",
                        "<i>Goodbye Alice.</i>\n"
                    ]
                }
            ],
            "source": [
                "# Make goodbye() return italicized text\n",
                "@html('<i>', '</i>')\n",
                "def goodbye(name):\n",
                "  return 'Goodbye {}.'.format(name)\n",
                "  \n",
                "print(goodbye('Alice'))\n"
            ]
        },
        {
            "cell_type": "markdown",
            "metadata": {},
            "source": [
                "</div>\n",
                "\n",
                "<div class=\"exercise--instructions__content\"><p>Use <code>html()</code> to wrap <code>hello_goodbye()</code> in a DIV, which is done by adding the strings <code>&lt;div&gt;</code> and <code>&lt;/div&gt;</code> tags around a string.</p></div>\n",
                "\n",
                "<div>\n"
            ]
        },
        {
            "cell_type": "code",
            "execution_count": 44,
            "metadata": {},
            "outputs": [
                {
                    "name": "stdout",
                    "output_type": "stream",
                    "text": [
                        "<div>\n",
                        "<b>Hello Alice!</b>\n",
                        "<i>Goodbye Alice.</i>\n",
                        "</div>\n",
                        "<div>\n",
                        "<b>Hello Alice!</b>\n",
                        "<i>Goodbye Alice.</i>\n",
                        "</div>\n",
                        "<div>\n",
                        "<b>Hello Alice!</b>\n",
                        "<i>Goodbye Alice.</i>\n",
                        "</div>\n",
                        "<div>\n",
                        "<b>Hello Alice!</b>\n",
                        "<i>Goodbye Alice.</i>\n",
                        "</div>\n",
                        "<div>\n",
                        "<b>Hello Alice!</b>\n",
                        "<i>Goodbye Alice.</i>\n",
                        "</div>\n",
                        "<div>\n",
                        "<b>Hello Alice!</b>\n",
                        "<i>Goodbye Alice.</i>\n",
                        "</div>\n",
                        "<div>\n",
                        "<b>Hello Alice!</b>\n",
                        "<i>Goodbye Alice.</i>\n",
                        "</div>\n",
                        "<div>\n",
                        "<b>Hello Alice!</b>\n",
                        "<i>Goodbye Alice.</i>\n",
                        "</div>\n",
                        "<div>\n",
                        "<b>Hello Alice!</b>\n",
                        "<i>Goodbye Alice.</i>\n",
                        "</div>\n",
                        "<div>\n",
                        "<b>Hello Alice!</b>\n",
                        "<i>Goodbye Alice.</i>\n",
                        "</div>\n",
                        "<div>\n",
                        "<b>Hello Alice!</b>\n",
                        "<i>Goodbye Alice.</i>\n",
                        "</div>\n",
                        "<div>\n",
                        "<b>Hello Alice!</b>\n",
                        "<i>Goodbye Alice.</i>\n",
                        "</div>\n",
                        "<div>\n",
                        "<b>Hello Alice!</b>\n",
                        "<i>Goodbye Alice.</i>\n",
                        "</div>\n",
                        "<div>\n",
                        "<b>Hello Alice!</b>\n",
                        "<i>Goodbye Alice.</i>\n",
                        "</div>\n",
                        "<div>\n",
                        "<b>Hello Alice!</b>\n",
                        "<i>Goodbye Alice.</i>\n",
                        "</div>\n",
                        "<div>\n",
                        "<b>Hello Alice!</b>\n",
                        "<i>Goodbye Alice.</i>\n",
                        "</div>\n",
                        "<div>\n",
                        "<b>Hello Alice!</b>\n",
                        "<i>Goodbye Alice.</i>\n",
                        "</div>\n",
                        "<div>\n",
                        "<b>Hello Alice!</b>\n",
                        "<i>Goodbye Alice.</i>\n",
                        "</div>\n",
                        "<div>\n",
                        "<b>Hello Alice!</b>\n",
                        "<i>Goodbye Alice.</i>\n",
                        "</div>\n",
                        "<div>\n",
                        "<b>Hello Alice!</b>\n",
                        "<i>Goodbye Alice.</i>\n",
                        "</div>\n"
                    ]
                }
            ],
            "source": [
                "# Wrap the result of hello_goodbye() in <div> and </div>\n",
                "@html('<div>', '</div>')\n",
                "def hello_goodbye(name):\n",
                "  return '\\n{}\\n{}\\n'.format(hello(name), goodbye(name))\n",
                "  \n",
                "print(hello_goodbye('Alice'))\n"
            ]
        },
        {
            "attachments": {},
            "cell_type": "markdown",
            "metadata": {},
            "source": [
                "</div>\n",
                "\n"
            ]
        },
        {
            "attachments": {},
            "cell_type": "markdown",
            "metadata": {},
            "source": [
                "<p class=\"\">That's some HTML hotness! With the new <code>html()</code> decorator you can focus on writing simple functions that return the information you want to display on the webpage and let the decorator take care of wrapping them in the appropriate HTML tags.</p>\n",
                "\n"
            ]
        },
        {
            "attachments": {},
            "cell_type": "markdown",
            "metadata": {},
            "source": [
                "## Timeout(): a real world example\n",
                "\n",
                "\n",
                "\n"
            ]
        },
        {
            "attachments": {},
            "cell_type": "markdown",
            "metadata": {},
            "source": [
                "### Tag your functions\n",
                "\n",
                "\n",
                "<div class>\n",
                "<p>Tagging something means that you have given that thing one or more strings that act as labels. For instance, we often tag emails or photos so that we can search for them later. You've decided to write a decorator that will let you tag your functions with an arbitrary list of tags. You could use these tags for many things:</p>\n",
                "<ul>\n",
                "<li>Adding information about who has worked on the function, so a user can look up who to ask if they run into trouble using it.</li>\n",
                "<li>Labeling functions as \"experimental\" so that users know that the inputs and outputs might change in the future.</li>\n",
                "<li>Marking any functions that you plan to remove in a future version of the code.</li>\n",
                "<li>Etc.</li>\n",
                "</ul>\n",
                "</div>\n",
                "\n",
                "<li>Define a new decorator, named <code>decorator()</code>, to return.</li>\n",
                "<li>Ensure the decorated function keeps its metadata.</li>\n",
                "<li>Call the function being decorated and return the result.</li>\n",
                "<li>Return the new decorator.</li>\n",
                "\n",
                "<div>\n"
            ]
        },
        {
            "cell_type": "code",
            "execution_count": 45,
            "metadata": {},
            "outputs": [
                {
                    "name": "stdout",
                    "output_type": "stream",
                    "text": [
                        "('test', 'this is a tag')\n",
                        "('test', 'this is a tag')\n",
                        "('test', 'this is a tag')\n",
                        "('test', 'this is a tag')\n",
                        "('test', 'this is a tag')\n",
                        "('test', 'this is a tag')\n",
                        "('test', 'this is a tag')\n",
                        "('test', 'this is a tag')\n",
                        "('test', 'this is a tag')\n",
                        "('test', 'this is a tag')\n",
                        "('test', 'this is a tag')\n",
                        "('test', 'this is a tag')\n",
                        "('test', 'this is a tag')\n",
                        "('test', 'this is a tag')\n",
                        "('test', 'this is a tag')\n",
                        "('test', 'this is a tag')\n",
                        "('test', 'this is a tag')\n",
                        "('test', 'this is a tag')\n",
                        "('test', 'this is a tag')\n",
                        "('test', 'this is a tag')\n"
                    ]
                }
            ],
            "source": [
                "def tag(*tags):\n",
                "  # Define a new decorator, named \"decorator\", to return\n",
                "  def decorator(func):\n",
                "    # Ensure the decorated function keeps its metadata\n",
                "    @wraps(func)\n",
                "    def wrapper(*args, **kwargs):\n",
                "      # Call the function being decorated and return the result\n",
                "      return func(*args, **kwargs)\n",
                "    wrapper.tags = tags\n",
                "    return wrapper\n",
                "  # Return the new decorator\n",
                "  return decorator\n",
                "\n",
                "@tag('test', 'this is a tag')\n",
                "def foo():\n",
                "  pass\n",
                "\n",
                "print(foo.tags)\n"
            ]
        },
        {
            "attachments": {},
            "cell_type": "markdown",
            "metadata": {},
            "source": [
                "</div>\n",
                "\n"
            ]
        },
        {
            "attachments": {},
            "cell_type": "markdown",
            "metadata": {},
            "source": [
                "<p class=\"\">Terrific tagging! With this new decorator, you can do some really interesting things. For instance, you could tag a bunch of image transforming functions, and then write code that searches for all of the functions that transform images and apply them, one after the other, on a given input image. What other neat uses can you come up with for this decorator?</p>\n",
                "\n"
            ]
        },
        {
            "attachments": {},
            "cell_type": "markdown",
            "metadata": {},
            "source": [
                "### Check the return type\n",
                "\n",
                "\n",
                "<div class>\n",
                "<p>Python's flexibility around data types is usually cited as one of the benefits of the language. It can sometimes cause problems though if incorrect data types go unnoticed. You've decided that in order to ensure your code is doing exactly what you want it to do, you will explicitly check the return types in all of your functions and make sure they're returning what you expect. To do that, you are going to create a decorator that checks if the return type of the decorated function is correct.</p>\n",
                "<p><em>Note</em>: <code>assert</code> is a keyword that you can use to test whether something is true. If you type <code>assert condition</code> and <code>condition</code> is <code>True</code>, this function doesn't do anything. If <code>condition</code> is <code>False</code>, this function raises an error. The type of error that it raises is called an <code>AssertionError</code>.</p>\n",
                "</div>\n",
                "\n",
                "<li>Start by completing the <code>returns_dict()</code> decorator so that it raises an <code>AssertionError</code> if the return type of the decorated function is not a dictionary.</li>\n",
                "\n",
                "<div>\n"
            ]
        },
        {
            "cell_type": "code",
            "execution_count": 46,
            "metadata": {},
            "outputs": [
                {
                    "name": "stdout",
                    "output_type": "stream",
                    "text": [
                        "foo() did not return a dict!\n",
                        "foo() did not return a dict!\n",
                        "foo() did not return a dict!\n",
                        "foo() did not return a dict!\n",
                        "foo() did not return a dict!\n",
                        "foo() did not return a dict!\n",
                        "foo() did not return a dict!\n",
                        "foo() did not return a dict!\n",
                        "foo() did not return a dict!\n",
                        "foo() did not return a dict!\n",
                        "foo() did not return a dict!\n",
                        "foo() did not return a dict!\n",
                        "foo() did not return a dict!\n",
                        "foo() did not return a dict!\n",
                        "foo() did not return a dict!\n",
                        "foo() did not return a dict!\n",
                        "foo() did not return a dict!\n",
                        "foo() did not return a dict!\n",
                        "foo() did not return a dict!\n",
                        "foo() did not return a dict!\n"
                    ]
                }
            ],
            "source": [
                "def returns_dict(func):\n",
                "  # Complete the returns_dict() decorator\n",
                "  def wrapper(*args, **kwargs):\n",
                "    result = func(*args, **kwargs)\n",
                "    assert type(result) == dict\n",
                "    return result\n",
                "  return wrapper\n",
                "\n",
                "@returns_dict\n",
                "def foo(value):\n",
                "  return value\n",
                "\n",
                "try:\n",
                "  print(foo([1,2,3]))\n",
                "except AssertionError:\n",
                "  print('foo() did not return a dict!')\n"
            ]
        },
        {
            "cell_type": "markdown",
            "metadata": {},
            "source": [
                "</div>\n",
                "<li>Now complete the <code>returns()</code> decorator, which takes the expected return type as an argument.</li>\n",
                "\n",
                "<div>\n"
            ]
        },
        {
            "cell_type": "code",
            "execution_count": 47,
            "metadata": {},
            "outputs": [
                {
                    "name": "stdout",
                    "output_type": "stream",
                    "text": [
                        "foo() did not return a dict!\n",
                        "foo() did not return a dict!\n",
                        "foo() did not return a dict!\n",
                        "foo() did not return a dict!\n",
                        "foo() did not return a dict!\n",
                        "foo() did not return a dict!\n",
                        "foo() did not return a dict!\n",
                        "foo() did not return a dict!\n",
                        "foo() did not return a dict!\n",
                        "foo() did not return a dict!\n",
                        "foo() did not return a dict!\n",
                        "foo() did not return a dict!\n",
                        "foo() did not return a dict!\n",
                        "foo() did not return a dict!\n",
                        "foo() did not return a dict!\n",
                        "foo() did not return a dict!\n",
                        "foo() did not return a dict!\n",
                        "foo() did not return a dict!\n",
                        "foo() did not return a dict!\n",
                        "foo() did not return a dict!\n"
                    ]
                }
            ],
            "source": [
                "def returns(return_type):\n",
                "  # Write a decorator that raises an AssertionError if the\n",
                "  # decorated function returns a value that is not return_type\n",
                "  def decorator(func):\n",
                "    def wrapper(*args, **kwargs):\n",
                "      result = func(*args, **kwargs)\n",
                "      assert type(result) == return_type\n",
                "      return result\n",
                "    return wrapper\n",
                "  return decorator\n",
                "  \n",
                "@returns(dict)\n",
                "def foo(value):\n",
                "  return value\n",
                "\n",
                "try:\n",
                "  print(foo([1,2,3]))\n",
                "except AssertionError:\n",
                "  print('foo() did not return a dict!')\n"
            ]
        },
        {
            "attachments": {},
            "cell_type": "markdown",
            "metadata": {},
            "source": [
                "</div>\n",
                "\n"
            ]
        },
        {
            "attachments": {},
            "cell_type": "markdown",
            "metadata": {},
            "source": [
                "<p class=\"\">You did it! We took the training wheels off on this exercise, and you still did a great job. You know how to write your own decorators now, but even more importantly, you know why they work the way they do.</p>\n",
                "\n"
            ]
        },
        {
            "cell_type": "markdown",
            "metadata": {},
            "source": [
                "## Great job!\n",
                "\n",
                "### Great job!\n",
                "\n",
                "Great job! You've covered a lot in this course.\n",
                "\n",
                "### Chapter 1 - Best Practices\n",
                "\n",
                "In the first chapter, you learned how to make high-quality functions by giving them docstrings and by making sure that they only do one thing. Remembering the acronym DRY, or \"Don't Repeat Yourself\", helped you notice when you needed to pull part of your code into a reusable function. You also learned about how Python passes arguments to functions and the difference between mutable and immutable variables.\n",
                "\n",
                "### Chapter 2 - Context Managers\n",
                "\n",
                "In the chapter on context managers, you learned how to use the keyword \"with\" to enter and then exit a context. You also learned how to write your own context managers by using the contextmanager() decorator.\n",
                "\n",
                "### Chapter 3 - Decorators\n",
                "\n",
                "You also spent a lot of time in this course understanding decorators: how they work, how to use them, and how to write decorators of your own.\n",
                "\n",
                "### Chapter 4 - More on Decorators\n",
                "\n",
                "Finally, in chapter 4, you learned how to use functools.wraps() to make sure your decorated functions maintain their metadata.\n",
                "\n",
                "### Chapter 4 - More on Decorators\n",
                "\n",
                "And you learned how to write decorators that take arguments.\n",
                "\n",
                "### Thank you!\n",
                "\n",
                "It has been an honor to spend this time with you. I wanted to let you know that I'll be donating a portion of the proceeds from this course to WiMLDS, a non-profit that helps support and promote women in the fields of machine learning and data science. I'll be looking forward to hearing about all of the amazing things you do with Python in the future!\n"
            ]
        }
    ],
    "metadata": {
        "anaconda-cloud": "",
        "kernelspec": {
            "display_name": "writing-functions-in-python",
            "language": "python",
            "name": "python3"
        },
        "language_info": {
            "codemirror_mode": {
                "name": "ipython",
                "version": 3
            },
            "file_extension": ".py",
            "mimetype": "text/x-python",
            "name": "python",
            "nbconvert_exporter": "python",
            "pygments_lexer": "ipython3",
            "version": "3.8.15"
        },
        "vscode": {
            "interpreter": {
                "hash": "c3396269df1812af81e389b216584c9f2574a60c81f7c81f122cedaca08ff646"
            }
        }
    },
    "nbformat": 4,
    "nbformat_minor": 1
}
