{
    "cells": [
        {
            "attachments": {},
            "cell_type": "markdown",
            "metadata": {},
            "source": [
                "<h3><a href=\"https://github.com/mclix85/datacamp\" target=\"_blank\">View Source Code</a></h3>\n",
                "\n",
                "<h3>Course Description</h3>\n",
                "\n",
                "As a Data Scientist, the majority of your time should be spent gleaning actionable insights from data -- not waiting for your code to finish running. Writing efficient Python code can help reduce runtime and save computational resources, ultimately freeing you up to do the things you love as a Data Scientist. In this course, you'll learn how to use Python's built-in data structures, functions, and modules to write cleaner, faster, and more efficient code. We'll explore how to time and profile code in order to find bottlenecks. Then, you'll practice eliminating these bottlenecks, and other bad design patterns, using Python's Standard Library, NumPy, and pandas. After completing this course, you'll have the necessary tools to start writing efficient Python code!\n",
                "\n"
            ]
        },
        {
            "attachments": {},
            "cell_type": "markdown",
            "metadata": {},
            "source": [
                "# Foundations for efficiencies\n",
                "\n",
                "<p class=\"chapter__description\">\n",
                "    In this chapter, you'll learn what it means to write efficient Python code. You'll explore Python's Standard Library, learn about NumPy arrays, and practice using some of Python's built-in tools.  This chapter builds a foundation for the concepts covered ahead.\n",
                "  </p>\n",
                "\n"
            ]
        },
        {
            "attachments": {},
            "cell_type": "markdown",
            "metadata": {},
            "source": [
                "## Welcome!\n",
                "\n",
                "\n",
                "\n"
            ]
        },
        {
            "attachments": {},
            "cell_type": "markdown",
            "metadata": {},
            "source": [
                "### Pop quiz: what is efficient\n",
                "\n",
                "<div class=\"\"><p>In the context of this course, what is meant by <em>efficient Python code</em>?</p></div>\n",
                "\n"
            ]
        },
        {
            "attachments": {},
            "cell_type": "markdown",
            "metadata": {},
            "source": [
                "- [x] Code that executes quickly for the task at hand, minimizes the memory footprint and follows Python's coding style principles.\n",
                "- [ ] Code that has a fast runtime, consumes a small amount of memory and can be verbose/hard to interpret (readability doesn't matter).\n",
                "- [ ] Code that returns a correct result regardless of the execution time and resource consumption.\n",
                "\n"
            ]
        },
        {
            "attachments": {},
            "cell_type": "markdown",
            "metadata": {},
            "source": [
                "<p class=\"dc-completion-pane__message dc-u-maxw-100pc\">Correct! Writing efficient Python code minimizes runtime and memory usage while also following the idioms in the <em>Zen of Python</em>.</p>\n",
                "\n"
            ]
        },
        {
            "attachments": {},
            "cell_type": "markdown",
            "metadata": {},
            "source": [
                "### A taste of things to come\n",
                "\n",
                "\n",
                "<div class>\n",
                "<p>In this exercise, you'll explore both the <em>Non-Pythonic</em> and <em>Pythonic</em> ways of looping over a list. </p>\n",
                "<pre><code>names = ['Jerry', 'Kramer', 'Elaine', 'George', 'Newman']\n",
                "</code></pre>\n",
                "<p>Suppose you wanted to collect the names in the above list that have six letters or more. In other programming languages, the typical approach is to create an index variable (<code>i</code>), use <code>i</code> to iterate over the list, and use an if statement to collect the names with six letters or more:</p>\n",
                "<pre><code>i = 0\n",
                "new_list= []\n",
                "while i &lt; len(names):\n",
                "    if len(names[i]) &gt;= 6:\n",
                "        new_list.append(names[i])\n",
                "    i += 1\n",
                "</code></pre>\n",
                "<p>Let's explore some more <em>Pythonic</em> ways of doing this.</p>\n",
                "</div>\n",
                "<div class=\"exercise--instructions__content\"><p>Print the list, <code>new_list</code>, that was created using a <em>Non-Pythonic</em> approach.</p></div>\n",
                "<div>\n"
            ]
        },
        {
            "cell_type": "code",
            "execution_count": null,
            "metadata": {
                "vscode": {
                    "languageId": "r"
                }
            },
            "outputs": [],
            "source": [
                "# edited/added\n",
                "names = ['Jerry', 'Kramer', 'Elaine', 'George', 'Newman']\n",
                "\n",
                "# Print the list created using the Non-Pythonic approach\n",
                "i = 0\n",
                "new_list= []\n",
                "while i < len(names):\n",
                "    if len(names[i]) >= 6:\n",
                "        new_list.append(names[i])\n",
                "    i += 1\n",
                "print(new_list)\n"
            ]
        },
        {
            "attachments": {},
            "cell_type": "markdown",
            "metadata": {},
            "source": [
                "</div>\n",
                "\n"
            ]
        },
        {
            "attachments": {},
            "cell_type": "markdown",
            "metadata": {},
            "source": [
                "<div class=\"exercise--instructions__content\"><p>A more <em>Pythonic</em> approach would loop over the contents of <code>names</code>, rather than using an index variable. Print <code>better_list</code>.</p></div>\n",
                "<div>\n"
            ]
        },
        {
            "cell_type": "code",
            "execution_count": null,
            "metadata": {
                "vscode": {
                    "languageId": "r"
                }
            },
            "outputs": [],
            "source": [
                "# Print the list created by looping over the contents of names\n",
                "better_list = []\n",
                "for name in names:\n",
                "    if len(name) >= 6:\n",
                "        better_list.append(name)\n",
                "print(better_list)\n"
            ]
        },
        {
            "attachments": {},
            "cell_type": "markdown",
            "metadata": {},
            "source": [
                "</div>\n",
                "\n"
            ]
        },
        {
            "attachments": {},
            "cell_type": "markdown",
            "metadata": {},
            "source": [
                "<div class=\"exercise--instructions__content\"><p>The best <em>Pythonic</em> way of doing this is by using list comprehension. Print <code>best_list</code>.</p></div>\n",
                "<div>\n"
            ]
        },
        {
            "cell_type": "code",
            "execution_count": null,
            "metadata": {
                "vscode": {
                    "languageId": "r"
                }
            },
            "outputs": [],
            "source": [
                "# Print the list created by using list comprehension\n",
                "best_list = [name for name in names if len(name) >= 6]\n",
                "print(best_list)\n"
            ]
        },
        {
            "attachments": {},
            "cell_type": "markdown",
            "metadata": {},
            "source": [
                "</div>\n",
                "\n"
            ]
        },
        {
            "attachments": {},
            "cell_type": "markdown",
            "metadata": {},
            "source": [
                "<p class=\"\">Great work! Don't get too caught up in the coding concepts just yet (you'll practice using lists, for loops, and list comprehensions later on). The important thing to notice here is that following some of Python's guiding principles allows you to write cleaner and more efficient code. <br> <br> Remember, <code>Pythonic code == efficient code</code>. You'll explore these, and other, Pythonic concepts later on in the course, but for now, this is just a taste of things to come!</p>\n",
                "\n"
            ]
        },
        {
            "attachments": {},
            "cell_type": "markdown",
            "metadata": {},
            "source": [
                "### Zen of Python\n",
                "\n",
                "\n",
                "<div class>\n",
                "<p>In the video, we covered the <em>Zen of Python</em> written by Tim Peters, which lists 19 idioms that serve as guiding principles for any Pythonista. Python has hundreds of <em>Python Enhancement Proposals</em>, commonly referred to as <em>PEPs</em>. The <em>Zen of Python</em> is one of these <em>PEPs</em> and is documented as <a href=\"https://www.python.org/dev/peps/pep-0020/\">PEP20</a>.</p>\n",
                "<p>One little Easter Egg in Python is the ability to print the <em>Zen of Python</em> using the command <code>import this</code>.  Let's take a look at one of the idioms listed in these guiding principles.</p>\n",
                "<p>Type and run the command <code>import this</code> within your IPython console and answer the following question:</p>\n",
                "<hr>\n",
                "<p>What is the 7th idiom of the Zen of Python?</p>\n",
                "</div>\n",
                "\n"
            ]
        },
        {
            "attachments": {},
            "cell_type": "markdown",
            "metadata": {},
            "source": [
                "- [ ] Flat is better than nested.\n",
                "- [ ] Beautiful is better than ugly.\n",
                "- [x] Readability counts.\n",
                "- [ ] Python is the best programming language ever.\n",
                "\n"
            ]
        },
        {
            "attachments": {},
            "cell_type": "markdown",
            "metadata": {},
            "source": [
                "<p class=\"\">That's correct! Python has a design philosophy that emphasizes readability. Throughout the course, you'll see that writing efficient Python code goes hand in hand with writing code that is easy to understand. Faster code is good, but faster &amp; readable code is best!</p>\n",
                "\n"
            ]
        },
        {
            "attachments": {},
            "cell_type": "markdown",
            "metadata": {},
            "source": [
                "\n",
                "## Building with built-ins\n",
                "\n",
                "\n",
                "\n"
            ]
        },
        {
            "attachments": {},
            "cell_type": "markdown",
            "metadata": {},
            "source": [
                "### Built-in practice: range()\n",
                "\n",
                "\n",
                "<div class>\n",
                "<p>In this exercise, you will practice using Python's built-in function <code>range()</code>. Remember that you can use <code>range()</code> in a few different ways:</p>\n",
                "<p><strong>1)</strong> Create a sequence of numbers from 0 to a stop value (which is <em>exclusive</em>). This is useful when you want to create a simple sequence of numbers starting at zero:</p>\n",
                "<pre><code>range(stop)</code>\n",
                "\n",
                "<code># Example\n",
                "list(range(11))\n",
                "\n",
                "[0, 1, 2, 3, 4, 5, 6, 7, 8, 9, 10]\n",
                "</code></pre>\n",
                "<p><strong>2)</strong> Create a sequence of numbers from a start value to a stop value (which is <em>exclusive</em>) with a step size. This is useful when you want to create a sequence of numbers that increments by some value other than one. For example, a list of even numbers:</p>\n",
                "<pre><code>range(start, stop, step)</code>\n",
                "\n",
                "<code># Example\n",
                "list(range(2,11,2))\n",
                "\n",
                "[2, 4, 6, 8, 10]\n",
                "</code></pre>\n",
                "</div>\n",
                "\n",
                "<li>Create a <em>range object</em> that starts at zero and ends at five. Only use a <code>stop</code> argument.</li>\n",
                "<li>Convert the <code>nums</code> variable into a list called <code>nums_list</code>.</li>\n",
                "<li>Create a new list called <code>nums_list2</code> that starts at <strong>one</strong>, ends at <strong>eleven</strong>, and increments by <strong>two</strong> by unpacking a <em>range object</em> using the star character (<code>*</code>).</li>\n",
                "<div>\n"
            ]
        },
        {
            "cell_type": "code",
            "execution_count": null,
            "metadata": {
                "vscode": {
                    "languageId": "r"
                }
            },
            "outputs": [],
            "source": [
                "# Create a range object that goes from 0 to 5\n",
                "nums = range(6)\n",
                "print(type(nums))\n",
                "\n",
                "# Convert nums to a list\n",
                "nums_list = list(nums)\n",
                "print(nums_list)\n"
            ]
        },
        {
            "cell_type": "markdown",
            "metadata": {},
            "source": [
                "</div>\n",
                "<div>\n"
            ]
        },
        {
            "cell_type": "code",
            "execution_count": null,
            "metadata": {
                "vscode": {
                    "languageId": "r"
                }
            },
            "outputs": [],
            "source": [
                "# Create a new list of odd numbers from 1 to 11 by unpacking a range object\n",
                "nums_list2 = [*range(1,12,2)]\n",
                "print(nums_list2)\n"
            ]
        },
        {
            "attachments": {},
            "cell_type": "markdown",
            "metadata": {},
            "source": [
                "</div>\n",
                "\n"
            ]
        },
        {
            "attachments": {},
            "cell_type": "markdown",
            "metadata": {},
            "source": [
                "<p class=\"\">Nicely done! Notice that using Python's <code>range()</code> function allows you to create a <em>range object</em> of numbers without explicitly typing them out. You can convert the <em>range object</em> into a list by using the <code>list()</code> function or by unpacking it into a list using the star character (<code>*</code>). Cool!</p>\n",
                "\n"
            ]
        },
        {
            "attachments": {},
            "cell_type": "markdown",
            "metadata": {},
            "source": [
                "### Built-in practice: enumerate()\n",
                "\n",
                "\n",
                "<div class>\n",
                "<p>In this exercise, you'll practice using Python's built-in function <code>enumerate()</code>. This function is useful for obtaining an indexed list. For example, suppose you had a list of people that arrived at a party you are hosting. The list is ordered by arrival (Jerry was the first to arrive, followed by Kramer, etc.):</p>\n",
                "<pre><code>names = ['Jerry', 'Kramer', 'Elaine', 'George', 'Newman']\n",
                "</code></pre>\n",
                "<p>If you wanted to attach an index representing a person's arrival order, you <em>could</em> use the following for loop:</p>\n",
                "<pre><code>indexed_names = []\n",
                "for i in range(len(names)):\n",
                "    index_name = (i, names[i])\n",
                "    indexed_names.append(index_name)\n",
                "\n",
                "[(0,'Jerry'),(1,'Kramer'),(2,'Elaine'),(3,'George'),(4,'Newman')]\n",
                "</code></pre>\n",
                "<p>But, that's not the most efficient solution. Let's explore how to use <code>enumerate()</code> to make this more efficient.</p>\n",
                "</div>\n",
                "\n",
                "<li>Instead of using <code>for i in range(len(names))</code>, update the for loop to use <code>i</code> as the index variable and <code>name</code> as the iterator variable and use <code>enumerate()</code>.</li>\n",
                "<li>Rewrite the previous for loop using <code>enumerate()</code> and list comprehension to create a new list, <code>indexed_names_comp</code>.</li>\n",
                "<li>Create another list (<code>indexed_names_unpack</code>) by using the star character (<code>*</code>) to unpack the <em>enumerate object</em> created from using <code>enumerate()</code> on <code>names</code>. This time, <strong>start the index for</strong> <code>enumerate()</code> <strong>at one instead of zero.</strong>\n",
                "</li>\n",
                "<div>\n"
            ]
        },
        {
            "cell_type": "code",
            "execution_count": null,
            "metadata": {
                "vscode": {
                    "languageId": "r"
                }
            },
            "outputs": [],
            "source": [
                "# Rewrite the for loop to use enumerate\n",
                "indexed_names = []\n",
                "for i,name in enumerate(names):\n",
                "    index_name = (i,name)\n",
                "    indexed_names.append(index_name) \n",
                "print(indexed_names)\n"
            ]
        },
        {
            "cell_type": "markdown",
            "metadata": {},
            "source": [
                "</div>\n",
                "<div>\n"
            ]
        },
        {
            "cell_type": "code",
            "execution_count": null,
            "metadata": {
                "vscode": {
                    "languageId": "r"
                }
            },
            "outputs": [],
            "source": [
                "# Rewrite the above for loop using list comprehension\n",
                "indexed_names_comp = [(i,name) for i,name in enumerate(names)]\n",
                "print(indexed_names_comp)\n"
            ]
        },
        {
            "cell_type": "markdown",
            "metadata": {},
            "source": [
                "</div>\n",
                "<div>\n"
            ]
        },
        {
            "cell_type": "code",
            "execution_count": null,
            "metadata": {
                "vscode": {
                    "languageId": "r"
                }
            },
            "outputs": [],
            "source": [
                "# Unpack an enumerate object with a starting index of one\n",
                "indexed_names_unpack = [*enumerate(names, 1)]\n",
                "print(indexed_names_unpack)\n"
            ]
        },
        {
            "attachments": {},
            "cell_type": "markdown",
            "metadata": {},
            "source": [
                "</div>\n",
                "\n"
            ]
        },
        {
            "attachments": {},
            "cell_type": "markdown",
            "metadata": {},
            "source": [
                "<p class=\"\">Awesome! Using Python's built-in <code>enumerate()</code> function allows you to create an index for each item in the object you give it. You can use list comprehension, or even unpack the <em>enumerate object</em> directly into a list, to write a nice simple one-liner.</p>\n",
                "\n"
            ]
        },
        {
            "attachments": {},
            "cell_type": "markdown",
            "metadata": {},
            "source": [
                "### Built-in practice: map()\n",
                "\n",
                "\n",
                "<div class>\n",
                "<p>In this exercise, you'll practice using Python's built-in <code>map()</code> function to apply a function to every element of an object. Let's look at a list of party guests:</p>\n",
                "<pre><code>names = ['Jerry', 'Kramer', 'Elaine', 'George', 'Newman']\n",
                "</code></pre>\n",
                "<p>Suppose you wanted to create a new list (called <code>names_uppercase</code>) that converted all the letters in each name to uppercase. you could accomplish this with the below for loop:</p>\n",
                "<pre><code>names_uppercase = []\n",
                "\n",
                "for name in names:\n",
                "  names_uppercase.append(name.upper())\n",
                "\n",
                "['JERRY', 'KRAMER', 'ELAINE', 'GEORGE', 'NEWMAN']\n",
                "</code></pre>\n",
                "<p>Let's explore using the <code>map()</code> function to do this more efficiently in one line of code.</p>\n",
                "</div>\n",
                "\n",
                "<li>Use <code>map()</code> and the method <code>str.upper()</code> to convert each name in the list <code>names</code> to uppercase. Save this to the variable <code>names_map</code>.</li>\n",
                "<li>Print the data type of <code>names_map</code>.</li>\n",
                "<li>Unpack the contents of <code>names_map</code> into a list called <code>names_uppercase</code> using the star character (<code>*</code>).</li>\n",
                "<li>Print <code>names_uppercase</code> and observe its contents.</li>\n",
                "<div>\n"
            ]
        },
        {
            "cell_type": "code",
            "execution_count": null,
            "metadata": {
                "vscode": {
                    "languageId": "r"
                }
            },
            "outputs": [],
            "source": [
                "# Use map to apply str.upper to each element in names\n",
                "names_map  = map(str.upper, names)\n",
                "\n",
                "# Print the type of the names_map\n",
                "print(type(names_map))\n"
            ]
        },
        {
            "cell_type": "markdown",
            "metadata": {},
            "source": [
                "</div>\n",
                "<div>\n"
            ]
        },
        {
            "cell_type": "code",
            "execution_count": null,
            "metadata": {
                "vscode": {
                    "languageId": "r"
                }
            },
            "outputs": [],
            "source": [
                "# Unpack names_map into a list\n",
                "names_uppercase = [*names_map]\n",
                "\n",
                "# Print the list created above\n",
                "print(names_uppercase)\n"
            ]
        },
        {
            "attachments": {},
            "cell_type": "markdown",
            "metadata": {},
            "source": [
                "</div>\n",
                "\n"
            ]
        },
        {
            "attachments": {},
            "cell_type": "markdown",
            "metadata": {},
            "source": [
                "<p class=\"\">Well done! You used Python's built-in <code>map()</code> function to apply the <code>str.upper()</code> method to each element in the <code>names</code> object. Later on in the course, you'll explore how using <code>map()</code> can provide some efficiency improvements to your code.</p>\n",
                "\n"
            ]
        },
        {
            "attachments": {},
            "cell_type": "markdown",
            "metadata": {},
            "source": [
                "## The power of NumPy arrays\n",
                "\n",
                "\n",
                "\n"
            ]
        },
        {
            "attachments": {},
            "cell_type": "markdown",
            "metadata": {},
            "source": [
                "### Practice with NumPy arrays\n",
                "\n",
                "\n",
                "<div class>\n",
                "<p>Let's practice slicing <code>numpy</code> arrays and using NumPy's broadcasting concept. Remember, broadcasting refers to a <code>numpy</code> array's ability to vectorize operations, so they are performed on all elements of an object at once.</p>\n",
                "<p>A two-dimensional <code>numpy</code> array has been loaded into your session (called <code>nums</code>) and printed into the console for your convenience. <code>numpy</code> has been imported into your session as <code>np</code>.</p>\n",
                "</div>\n",
                "<div>\n"
            ]
        },
        {
            "cell_type": "code",
            "execution_count": null,
            "metadata": {
                "vscode": {
                    "languageId": "r"
                }
            },
            "outputs": [],
            "source": [
                "# edited/added\n",
                "import numpy as np\n",
                "nums = np.array([[ 1,  2,  3,  4,  5], [ 6,  7,  8,  9, 10]])\n"
            ]
        },
        {
            "attachments": {},
            "cell_type": "markdown",
            "metadata": {},
            "source": [
                "</div>\n"
            ]
        },
        {
            "attachments": {},
            "cell_type": "markdown",
            "metadata": {},
            "source": [
                "<li>Print the second row of <code>nums</code>.</li>\n",
                "<li>Print the items of <code>nums</code> that are greater than six.</li>\n",
                "<li>Create <code>nums_dbl</code> that doubles each number in <code>nums</code>.</li>\n",
                "<li>Replace the third column in <code>nums</code> with a new column that adds <code>1</code> to each item in the original column.</li>\n",
                "<div>\n"
            ]
        },
        {
            "cell_type": "code",
            "execution_count": null,
            "metadata": {
                "vscode": {
                    "languageId": "r"
                }
            },
            "outputs": [],
            "source": [
                "# Print second row of nums\n",
                "print(nums[1,:])\n",
                "\n",
                "# Print all elements of nums that are greater than six\n",
                "print(nums[nums > 6])\n"
            ]
        },
        {
            "cell_type": "markdown",
            "metadata": {},
            "source": [
                "</div>\n",
                "<div>\n"
            ]
        },
        {
            "cell_type": "code",
            "execution_count": null,
            "metadata": {
                "vscode": {
                    "languageId": "r"
                }
            },
            "outputs": [],
            "source": [
                "# Double every element of nums\n",
                "nums_dbl = nums * 2\n",
                "print(nums_dbl)\n"
            ]
        },
        {
            "cell_type": "markdown",
            "metadata": {},
            "source": [
                "</div>\n",
                "<div>\n"
            ]
        },
        {
            "cell_type": "code",
            "execution_count": null,
            "metadata": {
                "vscode": {
                    "languageId": "r"
                }
            },
            "outputs": [],
            "source": [
                "# Replace the third column of nums\n",
                "nums[:,2] = nums[:,2] + 1\n",
                "print(nums)\n"
            ]
        },
        {
            "attachments": {},
            "cell_type": "markdown",
            "metadata": {},
            "source": [
                "</div>\n",
                "\n",
                "\n",
                "\n"
            ]
        },
        {
            "attachments": {},
            "cell_type": "markdown",
            "metadata": {},
            "source": [
                "<div class=\"\"><p>When compared to a list object, what are two advantages of using a <code>numpy</code> array?</p></div>"
            ]
        },
        {
            "attachments": {},
            "cell_type": "markdown",
            "metadata": {},
            "source": [
                "- [ ] A <code>numpy</code> array is the only data structure that can be used with the <code>numpy</code> package and often has less verbose indexing syntax.\n",
                "- [x] A <code>numpy</code> array contains homogeneous data types (which reduces memory consumption) and provides the ability to apply operations on all elements through broadcasting.\n",
                "- [ ] A <code>numpy</code> array supports boolean indexing and has much better one-dimensional indexing capabilities.\n",
                "- [ ] Both a list object and a <code>numpy</code> array are identical.\n",
                "\n"
            ]
        },
        {
            "attachments": {},
            "cell_type": "markdown",
            "metadata": {},
            "source": [
                "<p class=\"\">Well done! You're slicing <code>numpy</code> arrays like a pro and learning how to take advantage of NumPy's broadcasting concept. Using <code>numpy</code> arrays allows you to take advantage of an array's memory efficient nature and easily perform mathematical operations on your data.</p>\n",
                "\n"
            ]
        },
        {
            "attachments": {},
            "cell_type": "markdown",
            "metadata": {},
            "source": [
                "### Bringing it all together: Festivus!\n",
                "\n",
                "\n",
                "<div class>\n",
                "<p>In this exercise, you will be throwing a party—a Festivus if you will! </p>\n",
                "<p>You have a list of guests (the <code>names</code> list). Each guest, for whatever reason, has decided to show up to the party in 10-minute increments. For example, Jerry shows up to Festivus 10 minutes into the party's start time, Kramer shows up 20 minutes into the party, and so on and so forth.</p>\n",
                "<p>We want to write a few simple lines of code, using the built-ins we have covered, to welcome each of your guests and let them know how many minutes late they are to your party. Note that <code>numpy</code> has been imported into your session as <code>np</code> and the <code>names</code> list has been loaded as well.</p>\n",
                "<p>Let's welcome your guests!</p>\n",
                "</div>\n",
                "<div>\n"
            ]
        },
        {
            "cell_type": "code",
            "execution_count": null,
            "metadata": {
                "vscode": {
                    "languageId": "r"
                }
            },
            "outputs": [],
            "source": [
                "# edited/added\n",
                "def welcome_guest(guest_and_time):\n",
                "    \"\"\"\n",
                "    Returns a welcome string for the guest_and_time tuple.\n",
                "    \n",
                "    Args:\n",
                "        guest_and_time (tuple): The guest and time tuple to create\n",
                "            a welcome string for.\n",
                "            \n",
                "    Returns:\n",
                "        welcome_string (str): A string welcoming the guest to Festivus.\n",
                "        'Welcome to Festivus {guest}... You're {time} min late.'\n",
                "    \n",
                "    \"\"\"\n",
                "    guest = guest_and_time[0]\n",
                "    arrival_time = guest_and_time[1]\n",
                "    welcome_string = \"Welcome to Festivus {}... You're {} min late.\".format(guest,arrival_time)\n",
                "    return welcome_string\n"
            ]
        },
        {
            "attachments": {},
            "cell_type": "markdown",
            "metadata": {},
            "source": [
                "</div>\n"
            ]
        },
        {
            "attachments": {},
            "cell_type": "markdown",
            "metadata": {},
            "source": [
                "<li>Use <code>range()</code> to create a list of arrival times (10 through 50 incremented by 10). Create the list <code>arrival_times</code> by unpacking the <em>range object</em>.</li>\n",
                "<div>\n"
            ]
        },
        {
            "cell_type": "code",
            "execution_count": null,
            "metadata": {
                "vscode": {
                    "languageId": "r"
                }
            },
            "outputs": [],
            "source": [
                "# Create a list of arrival times\n",
                "arrival_times = [*range(10, 60, 10)]\n",
                "\n",
                "print(arrival_times)\n"
            ]
        },
        {
            "cell_type": "markdown",
            "metadata": {},
            "source": [
                "</div>\n",
                "\n",
                "<li>You realize your clock is three minutes fast. Convert the <code>arrival_times</code> list into a <code>numpy</code> array (called <code>arrival_times_np</code>) and use NumPy broadcasting to subtract three minutes from each arrival time.</li>\n",
                "<div>\n"
            ]
        },
        {
            "cell_type": "code",
            "execution_count": null,
            "metadata": {
                "vscode": {
                    "languageId": "r"
                }
            },
            "outputs": [],
            "source": [
                "# Create a list of arrival times\n",
                "arrival_times = [*range(10,60,10)]\n",
                "\n",
                "# Convert arrival_times to an array and update the times\n",
                "arrival_times_np = np.array(arrival_times)\n",
                "new_times = arrival_times_np - 3\n",
                "\n",
                "print(new_times)\n"
            ]
        },
        {
            "cell_type": "markdown",
            "metadata": {},
            "source": [
                "</div>\n",
                "\n",
                "<li>Use list comprehension with <code>enumerate()</code> to pair each guest in the <code>names</code> list to their updated arrival time in the <code>new_times</code> array. You'll need to use the index variable created from using <code>enumerate()</code> on <code>new_times</code> to index the <code>names</code> list.</li>\n",
                "<div>\n"
            ]
        },
        {
            "cell_type": "code",
            "execution_count": null,
            "metadata": {
                "vscode": {
                    "languageId": "r"
                }
            },
            "outputs": [],
            "source": [
                "# Create a list of arrival times\n",
                "arrival_times = [*range(10,60,10)]\n",
                "\n",
                "# Convert arrival_times to an array and update the times\n",
                "arrival_times_np = np.array(arrival_times)\n",
                "new_times = arrival_times_np - 3\n",
                "\n",
                "# Use list comprehension and enumerate to pair guests to new times\n",
                "guest_arrivals = [(names[i],time) for i,time in enumerate(new_times)]\n",
                "\n",
                "print(guest_arrivals)\n"
            ]
        },
        {
            "cell_type": "markdown",
            "metadata": {},
            "source": [
                "</div>\n",
                "\n",
                "<li>A function named <code>welcome_guest()</code> has been pre-loaded into your session. Use <code>map()</code> to apply this function to each element of the <code>guest_arrivals</code> list and save it as the variable <code>welcome_map</code>.</li>\n",
                "<div>\n"
            ]
        },
        {
            "cell_type": "code",
            "execution_count": null,
            "metadata": {
                "vscode": {
                    "languageId": "r"
                }
            },
            "outputs": [],
            "source": [
                "# Create a list of arrival times\n",
                "arrival_times = [*range(10,60,10)]\n",
                "\n",
                "# Convert arrival_times to an array and update the times\n",
                "arrival_times_np = np.array(arrival_times)\n",
                "new_times = arrival_times_np - 3\n",
                "\n",
                "# Use list comprehension and enumerate to pair guests to new times\n",
                "guest_arrivals = [(names[i],time) for i,time in enumerate(new_times)]\n",
                "\n",
                "# Map the welcome_guest function to each (guest,time) pair\n",
                "welcome_map = map(welcome_guest, guest_arrivals)\n",
                "\n",
                "guest_welcomes = [*welcome_map]\n",
                "print(*guest_welcomes, sep='\\n')\n"
            ]
        },
        {
            "attachments": {},
            "cell_type": "markdown",
            "metadata": {},
            "source": [
                "</div>\n",
                "\n"
            ]
        },
        {
            "attachments": {},
            "cell_type": "markdown",
            "metadata": {},
            "source": [
                "<p class=\"\">Congratulations and happy Festivus! You're using Python built-ins like a pro and well on your way to writing efficient Python code. Believe it or not, there is a way to make these simple lines of code even more efficient! We'll cover this in a future chapter, so continue on to see how!</p>\n",
                "\n"
            ]
        },
        {
            "attachments": {},
            "cell_type": "markdown",
            "metadata": {},
            "source": [
                "# Timing and profiling code\n",
                "\n",
                "<p class=\"\">In this chapter, you will learn how to gather and compare runtimes between different coding approaches.  You'll practice using the line_profiler and memory_profiler packages to profile your code base and spot bottlenecks. Then, you'll put your learnings to practice by replacing these bottlenecks with efficient Python code.</p>\n",
                "\n"
            ]
        },
        {
            "attachments": {},
            "cell_type": "markdown",
            "metadata": {},
            "source": [
                "## Examining runtime\n",
                "\n",
                "\n",
                "\n"
            ]
        },
        {
            "attachments": {},
            "cell_type": "markdown",
            "metadata": {},
            "source": [
                "### Using %timeit: your turn!\n",
                "\n",
                "\n",
                "<div class>\n",
                "<p>You'd like to create a list of integers from 0 to 50 using the <code>range()</code> function. However, you are unsure whether using list comprehension or unpacking the <em>range object</em> into a list is faster. Let's use <code>%timeit</code> to find the best implementation.</p>\n",
                "<p>For your convenience, a reference table of time orders of magnitude is provided below (faster at the top). </p>\n",
                "<table>\n",
                "<thead><tr>\n",
                "<th>symbol</th>\n",
                "<th>name</th>\n",
                "<th>unit (s)</th>\n",
                "</tr></thead>\n",
                "<tbody>\n",
                "<tr>\n",
                "<td>ns</td>\n",
                "<td>nanosecond</td>\n",
                "<td>10<sup>-9</sup>\n",
                "</td>\n",
                "</tr>\n",
                "<tr>\n",
                "<td>µs (us)</td>\n",
                "<td>microsecond</td>\n",
                "<td>10<sup>-6</sup>\n",
                "</td>\n",
                "</tr>\n",
                "<tr>\n",
                "<td>ms</td>\n",
                "<td>millisecond</td>\n",
                "<td>10<sup>-3</sup>\n",
                "</td>\n",
                "</tr>\n",
                "<tr>\n",
                "<td>s</td>\n",
                "<td>second</td>\n",
                "<td>10<sup>0</sup>\n",
                "</td>\n",
                "</tr>\n",
                "</tbody>\n",
                "</table>\n",
                "</div>\n",
                "\n",
                "<li>Use list comprehension and <code>range()</code> to create a list of integers from 0 to 50 called <code>nums_list_comp</code>.</li>\n",
                "<div>\n"
            ]
        },
        {
            "cell_type": "code",
            "execution_count": null,
            "metadata": {
                "vscode": {
                    "languageId": "r"
                }
            },
            "outputs": [],
            "source": [
                "# Create a list of integers (0-50) using list comprehension\n",
                "nums_list_comp = [num for num in range(51)]\n",
                "print(nums_list_comp)\n"
            ]
        },
        {
            "attachments": {},
            "cell_type": "markdown",
            "metadata": {},
            "source": [
                "</div>\n",
                "\n",
                "<li>Use <code>range()</code> to create a list of integers from 0 to 50 and unpack its contents into a list called <code>nums_unpack</code>.</li>\n",
                "\n",
                "<div>\n"
            ]
        },
        {
            "cell_type": "code",
            "execution_count": null,
            "metadata": {
                "vscode": {
                    "languageId": "r"
                }
            },
            "outputs": [],
            "source": [
                "# Create a list of integers (0-50) using list comprehension\n",
                "nums_list_comp = [num for num in range(51)]\n",
                "print(nums_list_comp)\n"
            ]
        },
        {
            "cell_type": "markdown",
            "metadata": {},
            "source": [
                "</div>\n",
                "<div>\n"
            ]
        },
        {
            "cell_type": "code",
            "execution_count": null,
            "metadata": {
                "vscode": {
                    "languageId": "r"
                }
            },
            "outputs": [],
            "source": [
                "# Create a list of integers (0-50) by unpacking range\n",
                "nums_unpack = [*range(51)]\n",
                "print(nums_unpack)\n"
            ]
        },
        {
            "attachments": {},
            "cell_type": "markdown",
            "metadata": {},
            "source": [
                "</div>\n",
                "\n",
                "<div class=\"\"><p>Use <code>%timeit</code> <strong>within your IPython console</strong> (i.e. <strong>not</strong> within the script.py window) to compare the runtimes for creating a list of integers from 0 to 50 using list comprehension vs. unpacking the <em>range object</em>. Don't include the <code>print()</code> statements when timing.</p>\n",
                "<p><strong>Which method was faster?</strong></p></div>\n",
                "\n"
            ]
        },
        {
            "attachments": {},
            "cell_type": "markdown",
            "metadata": {},
            "source": [
                "- [ ] List comprehension was faster than unpacking <code>range()</code>.\n",
                "- [x] Unpacking the <em>range object</em> was faster than list comprehension.\n",
                "- [ ] Both methods had the same runtime.\n",
                "\n"
            ]
        },
        {
            "attachments": {},
            "cell_type": "markdown",
            "metadata": {},
            "source": [
                "<p class=\"\">Nice work! You used <code>%timeit</code> to gather and compare runtimes! Although list comprehension is a useful and powerful tool, sometimes unpacking an object can save time and looks a little cleaner.</p>\n",
                "\n"
            ]
        },
        {
            "attachments": {},
            "cell_type": "markdown",
            "metadata": {},
            "source": [
                "### Using %timeit: specifying number of runs and loops\n",
                "\n",
                "\n",
                "<div class>\n",
                "<p>A list of 480 superheroes has been loaded into your session (called <code>heroes</code>). You'd like to analyze the runtime for converting this <code>heroes</code> list into a set. Instead of relying on the default settings for <code>%timeit</code>, you'd like to only use 5 runs and 25 loops per each run.</p>\n",
                "<p><strong>What is the correct syntax when using <code>%timeit</code> and only using 5 runs with 25 loops per each run?</strong></p>\n",
                "</div>\n",
                "\n"
            ]
        },
        {
            "attachments": {},
            "cell_type": "markdown",
            "metadata": {},
            "source": [
                "- [ ] <code>timeit -runs5 -loops25 set(heroes)</code>\n",
                "- [ ] <code>%%timeit -r5 -n25 set(heroes)</code>\n",
                "- [ ] <code>%timeit set(heroes), 5, 25</code>\n",
                "- [x] <code>%timeit -r5 -n25 set(heroes)</code>\n",
                "\n"
            ]
        },
        {
            "attachments": {},
            "cell_type": "markdown",
            "metadata": {},
            "source": [
                "<p class=\"\">Correct! <code>%timeit</code> lets you specify the number of runs and number of loops you want to consider with the <code>-r</code> and <code>-n</code> flags. You can use <code>-r5</code> and <code>-n25</code> to specify 5 iterations each with 25 loops when calculating the average and standard deviation of runtime for your code.</p>\n",
                "\n"
            ]
        },
        {
            "attachments": {},
            "cell_type": "markdown",
            "metadata": {},
            "source": [
                "### Using %timeit: formal name or literal syntax\n",
                "\n",
                "\n",
                "<div class>\n",
                "<p>Python allows you to create data structures using <strong>either</strong> a <em>formal name</em> or a <em>literal syntax</em>. In this exercise, you'll explore how using a <em>literal syntax</em> for creating a data structure can speed up runtimes.</p>\n",
                "<table>\n",
                "<thead><tr>\n",
                "<th>data structure</th>\n",
                "<th>formal name</th>\n",
                "<th>literal syntax</th>\n",
                "</tr></thead>\n",
                "<tbody>\n",
                "<tr>\n",
                "<td>list</td>\n",
                "<td><code>list()</code></td>\n",
                "<td><code>[]</code></td>\n",
                "</tr>\n",
                "<tr>\n",
                "<td>dictionary</td>\n",
                "<td><code>dict()</code></td>\n",
                "<td><code>{}</code></td>\n",
                "</tr>\n",
                "<tr>\n",
                "<td>tuple</td>\n",
                "<td><code>tuple()</code></td>\n",
                "<td><code>()</code></td>\n",
                "</tr>\n",
                "</tbody>\n",
                "</table>\n",
                "</div>\n",
                "\n",
                "<li>Create an empty list called <code>formal_list</code> using the formal name (<code>list()</code>).</li>\n",
                "<li>Create an empty list called <code>literal_list</code> using the literal syntax (<code>[]</code>).</li>\n",
                "<div>\n"
            ]
        },
        {
            "attachments": {},
            "cell_type": "markdown",
            "metadata": {},
            "source": []
        },
        {
            "cell_type": "code",
            "execution_count": null,
            "metadata": {
                "vscode": {
                    "languageId": "r"
                }
            },
            "outputs": [],
            "source": [
                "# Create a list using the formal name\n",
                "formal_list = list()\n",
                "print(formal_list)\n"
            ]
        },
        {
            "cell_type": "markdown",
            "metadata": {},
            "source": [
                "</div>\n",
                "<div>\n"
            ]
        },
        {
            "cell_type": "code",
            "execution_count": null,
            "metadata": {
                "vscode": {
                    "languageId": "r"
                }
            },
            "outputs": [],
            "source": [
                "# Create a list using the literal syntax\n",
                "literal_list = []\n",
                "print(literal_list)\n"
            ]
        },
        {
            "cell_type": "markdown",
            "metadata": {},
            "source": [
                "</div>\n",
                "\n",
                "<li>Print out the type of <code>formal_list</code> and <code>literal_list</code> to show that both naming conventions create a list.</li>\n",
                "<div>\n"
            ]
        },
        {
            "cell_type": "code",
            "execution_count": null,
            "metadata": {
                "vscode": {
                    "languageId": "r"
                }
            },
            "outputs": [],
            "source": [
                "# Create a list using the formal name\n",
                "formal_list = list()\n",
                "print(formal_list)\n"
            ]
        },
        {
            "cell_type": "markdown",
            "metadata": {},
            "source": [
                "</div>\n",
                "<div>\n"
            ]
        },
        {
            "cell_type": "code",
            "execution_count": null,
            "metadata": {
                "vscode": {
                    "languageId": "r"
                }
            },
            "outputs": [],
            "source": [
                "# Create a list using the literal syntax\n",
                "literal_list = []\n",
                "print(literal_list)\n"
            ]
        },
        {
            "cell_type": "markdown",
            "metadata": {},
            "source": [
                "</div>\n",
                "<div>\n"
            ]
        },
        {
            "cell_type": "code",
            "execution_count": null,
            "metadata": {
                "vscode": {
                    "languageId": "r"
                }
            },
            "outputs": [],
            "source": [
                "# Print out the type of formal_list\n",
                "print(type(formal_list))\n"
            ]
        },
        {
            "cell_type": "markdown",
            "metadata": {},
            "source": [
                "</div>\n",
                "<div>\n"
            ]
        },
        {
            "cell_type": "code",
            "execution_count": null,
            "metadata": {
                "vscode": {
                    "languageId": "r"
                }
            },
            "outputs": [],
            "source": [
                "# Print out the type of literal_list\n",
                "print(type(literal_list))\n"
            ]
        },
        {
            "attachments": {},
            "cell_type": "markdown",
            "metadata": {},
            "source": [
                "</div>\n",
                "\n",
                "<div class=\"\"><p>Use <code>%timeit</code> <strong>in your IPython console</strong> to compare runtimes between creating a list using the formal name (<code>list()</code>) and the literal syntax (<code>[]</code>). Don't include the <code>print()</code> statements when timing.</p>\n",
                "<p><strong>Which naming convention is faster?</strong></p></div>\n",
                "\n"
            ]
        },
        {
            "cell_type": "code",
            "execution_count": null,
            "metadata": {
                "vscode": {
                    "languageId": "r"
                }
            },
            "outputs": [],
            "source": [
                "# edited/added\n",
                "import pandas as pd\n",
                "heroes = pd.read_csv(\"https://docs.google.com/spreadsheets/d/e/2PACX-1vSoeJegBxXU61LsAJQ4sPPrw99EJXBccEfiC3fhrj6TQCnhZ5Q4J8P7oCP-TtR1W6Z3d9TMcCYc32Xy/pub?gid=1531075102&single=true&output=csv\", header = None).iloc[:,0].tolist()\n",
                "publishers = pd.read_csv(\"https://docs.google.com/spreadsheets/d/e/2PACX-1vSoeJegBxXU61LsAJQ4sPPrw99EJXBccEfiC3fhrj6TQCnhZ5Q4J8P7oCP-TtR1W6Z3d9TMcCYc32Xy/pub?gid=1911812864&single=true&output=csv\", header = None).iloc[:,0].tolist()\n",
                "\n",
                "def get_publisher_heroes(heroes, publishers, desired_publisher):\n",
                "\n",
                "    desired_heroes = []\n",
                "\n",
                "    for i,pub in enumerate(publishers):\n",
                "        if pub == desired_publisher:\n",
                "            desired_heroes.append(heroes[i])\n",
                "\n",
                "    return desired_heroes\n",
                "  \n",
                "def get_publisher_heroes_np(heroes, publishers, desired_publisher):\n",
                "\n",
                "    heroes_np = np.array(heroes)\n",
                "    pubs_np = np.array(publishers)\n",
                "\n",
                "    desired_heroes = heroes_np[pubs_np == desired_publisher]\n",
                "\n",
                "    return desired_heroes\n"
            ]
        },
        {
            "cell_type": "markdown",
            "metadata": {},
            "source": [
                "</div>\n",
                "<li>Use the <code>get_publisher_heroes()</code> function and the <code>get_publisher_heroes_np()</code> function to collect heroes from the Star Wars universe. The <code>desired_publisher</code> for Star Wars is <code>'George Lucas'</code>.</li>\n",
                "<div>\n"
            ]
        },
        {
            "cell_type": "code",
            "execution_count": null,
            "metadata": {
                "vscode": {
                    "languageId": "r"
                }
            },
            "outputs": [],
            "source": [
                "# Use get_publisher_heroes() to gather Star Wars heroes\n",
                "star_wars_heroes = get_publisher_heroes(heroes, publishers, 'George Lucas')\n",
                "\n",
                "print(star_wars_heroes)\n",
                "print(type(star_wars_heroes))\n"
            ]
        },
        {
            "cell_type": "markdown",
            "metadata": {},
            "source": [
                "</div>\n",
                "<div>\n"
            ]
        },
        {
            "cell_type": "code",
            "execution_count": null,
            "metadata": {
                "vscode": {
                    "languageId": "r"
                }
            },
            "outputs": [],
            "source": [
                "# Use get_publisher_heroes_np() to gather Star Wars heroes\n",
                "star_wars_heroes_np = get_publisher_heroes_np(heroes, publishers, 'George Lucas')\n",
                "\n",
                "print(star_wars_heroes_np)\n",
                "print(type(star_wars_heroes_np))\n"
            ]
        },
        {
            "attachments": {},
            "cell_type": "markdown",
            "metadata": {},
            "source": [
                "</div>\n",
                "\n",
                "<div class=\"\"><ul>\n",
                "<li><strong>Within your IPython console</strong>, load the <code>line_profiler</code> and use <code>%lprun</code> to profile the two functions for line-by-line runtime. When using <code>%lprun</code>, use each function to gather the Star Wars heroes as you did in the previous step. After you've finished profiling, answer the following question:</li>\n",
                "</ul>\n",
                "<p><strong>Which function has the fastest runtime?</strong></p></div>\n",
                "\n"
            ]
        },
        {
            "attachments": {},
            "cell_type": "markdown",
            "metadata": {},
            "source": [
                "- [ ] <code>get_publisher_heroes()</code> is faster.\n",
                "- [x] <code>get_publisher_heroes_np()</code> is faster.\n",
                "- [ ] Both functions have the same runtime.\n",
                "\n"
            ]
        },
        {
            "attachments": {},
            "cell_type": "markdown",
            "metadata": {},
            "source": [
                "<div class=\"\"><ul>\n",
                "<li><strong>Within your IPython console</strong>, load the <code>memory_profiler</code> and use <code>%mprun</code> to profile the two functions for line-by-line memory consumption.</li>\n",
                "</ul>\n",
                "<p>The <code>get_publisher_heroes()</code> function and <code>get_publisher_heroes_np()</code> function have been saved within a file titled <code>hero_funcs.py</code> (i.e., you can import both functions from <code>hero_funcs</code>). When using <code>%mprun</code>, use each function to gather the Star Wars heroes as you did in the previous step. After you've finished profiling, answer the following question:</p>\n",
                "<p><strong>Which function uses the least amount of memory?</strong></p></div>\n",
                "\n"
            ]
        },
        {
            "attachments": {},
            "cell_type": "markdown",
            "metadata": {},
            "source": [
                "- [ ] <code>get_publisher_heroes()</code> consumes less memory.\n",
                "- [ ] <code>get_publisher_heroes_np()</code> consumes less memory.\n",
                "- [x] Both functions have the same memory consumption.\n",
                "\n"
            ]
        },
        {
            "attachments": {},
            "cell_type": "markdown",
            "metadata": {},
            "source": [
                "<div class=\"\"><p>Based on your runtime profiling and memory allocation profiling, which function would you choose to gather Star Wars heroes?</p></div>\n",
                "\n"
            ]
        },
        {
            "attachments": {},
            "cell_type": "markdown",
            "metadata": {},
            "source": [
                "- [ ] I would use <code>get_publisher_heroes()</code>.\n",
                "- [x] I would use <code>get_publisher_heroes_np()</code>.\n",
                "- [ ] I could use either function since their runtimes, and memory usage were identical.\n",
                "\n"
            ]
        },
        {
            "attachments": {},
            "cell_type": "markdown",
            "metadata": {},
            "source": [
                "<p class=\"\">The Force is strong with this one! You're timing and profiling like a true Jedi. Now that you have the tools to evaluate code efficiencies, it's time to put them to use and start writing efficient Python code.</p>\n",
                "\n"
            ]
        },
        {
            "attachments": {},
            "cell_type": "markdown",
            "metadata": {},
            "source": [
                "# Gaining efficiencies\n",
                "\n",
                "<p class=\"\">This chapter covers more complex efficiency tips and tricks. You'll learn a few useful built-in modules for writing efficient code and practice using set theory.  You'll then learn about looping patterns in Python and how to make them more efficient.</p>\n",
                "\n"
            ]
        },
        {
            "attachments": {},
            "cell_type": "markdown",
            "metadata": {},
            "source": [
                "## Efficiently combining, counting, and iterating\n",
                "\n",
                "\n",
                "\n"
            ]
        },
        {
            "attachments": {},
            "cell_type": "markdown",
            "metadata": {},
            "source": [
                "### Combining Pokémon names and types\n",
                "\n",
                "\n",
                "<div class>\n",
                "<p>Three lists have been loaded into your session from a dataset that contains 720 Pokémon:</p>\n",
                "<ul>\n",
                "<li>The <code>names</code> list contains the names of each Pokémon.</li>\n",
                "<li>The <code>primary_types</code> list contains the corresponding <strong>primary</strong> type of each Pokémon.</li>\n",
                "<li>The <code>secondary_types</code> list contains the corresponding <strong>secondary</strong> type of each Pokémon (<code>nan</code> if the Pokémon has only one type).</li>\n",
                "</ul>\n",
                "<p>We want to combine each Pokémon's name and types together so that you easily see a description of each Pokémon. Practice using <code>zip()</code> to accomplish this task.</p>\n",
                "</div>\n",
                "<div class=\"exercise--instructions__content\"><p>Combine the <code>names</code> list and the <code>primary_types</code> list into a new list object (called <code>names_type1</code>).</p></div>\n",
                "<div>\n"
            ]
        },
        {
            "cell_type": "code",
            "execution_count": null,
            "metadata": {
                "vscode": {
                    "languageId": "r"
                }
            },
            "outputs": [],
            "source": [
                "# edited/added\n",
                "names = pd.read_csv(\"https://docs.google.com/spreadsheets/d/e/2PACX-1vSoeJegBxXU61LsAJQ4sPPrw99EJXBccEfiC3fhrj6TQCnhZ5Q4J8P7oCP-TtR1W6Z3d9TMcCYc32Xy/pub?gid=728081830&single=true&output=csv\", header = None).iloc[:,0].tolist()\n",
                "primary_types = pd.read_csv(\"https://docs.google.com/spreadsheets/d/e/2PACX-1vSoeJegBxXU61LsAJQ4sPPrw99EJXBccEfiC3fhrj6TQCnhZ5Q4J8P7oCP-TtR1W6Z3d9TMcCYc32Xy/pub?gid=1599592048&single=true&output=csv\", header = None).iloc[:,0].tolist()\n",
                "secondary_types = pd.read_csv(\"https://docs.google.com/spreadsheets/d/e/2PACX-1vSoeJegBxXU61LsAJQ4sPPrw99EJXBccEfiC3fhrj6TQCnhZ5Q4J8P7oCP-TtR1W6Z3d9TMcCYc32Xy/pub?gid=1185014273&single=true&output=csv\", header = None).iloc[:,0].tolist()\n",
                "\n",
                "# Combine names and primary_types\n",
                "names_type1 = [*zip(names, primary_types)]\n",
                "\n",
                "print(*names_type1[:5], sep='\\n')\n"
            ]
        },
        {
            "cell_type": "markdown",
            "metadata": {},
            "source": [
                "</div>\n",
                "\n",
                "<div class=\"exercise--instructions__content\"><p>Combine <code>names</code>, <code>primary_types</code>, and <code>secondary_types</code> (in that order) using <code>zip()</code> and unpack the <em>zip object</em> into a new list.</p></div>\n",
                "<div>\n"
            ]
        },
        {
            "cell_type": "code",
            "execution_count": null,
            "metadata": {
                "vscode": {
                    "languageId": "r"
                }
            },
            "outputs": [],
            "source": [
                "# Combine all three lists together\n",
                "names_types = [*zip(names, primary_types, secondary_types)]\n",
                "\n",
                "print(*names_types[:5], sep='\\n')\n"
            ]
        },
        {
            "cell_type": "markdown",
            "metadata": {},
            "source": [
                "</div>\n",
                "\n",
                "<div class=\"exercise--instructions__content\"><p>Use <code>zip()</code> to combine the <strong>first five items</strong> from the <code>names</code> list and the <strong>first three items</strong> from the <code>primary_types</code> list.</p></div>\n",
                "<div>\n"
            ]
        },
        {
            "cell_type": "code",
            "execution_count": null,
            "metadata": {
                "vscode": {
                    "languageId": "r"
                }
            },
            "outputs": [],
            "source": [
                "# Combine five items from names and three items from primary_types\n",
                "differing_lengths = [*zip(names[:5], primary_types[:3])]\n",
                "\n",
                "print(*differing_lengths, sep='\\n')\n"
            ]
        },
        {
            "attachments": {},
            "cell_type": "markdown",
            "metadata": {},
            "source": [
                "</div>\n",
                "\n"
            ]
        },
        {
            "attachments": {},
            "cell_type": "markdown",
            "metadata": {},
            "source": [
                "<p class=\"\">Good job! You practiced using <code>zip()</code> to combine multiple objects together. This is a nice function that allows you to easily combine two or more objects. <br> <br> Did you notice that if you provide <code>zip()</code> with objects of differing lengths, it will only combine until the smallest lengthed object is exhausted?</p>\n",
                "\n"
            ]
        },
        {
            "attachments": {},
            "cell_type": "markdown",
            "metadata": {},
            "source": [
                "### Counting Pokémon from a sample\n",
                "\n",
                "\n",
                "<div class>\n",
                "<p>A sample of 500 Pokémon has been generated, and three lists from this sample have been loaded into your session:</p>\n",
                "<ul>\n",
                "<li>The <code>names</code> list contains the names of each Pokémon in the sample.</li>\n",
                "<li>The <code>primary_types</code> list containing the corresponding <strong>primary</strong> type of each Pokémon in the sample.</li>\n",
                "<li>The <code>generations</code> list contains the corresponding <strong>generation</strong> of each Pokémon in the sample.</li>\n",
                "</ul>\n",
                "<p>You want to quickly gather a few counts from these lists to better understand the sample that was generated. Use <code>Counter</code> from the <code>collections</code> module to explore what types of Pokémon are in your sample, what generations they come from, and how many Pokémon have a name that starts with a specific letter.</p>\n",
                "<p><code>Counter</code> has already been imported into your session for convenience.</p>\n",
                "</div>\n",
                "<div>\n"
            ]
        },
        {
            "cell_type": "code",
            "execution_count": null,
            "metadata": {
                "vscode": {
                    "languageId": "r"
                }
            },
            "outputs": [],
            "source": [
                "# edited/added\n",
                "from collections import Counter\n",
                "names = pd.read_csv(\"https://docs.google.com/spreadsheets/d/e/2PACX-1vSoeJegBxXU61LsAJQ4sPPrw99EJXBccEfiC3fhrj6TQCnhZ5Q4J8P7oCP-TtR1W6Z3d9TMcCYc32Xy/pub?gid=1939281460&single=true&output=csv\", header = None).iloc[:,0].tolist()\n",
                "primary_types = pd.read_csv(\"https://docs.google.com/spreadsheets/d/e/2PACX-1vSoeJegBxXU61LsAJQ4sPPrw99EJXBccEfiC3fhrj6TQCnhZ5Q4J8P7oCP-TtR1W6Z3d9TMcCYc32Xy/pub?gid=642695943&single=true&output=csv\", header = None).iloc[:,0].tolist()\n",
                "generations = pd.read_csv(\"https://docs.google.com/spreadsheets/d/e/2PACX-1vSoeJegBxXU61LsAJQ4sPPrw99EJXBccEfiC3fhrj6TQCnhZ5Q4J8P7oCP-TtR1W6Z3d9TMcCYc32Xy/pub?gid=1609546095&single=true&output=csv\", header = None).iloc[:,0].tolist()\n"
            ]
        },
        {
            "cell_type": "markdown",
            "metadata": {},
            "source": [
                "</div>\n",
                "<li>Collect the count of each primary type from the sample.</li>\n",
                "<li>Collect the count of each generation from the sample.</li>\n",
                "<li>Use list comprehension to collect the first letter of each Pokémon in the <code>names</code> list. Save this as <code>starting_letters</code>.</li>\n",
                "<li>Collect the count of starting letters from the <code>starting_letters</code> list. Save this as <code>starting_letters_count</code>.</li>\n",
                "<div>\n"
            ]
        },
        {
            "cell_type": "code",
            "execution_count": null,
            "metadata": {
                "vscode": {
                    "languageId": "r"
                }
            },
            "outputs": [],
            "source": [
                "# Collect the count of primary types\n",
                "type_count = Counter(primary_types)\n",
                "print(type_count, '\\n')\n"
            ]
        },
        {
            "cell_type": "markdown",
            "metadata": {},
            "source": [
                "</div>\n",
                "<div>\n"
            ]
        },
        {
            "cell_type": "code",
            "execution_count": null,
            "metadata": {
                "vscode": {
                    "languageId": "r"
                }
            },
            "outputs": [],
            "source": [
                "# Collect the count of generations\n",
                "gen_count = Counter(generations)\n",
                "print(gen_count, '\\n')\n"
            ]
        },
        {
            "cell_type": "markdown",
            "metadata": {},
            "source": [
                "</div>\n",
                "<div>\n"
            ]
        },
        {
            "cell_type": "code",
            "execution_count": null,
            "metadata": {
                "vscode": {
                    "languageId": "r"
                }
            },
            "outputs": [],
            "source": [
                "# Use list comprehension to get each Pokémon's starting letter\n",
                "starting_letters = [name[0] for name in names]\n",
                "\n",
                "# Collect the count of Pokémon for each starting_letter\n",
                "starting_letters_count = Counter(starting_letters)\n",
                "print(starting_letters_count)\n"
            ]
        },
        {
            "attachments": {},
            "cell_type": "markdown",
            "metadata": {},
            "source": [
                "</div>\n",
                "\n"
            ]
        },
        {
            "attachments": {},
            "cell_type": "markdown",
            "metadata": {},
            "source": [
                "<p class=\"\">Great job! You used <code>Counter</code> from the <code>collections</code> module to better understand the sample of 500 Pokémon that was generated. The sample's most common Pokémon type was <code>'Water'</code> and the sample's least common Pokémon types were <code>'Ghost'</code> and <code>'Dark'</code>. Did you also notice that most of the Pokémon in the sample came from generation <code>5</code> and had a starting letter of <code>'S'</code>?</p>\n",
                "\n"
            ]
        },
        {
            "attachments": {},
            "cell_type": "markdown",
            "metadata": {},
            "source": [
                "### Combinations of Pokémon\n",
                "\n",
                "\n",
                "<div class>\n",
                "<p>Ash, a Pokémon trainer, encounters a group of five Pokémon. These Pokémon have been loaded into a list within your session (called <code>pokemon</code>) and printed into the console for your convenience.</p>\n",
                "<p>Ash would like to try to catch some of these Pokémon, but his Pokédex can only store <strong>two</strong> Pokémon at a time. Let's use <code>combinations</code> from the <code>itertools</code> module to see what the possible pairs of Pokémon are that Ash could catch.</p>\n",
                "</div>\n",
                "<div>\n"
            ]
        },
        {
            "cell_type": "code",
            "execution_count": null,
            "metadata": {
                "vscode": {
                    "languageId": "r"
                }
            },
            "outputs": [],
            "source": [
                "# edited/added\n",
                "pokemon = ['Geodude', 'Cubone', 'Lickitung', 'Persian', 'Diglett']\n"
            ]
        },
        {
            "cell_type": "markdown",
            "metadata": {},
            "source": [
                "</div>\n",
                "<li>Import <code>combinations</code> from <code>itertools</code>.</li>\n",
                "<li>Create a <em>combinations object</em> called <code>combos_obj</code> that contains all possible pairs of Pokémon from the <code>pokemon</code> list. A pair has <code>2</code> Pokémon.</li>\n",
                "<li>Unpack <code>combos_obj</code> into a list called <code>combos_2</code>.</li>\n",
                "<li>Ash upgraded his Pokédex so that it can now store <strong>four</strong> Pokémon. Use <code>combinations</code> to collect all possible combinations of <code>4</code> different Pokémon. Save these combinations <strong>directly into a list</strong> called <code>combos_4</code> using the star character (<code>*</code>).</li>\n",
                "<div>\n"
            ]
        },
        {
            "cell_type": "code",
            "execution_count": null,
            "metadata": {
                "vscode": {
                    "languageId": "r"
                }
            },
            "outputs": [],
            "source": [
                "# Import combinations from itertools\n",
                "from itertools import combinations\n",
                "\n",
                "# Create a combination object with pairs of Pokémon\n",
                "combos_obj = combinations(pokemon, 2)\n",
                "print(type(combos_obj), '\\n')\n"
            ]
        },
        {
            "cell_type": "markdown",
            "metadata": {},
            "source": [
                "</div>\n",
                "<div>\n"
            ]
        },
        {
            "cell_type": "code",
            "execution_count": null,
            "metadata": {
                "vscode": {
                    "languageId": "r"
                }
            },
            "outputs": [],
            "source": [
                "# Convert combos_obj to a list by unpacking\n",
                "combos_2 = [*combos_obj]\n",
                "print(combos_2, '\\n')\n"
            ]
        },
        {
            "cell_type": "markdown",
            "metadata": {},
            "source": [
                "</div>\n",
                "<div>\n"
            ]
        },
        {
            "cell_type": "code",
            "execution_count": null,
            "metadata": {
                "vscode": {
                    "languageId": "r"
                }
            },
            "outputs": [],
            "source": [
                "# Collect all possible combinations of 4 Pokémon directly into a list\n",
                "combos_4 = [*combinations(pokemon, 4)]\n",
                "print(combos_4)\n"
            ]
        },
        {
            "attachments": {},
            "cell_type": "markdown",
            "metadata": {},
            "source": [
                "</div>\n",
                "\n"
            ]
        },
        {
            "attachments": {},
            "cell_type": "markdown",
            "metadata": {},
            "source": [
                "<p class=\"\">Awesome! You used <code>combinations()</code> from <code>itertools</code> to collect various combination-tuples from a list. <code>combinations()</code> allows you to specify any size of combinations by passing an integer as the second argument. Ash has <code>10</code> combination options when his Pokédex can store only two Pokémon. He has <code>5</code> combination options when his Pokédex can store four Pokémon.</p>\n",
                "\n"
            ]
        },
        {
            "attachments": {},
            "cell_type": "markdown",
            "metadata": {},
            "source": [
                "## Set theory\n",
                "\n",
                "\n",
                "\n"
            ]
        },
        {
            "attachments": {},
            "cell_type": "markdown",
            "metadata": {},
            "source": [
                "### Comparing Pokédexes\n",
                "\n",
                "\n",
                "<div class>\n",
                "<p>Two Pokémon trainers, Ash and Misty, would like to compare their individual collections of Pokémon. Let's see what Pokémon they have in common and what Pokémon Ash has that Misty does not.</p>\n",
                "<p>Both Ash and Misty's Pokédex (their collection of Pokémon) have been loaded into your session as lists called <code>ash_pokedex</code> and <code>misty_pokedex</code>. They have been printed into the console for your convenience.</p>\n",
                "</div>\n",
                "<div>\n"
            ]
        },
        {
            "cell_type": "code",
            "execution_count": null,
            "metadata": {
                "vscode": {
                    "languageId": "r"
                }
            },
            "outputs": [],
            "source": [
                "# edited/added\n",
                "ash_pokedex = ['Pikachu', 'Bulbasaur', 'Koffing', 'Spearow', 'Vulpix', 'Wigglytuff', 'Zubat', 'Rattata', 'Psyduck', 'Squirtle'] \n",
                "misty_pokedex = ['Krabby', 'Horsea', 'Slowbro', 'Tentacool', 'Vaporeon', 'Magikarp', 'Poliwag', 'Starmie', 'Psyduck', 'Squirtle']\n"
            ]
        },
        {
            "cell_type": "markdown",
            "metadata": {},
            "source": [
                "</div>\n",
                "<li>Convert both lists (<code>ash_pokedex</code> and <code>misty_pokedex</code>) to sets called <code>ash_set</code> and <code>misty_set</code> respectively.</li>\n",
                "<li>Find the Pokémon that both Ash and Misty have in common using a set method.</li>\n",
                "<li>Find the Pokémon that are within Ash's Pokédex but <strong>are not</strong> within Misty's Pokédex with a set method.</li>\n",
                "<li>Use a set method to find the Pokémon that are unique to <strong>either</strong> Ash or Misty (i.e., the Pokémon that exist in <strong>exactly one</strong> of the Pokédexes but not both).</li>\n",
                "<div>\n"
            ]
        },
        {
            "cell_type": "code",
            "execution_count": null,
            "metadata": {
                "vscode": {
                    "languageId": "r"
                }
            },
            "outputs": [],
            "source": [
                "# Convert both lists to sets\n",
                "ash_set = set(ash_pokedex)\n",
                "misty_set = set(misty_pokedex)\n",
                "\n",
                "# Find the Pokémon that exist in both sets\n",
                "both = ash_set.intersection(misty_set)\n",
                "print(both)\n"
            ]
        },
        {
            "cell_type": "markdown",
            "metadata": {},
            "source": [
                "</div>\n",
                "<div>\n"
            ]
        },
        {
            "cell_type": "code",
            "execution_count": null,
            "metadata": {
                "vscode": {
                    "languageId": "r"
                }
            },
            "outputs": [],
            "source": [
                "# Find the Pokémon that Ash has, and Misty does not have\n",
                "ash_only = ash_set.difference(misty_set)\n",
                "print(ash_only)\n"
            ]
        },
        {
            "cell_type": "markdown",
            "metadata": {},
            "source": [
                "</div>\n",
                "<div>\n"
            ]
        },
        {
            "cell_type": "code",
            "execution_count": null,
            "metadata": {
                "vscode": {
                    "languageId": "r"
                }
            },
            "outputs": [],
            "source": [
                "# Find the Pokémon that are in only one set (not both)\n",
                "unique_to_set = ash_set.symmetric_difference(misty_set)\n",
                "print(unique_to_set)\n"
            ]
        },
        {
            "attachments": {},
            "cell_type": "markdown",
            "metadata": {},
            "source": [
                "</div>\n",
                "\n"
            ]
        },
        {
            "attachments": {},
            "cell_type": "markdown",
            "metadata": {},
            "source": [
                "<p class=\"\">Great work! Using sets lets you do some cool comparisons between objects without the need to write a for loop. With a few lines of code, you were able to see that both Ash and Misty have <code>'Psyduck'</code> and <code>'Squirtle'</code> in their Pokédex. You were also able to see that Ash has <code>8</code> Pokémon that Misty does not have.</p>\n",
                "\n"
            ]
        },
        {
            "attachments": {},
            "cell_type": "markdown",
            "metadata": {},
            "source": [
                "### Searching for Pokémon\n",
                "\n",
                "\n",
                "<div class>\n",
                "<p>Two Pokémon trainers, Ash and Brock, have a collection of ten Pokémon each. Each trainer's Pokédex (their collection of Pokémon) has been loaded into your session as lists called <code>ash_pokedex</code> and <code>brock_pokedex</code> respectively.</p>\n",
                "<p>You'd like to see if certain Pokémon are members of either Ash or Brock's Pokédex.</p>\n",
                "<p>Let's compare using a <code>set</code> versus using a <code>list</code> when performing this membership testing.</p>\n",
                "</div>\n",
                "<div>\n"
            ]
        },
        {
            "cell_type": "code",
            "execution_count": null,
            "metadata": {
                "vscode": {
                    "languageId": "r"
                }
            },
            "outputs": [],
            "source": [
                "# edited/added\n",
                "brock_pokedex = ['Onix', 'Geodude', 'Zubat', 'Golem', 'Vulpix', 'Tauros', 'Kabutops', 'Omastar', 'Machop', 'Dugtrio']\n"
            ]
        },
        {
            "cell_type": "markdown",
            "metadata": {},
            "source": [
                "</div>\n",
                "<li>Convert Brock's Pokédex list (<code>brock_pokedex</code>) to a set called <code>brock_pokedex_set</code>.</li>\n",
                "<div>\n"
            ]
        },
        {
            "cell_type": "code",
            "execution_count": null,
            "metadata": {
                "vscode": {
                    "languageId": "r"
                }
            },
            "outputs": [],
            "source": [
                "# Convert Brock's Pokédex to a set\n",
                "brock_pokedex_set = set(brock_pokedex)\n",
                "print(brock_pokedex_set)\n"
            ]
        },
        {
            "cell_type": "markdown",
            "metadata": {},
            "source": [
                "</div>\n",
                "<li>Check if <code>'Psyduck'</code> is in Ash's Pokédex list (<code>ash_pokedex</code>) and if <code>'Psyduck'</code> is in Brock's Pokédex <strong>set</strong> (<code>brock_pokedex_set</code>).</li>\n",
                "<div>\n"
            ]
        },
        {
            "cell_type": "code",
            "execution_count": null,
            "metadata": {
                "vscode": {
                    "languageId": "r"
                }
            },
            "outputs": [],
            "source": [
                "# Convert Brock's Pokédex to a set\n",
                "brock_pokedex_set = set(brock_pokedex)\n",
                "print(brock_pokedex_set)\n"
            ]
        },
        {
            "cell_type": "markdown",
            "metadata": {},
            "source": [
                "</div>\n",
                "<div>\n"
            ]
        },
        {
            "cell_type": "code",
            "execution_count": null,
            "metadata": {
                "vscode": {
                    "languageId": "r"
                }
            },
            "outputs": [],
            "source": [
                "# Check if Psyduck is in Ash's list and Brock's set\n",
                "print('Psyduck' in ash_pokedex)\n",
                "print('Psyduck' in brock_pokedex_set)\n"
            ]
        },
        {
            "cell_type": "markdown",
            "metadata": {},
            "source": [
                "</div>\n",
                "<li>Check if <code>'Machop'</code> is in Ash's Pokédex list (<code>ash_pokedex</code>) and if <code>'Machop'</code> is in Brock's Pokédex <strong>set</strong> (<code>brock_pokedex_set</code>).</li>\n",
                "<div>\n"
            ]
        },
        {
            "cell_type": "code",
            "execution_count": null,
            "metadata": {
                "vscode": {
                    "languageId": "r"
                }
            },
            "outputs": [],
            "source": [
                "# Convert Brock's Pokédex to a set\n",
                "brock_pokedex_set = set(brock_pokedex)\n",
                "print(brock_pokedex_set)\n"
            ]
        },
        {
            "cell_type": "markdown",
            "metadata": {},
            "source": [
                "</div>\n",
                "<div>\n"
            ]
        },
        {
            "cell_type": "code",
            "execution_count": null,
            "metadata": {
                "vscode": {
                    "languageId": "r"
                }
            },
            "outputs": [],
            "source": [
                "# Check if Psyduck is in Ash's list and Brock's set\n",
                "print('Psyduck' in ash_pokedex)\n",
                "print('Psyduck' in brock_pokedex_set)\n"
            ]
        },
        {
            "cell_type": "markdown",
            "metadata": {},
            "source": [
                "</div>\n",
                "<div>\n"
            ]
        },
        {
            "cell_type": "code",
            "execution_count": null,
            "metadata": {
                "vscode": {
                    "languageId": "r"
                }
            },
            "outputs": [],
            "source": [
                "# Check if Machop is in Ash's list and Brock's set\n",
                "print('Machop' in ash_pokedex)\n",
                "print('Machop' in brock_pokedex_set)\n"
            ]
        },
        {
            "attachments": {},
            "cell_type": "markdown",
            "metadata": {},
            "source": [
                "</div>\n",
                "\n",
                "<div class=\"\"><p><strong>Within your IPython console</strong>, use <code>%timeit</code> to compare membership testing for <code>'Psyduck'</code> in <code>ash_pokedex</code>, <code>'Psyduck'</code> in <code>brock_pokedex_set</code>, <code>'Machop'</code> in <code>ash_pokedex</code>, and <code>'Machop'</code> in <code>brock_pokedex_set</code> (a total of <strong>four different timings</strong>).</p>\n",
                "<p>Don't include the <code>print()</code> function. Only time the commands that you wrote <strong>inside</strong> the <code>print()</code> function in the previous steps. </p>\n",
                "<p><strong>Which membership testing was faster?</strong></p></div>\n",
                "\n"
            ]
        },
        {
            "attachments": {},
            "cell_type": "markdown",
            "metadata": {},
            "source": [
                "- [ ] Using a list is faster than using a set for membership testing in all four cases.\n",
                "- [ ] Member testing using a list and a set have the same runtimes for all four cases.\n",
                "- [x] Member testing using a set is faster than using a list in all four cases.\n",
                "\n"
            ]
        },
        {
            "attachments": {},
            "cell_type": "markdown",
            "metadata": {},
            "source": [
                "<p class=\"\">Awesome! Membership testing is much faster when you use sets. Did you notice that using a set for member testing is faster than using a list regardless if the item you are checking is in the set? Checking for 'Psyduck' (which was not in Brock's set) is still faster than checking for 'Psyduck' in Ash's list!</p>\n",
                "\n"
            ]
        },
        {
            "attachments": {},
            "cell_type": "markdown",
            "metadata": {},
            "source": [
                "### Gathering unique Pokémon\n",
                "\n",
                "\n",
                "<div class>\n",
                "<p>A sample of 500 Pokémon has been created <strong>with replacement</strong> (meaning a Pokémon could be selected more than once and duplicates exist within the sample).</p>\n",
                "<p>Three lists have been loaded into your session:</p>\n",
                "<ul>\n",
                "<li>The <code>names</code> list contains the names of each Pokémon in the sample.</li>\n",
                "<li>The <code>primary_types</code> list containing the corresponding <strong>primary</strong> type of each Pokémon in the sample.</li>\n",
                "<li>The <code>generations</code> list contains the corresponding <strong>generation</strong> of each Pokémon in the sample.</li>\n",
                "</ul>\n",
                "<p>The below function was written to gather unique values from each list:</p>\n",
                "<pre><code>def find_unique_items(data):\n",
                "    uniques = []\n",
                "\n",
                "    for item in data:\n",
                "        if item not in uniques:\n",
                "            uniques.append(item)\n",
                "\n",
                "    return uniques\n",
                "</code></pre>\n",
                "<p>Let's compare the above function to using the <code>set</code> data type for collecting unique items.</p>\n",
                "</div>\n",
                "<div>\n"
            ]
        },
        {
            "cell_type": "code",
            "execution_count": null,
            "metadata": {
                "vscode": {
                    "languageId": "r"
                }
            },
            "outputs": [],
            "source": [
                "# edited/added\n",
                "from collections import Counter\n",
                "names = pd.read_csv(\"https://docs.google.com/spreadsheets/d/e/2PACX-1vSoeJegBxXU61LsAJQ4sPPrw99EJXBccEfiC3fhrj6TQCnhZ5Q4J8P7oCP-TtR1W6Z3d9TMcCYc32Xy/pub?gid=425640626&single=true&output=csv\", header = None).iloc[:,0].tolist()\n",
                "primary_types = pd.read_csv(\"https://docs.google.com/spreadsheets/d/e/2PACX-1vSoeJegBxXU61LsAJQ4sPPrw99EJXBccEfiC3fhrj6TQCnhZ5Q4J8P7oCP-TtR1W6Z3d9TMcCYc32Xy/pub?gid=553528834&single=true&output=csv\", header = None).iloc[:,0].tolist()\n",
                "generations = pd.read_csv(\"https://docs.google.com/spreadsheets/d/e/2PACX-1vSoeJegBxXU61LsAJQ4sPPrw99EJXBccEfiC3fhrj6TQCnhZ5Q4J8P7oCP-TtR1W6Z3d9TMcCYc32Xy/pub?gid=800099022&single=true&output=csv\", header = None).iloc[:,0].tolist()\n",
                "\n",
                "def find_unique_items(data):\n",
                "    uniques = []\n",
                "\n",
                "    for item in data:\n",
                "        if item not in uniques:\n",
                "            uniques.append(item)\n",
                "\n",
                "    return uniques\n"
            ]
        },
        {
            "cell_type": "markdown",
            "metadata": {},
            "source": [
                "</div>\n",
                "<li>Use the provided function to collect the unique Pokémon in the <code>names</code> list. Save this as <code>uniq_names_func</code>.</li>\n",
                "<div>\n"
            ]
        },
        {
            "cell_type": "code",
            "execution_count": null,
            "metadata": {
                "vscode": {
                    "languageId": "r"
                }
            },
            "outputs": [],
            "source": [
                "# Use the provided function to collect unique Pokémon names\n",
                "uniq_names_func = find_unique_items(names)\n",
                "print(len(uniq_names_func))\n"
            ]
        },
        {
            "cell_type": "markdown",
            "metadata": {},
            "source": [
                "</div>\n",
                "<li>Use a <code>set</code> data type to collect the unique Pokémon in the <code>names</code> list. Save this as <code>uniq_names_set</code>.</li>\n",
                "<div>\n"
            ]
        },
        {
            "cell_type": "code",
            "execution_count": null,
            "metadata": {
                "vscode": {
                    "languageId": "r"
                }
            },
            "outputs": [],
            "source": [
                "# Use find_unique_items() to collect unique Pokémon names\n",
                "uniq_names_func = find_unique_items(names)\n",
                "print(len(uniq_names_func))\n"
            ]
        },
        {
            "cell_type": "markdown",
            "metadata": {},
            "source": [
                "</div>\n",
                "<div>\n"
            ]
        },
        {
            "cell_type": "code",
            "execution_count": null,
            "metadata": {
                "vscode": {
                    "languageId": "r"
                }
            },
            "outputs": [],
            "source": [
                "# Convert the names list to a set to collect unique Pokémon names\n",
                "uniq_names_set = set(names)\n",
                "print(len(uniq_names_set))\n"
            ]
        },
        {
            "cell_type": "markdown",
            "metadata": {},
            "source": [
                "</div>\n",
                "<div>\n"
            ]
        },
        {
            "cell_type": "code",
            "execution_count": null,
            "metadata": {
                "vscode": {
                    "languageId": "r"
                }
            },
            "outputs": [],
            "source": [
                "# Check that both unique collections are equivalent\n",
                "print(sorted(uniq_names_func) == sorted(uniq_names_set))\n"
            ]
        },
        {
            "attachments": {},
            "cell_type": "markdown",
            "metadata": {},
            "source": [
                "</div>\n",
                "\n",
                "<div class=\"\"><p><strong>Within your IPython console</strong>, use <code>%timeit</code> to compare the <code>find_unique_items()</code> function with using a <code>set</code> data type to collect unique Pokémon character names in <code>names</code>.</p>\n",
                "<p><strong>Which membership testing was faster?</strong></p></div>\n",
                "\n"
            ]
        },
        {
            "attachments": {},
            "cell_type": "markdown",
            "metadata": {},
            "source": [
                "- [x] Using a <code>set</code> to collect unique values is faster.\n",
                "- [ ] Using the provided function that uses a loop to gather unique items is faster.\n",
                "- [ ] Both approaches have the same runtime.\n",
                "\n"
            ]
        },
        {
            "attachments": {},
            "cell_type": "markdown",
            "metadata": {},
            "source": [
                "<li>Use the most efficient approach for gathering unique items to collect the unique Pokémon types (from the <code>primary_types</code> list) and Pokémon generations (from the <code>generations</code> list).</li>\n",
                "<div>\n"
            ]
        },
        {
            "cell_type": "code",
            "execution_count": null,
            "metadata": {
                "vscode": {
                    "languageId": "r"
                }
            },
            "outputs": [],
            "source": [
                "# Use find_unique_items() to collect unique Pokémon names\n",
                "uniq_names_func = find_unique_items(names)\n",
                "print(len(uniq_names_func))\n"
            ]
        },
        {
            "cell_type": "markdown",
            "metadata": {},
            "source": [
                "</div>\n",
                "<div>\n"
            ]
        },
        {
            "cell_type": "code",
            "execution_count": null,
            "metadata": {
                "vscode": {
                    "languageId": "r"
                }
            },
            "outputs": [],
            "source": [
                "# Convert the names list to a set to collect unique Pokémon names\n",
                "uniq_names_set = set(names)\n",
                "print(len(uniq_names_set))\n"
            ]
        },
        {
            "cell_type": "markdown",
            "metadata": {},
            "source": [
                "</div>\n",
                "<div>\n"
            ]
        },
        {
            "cell_type": "code",
            "execution_count": null,
            "metadata": {
                "vscode": {
                    "languageId": "r"
                }
            },
            "outputs": [],
            "source": [
                "# Check that both unique collections are equivalent\n",
                "print(sorted(uniq_names_func) == sorted(uniq_names_set))\n"
            ]
        },
        {
            "cell_type": "markdown",
            "metadata": {},
            "source": [
                "</div>\n",
                "<div>\n"
            ]
        },
        {
            "cell_type": "code",
            "execution_count": null,
            "metadata": {
                "vscode": {
                    "languageId": "r"
                }
            },
            "outputs": [],
            "source": [
                "# Use the best approach to collect unique primary types and generations\n",
                "uniq_types = set(primary_types) \n",
                "uniq_gens = set(generations)\n",
                "print(uniq_types, uniq_gens, sep='\\n') \n"
            ]
        },
        {
            "attachments": {},
            "cell_type": "markdown",
            "metadata": {},
            "source": [
                "</div>\n",
                "\n"
            ]
        },
        {
            "attachments": {},
            "cell_type": "markdown",
            "metadata": {},
            "source": [
                "<p class=\"\">Nice work! Using a <code>set</code> data type to collect unique values is much faster than using a for loop (like in the <code>find_unique_items()</code> function). Since a set is defined as a collection of distinct elements, it is an efficient way to collect unique items from an existing object. Here you took advantage of a <code>set</code> to find the distinct Pokémon from the sample (eliminating duplicate Pokémon) and saw what unique Pokémon types and generations were included in the sample.</p>\n",
                "\n"
            ]
        },
        {
            "attachments": {},
            "cell_type": "markdown",
            "metadata": {},
            "source": [
                "## Eliminating loops\n",
                "\n",
                "\n",
                "\n"
            ]
        },
        {
            "attachments": {},
            "cell_type": "markdown",
            "metadata": {},
            "source": [
                "### Gathering Pokémon without a loop\n",
                "\n",
                "\n",
                "<div class>\n",
                "<p>A list containing 720 Pokémon has been loaded into your session as <code>poke_names</code>. Another list containing each Pokémon's corresponding generation has been loaded as <code>poke_gens</code>.</p>\n",
                "<p>A for loop has been created to filter the Pokémon that belong to generation one or two, and collect the number of letters in each Pokémon's name:</p>\n",
                "<pre><code>gen1_gen2_name_lengths_loop = []\n",
                "\n",
                "for name,gen in zip(poke_names, poke_gens):\n",
                "    if gen &lt; 3:\n",
                "        name_length = len(name)\n",
                "        poke_tuple = (name, name_length)\n",
                "        gen1_gen2_name_lengths_loop.append(poke_tuple)\n",
                "</code></pre>\n",
                "</div>\n",
                "<div>\n"
            ]
        },
        {
            "cell_type": "code",
            "execution_count": null,
            "metadata": {
                "vscode": {
                    "languageId": "r"
                }
            },
            "outputs": [],
            "source": [
                "# edited/added\n",
                "poke_names = pd.read_csv(\"https://docs.google.com/spreadsheets/d/e/2PACX-1vSoeJegBxXU61LsAJQ4sPPrw99EJXBccEfiC3fhrj6TQCnhZ5Q4J8P7oCP-TtR1W6Z3d9TMcCYc32Xy/pub?gid=728081830&single=true&output=csv\", header = None).iloc[:,0].tolist()\n",
                "poke_gens = pd.read_csv(\"https://docs.google.com/spreadsheets/d/e/2PACX-1vSoeJegBxXU61LsAJQ4sPPrw99EJXBccEfiC3fhrj6TQCnhZ5Q4J8P7oCP-TtR1W6Z3d9TMcCYc32Xy/pub?gid=1561338519&single=true&output=csv\", header = None).iloc[:,0].tolist()\n",
                "gen1_gen2_name_lengths_loop = []\n"
            ]
        },
        {
            "cell_type": "markdown",
            "metadata": {},
            "source": [
                "</div>\n",
                "<li>Eliminate the above for loop using list comprehension and the <code>map()</code> function:\n",
                "<ul>\n",
                "<li>Use list comprehension to collect each Pokémon that belongs to generation 1 or generation 2. Save this as <code>gen1_gen2_pokemon</code>.</li>\n",
                "<li>Use the <code>map()</code> function to collect the number of letters in each Pokémon's name within the <code>gen1_gen2_pokemon</code> list. Save this <em>map object</em> as <code>name_lengths_map</code>.</li>\n",
                "<li>Combine <code>gen1_gen2_pokemon</code> and <code>name_length_map</code> into a list called <code>gen1_gen2_name_lengths</code>.</li>\n",
                "</ul>\n",
                "</li>\n",
                "<div>\n"
            ]
        },
        {
            "cell_type": "code",
            "execution_count": null,
            "metadata": {
                "vscode": {
                    "languageId": "r"
                }
            },
            "outputs": [],
            "source": [
                "# Collect Pokémon that belong to generation 1 or generation 2\n",
                "gen1_gen2_pokemon = [name for name,gen in zip(poke_names, poke_gens) if gen < 3]\n",
                "\n",
                "# Create a map object that stores the name lengths\n",
                "name_lengths_map = map(len, gen1_gen2_pokemon)\n",
                "\n",
                "# Combine gen1_gen2_pokemon and name_lengths_map into a list\n",
                "gen1_gen2_name_lengths = [*zip(gen1_gen2_pokemon, name_lengths_map)]\n",
                "\n",
                "print(gen1_gen2_name_lengths_loop[:5])\n",
                "print(gen1_gen2_name_lengths[:5])\n"
            ]
        },
        {
            "attachments": {},
            "cell_type": "markdown",
            "metadata": {},
            "source": [
                "</div>\n",
                "\n"
            ]
        },
        {
            "attachments": {},
            "cell_type": "markdown",
            "metadata": {},
            "source": [
                "<p class=\"\">Great job! You successfully used list comprehension and the <code>map()</code> function to eliminate a for loop. If you compared runtimes between the for loop and using list comprehension with a <code>map()</code> function, you'd see that the for loop took quite a bit longer. <br> <br> If you're an experienced Pythonista, you may have noticed that you could replace the entire for loop with one list comprehension: <code>[(name, len(name)) for name,gen in zip(poke_names, poke_gens) if gen &lt; 3]</code></p>\n",
                "\n"
            ]
        },
        {
            "attachments": {},
            "cell_type": "markdown",
            "metadata": {},
            "source": [
                "### Pokémon totals and averages without a loop\n",
                "\n",
                "\n",
                "<div class>\n",
                "<p>A list of 720 Pokémon has been loaded into your session called <code>names</code>. Each Pokémon's corresponding statistics has been loaded as a NumPy array called <code>stats</code>. Each row of <code>stats</code> corresponds to a Pokémon in <code>names</code> and each column represents an individual Pokémon stat (<code>HP</code>, <code>Attack</code>, <code>Defense</code>, <code>Special Attack</code>, <code>Special Defense</code>, and <code>Speed</code> respectively.)</p>\n",
                "<p>You want to gather each Pokémon's total stat value (i.e., the sum of each row in <code>stats</code>) and each Pokémon's average stat value (i.e., the mean of each row in <code>stats</code>) so that you find the strongest Pokémon.</p>\n",
                "<p>The below for loop was written to collect these values:</p>\n",
                "<pre><code>poke_list = []\n",
                "\n",
                "for pokemon,row in zip(names, stats):\n",
                "    total_stats = np.sum(row)\n",
                "    avg_stats = np.mean(row)\n",
                "    poke_list.append((pokemon, total_stats, avg_stats))\n",
                "</code></pre>\n",
                "</div>\n",
                "<div>\n"
            ]
        },
        {
            "cell_type": "code",
            "execution_count": null,
            "metadata": {
                "vscode": {
                    "languageId": "r"
                }
            },
            "outputs": [],
            "source": [
                "# edited/added\n",
                "names = pd.read_csv(\"https://docs.google.com/spreadsheets/d/e/2PACX-1vSoeJegBxXU61LsAJQ4sPPrw99EJXBccEfiC3fhrj6TQCnhZ5Q4J8P7oCP-TtR1W6Z3d9TMcCYc32Xy/pub?gid=728081830&single=true&output=csv\", header = None).iloc[:,0].tolist()\n",
                "stats_df = pd.read_csv(\"https://docs.google.com/spreadsheets/d/e/2PACX-1vSoeJegBxXU61LsAJQ4sPPrw99EJXBccEfiC3fhrj6TQCnhZ5Q4J8P7oCP-TtR1W6Z3d9TMcCYc32Xy/pub?gid=99951674&single=true&output=csv\")\n",
                "stats = stats_df.to_numpy()\n",
                "poke_list = []\n",
                "\n",
                "for pokemon,row in zip(names, stats):\n",
                "    total_stats = np.sum(row)\n",
                "    avg_stats = np.mean(row)\n",
                "    poke_list.append((pokemon, total_stats, avg_stats))\n"
            ]
        },
        {
            "cell_type": "markdown",
            "metadata": {},
            "source": [
                "</div>\n",
                "<li>Replace the above for loop using NumPy:<ul>\n",
                "<li>Create a total stats array (<code>total_stats_np</code>) using the <code>.sum()</code> method and specifying the correct axis.</li>\n",
                "<li>Create an average stats array (<code>avg_stats_np</code>) using the <code>.mean()</code> method and specifying the correct axis.</li>\n",
                "<li>Create a final output list (<code>poke_list_np</code>) by combining the <code>names</code> list, the <code>total_stats_np</code> array, and the <code>avg_stats_np</code> array.</li>\n",
                "</ul>\n",
                "</li>\n",
                "<div>\n"
            ]
        },
        {
            "cell_type": "code",
            "execution_count": null,
            "metadata": {
                "vscode": {
                    "languageId": "r"
                }
            },
            "outputs": [],
            "source": [
                "# Create a total stats array\n",
                "total_stats_np = stats.sum(axis=1)\n",
                "\n",
                "# Create an average stats array\n",
                "avg_stats_np = stats.mean(axis=1)\n",
                "\n",
                "# Combine names, total_stats_np, and avg_stats_np into a list\n",
                "poke_list_np = [*zip(names, total_stats_np, avg_stats_np)]\n",
                "\n",
                "print(poke_list_np == poke_list, '\\n')\n",
                "print(poke_list_np[:3])\n",
                "print(poke_list[:3], '\\n')\n",
                "top_3 = sorted(poke_list_np, key=lambda x: x[1], reverse=True)[:3]\n",
                "print('3 strongest Pokémon:\\n{}'.format(top_3))\n"
            ]
        },
        {
            "attachments": {},
            "cell_type": "markdown",
            "metadata": {},
            "source": [
                "</div>\n",
                "\n"
            ]
        },
        {
            "attachments": {},
            "cell_type": "markdown",
            "metadata": {},
            "source": [
                "<p class=\"\">Great work! You used NumPy's <code>.sum()</code> and <code>.mean()</code> methods with a specific axis to eliminate a for loop. With this approach, you were able to quickly see that 'GroudonPrimal Groudon', 'KyogrePrimal Kyogre', and 'Arceus' were the strongest Pokémon in your list based on total stats. <br><br> If you were to gather run times, the for loop would have taken <em>milliseconds</em> to execute while the NumPy approach would have taken <em>microseconds</em> to execute. This is quite an improvement!</p>\n",
                "\n"
            ]
        },
        {
            "attachments": {},
            "cell_type": "markdown",
            "metadata": {},
            "source": [
                "## Writing better loops\n",
                "\n",
                "\n",
                "\n"
            ]
        },
        {
            "attachments": {},
            "cell_type": "markdown",
            "metadata": {},
            "source": [
                "### One-time calculation loop\n",
                "\n",
                "\n",
                "<div class>\n",
                "<p>A list of integers that represents each Pokémon's generation has been loaded into your session called <code>generations</code>. You'd like to gather the counts of each generation and determine what percentage each generation accounts for out of the total count of integers.</p>\n",
                "<p>The below loop was written to accomplish this task:</p>\n",
                "<pre><code>for gen,count in gen_counts.items():\n",
                "    total_count = len(generations)\n",
                "    gen_percent = round(count / total_count * 100, 2)\n",
                "    print(\n",
                "      'generation {}: count = {:3} percentage = {}'\n",
                "      .format(gen, count, gen_percent)\n",
                "    )\n",
                "</code></pre>\n",
                "<p>Let's make this loop more efficient by moving a one-time calculation outside the loop.</p>\n",
                "</div>\n",
                "\n",
                "<li>Import <code>Counter</code> from the <code>collections</code> module.</li>\n",
                "<li>Use <code>Counter()</code> to collect the count of each generation from the <code>generations</code> list. Save this as <code>gen_counts</code>.</li>\n",
                "<li>Write a better for loop that places a <strong>one-time</strong> calculation outside (above) the loop. Use the exact same syntax as the original for loop (simply copy and paste the one-time calculation above the loop).</li>\n",
                "<div>\n"
            ]
        },
        {
            "cell_type": "code",
            "execution_count": null,
            "metadata": {
                "vscode": {
                    "languageId": "r"
                }
            },
            "outputs": [],
            "source": [
                "# Import Counter\n",
                "from collections import Counter\n",
                "\n",
                "# Collect the count of each generation\n",
                "gen_counts = Counter(generations)\n",
                "\n",
                "# Improve for loop by moving one calculation above the loop\n",
                "total_count = len(generations)\n",
                "\n",
                "for gen,count in gen_counts.items():\n",
                "    gen_percent = round(count / total_count * 100, 2)\n",
                "    print('generation {}: count = {:3} percentage = {}'\n",
                "          .format(gen, count, gen_percent))\n"
            ]
        },
        {
            "attachments": {},
            "cell_type": "markdown",
            "metadata": {},
            "source": [
                "</div>\n",
                "\n"
            ]
        },
        {
            "attachments": {},
            "cell_type": "markdown",
            "metadata": {},
            "source": [
                "<p class=\"\">Well done! You spotted a calculation that could be moved outside a loop to make the loop more efficient. Since the total count is now calculated just once (and not with each loop iteration), you can expect to see an efficiency gain with your new loop. When writing a loop is unavoidable, be sure to analyze the loop and move any one-time calculations outside.</p>\n",
                "\n"
            ]
        },
        {
            "attachments": {},
            "cell_type": "markdown",
            "metadata": {},
            "source": [
                "### Holistic conversion loop\n",
                "\n",
                "\n",
                "<div class>\n",
                "<p>A list of all possible Pokémon types has been loaded into your session as <code>pokemon_types</code>. It's been printed in the console for convenience.</p>\n",
                "<p>You'd like to gather all the possible pairs of Pokémon types. You want to store each of these pairs in an individual list with an enumerated index as the first element of each list. This allows you to see the total number of possible pairs and provides an indexed label for each pair.</p>\n",
                "<p>The below loop was written to accomplish this task:</p>\n",
                "<pre><code>enumerated_pairs = []\n",
                "\n",
                "for i,pair in enumerate(possible_pairs, 1):\n",
                "    enumerated_pair_tuple = (i,) + pair\n",
                "    enumerated_pair_list = list(enumerated_pair_tuple)\n",
                "    enumerated_pairs.append(enumerated_pair_list)\n",
                "</code></pre>\n",
                "<p>Let's make this loop more efficient using a holistic conversion.</p>\n",
                "</div>\n",
                "<div>\n"
            ]
        },
        {
            "cell_type": "code",
            "execution_count": null,
            "metadata": {
                "vscode": {
                    "languageId": "r"
                }
            },
            "outputs": [],
            "source": [
                "# edited/added\n",
                "pokemon_types = ['Bug', 'Dark', 'Dragon', 'Electric', 'Fairy', 'Fighting', 'Fire', 'Flying', 'Ghost', 'Grass', 'Ground', 'Ice', 'Normal', 'Poison', 'Psychic', 'Rock', 'Steel', 'Water']\n"
            ]
        },
        {
            "cell_type": "markdown",
            "metadata": {},
            "source": [
                "</div>\n",
                "<li>\n",
                "<code>combinations</code> from the <code>itertools</code> module has been loaded into your session. Use it to create a list called <code>possible_pairs</code> that contains all possible pairs of Pokémon types (each pair has <code>2</code> Pokémon types).</li>\n",
                "<li>Create an empty list called <code>enumerated_tuples</code> above the for loop.</li>\n",
                "<li>Within the for loop, append each <code>enumerated_pair_tuple</code> to the empty list you created in the above step. </li>\n",
                "<li>Use a built-in function to convert each tuple in <code>enumerated_tuples</code> to a list.</li>\n",
                "<div>\n"
            ]
        },
        {
            "cell_type": "code",
            "execution_count": null,
            "metadata": {
                "vscode": {
                    "languageId": "r"
                }
            },
            "outputs": [],
            "source": [
                "# Collect all possible pairs using combinations()\n",
                "possible_pairs = [*combinations(pokemon_types, 2)]\n",
                "\n",
                "# Create an empty list called enumerated_tuples\n",
                "enumerated_tuples = []\n",
                "\n",
                "# Append each enumerated_pair_tuple to the empty list above\n",
                "for i,pair in enumerate(possible_pairs, 1):\n",
                "    enumerated_pair_tuple = (i,) + pair\n",
                "    enumerated_tuples.append(enumerated_pair_tuple)\n",
                "\n",
                "# Convert all tuples in enumerated_tuples to a list\n",
                "enumerated_pairs = [*map(list, enumerated_tuples)]\n",
                "print(enumerated_pairs)\n"
            ]
        },
        {
            "attachments": {},
            "cell_type": "markdown",
            "metadata": {},
            "source": [
                "</div>\n",
                "\n"
            ]
        },
        {
            "attachments": {},
            "cell_type": "markdown",
            "metadata": {},
            "source": [
                "<p class=\"\">Great job! Rather than converting each tuple to a list <em>within</em> the loop, you used the <code>map()</code> function to convert tuples to lists all at once outside of a loop. You're getting the hang of writing efficient loops! Remember, you want to avoid looping as much as possible when writing Python code. In cases where looping is unavoidable, be sure to check your loops for one-time calculations and holistic conversions to make them more efficient.</p>\n",
                "\n"
            ]
        },
        {
            "attachments": {},
            "cell_type": "markdown",
            "metadata": {},
            "source": [
                "### Bringing it all together: Pokémon z-scores\n",
                "\n",
                "\n",
                "<div class>\n",
                "<p>A list of 720 Pokémon has been loaded into your session as <code>names</code>. Each Pokémon's corresponding Health Points is stored in a NumPy array called <code>hps</code>. You want to analyze the Health Points using the <a href=\"https://en.wikipedia.org/wiki/Standard_score\">z-score</a> to see how many standard deviations each Pokémon's HP is from the mean of all HPs.</p>\n",
                "<p>The below code was written to calculate the HP z-score for each Pokémon and gather the Pokémon with the highest HPs based on their z-scores:</p>\n",
                "<pre><code>poke_zscores = []\n",
                "\n",
                "for name,hp in zip(names, hps):\n",
                "    hp_avg = hps.mean()\n",
                "    hp_std = hps.std()\n",
                "    z_score = (hp - hp_avg)/hp_std\n",
                "    poke_zscores.append((name, hp, z_score))\n",
                "</code></pre>\n",
                "<pre><code>highest_hp_pokemon = []\n",
                "\n",
                "for name,hp,zscore in poke_zscores:\n",
                "    if zscore &gt; 2:\n",
                "        highest_hp_pokemon.append((name, hp, zscore))\n",
                "</code></pre>\n",
                "</div>\n",
                "<div>\n"
            ]
        },
        {
            "cell_type": "code",
            "execution_count": null,
            "metadata": {
                "vscode": {
                    "languageId": "r"
                }
            },
            "outputs": [],
            "source": [
                "# edited/added\n",
                "hps = stats_df.HP.values\n",
                "len(hps)\n"
            ]
        },
        {
            "cell_type": "markdown",
            "metadata": {},
            "source": [
                "</div>\n",
                "<li>Use NumPy to eliminate the for loop used to create the z-scores.</li>\n",
                "<li>Then, combine the <code>names</code>, <code>hps</code>, and <code>z_scores</code> objects together into a list called <code>poke_zscores2</code>.</li>\n",
                "<div>\n"
            ]
        },
        {
            "cell_type": "code",
            "execution_count": null,
            "metadata": {
                "vscode": {
                    "languageId": "r"
                }
            },
            "outputs": [],
            "source": [
                "# Calculate the total HP avg and total HP standard deviation\n",
                "hp_avg = hps.mean()\n",
                "hp_std = hps.std()\n",
                "\n",
                "# Use NumPy to eliminate the previous for loop\n",
                "z_scores = (hps - hp_avg)/hp_std\n",
                "\n",
                "# Combine names, hps, and z_scores\n",
                "poke_zscores2 = [*zip(names, hps, z_scores)]\n",
                "print(*poke_zscores2[:3], sep='\\n')\n"
            ]
        },
        {
            "cell_type": "markdown",
            "metadata": {},
            "source": [
                "</div>\n",
                "<li>Use list comprehension to replace the for loop used to collect Pokémon with the highest HPs based on their z-score.</li>\n",
                "<div>\n"
            ]
        },
        {
            "cell_type": "code",
            "execution_count": null,
            "metadata": {
                "vscode": {
                    "languageId": "r"
                }
            },
            "outputs": [],
            "source": [
                "# Calculate the total HP avg and total HP standard deviation\n",
                "hp_avg = hps.mean()\n",
                "hp_std = hps.std()\n",
                "\n",
                "# Use NumPy to eliminate the previous for loop\n",
                "z_scores = (hps - hp_avg)/hp_std\n",
                "\n",
                "# Combine names, hps, and z_scores\n",
                "poke_zscores2 = [*zip(names, hps, z_scores)]\n",
                "print(*poke_zscores2[:3], sep='\\n')\n"
            ]
        },
        {
            "cell_type": "markdown",
            "metadata": {},
            "source": [
                "</div>\n",
                "<div>\n"
            ]
        },
        {
            "cell_type": "code",
            "execution_count": null,
            "metadata": {
                "vscode": {
                    "languageId": "r"
                }
            },
            "outputs": [],
            "source": [
                "# Use list comprehension with the same logic as the highest_hp_pokemon code block\n",
                "highest_hp_pokemon2 = [(name, hp, zscore) for name,hp,zscore in poke_zscores2 if zscore > 2]\n",
                "print(*highest_hp_pokemon2, sep='\\n')\n"
            ]
        },
        {
            "attachments": {},
            "cell_type": "markdown",
            "metadata": {},
            "source": [
                "</div>\n",
                "\n",
                "<div class=\"\"><p>Use <code>%%timeit</code> (<em>cell magic mode</em>) <strong>within your IPython console</strong> to compare the runtimes between the original code blocks and the new code you developed using NumPy and list comprehension.</p>\n",
                "<p><strong>Don't include the <code>print()</code> statements when timing.</strong> You should include <strong>ten lines of code</strong> when timing the original code blocks and <strong>five lines of code</strong> when timing the new code you developed. You may need to press <code>SHIFT+ENTER</code> after entering <code>%%timeit</code> to get to a new line within your IPython console.</p>\n",
                "<p><strong>Which approach was the faster?</strong></p></div>\n",
                "\n"
            ]
        },
        {
            "attachments": {},
            "cell_type": "markdown",
            "metadata": {},
            "source": [
                "- [ ] The total time for executing both of the original code blocks was faster.\n",
                "- [x] The total time for executing the updated solution using NumPy and list comprehension was faster.\n",
                "- [ ] Both approaches had the same execution time.\n",
                "\n"
            ]
        },
        {
            "attachments": {},
            "cell_type": "markdown",
            "metadata": {},
            "source": [
                "<p class=\"\">Great job! You're Catching 'Em All (efficiencies that is). You eliminated two loops using NumPy broadcasting and list comprehension. Did you notice how much faster the approach you developed was compared to the original loops? What a great improvement! <br><br> Remember the techniques you've learned throughout this chapter as you continue writing Python code outside this course. Keep in mind the built-in functions and modules you covered to eliminate loops and remember to check your unavoidable loops for things that can be moved outside.</p>\n",
                "\n"
            ]
        },
        {
            "attachments": {},
            "cell_type": "markdown",
            "metadata": {},
            "source": [
                "# Basic pandas optimizations\n",
                "\n",
                "<p class=\"\">This chapter offers a brief introduction on how to efficiently work with pandas DataFrames. You'll learn the various options you have for iterating over a DataFrame. Then, you'll learn how to efficiently apply functions to data stored in a DataFrame.</p>\n",
                "\n"
            ]
        },
        {
            "attachments": {},
            "cell_type": "markdown",
            "metadata": {},
            "source": [
                "## Intro to pandas DataFrame iteration\n",
                "\n",
                "\n",
                "\n"
            ]
        },
        {
            "attachments": {},
            "cell_type": "markdown",
            "metadata": {},
            "source": [
                "### Iterating with .iterrows()\n",
                "\n",
                "\n",
                "<div class>\n",
                "<p>In the video, we discussed that <code>.iterrows()</code> returns each DataFrame row as a tuple of (index, <code>pandas</code> Series) pairs. But, what does this mean? Let's explore with a few coding exercises.</p>\n",
                "<p>A <code>pandas</code> DataFrame has been loaded into your session called <code>pit_df</code>. This DataFrame contains the stats for the Major League Baseball team named the Pittsburgh Pirates (abbreviated as <code>'PIT'</code>) from the year 2008 to the year 2012. It has been printed into your console for convenience.</p>\n",
                "</div>\n",
                "<div class=\"exercise--instructions__content\"><p>Use <code>.iterrows()</code> to loop over <code>pit_df</code> and print each row. Save the first item from <code>.iterrows()</code> as <code>i</code> and the second as <code>row</code>.</p></div>\n",
                "<div>\n"
            ]
        },
        {
            "cell_type": "code",
            "execution_count": null,
            "metadata": {
                "vscode": {
                    "languageId": "r"
                }
            },
            "outputs": [],
            "source": [
                "# edited/added\n",
                "baseball_df = pd.read_csv(\"https://assets.datacamp.com/production/repositories/3581/datasets/779033fb8fb5021aee9ff46253980abcbc5851f3/baseball_stats.csv\")\n",
                "pit_df = baseball_df[baseball_df.Team == 'PIT']\n",
                "\n",
                "# Iterate over pit_df and print each row\n",
                "for i,row in pit_df.iterrows():\n",
                "    print(row)\n"
            ]
        },
        {
            "cell_type": "markdown",
            "metadata": {},
            "source": [
                "</div>\n",
                "\n",
                "<div class=\"exercise--instructions__content\"><p>Add <strong>two</strong> lines to the loop: one <em>before</em> <code>print(row)</code> to print each index variable and one <em>after</em> to print each row's type.</p></div>\n",
                "<div>\n"
            ]
        },
        {
            "cell_type": "code",
            "execution_count": null,
            "metadata": {
                "vscode": {
                    "languageId": "r"
                }
            },
            "outputs": [],
            "source": [
                "# Iterate over pit_df and print each index variable, row, and row type\n",
                "for i,row in pit_df.iterrows():\n",
                "    print(i)\n",
                "    print(row)\n",
                "    print(type(row))\n"
            ]
        },
        {
            "cell_type": "markdown",
            "metadata": {},
            "source": [
                "</div>\n",
                "\n",
                "<div class=\"exercise--instructions__content\"><p>Instead of using <code>i</code> and <code>row</code> in the for statement to store the output of <code>.iterrows()</code>, use <strong>one</strong> variable named <code>row_tuple</code>.</p></div>\n",
                "<div>\n"
            ]
        },
        {
            "cell_type": "code",
            "execution_count": null,
            "metadata": {
                "vscode": {
                    "languageId": "r"
                }
            },
            "outputs": [],
            "source": [
                "# Use one variable instead of two to store the result of .iterrows()\n",
                "for row_tuple in pit_df.iterrows():\n",
                "    print(row_tuple)\n"
            ]
        },
        {
            "cell_type": "markdown",
            "metadata": {},
            "source": [
                "</div>\n",
                "\n",
                "<div class=\"exercise--instructions__content\"><p>Add a line in the for loop to print the type of each <code>row_tuple</code>.</p></div>\n",
                "<div>\n"
            ]
        },
        {
            "cell_type": "code",
            "execution_count": null,
            "metadata": {
                "vscode": {
                    "languageId": "r"
                }
            },
            "outputs": [],
            "source": [
                "# Print the row and type of each row\n",
                "for row_tuple in pit_df.iterrows():\n",
                "    print(row_tuple)\n",
                "    print(type(row_tuple))\n"
            ]
        },
        {
            "attachments": {},
            "cell_type": "markdown",
            "metadata": {},
            "source": [
                "</div>\n",
                "\n"
            ]
        },
        {
            "attachments": {},
            "cell_type": "markdown",
            "metadata": {},
            "source": [
                "<p class=\"\">Nice work! Since <code>.iterrows()</code> returns each DataFrame row as a tuple of (index, <code>pandas</code> Series) pairs, you can either split this tuple and use the index and row-values separately (as you did with <code>for i,row in pit_df.iterrows()</code>), or you can keep the result of <code>.iterrows()</code> in the tuple form (as you did with <code>for row_tuple in pit_df.iterrows()</code>).<br><br>If using <code>i,row</code>, you can access things from the row using square brackets (i.e., <code>row['Team']</code>). If using <code>row_tuple</code>, you would have to specify which element of the tuple you'd like to access before grabbing the team name (i.e., <code>row_tuple[1]['Team']</code>). <br><br> With either approach, using <code>.iterrows()</code> will still be substantially faster than using <code>.iloc</code> as you saw in the video.</p>\n",
                "\n"
            ]
        },
        {
            "attachments": {},
            "cell_type": "markdown",
            "metadata": {},
            "source": [
                "### Run differentials with .iterrows()\n",
                "\n",
                "\n",
                "<div class>\n",
                "<p>You've been hired by the San Francisco Giants as an analyst—congrats! The team's owner wants you to calculate a metric called the <em>run differential</em> for each season from the year 2008 to 2012. This metric is calculated by subtracting the total number of runs a team allowed in a season from the team's total number of runs scored in a season. <code>'RS'</code> means runs scored and <code>'RA'</code> means runs allowed.</p>\n",
                "<p>The below function calculates this metric:</p>\n",
                "<pre><code>def calc_run_diff(runs_scored, runs_allowed):\n",
                "\n",
                "    run_diff = runs_scored - runs_allowed\n",
                "\n",
                "    return run_diff\n",
                "</code></pre>\n",
                "<p>A DataFrame has been loaded into your session as <code>giants_df</code> and printed into the console. Let's practice using <code>.iterrows()</code> to add a <em>run differential</em> column to this DataFrame.</p>\n",
                "</div>\n",
                "<div>\n"
            ]
        },
        {
            "cell_type": "code",
            "execution_count": null,
            "metadata": {
                "vscode": {
                    "languageId": "r"
                }
            },
            "outputs": [],
            "source": [
                "# edited/added\n",
                "giants_df = baseball_df[(baseball_df.Team == 'SFG') & (baseball_df.Year.between(2008,2012))][['Team', 'League', 'Year', 'RS', 'RA', 'W', 'G', 'Playoffs']]\n",
                "\n",
                "def calc_run_diff(runs_scored, runs_allowed):\n",
                "\n",
                "    run_diff = runs_scored - runs_allowed\n",
                "\n",
                "    return run_diff\n"
            ]
        },
        {
            "cell_type": "markdown",
            "metadata": {},
            "source": [
                "</div>\n",
                "<li>Create an empty list called <code>run_diffs</code> that will be used to store the <em>run differentials</em> you will calculate.</li>\n",
                "<div>\n"
            ]
        },
        {
            "cell_type": "code",
            "execution_count": null,
            "metadata": {
                "vscode": {
                    "languageId": "r"
                }
            },
            "outputs": [],
            "source": [
                "# Create an empty list to store run differentials\n",
                "run_diffs = []\n"
            ]
        },
        {
            "cell_type": "markdown",
            "metadata": {},
            "source": [
                "</div>\n",
                "<li>Write a for loop that uses <code>.iterrows()</code> to loop over <code>giants_df</code> and collects each row's runs scored and runs allowed.</li>\n",
                "<div>\n"
            ]
        },
        {
            "cell_type": "code",
            "execution_count": null,
            "metadata": {
                "vscode": {
                    "languageId": "r"
                }
            },
            "outputs": [],
            "source": [
                "# Create an empty list to store run differentials\n",
                "run_diffs = []\n",
                "\n",
                "# Write a for loop and collect runs allowed and runs scored for each row\n",
                "for i,row in giants_df.iterrows():\n",
                "    runs_scored = row['RS']\n",
                "    runs_allowed = row['RA']\n"
            ]
        },
        {
            "cell_type": "markdown",
            "metadata": {},
            "source": [
                "</div>\n",
                "<li>Add a line to the for loop that uses the provided function to calculate each row's <em>run differential</em>.</li>\n",
                "<div>\n"
            ]
        },
        {
            "cell_type": "code",
            "execution_count": null,
            "metadata": {
                "vscode": {
                    "languageId": "r"
                }
            },
            "outputs": [],
            "source": [
                "# Create an empty list to store run differentials\n",
                "run_diffs = []\n",
                "\n",
                "# Write a for loop and collect runs allowed and runs scored for each row\n",
                "for i,row in giants_df.iterrows():\n",
                "    runs_scored = row['RS']\n",
                "    runs_allowed = row['RA']\n",
                "    \n",
                "    # Use the provided function to calculate run_diff for each row\n",
                "    run_diff = calc_run_diff(runs_scored, runs_allowed)\n"
            ]
        },
        {
            "cell_type": "markdown",
            "metadata": {},
            "source": [
                "</div>\n",
                "<li>Add a line to the loop that appends each row's <em>run differential</em> to the <code>run_diffs</code> list.</li>\n",
                "<div>\n"
            ]
        },
        {
            "cell_type": "code",
            "execution_count": null,
            "metadata": {
                "vscode": {
                    "languageId": "r"
                }
            },
            "outputs": [],
            "source": [
                "# Create an empty list to store run differentials\n",
                "run_diffs = []\n",
                "\n",
                "# Write a for loop and collect runs allowed and runs scored for each row\n",
                "for i,row in giants_df.iterrows():\n",
                "    runs_scored = row['RS']\n",
                "    runs_allowed = row['RA']\n",
                "    \n",
                "    # Use the provided function to calculate run_diff for each row\n",
                "    run_diff = calc_run_diff(runs_scored, runs_allowed)\n",
                "    \n",
                "    # Append each run differential to the output list\n",
                "    run_diffs.append(run_diff)\n",
                "\n",
                "giants_df['RD'] = run_diffs\n",
                "print(giants_df)\n"
            ]
        },
        {
            "attachments": {},
            "cell_type": "markdown",
            "metadata": {},
            "source": [
                "</div>\n",
                "\n"
            ]
        },
        {
            "attachments": {},
            "cell_type": "markdown",
            "metadata": {},
            "source": [
                "<p class=\"\">Great job! Take a look at the <code>giants_df</code> DataFrame with the new run differential column (<code>'RD'</code>) you created (it has been printed in the console).<br><br>The <code>'Playoffs'</code> column tells you if a team made the playoffs for a given season. A <code>1</code> means that the team made the playoffs in that season and a <code>0</code> means the team did not make the playoffs in that season.<br><br>Did you notice that in the seasons with the highest run differentials the Giants made the playoffs? In fact, in both of these seasons (2010 and 2012), the San Francisco Giants not only made the playoffs but also won the World Series! Cool!</p>\n",
                "\n"
            ]
        },
        {
            "attachments": {},
            "cell_type": "markdown",
            "metadata": {},
            "source": [
                "## Another iterator method: .itertuples()\n",
                "\n",
                "\n",
                "\n"
            ]
        },
        {
            "attachments": {},
            "cell_type": "markdown",
            "metadata": {},
            "source": [
                "### Iterating with .itertuples()\n",
                "\n",
                "\n",
                "<div class>\n",
                "<p>Remember, <code>.itertuples()</code> returns each DataFrame row as a special data type called a <strong>namedtuple</strong>. You can look up an attribute within a namedtuple with a special syntax. Let's practice working with namedtuples.</p>\n",
                "<p>A <code>pandas</code> DataFrame has been loaded into your session called <code>rangers_df</code>. This DataFrame contains the stats (<code>'Team'</code>, <code>'League'</code>, <code>'Year'</code>, <code>'RS'</code>, <code>'RA'</code>, '<code>W'</code>, <code>'G'</code>, and <code>'Playoffs'</code>) for the Major League baseball team named the Texas Rangers (abbreviated as <code>'TEX'</code>).</p>\n",
                "</div>\n",
                "<div class=\"exercise--instructions__content\"><p>Use <code>.itertuples()</code> to loop over <code>rangers_df</code> and print each row.</p></div>\n",
                "<div>\n"
            ]
        },
        {
            "cell_type": "code",
            "execution_count": null,
            "metadata": {
                "vscode": {
                    "languageId": "r"
                }
            },
            "outputs": [],
            "source": [
                "# edited/added\n",
                "rangers_df = baseball_df[(baseball_df.Team == 'TEX') & (baseball_df.Year.between(1973,2012))][['Team', 'League', 'Year', 'RS', 'RA', 'W', 'G', 'Playoffs']]\n",
                "\n",
                "# Loop over the DataFrame and print each row\n",
                "for row in rangers_df.itertuples():\n",
                "  print(row)\n"
            ]
        },
        {
            "cell_type": "markdown",
            "metadata": {},
            "source": [
                "</div>\n",
                "\n",
                "<div class=\"exercise--instructions__content\"><p>Loop over <code>rangers_df</code> with <code>.itertuples()</code> and save each row's <code>Index</code>, <code>Year</code>, and Wins (<code>W</code>) attribute as <code>i</code>, <code>year</code>, and <code>wins</code>.</p></div>\n",
                "<div>\n"
            ]
        },
        {
            "cell_type": "code",
            "execution_count": null,
            "metadata": {
                "vscode": {
                    "languageId": "r"
                }
            },
            "outputs": [],
            "source": [
                "# Loop over the DataFrame and print each row's Index, Year and Wins (W)\n",
                "for row in rangers_df.itertuples():\n",
                "  i = row.Index\n",
                "  year = row.Year\n",
                "  wins = row.W\n",
                "  print(i, year, wins)\n"
            ]
        },
        {
            "cell_type": "markdown",
            "metadata": {},
            "source": [
                "</div>\n",
                "\n",
                "<div class=\"exercise--instructions__content\"><p>Now, loop over <code>rangers_df</code> and print these values <strong>only for those rows</strong> where the Rangers made the playoffs.</p></div>\n",
                "<div>\n"
            ]
        },
        {
            "cell_type": "code",
            "execution_count": null,
            "metadata": {
                "vscode": {
                    "languageId": "r"
                }
            },
            "outputs": [],
            "source": [
                "# Loop over the DataFrame and print each row's Index, Year and Wins (W)\n",
                "for row in rangers_df.itertuples():\n",
                "  i = row.Index\n",
                "  year = row.Year\n",
                "  wins = row.W\n",
                "  \n",
                "  # Check if rangers made Playoffs (1 means yes; 0 means no)\n",
                "  if row.Playoffs == 1:\n",
                "    print(i, year, wins)\n"
            ]
        },
        {
            "attachments": {},
            "cell_type": "markdown",
            "metadata": {},
            "source": [
                "</div>\n",
                "\n"
            ]
        },
        {
            "attachments": {},
            "cell_type": "markdown",
            "metadata": {},
            "source": [
                "<p class=\"\">Awesome! You're getting the hang of using <code>.itertuples()</code>. Remember, you need to use the <em>dot</em> syntax for referencing an attribute in a <strong>namedtuple</strong>.<br><br> You can create a new variable using a row's dot reference (as you did when storing <code>row.Index</code> as the variable <code>i</code>). Or you can use the row's dot reference directly to perform calculations and checks. Notice that you did not have to save <code>row.Playoffs</code> to a new variable in your check statement (you were able to use <code>row.Playoffs</code> directly in your check).<br><br> Did you notice the pattern in the Texas Rangers playoff appearances? Only six appearances and two distinct sets of groupings (one from 2010 - 2012 and one from 1996 - 1999).</p>\n",
                "\n"
            ]
        },
        {
            "attachments": {},
            "cell_type": "markdown",
            "metadata": {},
            "source": [
                "### Run differentials with .itertuples()\n",
                "\n",
                "\n",
                "<div class>\n",
                "<p>The New York Yankees have made a trade with the San Francisco Giants for your analyst contract— you're a hot commodity! Your new boss has seen your work with the Giants and now wants you to do something similar with the Yankees data. He'd like you to calculate <em>run differentials</em> for the Yankees from the year 1962 to the year 2012 and find which season they had the best <em>run differential</em>.</p>\n",
                "<p>You've remembered the function you used when working with the Giants and quickly write it down:</p>\n",
                "<pre><code>def calc_run_diff(runs_scored, runs_allowed):\n",
                "\n",
                "    run_diff = runs_scored - runs_allowed\n",
                "\n",
                "    return run_diff\n",
                "</code></pre>\n",
                "<p>Let's use <code>.itertuples()</code> to loop over the <code>yankees_df</code> DataFrame (which has been loaded into your session) and calculate <em>run differentials</em>.</p>\n",
                "</div>\n",
                "<div>\n"
            ]
        },
        {
            "cell_type": "code",
            "execution_count": null,
            "metadata": {
                "vscode": {
                    "languageId": "r"
                }
            },
            "outputs": [],
            "source": [
                "# edited/added\n",
                "yankees_df = baseball_df[(baseball_df.Team == 'NYY') & (baseball_df.Year.between(1962,2012))][['Team', 'League', 'Year', 'RS', 'RA', 'W', 'G', 'Playoffs']]\n"
            ]
        },
        {
            "cell_type": "markdown",
            "metadata": {},
            "source": [
                "</div>\n",
                "<li>Use <code>.itertuples()</code> to loop over <code>yankees_df</code> and grab each row's runs scored and runs allowed values.</li>\n",
                "<div>\n"
            ]
        },
        {
            "cell_type": "code",
            "execution_count": null,
            "metadata": {
                "vscode": {
                    "languageId": "r"
                }
            },
            "outputs": [],
            "source": [
                "run_diffs = []\n",
                "\n",
                "# Loop over the DataFrame and calculate each row's run differential\n",
                "for row in yankees_df.itertuples():\n",
                "    \n",
                "    runs_scored = row.RS\n",
                "    runs_allowed = row.RA\n"
            ]
        },
        {
            "cell_type": "markdown",
            "metadata": {},
            "source": [
                "</div>\n",
                "<li>Now, calculate each row's <em>run differential</em> using <code>calc_run_diff()</code>. Be sure to append each row's <em>run differential</em> to <code>run_diffs</code>.</li>\n",
                "<div>\n"
            ]
        },
        {
            "cell_type": "code",
            "execution_count": null,
            "metadata": {
                "vscode": {
                    "languageId": "r"
                }
            },
            "outputs": [],
            "source": [
                "run_diffs = []\n",
                "\n",
                "# Loop over the DataFrame and calculate each row's run differential\n",
                "for row in yankees_df.itertuples():\n",
                "    \n",
                "    runs_scored = row.RS\n",
                "    runs_allowed = row.RA\n",
                "\n",
                "    run_diff = calc_run_diff(runs_scored, runs_allowed)\n",
                "    \n",
                "    run_diffs.append(run_diff)\n"
            ]
        },
        {
            "cell_type": "markdown",
            "metadata": {},
            "source": [
                "</div>\n",
                "<li>Append a new column called <code>'RD'</code> to the <code>yankees_df</code> DataFrame that contains the <em>run differentials</em> you calculated.</li>\n",
                "<div>\n"
            ]
        },
        {
            "cell_type": "code",
            "execution_count": null,
            "metadata": {
                "vscode": {
                    "languageId": "r"
                }
            },
            "outputs": [],
            "source": [
                "run_diffs = []\n",
                "\n",
                "# Loop over the DataFrame and calculate each row's run differential\n",
                "for row in yankees_df.itertuples():\n",
                "    \n",
                "    runs_scored = row.RS\n",
                "    runs_allowed = row.RA\n",
                "\n",
                "    run_diff = calc_run_diff(runs_scored, runs_allowed)\n",
                "    \n",
                "    run_diffs.append(run_diff)\n",
                "\n",
                "# Append new column\n",
                "yankees_df['RD'] = run_diffs\n",
                "print(yankees_df)\n"
            ]
        },
        {
            "attachments": {},
            "cell_type": "markdown",
            "metadata": {},
            "source": [
                "</div>\n",
                "\n",
                "<div class=\"\"><ul>\n",
                "<li>In what year within your DataFrame did the New York Yankees have the highest <em>run differential</em>?</li>\n",
                "</ul>\n",
                "<p><strong>You'll need to rerun the code that creates the <code>'RD'</code> column if you'd like to analyze the DataFrame with code rather than looking at the console output.</strong></p></div>\n",
                "\n"
            ]
        },
        {
            "attachments": {},
            "cell_type": "markdown",
            "metadata": {},
            "source": [
                "- [ ] In <strong>2011</strong> (with a <em>Run Differential</em> of <strong>210</strong>)\n",
                "- [x] In <strong>1998</strong> (with a <em>Run Differential</em> of <strong>309</strong>)\n",
                "- [ ] In <strong>1962</strong> (with a <em>Run Differential</em> of <strong>503</strong>)\n",
                "- [ ] In <strong>1985</strong> (with a <em>Run Differential</em> of <strong>315</strong>)\n",
                "\n"
            ]
        },
        {
            "attachments": {},
            "cell_type": "markdown",
            "metadata": {},
            "source": [
                "<p class=\"\">Great job! You used <code>.itertuples()</code> to help the Yankees calculate <em>run differentials</em>. Remember, using <code>.itertuples()</code> is just like using <code>.iterrows()</code> except it tends to be faster. You also have to use a <em>dot</em> reference when looking up attributes with <code>.itertuples()</code>.<br><br> You found that the Yankees' highest <em>run differential</em> was in 1998. Did you know they actually hold the record for the highest <em>run differential</em> in an MLB season (411 in the year 1939 where they scored 967 runs and allowed 556)? Wow!</p>\n",
                "\n"
            ]
        },
        {
            "attachments": {},
            "cell_type": "markdown",
            "metadata": {},
            "source": [
                "## pandas alternative to looping\n",
                "\n",
                "\n",
                "\n"
            ]
        },
        {
            "attachments": {},
            "cell_type": "markdown",
            "metadata": {},
            "source": [
                "### Analyzing baseball stats with .apply()\n",
                "\n",
                "\n",
                "<div class>\n",
                "<p>The Tampa Bay Rays want you to analyze their data.</p>\n",
                "<p>They'd like the following metrics:</p>\n",
                "<ul>\n",
                "<li>The sum of each column in the data</li>\n",
                "<li>The total amount of runs scored in a year (<code>'RS'</code> + <code>'RA'</code> for each year)</li>\n",
                "<li>The <code>'Playoffs'</code> column in text format rather than using <code>1</code>'s and <code>0</code>'s</li>\n",
                "</ul>\n",
                "<p>The below function can be used to convert the <code>'Playoffs'</code> column to text:</p>\n",
                "<pre><code>def text_playoffs(num_playoffs): \n",
                "    if num_playoffs == 1:\n",
                "        return 'Yes'\n",
                "    else:\n",
                "        return 'No' \n",
                "</code></pre>\n",
                "<p>Use <code>.apply()</code> to get these metrics. A DataFrame (<code>rays_df</code>) has been loaded and printed to the console. This DataFrame is indexed on the <code>'Year'</code> column.</p>\n",
                "</div>\n",
                "<div class=\"exercise--instructions__content\"><p>Apply <code>sum()</code> to each <strong>column</strong> of <code>rays_df</code> to collect the sum of each column. Be sure to specify the correct <code>axis</code>.</p></div>\n",
                "<div>\n"
            ]
        },
        {
            "cell_type": "code",
            "execution_count": null,
            "metadata": {
                "vscode": {
                    "languageId": "r"
                }
            },
            "outputs": [],
            "source": [
                "# edited/added\n",
                "def text_playoffs(num_playoffs): \n",
                "    if num_playoffs == 1:\n",
                "        return 'Yes'\n",
                "    else:\n",
                "        return 'No' \n",
                "\n",
                "rays_df = baseball_df[baseball_df.Team == 'TBR'][['Year', 'RS', 'RA', 'W', 'Playoffs']].set_index('Year')\n",
                "rays_df.index.names = [None]\n",
                "\n",
                "# Gather sum of all columns\n",
                "stat_totals = rays_df.apply(sum, axis=0)\n",
                "print(stat_totals)\n"
            ]
        },
        {
            "cell_type": "markdown",
            "metadata": {},
            "source": [
                "</div>\n",
                "\n",
                "<div class=\"exercise--instructions__content\"><p>Apply <code>sum()</code> to each <strong>row</strong> of <code>rays_df</code>, only looking at the <code>'RS'</code> and <code>'RA'</code> columns, and specify the correct <code>axis</code>.</p></div>\n",
                "<div>\n"
            ]
        },
        {
            "cell_type": "code",
            "execution_count": null,
            "metadata": {
                "vscode": {
                    "languageId": "r"
                }
            },
            "outputs": [],
            "source": [
                "# Gather total runs scored in all games per year\n",
                "total_runs_scored = rays_df[['RS', 'RA']].apply(sum, axis=1)\n",
                "print(total_runs_scored)\n"
            ]
        },
        {
            "cell_type": "markdown",
            "metadata": {},
            "source": [
                "</div>\n",
                "\n",
                "<div class=\"exercise--instructions__content\"><p>Use <code>.apply()</code> and a <code>lambda</code> function to apply <code>text_playoffs()</code> to each <strong>row</strong>'s <code>'Playoffs'</code> value of the <code>rays_df</code> DataFrame.</p></div>\n",
                "<div>\n"
            ]
        },
        {
            "cell_type": "code",
            "execution_count": null,
            "metadata": {
                "vscode": {
                    "languageId": "r"
                }
            },
            "outputs": [],
            "source": [
                "# Convert numeric playoffs to text by applying text_playoffs()\n",
                "textual_playoffs = rays_df.apply(lambda row: text_playoffs(row['Playoffs']), axis=1)\n",
                "print(textual_playoffs)\n"
            ]
        },
        {
            "attachments": {},
            "cell_type": "markdown",
            "metadata": {},
            "source": [
                "</div>\n",
                "\n"
            ]
        },
        {
            "attachments": {},
            "cell_type": "markdown",
            "metadata": {},
            "source": [
                "<p class=\"\">Great work! The <code>.apply()</code> method let's you apply functions to all rows or columns of a DataFrame by specifying an axis.<br><br>If you've been using <code>pandas</code> for some time, you may have noticed that a better way to find these stats would use the <code>pandas</code> built-in <code>.sum()</code> method.<br><br> You could have used <code>rays_df.sum(axis=0)</code> to get columnar sums and <code>rays_df[['RS', 'RA']].sum(axis=1)</code> to get row sums.<br><br> You could have also used <code>.apply()</code> <strong>directly</strong> on a Series (or column) of the DataFrame. For example, you could use <code>rays_df['Playoffs'].apply(text_playoffs)</code> to convert the <code>'Playoffs'</code> column to text.</p>\n",
                "\n"
            ]
        },
        {
            "attachments": {},
            "cell_type": "markdown",
            "metadata": {},
            "source": [
                "### Settle a debate with .apply()\n",
                "\n",
                "\n",
                "<div class>\n",
                "<p>Word has gotten to the Arizona Diamondbacks about your awesome analytics skills. They'd like for you to help settle a debate amongst the managers. One manager claims that the team has made the playoffs every year they have had a win percentage of <code>0.50</code> or greater. Another manager says this is not true.</p>\n",
                "<p>Let's use the below function and the <code>.apply()</code> method to see which manager is correct.</p>\n",
                "<pre><code>def calc_win_perc(wins, games_played):\n",
                "    win_perc = wins / games_played\n",
                "    return np.round(win_perc,2)\n",
                "</code></pre>\n",
                "<p>A DataFrame named <code>dbacks_df</code> has been loaded into your session.</p>\n",
                "</div>\n",
                "<div>\n"
            ]
        },
        {
            "cell_type": "code",
            "execution_count": null,
            "metadata": {
                "vscode": {
                    "languageId": "r"
                }
            },
            "outputs": [],
            "source": [
                "# edited/added\n",
                "def calc_win_perc(wins, games_played):\n",
                "    win_perc = wins / games_played\n",
                "    return np.round(win_perc,2)\n",
                "  \n",
                "dbacks_df = baseball_df[(baseball_df.Team == 'ARI') & (baseball_df.Year.between(1998,2012))][['Team', 'League', 'Year', 'RS', 'RA', 'W', 'G', 'Playoffs']]\n"
            ]
        },
        {
            "cell_type": "markdown",
            "metadata": {},
            "source": [
                "</div>\n",
                "<li>Print the first five rows of the <code>dbacks_df</code> DataFrame to see what the data looks like.</li>\n",
                "<div>\n"
            ]
        },
        {
            "cell_type": "code",
            "execution_count": null,
            "metadata": {
                "vscode": {
                    "languageId": "r"
                }
            },
            "outputs": [],
            "source": [
                "# Display the first five rows of the DataFrame\n",
                "print(dbacks_df.head())\n"
            ]
        },
        {
            "cell_type": "markdown",
            "metadata": {},
            "source": [
                "</div>\n",
                "<li>Create a <code>pandas</code> Series called <code>win_percs</code> by <em>applying</em> the <code>calc_win_perc()</code> function to each <strong>row</strong> of the DataFrame with a <code>lambda</code> function.</li>\n",
                "<div>\n"
            ]
        },
        {
            "cell_type": "code",
            "execution_count": null,
            "metadata": {
                "vscode": {
                    "languageId": "r"
                }
            },
            "outputs": [],
            "source": [
                "# Display the first five rows of the DataFrame\n",
                "print(dbacks_df.head())\n"
            ]
        },
        {
            "cell_type": "markdown",
            "metadata": {},
            "source": [
                "</div>\n",
                "<div>\n"
            ]
        },
        {
            "cell_type": "code",
            "execution_count": null,
            "metadata": {
                "vscode": {
                    "languageId": "r"
                }
            },
            "outputs": [],
            "source": [
                "# Create a win percentage Series \n",
                "win_percs = dbacks_df.apply(lambda row: calc_win_perc(row['W'], row['G']), axis=1)\n",
                "print(win_percs, '\\n')\n"
            ]
        },
        {
            "cell_type": "markdown",
            "metadata": {},
            "source": [
                "</div>\n",
                "<li>Create a new column in <code>dbacks_df</code> called <code>WP</code> that contains the win percentages you calculated in the above step.</li>\n",
                "<div>\n"
            ]
        },
        {
            "cell_type": "code",
            "execution_count": null,
            "metadata": {
                "vscode": {
                    "languageId": "r"
                }
            },
            "outputs": [],
            "source": [
                "# Display the first five rows of the DataFrame\n",
                "print(dbacks_df.head())\n"
            ]
        },
        {
            "cell_type": "markdown",
            "metadata": {},
            "source": [
                "</div>\n",
                "<div>\n"
            ]
        },
        {
            "cell_type": "code",
            "execution_count": null,
            "metadata": {
                "vscode": {
                    "languageId": "r"
                }
            },
            "outputs": [],
            "source": [
                "# Create a win percentage Series \n",
                "win_percs = dbacks_df.apply(lambda row: calc_win_perc(row['W'], row['G']), axis=1)\n",
                "print(win_percs, '\\n')\n"
            ]
        },
        {
            "cell_type": "markdown",
            "metadata": {},
            "source": [
                "</div>\n",
                "<div>\n"
            ]
        },
        {
            "cell_type": "code",
            "execution_count": null,
            "metadata": {
                "vscode": {
                    "languageId": "r"
                }
            },
            "outputs": [],
            "source": [
                "# Append a new column to dbacks_df\n",
                "dbacks_df['WP'] = win_percs\n",
                "print(dbacks_df, '\\n')\n"
            ]
        },
        {
            "cell_type": "markdown",
            "metadata": {},
            "source": [
                "</div>\n",
                "<div>\n"
            ]
        },
        {
            "cell_type": "code",
            "execution_count": null,
            "metadata": {
                "vscode": {
                    "languageId": "r"
                }
            },
            "outputs": [],
            "source": [
                "# Display dbacks_df where WP is greater than 0.50\n",
                "print(dbacks_df[dbacks_df['WP'] >= 0.50])\n"
            ]
        },
        {
            "attachments": {},
            "cell_type": "markdown",
            "metadata": {},
            "source": [
                "</div>\n",
                "\n",
                "<div class=\"\"><ul>\n",
                "<li>Which manager was correct in their claim?</li>\n",
                "</ul></div>\n",
                "\n"
            ]
        },
        {
            "attachments": {},
            "cell_type": "markdown",
            "metadata": {},
            "source": [
                "- [ ] The manager who claimed the team <strong>made</strong> the playoffs every year they've had a win percentage of <code>0.50</code> or greater.\n",
                "- [x] The manager who claimed the team <strong>has not made</strong> the playoffs every year they've had a win percentage of <code>0.50</code> or greater.\n",
                "- [ ] Both managers are crazy! The Arizona Diamondbacks have never made the playoffs.\n",
                "\n"
            ]
        },
        {
            "attachments": {},
            "cell_type": "markdown",
            "metadata": {},
            "source": [
                "<p class=\"\">Nicely done! Using the <code>.apply()</code> method with a <code>lambda</code> function allows you to apply a function to a DataFrame without the need to write a for loop.<br><br>Sadly, the second manager was correct. In the year 2012, 2008, 2003, and 2000 the Arizona Diamondbacks had a win percentage greater than or equal to 0.50, but still <strong>did not</strong> make the playoffs.</p>\n",
                "\n"
            ]
        },
        {
            "attachments": {},
            "cell_type": "markdown",
            "metadata": {},
            "source": [
                "## Optimal pandas iterating\n",
                "\n",
                "\n",
                "\n"
            ]
        },
        {
            "attachments": {},
            "cell_type": "markdown",
            "metadata": {},
            "source": [
                "### Replacing .iloc with underlying arrays\n",
                "\n",
                "\n",
                "<div class>\n",
                "<p>Now that you have a better grasp on a DataFrame's internals let's update one of your previous analyses to leverage a DataFrame's underlying arrays. You'll revisit the win percentage calculations you performed row by row with the <code>.iloc</code> method:</p>\n",
                "<pre><code>def calc_win_perc(wins, games_played):\n",
                "    win_perc = wins / games_played\n",
                "    return np.round(win_perc,2)\n",
                "\n",
                "win_percs_list = []\n",
                "\n",
                "for i in range(len(baseball_df)):\n",
                "    row = baseball_df.iloc[i]\n",
                "\n",
                "    wins = row['W']\n",
                "    games_played = row['G']\n",
                "\n",
                "    win_perc = calc_win_perc(wins, games_played)\n",
                "\n",
                "    win_percs_list.append(win_perc)\n",
                "\n",
                "baseball_df['WP'] = win_percs_list\n",
                "</code></pre>\n",
                "<p>Let's update this analysis to use arrays instead of the <code>.iloc</code> method. A DataFrame (<code>baseball_df</code>) has been loaded into your session.</p>\n",
                "</div>\n",
                "\n",
                "<li>Use <em>the right method</em> to collect the underlying <code>'W'</code> and <code>'G'</code> arrays of <code>baseball_df</code> and pass them <strong>directly into</strong> the <code>calc_win_perc()</code> function. Store the result as a variable called <code>win_percs_np</code>.</li>\n",
                "<div>\n"
            ]
        },
        {
            "cell_type": "code",
            "execution_count": null,
            "metadata": {
                "vscode": {
                    "languageId": "r"
                }
            },
            "outputs": [],
            "source": [
                "# Use the W array and G array to calculate win percentages\n",
                "win_percs_np = calc_win_perc(baseball_df['W'].values, baseball_df['G'].values)\n"
            ]
        },
        {
            "cell_type": "markdown",
            "metadata": {},
            "source": [
                "</div>\n",
                "<li>Create a new column in <code>baseball_df</code> called <code>'WP'</code> that contains the win percentages you just calculated.</li>\n",
                "<div>\n"
            ]
        },
        {
            "cell_type": "code",
            "execution_count": null,
            "metadata": {
                "vscode": {
                    "languageId": "r"
                }
            },
            "outputs": [],
            "source": [
                "# Use the W array and G array to calculate win percentages\n",
                "win_percs_np = calc_win_perc(baseball_df['W'].values, baseball_df['G'].values)\n",
                "\n",
                "# Append a new column to baseball_df that stores all win percentages\n",
                "baseball_df['WP'] = win_percs_np\n",
                "\n",
                "print(baseball_df.head())\n"
            ]
        },
        {
            "attachments": {},
            "cell_type": "markdown",
            "metadata": {},
            "source": [
                "</div>\n",
                "\n",
                "<div class=\"\"><p>Use <code>timeit</code> in <em>cell magic mode</em> <strong>within your IPython console</strong> to compare the runtimes between the old code block using <code>.iloc</code> and the new code you developed using NumPy arrays.</p>\n",
                "<p><strong>Don't include the code that defines the <code>calc_win_perc()</code> function or the <code>print()</code> statements or when timing</strong>.</p>\n",
                "<p>You should include <strong>eight lines of code</strong> when timing the old code block and <strong>two lines of code</strong> when timing the new code you developed. You may need to press <code>SHIFT+ENTER</code> when using <code>timeit</code> in <em>cell magic mode</em> to get to a new line within your IPython console.</p>\n",
                "<p><strong>Which approach was the faster?</strong></p></div>\n",
                "\n"
            ]
        },
        {
            "attachments": {},
            "cell_type": "markdown",
            "metadata": {},
            "source": [
                "- [ ] The original code with <code>.iloc</code> is much faster than using NumPy arrays\n",
                "- [ ] The old code block with <code>.iloc</code> and the new code with NumPy arrays have similar runtimes.\n",
                "- [x] The NumPy array approach is faster than the <code>.iloc</code> approach.\n",
                "\n"
            ]
        },
        {
            "attachments": {},
            "cell_type": "markdown",
            "metadata": {},
            "source": [
                "<p class=\"\">Great job! You're knocking it out of the park! Using a DataFrame's underlying arrays to perform calculations can really speed up your code and yields some significant efficiency gains. Did you notice that the NumPy array approach was not just faster, but that it also used fewer lines of code and was easier to read?</p>\n",
                "\n"
            ]
        },
        {
            "attachments": {},
            "cell_type": "markdown",
            "metadata": {},
            "source": [
                "### Bringing it all together: Predict win percentage\n",
                "\n",
                "\n",
                "<div class>\n",
                "<p>A <code>pandas</code> DataFrame (<code>baseball_df</code>) has been loaded into your session. For convenience, a dictionary describing each column within <code>baseball_df</code> has been printed into your console. You can reference these descriptions throughout the exercise.</p>\n",
                "<p>You'd like to attempt to <em>predict</em> a team's win percentage for a given season by using the team's total runs scored in a season (<code>'RS'</code>) and total runs allowed in a season (<code>'RA'</code>) with the following function:</p>\n",
                "<pre><code>def predict_win_perc(RS, RA):\n",
                "    prediction = RS ** 2 / (RS ** 2 + RA ** 2)\n",
                "    return np.round(prediction, 2)\n",
                "</code></pre>\n",
                "<p>Let's compare the approaches you've learned to calculate a <em>predicted win percentage</em> for each season (or row) in your DataFrame.</p>\n",
                "</div>\n",
                "<div>\n"
            ]
        },
        {
            "cell_type": "code",
            "execution_count": null,
            "metadata": {
                "vscode": {
                    "languageId": "r"
                }
            },
            "outputs": [],
            "source": [
                "# edited/added\n",
                "def predict_win_perc(RS, RA):\n",
                "    prediction = RS ** 2 / (RS ** 2 + RA ** 2)\n",
                "    return np.round(prediction, 2)\n"
            ]
        },
        {
            "cell_type": "markdown",
            "metadata": {},
            "source": [
                "</div>\n",
                "<li>Use a for loop and <code>.itertuples()</code> to predict the win percentage for each row of <code>baseball_df</code> with the <code>predict_win_perc()</code> function. Save each row's predicted win percentage as <code>win_perc_pred</code> and append each to the <code>win_perc_preds_loop</code> list.</li>\n",
                "<div>\n"
            ]
        },
        {
            "cell_type": "code",
            "execution_count": null,
            "metadata": {
                "vscode": {
                    "languageId": "r"
                }
            },
            "outputs": [],
            "source": [
                "win_perc_preds_loop = []\n",
                "\n",
                "# Use a loop and .itertuples() to collect each row's predicted win percentage\n",
                "for row in baseball_df.itertuples():\n",
                "    runs_scored = row.RS\n",
                "    runs_allowed = row.RA\n",
                "    win_perc_pred = predict_win_perc(runs_scored, runs_allowed)\n",
                "    win_perc_preds_loop.append(win_perc_pred)\n"
            ]
        },
        {
            "cell_type": "markdown",
            "metadata": {},
            "source": [
                "</div>\n",
                "<li>Apply <code>predict_win_perc()</code> to each row of the <code>baseball_df</code> DataFrame using a <code>lambda</code> function. Save the predicted win percentage as <code>win_perc_preds_apply</code>.</li>\n",
                "<div>\n"
            ]
        },
        {
            "cell_type": "code",
            "execution_count": null,
            "metadata": {
                "vscode": {
                    "languageId": "r"
                }
            },
            "outputs": [],
            "source": [
                "win_perc_preds_loop = []\n",
                "\n",
                "# Use a loop and .itertuples() to collect each row's predicted win percentage\n",
                "for row in baseball_df.itertuples():\n",
                "    runs_scored = row.RS\n",
                "    runs_allowed = row.RA\n",
                "    win_perc_pred = predict_win_perc(runs_scored, runs_allowed)\n",
                "    win_perc_preds_loop.append(win_perc_pred)\n",
                "\n",
                "# Apply predict_win_perc to each row of the DataFrame\n",
                "win_perc_preds_apply = baseball_df.apply(lambda row: predict_win_perc(row['RS'], row['RA']), axis=1)\n"
            ]
        },
        {
            "cell_type": "markdown",
            "metadata": {},
            "source": [
                "</div>\n",
                "<li>Calculate the predicted win percentages by passing the underlying <code>'RS'</code> and <code>'RA'</code> <strong>arrays</strong> from <code>baseball_df</code> into <code>predict_win_perc()</code>. Save these predictions as <code>win_perc_preds_np</code>.</li>\n",
                "<div>\n"
            ]
        },
        {
            "cell_type": "code",
            "execution_count": null,
            "metadata": {
                "vscode": {
                    "languageId": "r"
                }
            },
            "outputs": [],
            "source": [
                "win_perc_preds_loop = []\n",
                "\n",
                "# Use a loop and .itertuples() to collect each row's predicted win percentage\n",
                "for row in baseball_df.itertuples():\n",
                "    runs_scored = row.RS\n",
                "    runs_allowed = row.RA\n",
                "    win_perc_pred = predict_win_perc(runs_scored, runs_allowed)\n",
                "    win_perc_preds_loop.append(win_perc_pred)\n",
                "\n",
                "# Apply predict_win_perc to each row of the DataFrame\n",
                "win_perc_preds_apply = baseball_df.apply(lambda row: predict_win_perc(row['RS'], row['RA']), axis=1)\n",
                "\n",
                "# Calculate the win percentage predictions using NumPy arrays\n",
                "win_perc_preds_np = predict_win_perc(baseball_df['RS'].values, baseball_df['RA'].values)\n",
                "baseball_df['WP_preds'] = win_perc_preds_np\n",
                "print(baseball_df.head())\n"
            ]
        },
        {
            "attachments": {},
            "cell_type": "markdown",
            "metadata": {},
            "source": [
                "</div>\n",
                "\n",
                "<div class=\"\"><p>Compare runtimes <strong>within your IPython console</strong> between <strong>all three</strong> approaches used to calculate the predicted win percentages.</p>\n",
                "<p>Use <strong><code>%%timeit</code></strong> (<em>cell magic mode</em>) to time the <strong>six lines of code</strong> (not including comment lines) for the <code>.itertuples()</code> approach. You may need to press <code>SHIFT+ENTER</code> after entering <code>%%timeit</code> to get to a new line within your IPython console.</p>\n",
                "<p>Use <strong><code>%timeit</code></strong> (<em>line magic mode</em>) to time the <code>.apply()</code> approach and the NumPy array approach separately. Each has only <strong>one line of code</strong> (not including comment lines). </p>\n",
                "<p><strong>What is the order of approaches from fastest to slowest?</strong></p></div>\n",
                "\n"
            ]
        },
        {
            "attachments": {},
            "cell_type": "markdown",
            "metadata": {},
            "source": [
                "- [ ] The <code>.apply()</code> with a <code>lambda</code> function was the <strong>fastest</strong>, followed by the <code>.itertuples()</code> approach, and the array approach was <strong>slowest</strong>.\n",
                "- [x] Using NumPy arrays was the <strong>fastest</strong> approach, followed by the <code>.itertuples()</code> approach, and the <code>.apply()</code> approach was <strong>slowest</strong>.\n",
                "- [ ] The <code>.itertuples()</code> approach was <strong>fastest</strong>, followed by the array approach, and the <code>.apply()</code> approach was <strong>slowest</strong>.\n",
                "- [ ] All three approaches had comparable runtimes.\n",
                "\n"
            ]
        },
        {
            "attachments": {},
            "cell_type": "markdown",
            "metadata": {},
            "source": [
                "<p class=\"\">Great job! That's a home run! You practiced using three different approaches to iterate over a <code>pandas</code> DataFrame and perform calculations. Did you notice that the <code>.itertuples()</code> approach beat the <code>.apply()</code> approach? Even though both these implementations can be useful, you should default to using a DataFrame's underlying arrays to perform calculations.<br><br>Take a look at your win percentage predictions (column <code>'WP_preds'</code>) and compare them to the actual win percentages (column <code>'WP'</code>). Not bad!<br><br>You've done a great job throughout the course! Now, you are well on your way to writing efficient Python and <code>pandas</code> code!</p>\n",
                "\n"
            ]
        },
        {
            "attachments": {},
            "cell_type": "markdown",
            "metadata": {},
            "source": [
                "## Congratulations!\n",
                "\n",
                "### Congratulations!\n",
                "\n",
                "Congratulations on completing the course! Now, you have the necessary tools to start writing efficient Python code!\n",
                "\n",
                "### What you have learned\n",
                "\n",
                "Over the four chapters of this course, you have learned what writing efficient code truly means, and that writing Pythonic code often yields efficient code. You've explored Python's Standard Library and practiced using built-in functions like range, enumerate, and map. You know the power of NumPy arrays and can use them for fast, efficient calculations. You're a whiz at using magic commands like %timeit and know how to profile your code with the line_profiler and memory_profiler packages. You've also applied more advanced techniques to gain efficiencies by using built-in functions like zip, built-in modules like itertools and collections, and a branch of mathematics called set theory. Finally, you explored looping patterns in Python and why they are not always the most efficient approach to solving problems. You successfully eliminated loops in your code and even learned how to efficiently iterate over pandas DataFrames.\n",
                "\n",
                "### Well done!\n",
                "\n",
                "Well done! It has been an absolute pleasure working with you! Thank you for taking the course, and I hope to see you again in the future!\n"
            ]
        }
    ],
    "metadata": {
        "anaconda-cloud": "",
        "kernelspec": {
            "display_name": "R",
            "langauge": "R",
            "name": "ir"
        },
        "language_info": {
            "codemirror_mode": "r",
            "file_extension": ".r",
            "mimetype": "text/x-r-source",
            "name": "R",
            "pygments_lexer": "r",
            "version": "3.4.1"
        }
    },
    "nbformat": 4,
    "nbformat_minor": 1
}
